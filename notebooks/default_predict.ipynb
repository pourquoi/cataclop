{
 "cells": [
  {
   "cell_type": "code",
   "execution_count": 1,
   "metadata": {},
   "outputs": [],
   "source": [
    "from cataclop.ml.pipeline import factories"
   ]
  },
  {
   "cell_type": "code",
   "execution_count": 2,
   "metadata": {},
   "outputs": [],
   "source": [
    "program = factories.Program.factory('default')"
   ]
  },
  {
   "cell_type": "code",
   "execution_count": 3,
   "metadata": {},
   "outputs": [
    {
     "data": {
      "text/plain": [
       "'bfa71b6c1c53eabc6715593289d45074'"
      ]
     },
     "execution_count": 3,
     "metadata": {},
     "output_type": "execute_result"
    }
   ],
   "source": [
    "program.hash"
   ]
  },
  {
   "cell_type": "code",
   "execution_count": 4,
   "metadata": {},
   "outputs": [
    {
     "name": "stderr",
     "output_type": "stream",
     "text": [
      "preparing model data\n"
     ]
    }
   ],
   "source": [
    "program.predict(dataset_params = {\n",
    "    'from': '2018-07-03',\n",
    "    'to': '2018-12-05'\n",
    "})"
   ]
  },
  {
   "cell_type": "code",
   "execution_count": 5,
   "metadata": {},
   "outputs": [],
   "source": [
    "program.dataset.save()"
   ]
  },
  {
   "cell_type": "code",
   "execution_count": 18,
   "metadata": {},
   "outputs": [
    {
     "data": {
      "text/html": [
       "<div>\n",
       "<style scoped>\n",
       "    .dataframe tbody tr th:only-of-type {\n",
       "        vertical-align: middle;\n",
       "    }\n",
       "\n",
       "    .dataframe tbody tr th {\n",
       "        vertical-align: top;\n",
       "    }\n",
       "\n",
       "    .dataframe thead th {\n",
       "        text-align: right;\n",
       "    }\n",
       "</style>\n",
       "<table border=\"1\" class=\"dataframe\">\n",
       "  <thead>\n",
       "    <tr style=\"text-align: right;\">\n",
       "      <th></th>\n",
       "      <th>id</th>\n",
       "      <th>date</th>\n",
       "      <th>num</th>\n",
       "      <th>odds_ref</th>\n",
       "      <th>odds_final</th>\n",
       "      <th>target</th>\n",
       "      <th>pred</th>\n",
       "      <th>bet</th>\n",
       "      <th>profit</th>\n",
       "      <th>declared_player_count</th>\n",
       "      <th>...</th>\n",
       "      <th>victory_earnings_amax</th>\n",
       "      <th>victory_earnings_amin</th>\n",
       "      <th>victory_earnings_mean</th>\n",
       "      <th>victory_earnings_r</th>\n",
       "      <th>victory_earnings_std</th>\n",
       "      <th>category</th>\n",
       "      <th>sub_category</th>\n",
       "      <th>country</th>\n",
       "      <th>bets</th>\n",
       "      <th>stash</th>\n",
       "    </tr>\n",
       "    <tr>\n",
       "      <th>date</th>\n",
       "      <th></th>\n",
       "      <th></th>\n",
       "      <th></th>\n",
       "      <th></th>\n",
       "      <th></th>\n",
       "      <th></th>\n",
       "      <th></th>\n",
       "      <th></th>\n",
       "      <th></th>\n",
       "      <th></th>\n",
       "      <th></th>\n",
       "      <th></th>\n",
       "      <th></th>\n",
       "      <th></th>\n",
       "      <th></th>\n",
       "      <th></th>\n",
       "      <th></th>\n",
       "      <th></th>\n",
       "      <th></th>\n",
       "      <th></th>\n",
       "      <th></th>\n",
       "    </tr>\n",
       "  </thead>\n",
       "  <tbody>\n",
       "    <tr>\n",
       "      <th>2018-07-03</th>\n",
       "      <td>21962</td>\n",
       "      <td>2018-07-03</td>\n",
       "      <td>1</td>\n",
       "      <td>4.7</td>\n",
       "      <td>2.7</td>\n",
       "      <td>pred_rf_10_1</td>\n",
       "      <td>1.510000</td>\n",
       "      <td>1.0</td>\n",
       "      <td>-1.0</td>\n",
       "      <td>7</td>\n",
       "      <td>...</td>\n",
       "      <td>14.591159</td>\n",
       "      <td>12.793862</td>\n",
       "      <td>13.946387</td>\n",
       "      <td>0.973298</td>\n",
       "      <td>0.662461</td>\n",
       "      <td>PLAT</td>\n",
       "      <td>COURSE_A_CONDITIONS</td>\n",
       "      <td>FRA</td>\n",
       "      <td>1.0</td>\n",
       "      <td>-1.0</td>\n",
       "    </tr>\n",
       "    <tr>\n",
       "      <th>2018-07-03</th>\n",
       "      <td>21962</td>\n",
       "      <td>2018-07-03</td>\n",
       "      <td>5</td>\n",
       "      <td>18.4</td>\n",
       "      <td>25.0</td>\n",
       "      <td>pred_knn_20_1</td>\n",
       "      <td>1.715000</td>\n",
       "      <td>1.0</td>\n",
       "      <td>-1.0</td>\n",
       "      <td>7</td>\n",
       "      <td>...</td>\n",
       "      <td>14.591159</td>\n",
       "      <td>12.793862</td>\n",
       "      <td>13.946387</td>\n",
       "      <td>-0.847836</td>\n",
       "      <td>0.662461</td>\n",
       "      <td>PLAT</td>\n",
       "      <td>COURSE_A_CONDITIONS</td>\n",
       "      <td>FRA</td>\n",
       "      <td>2.0</td>\n",
       "      <td>-2.0</td>\n",
       "    </tr>\n",
       "    <tr>\n",
       "      <th>2018-07-03</th>\n",
       "      <td>21962</td>\n",
       "      <td>2018-07-03</td>\n",
       "      <td>5</td>\n",
       "      <td>18.4</td>\n",
       "      <td>25.0</td>\n",
       "      <td>pred_knn_10_1</td>\n",
       "      <td>1.355000</td>\n",
       "      <td>1.0</td>\n",
       "      <td>-1.0</td>\n",
       "      <td>7</td>\n",
       "      <td>...</td>\n",
       "      <td>14.591159</td>\n",
       "      <td>12.793862</td>\n",
       "      <td>13.946387</td>\n",
       "      <td>-0.847836</td>\n",
       "      <td>0.662461</td>\n",
       "      <td>PLAT</td>\n",
       "      <td>COURSE_A_CONDITIONS</td>\n",
       "      <td>FRA</td>\n",
       "      <td>3.0</td>\n",
       "      <td>-3.0</td>\n",
       "    </tr>\n",
       "    <tr>\n",
       "      <th>2018-07-03</th>\n",
       "      <td>21960</td>\n",
       "      <td>2018-07-03</td>\n",
       "      <td>3</td>\n",
       "      <td>9.4</td>\n",
       "      <td>11.5</td>\n",
       "      <td>pred_sum</td>\n",
       "      <td>7.278907</td>\n",
       "      <td>1.0</td>\n",
       "      <td>-1.0</td>\n",
       "      <td>12</td>\n",
       "      <td>...</td>\n",
       "      <td>12.873905</td>\n",
       "      <td>0.000000</td>\n",
       "      <td>2.954458</td>\n",
       "      <td>-0.551305</td>\n",
       "      <td>5.359024</td>\n",
       "      <td>PLAT</td>\n",
       "      <td>COURSE_A_CONDITIONS</td>\n",
       "      <td>FRA</td>\n",
       "      <td>4.0</td>\n",
       "      <td>-4.0</td>\n",
       "    </tr>\n",
       "    <tr>\n",
       "      <th>2018-07-03</th>\n",
       "      <td>21960</td>\n",
       "      <td>2018-07-03</td>\n",
       "      <td>3</td>\n",
       "      <td>9.4</td>\n",
       "      <td>11.5</td>\n",
       "      <td>pred_rf_150_1</td>\n",
       "      <td>2.153410</td>\n",
       "      <td>1.0</td>\n",
       "      <td>-1.0</td>\n",
       "      <td>12</td>\n",
       "      <td>...</td>\n",
       "      <td>12.873905</td>\n",
       "      <td>0.000000</td>\n",
       "      <td>2.954458</td>\n",
       "      <td>-0.551305</td>\n",
       "      <td>5.359024</td>\n",
       "      <td>PLAT</td>\n",
       "      <td>COURSE_A_CONDITIONS</td>\n",
       "      <td>FRA</td>\n",
       "      <td>5.0</td>\n",
       "      <td>-5.0</td>\n",
       "    </tr>\n",
       "  </tbody>\n",
       "</table>\n",
       "<p>5 rows × 86 columns</p>\n",
       "</div>"
      ],
      "text/plain": [
       "               id        date  num  odds_ref  odds_final         target  \\\n",
       "date                                                                      \n",
       "2018-07-03  21962  2018-07-03    1       4.7         2.7   pred_rf_10_1   \n",
       "2018-07-03  21962  2018-07-03    5      18.4        25.0  pred_knn_20_1   \n",
       "2018-07-03  21962  2018-07-03    5      18.4        25.0  pred_knn_10_1   \n",
       "2018-07-03  21960  2018-07-03    3       9.4        11.5       pred_sum   \n",
       "2018-07-03  21960  2018-07-03    3       9.4        11.5  pred_rf_150_1   \n",
       "\n",
       "                pred  bet  profit  declared_player_count  ...    \\\n",
       "date                                                      ...     \n",
       "2018-07-03  1.510000  1.0    -1.0                      7  ...     \n",
       "2018-07-03  1.715000  1.0    -1.0                      7  ...     \n",
       "2018-07-03  1.355000  1.0    -1.0                      7  ...     \n",
       "2018-07-03  7.278907  1.0    -1.0                     12  ...     \n",
       "2018-07-03  2.153410  1.0    -1.0                     12  ...     \n",
       "\n",
       "            victory_earnings_amax  victory_earnings_amin  \\\n",
       "date                                                       \n",
       "2018-07-03              14.591159              12.793862   \n",
       "2018-07-03              14.591159              12.793862   \n",
       "2018-07-03              14.591159              12.793862   \n",
       "2018-07-03              12.873905               0.000000   \n",
       "2018-07-03              12.873905               0.000000   \n",
       "\n",
       "            victory_earnings_mean  victory_earnings_r  victory_earnings_std  \\\n",
       "date                                                                          \n",
       "2018-07-03              13.946387            0.973298              0.662461   \n",
       "2018-07-03              13.946387           -0.847836              0.662461   \n",
       "2018-07-03              13.946387           -0.847836              0.662461   \n",
       "2018-07-03               2.954458           -0.551305              5.359024   \n",
       "2018-07-03               2.954458           -0.551305              5.359024   \n",
       "\n",
       "            category         sub_category  country  bets  stash  \n",
       "date                                                             \n",
       "2018-07-03      PLAT  COURSE_A_CONDITIONS      FRA   1.0   -1.0  \n",
       "2018-07-03      PLAT  COURSE_A_CONDITIONS      FRA   2.0   -2.0  \n",
       "2018-07-03      PLAT  COURSE_A_CONDITIONS      FRA   3.0   -3.0  \n",
       "2018-07-03      PLAT  COURSE_A_CONDITIONS      FRA   4.0   -4.0  \n",
       "2018-07-03      PLAT  COURSE_A_CONDITIONS      FRA   5.0   -5.0  \n",
       "\n",
       "[5 rows x 86 columns]"
      ]
     },
     "execution_count": 18,
     "metadata": {},
     "output_type": "execute_result"
    }
   ],
   "source": [
    "program.bet(N=1, max_odds=20)\n",
    "bets = program.bets\n",
    "bets.head()"
   ]
  },
  {
   "cell_type": "code",
   "execution_count": 19,
   "metadata": {},
   "outputs": [
    {
     "name": "stdout",
     "output_type": "stream",
     "text": [
      "16797 races\n",
      "from 2018-07-03 to 2018-11-22\n"
     ]
    }
   ],
   "source": [
    "print('{} races'.format(len(bets)))\n",
    "print('from {} to {}'.format(bets['date'].min(), bets['date'].max()))"
   ]
  },
  {
   "cell_type": "code",
   "execution_count": 21,
   "metadata": {},
   "outputs": [
    {
     "name": "stdout",
     "output_type": "stream",
     "text": [
      "---\n",
      "HANDICAP\t-289.10\t+328.00\t+328.00\n",
      "---\n",
      "pred_mlp_50_1: \t -50.30 \t +55 \t -0.91\n",
      "pred_mlp_20_1: \t -48.00 \t +48 \t -1.00\n",
      "pred_mlp_40_1: \t -39.30 \t +47 \t -0.84\n",
      "pred_mlp_10_1: \t -41.30 \t +46 \t -0.90\n",
      "pred_mlp_100_1: \t -40.30 \t +45 \t -0.90\n",
      "pred_mlp_150_1: \t -32.60 \t +45 \t -0.72\n",
      "pred_mlp_30_1: \t -37.30 \t +42 \t -0.89\n"
     ]
    },
    {
     "data": {
      "image/png": "[encoded data removed]",
      "text/plain": [
       "<Figure size 432x144 with 1 Axes>"
      ]
     },
     "metadata": {
      "needs_background": "light"
     },
     "output_type": "display_data"
    },
    {
     "name": "stdout",
     "output_type": "stream",
     "text": [
      "---\n",
      "COURSE_A_CONDITIONS\t-262.40\t+307.00\t+307.00\n",
      "---\n",
      "pred_mlp_30_1: \t -51.00 \t +64 \t -0.80\n",
      "pred_mlp_40_1: \t -43.20 \t +47 \t -0.92\n",
      "pred_mlp_10_1: \t -38.30 \t +45 \t -0.85\n",
      "pred_mlp_50_1: \t -30.30 \t +40 \t -0.76\n",
      "pred_mlp_150_1: \t -34.20 \t +38 \t -0.90\n",
      "pred_mlp_20_1: \t -33.20 \t +37 \t -0.90\n",
      "pred_mlp_100_1: \t -32.20 \t +36 \t -0.89\n"
     ]
    },
    {
     "data": {
      "image/png": "[encoded data removed]",
      "text/plain": [
       "<Figure size 432x144 with 1 Axes>"
      ]
     },
     "metadata": {
      "needs_background": "light"
     },
     "output_type": "display_data"
    },
    {
     "name": "stdout",
     "output_type": "stream",
     "text": [
      "---\n",
      "AUTOSTART\t-145.70\t+223.00\t+223.00\n",
      "---\n",
      "pred_mlp_50_1: \t -36.40 \t +51 \t -0.71\n",
      "pred_mlp_30_1: \t -21.00 \t +32 \t -0.66\n",
      "pred_mlp_20_1: \t -22.20 \t +32 \t -0.69\n",
      "pred_mlp_40_1: \t -16.20 \t +31 \t -0.52\n",
      "pred_mlp_10_1: \t -17.00 \t +28 \t -0.61\n",
      "pred_mlp_100_1: \t -17.20 \t +27 \t -0.64\n",
      "pred_mlp_150_1: \t -15.70 \t +22 \t -0.71\n"
     ]
    },
    {
     "data": {
      "image/png": "[encoded data removed]",
      "text/plain": [
       "<Figure size 432x144 with 1 Axes>"
      ]
     },
     "metadata": {
      "needs_background": "light"
     },
     "output_type": "display_data"
    },
    {
     "name": "stdout",
     "output_type": "stream",
     "text": [
      "---\n",
      "HANDICAP_DIVISE\t-153.20\t+200.00\t+200.00\n",
      "---\n",
      "pred_mlp_30_1: \t -30.00 \t +30 \t -1.00\n",
      "pred_mlp_150_1: \t -14.70 \t +30 \t -0.49\n",
      "pred_mlp_40_1: \t -29.00 \t +29 \t -1.00\n",
      "pred_mlp_20_1: \t -29.00 \t +29 \t -1.00\n",
      "pred_mlp_10_1: \t -8.40 \t +28 \t -0.30\n",
      "pred_mlp_100_1: \t -27.00 \t +27 \t -1.00\n",
      "pred_mlp_50_1: \t -15.10 \t +27 \t -0.56\n"
     ]
    },
    {
     "data": {
      "image/png": "[encoded data removed]",
      "text/plain": [
       "<Figure size 432x144 with 1 Axes>"
      ]
     },
     "metadata": {
      "needs_background": "light"
     },
     "output_type": "display_data"
    },
    {
     "name": "stdout",
     "output_type": "stream",
     "text": [
      "---\n",
      "A_RECLAMER\t+9.00\t+85.00\t+85.00\n",
      "---\n",
      "pred_mlp_30_1: \t -14.00 \t +14 \t -1.00\n",
      "pred_mlp_100_1: \t +9.50 \t +14 \t +0.68\n",
      "pred_mlp_50_1: \t -13.00 \t +13 \t -1.00\n",
      "pred_mlp_40_1: \t +11.50 \t +12 \t +0.96\n",
      "pred_mlp_150_1: \t -12.00 \t +12 \t -1.00\n",
      "pred_mlp_20_1: \t +12.50 \t +11 \t +1.14\n",
      "pred_mlp_10_1: \t +14.50 \t +9 \t +1.61\n"
     ]
    },
    {
     "data": {
      "image/png": "[encoded data removed]",
      "text/plain": [
       "<Figure size 432x144 with 1 Axes>"
      ]
     },
     "metadata": {
      "needs_background": "light"
     },
     "output_type": "display_data"
    },
    {
     "name": "stdout",
     "output_type": "stream",
     "text": [
      "---\n",
      "HANDICAP_CATEGORIE_DIVISE\t-3.70\t+66.00\t+66.00\n",
      "---\n",
      "pred_mlp_50_1: \t -2.10 \t +11 \t -0.19\n",
      "pred_mlp_150_1: \t -1.10 \t +10 \t -0.11\n",
      "pred_mlp_100_1: \t -0.10 \t +9 \t -0.01\n",
      "pred_mlp_40_1: \t -0.10 \t +9 \t -0.01\n",
      "pred_mlp_20_1: \t -0.10 \t +9 \t -0.01\n",
      "pred_mlp_30_1: \t -0.10 \t +9 \t -0.01\n",
      "pred_mlp_10_1: \t -0.10 \t +9 \t -0.01\n"
     ]
    },
    {
     "data": {
      "image/png": "[encoded data removed]",
      "text/plain": [
       "<Figure size 432x144 with 1 Axes>"
      ]
     },
     "metadata": {
      "needs_background": "light"
     },
     "output_type": "display_data"
    },
    {
     "name": "stdout",
     "output_type": "stream",
     "text": [
      "---\n",
      "INTERNATIONALE_AUTOSTART\t-50.60\t+53.00\t+53.00\n",
      "---\n",
      "pred_mlp_10_1: \t -7.60 \t +10 \t -0.76\n",
      "pred_mlp_20_1: \t -9.00 \t +9 \t -1.00\n",
      "pred_mlp_30_1: \t -9.00 \t +9 \t -1.00\n",
      "pred_mlp_40_1: \t -7.00 \t +7 \t -1.00\n",
      "pred_mlp_50_1: \t -6.00 \t +6 \t -1.00\n",
      "pred_mlp_150_1: \t -6.00 \t +6 \t -1.00\n",
      "pred_mlp_100_1: \t -6.00 \t +6 \t -1.00\n"
     ]
    },
    {
     "data": {
      "image/png": "[encoded data removed]",
      "text/plain": [
       "<Figure size 432x144 with 1 Axes>"
      ]
     },
     "metadata": {
      "needs_background": "light"
     },
     "output_type": "display_data"
    },
    {
     "name": "stdout",
     "output_type": "stream",
     "text": [
      "---\n",
      "AMATEURS_AUTOSTART\t-33.00\t+33.00\t+33.00\n",
      "---\n",
      "pred_mlp_100_1: \t -6.00 \t +6 \t -1.00\n",
      "pred_mlp_50_1: \t -5.00 \t +5 \t -1.00\n",
      "pred_mlp_40_1: \t -5.00 \t +5 \t -1.00\n",
      "pred_mlp_30_1: \t -5.00 \t +5 \t -1.00\n",
      "pred_mlp_20_1: \t -4.00 \t +4 \t -1.00\n",
      "pred_mlp_150_1: \t -4.00 \t +4 \t -1.00\n",
      "pred_mlp_10_1: \t -4.00 \t +4 \t -1.00\n"
     ]
    },
    {
     "data": {
      "image/png": "[encoded data removed]",
      "text/plain": [
       "<Figure size 432x144 with 1 Axes>"
      ]
     },
     "metadata": {
      "needs_background": "light"
     },
     "output_type": "display_data"
    },
    {
     "name": "stdout",
     "output_type": "stream",
     "text": [
      "---\n",
      "HANDICAP_DE_CATEGORIE\t+107.00\t+33.00\t+33.00\n",
      "---\n",
      "pred_mlp_50_1: \t +14.00 \t +6 \t +2.33\n",
      "pred_mlp_100_1: \t +15.00 \t +5 \t +3.00\n",
      "pred_mlp_40_1: \t +15.00 \t +5 \t +3.00\n",
      "pred_mlp_150_1: \t +15.00 \t +5 \t +3.00\n",
      "pred_mlp_20_1: \t +16.00 \t +4 \t +4.00\n",
      "pred_mlp_30_1: \t +16.00 \t +4 \t +4.00\n",
      "pred_mlp_10_1: \t +16.00 \t +4 \t +4.00\n"
     ]
    },
    {
     "data": {
      "image/png": "[encoded data removed]",
      "text/plain": [
       "<Figure size 432x144 with 1 Axes>"
      ]
     },
     "metadata": {
      "needs_background": "light"
     },
     "output_type": "display_data"
    },
    {
     "name": "stdout",
     "output_type": "stream",
     "text": [
      "---\n",
      "EUROPEENNE_AUTOSTART\t-13.00\t+13.00\t+13.00\n",
      "---\n",
      "pred_mlp_50_1: \t -3.00 \t +3 \t -1.00\n",
      "pred_mlp_30_1: \t -3.00 \t +3 \t -1.00\n",
      "pred_mlp_100_1: \t -2.00 \t +2 \t -1.00\n",
      "pred_mlp_20_1: \t -2.00 \t +2 \t -1.00\n",
      "pred_mlp_10_1: \t -2.00 \t +2 \t -1.00\n",
      "pred_mlp_150_1: \t -1.00 \t +1 \t -1.00\n"
     ]
    },
    {
     "data": {
      "image/png": "[encoded data removed]",
      "text/plain": [
       "<Figure size 432x144 with 1 Axes>"
      ]
     },
     "metadata": {
      "needs_background": "light"
     },
     "output_type": "display_data"
    },
    {
     "name": "stdout",
     "output_type": "stream",
     "text": [
      "---\n",
      "GROUPE_II\t-11.00\t+13.00\t+13.00\n",
      "---\n",
      "pred_mlp_50_1: \t -1.00 \t +3 \t -0.33\n",
      "pred_mlp_100_1: \t -2.00 \t +2 \t -1.00\n",
      "pred_mlp_20_1: \t -2.00 \t +2 \t -1.00\n",
      "pred_mlp_30_1: \t -2.00 \t +2 \t -1.00\n",
      "pred_mlp_10_1: \t -2.00 \t +2 \t -1.00\n",
      "pred_mlp_150_1: \t -1.00 \t +1 \t -1.00\n",
      "pred_mlp_40_1: \t -1.00 \t +1 \t -1.00\n"
     ]
    },
    {
     "data": {
      "image/png": "[encoded data removed]",
      "text/plain": [
       "<Figure size 432x144 with 1 Axes>"
      ]
     },
     "metadata": {
      "needs_background": "light"
     },
     "output_type": "display_data"
    },
    {
     "name": "stdout",
     "output_type": "stream",
     "text": [
      "---\n",
      "GROUPE_I\t-12.00\t+12.00\t+12.00\n",
      "---\n",
      "pred_mlp_50_1: \t -3.00 \t +3 \t -1.00\n",
      "pred_mlp_20_1: \t -3.00 \t +3 \t -1.00\n",
      "pred_mlp_30_1: \t -3.00 \t +3 \t -1.00\n",
      "pred_mlp_40_1: \t -1.00 \t +1 \t -1.00\n",
      "pred_mlp_150_1: \t -1.00 \t +1 \t -1.00\n",
      "pred_mlp_10_1: \t -1.00 \t +1 \t -1.00\n"
     ]
    },
    {
     "data": {
      "image/png": "[encoded data removed]",
      "text/plain": [
       "<Figure size 432x144 with 1 Axes>"
      ]
     },
     "metadata": {
      "needs_background": "light"
     },
     "output_type": "display_data"
    },
    {
     "name": "stdout",
     "output_type": "stream",
     "text": [
      "---\n",
      "APPRENTIS_LADS_JOCKEYS_AUTOSTART\t-11.00\t+11.00\t+11.00\n",
      "---\n",
      "pred_mlp_50_1: \t -3.00 \t +3 \t -1.00\n",
      "pred_mlp_100_1: \t -2.00 \t +2 \t -1.00\n",
      "pred_mlp_20_1: \t -2.00 \t +2 \t -1.00\n",
      "pred_mlp_40_1: \t -1.00 \t +1 \t -1.00\n",
      "pred_mlp_150_1: \t -1.00 \t +1 \t -1.00\n",
      "pred_mlp_30_1: \t -1.00 \t +1 \t -1.00\n",
      "pred_mlp_10_1: \t -1.00 \t +1 \t -1.00\n"
     ]
    },
    {
     "data": {
      "image/png": "[encoded data removed]",
      "text/plain": [
       "<Figure size 432x144 with 1 Axes>"
      ]
     },
     "metadata": {
      "needs_background": "light"
     },
     "output_type": "display_data"
    },
    {
     "name": "stdout",
     "output_type": "stream",
     "text": [
      "---\n",
      "NATIONALE_AUTOSTART\t-6.20\t+10.00\t+10.00\n",
      "---\n",
      "pred_mlp_50_1: \t +0.80 \t +3 \t +0.27\n",
      "pred_mlp_10_1: \t -2.00 \t +2 \t -1.00\n",
      "pred_mlp_20_1: \t -2.00 \t +2 \t -1.00\n",
      "pred_mlp_100_1: \t -1.00 \t +1 \t -1.00\n",
      "pred_mlp_150_1: \t -1.00 \t +1 \t -1.00\n",
      "pred_mlp_30_1: \t -1.00 \t +1 \t -1.00\n"
     ]
    },
    {
     "data": {
      "image/png": "[encoded data removed]",
      "text/plain": [
       "<Figure size 432x144 with 1 Axes>"
      ]
     },
     "metadata": {
      "needs_background": "light"
     },
     "output_type": "display_data"
    },
    {
     "name": "stdout",
     "output_type": "stream",
     "text": [
      "---\n",
      "GROUPE_III\t-5.00\t+5.00\t+5.00\n",
      "---\n",
      "pred_mlp_100_1: \t -2.00 \t +2 \t -1.00\n",
      "pred_mlp_50_1: \t -1.00 \t +1 \t -1.00\n",
      "pred_mlp_20_1: \t -1.00 \t +1 \t -1.00\n",
      "pred_mlp_10_1: \t -1.00 \t +1 \t -1.00\n"
     ]
    },
    {
     "data": {
      "image/png": "[encoded data removed]",
      "text/plain": [
       "<Figure size 432x144 with 1 Axes>"
      ]
     },
     "metadata": {
      "needs_background": "light"
     },
     "output_type": "display_data"
    },
    {
     "name": "stdout",
     "output_type": "stream",
     "text": [
      "---\n",
      "INCONNU\t-4.00\t+4.00\t+4.00\n",
      "---\n",
      "pred_mlp_30_1: \t -2.00 \t +2 \t -1.00\n",
      "pred_mlp_50_1: \t -1.00 \t +1 \t -1.00\n",
      "pred_mlp_100_1: \t -1.00 \t +1 \t -1.00\n"
     ]
    },
    {
     "data": {
      "image/png": "[encoded data removed]",
      "text/plain": [
       "<Figure size 432x144 with 1 Axes>"
      ]
     },
     "metadata": {
      "needs_background": "light"
     },
     "output_type": "display_data"
    },
    {
     "name": "stdout",
     "output_type": "stream",
     "text": [
      "---\n",
      "COURSE_A_CONDITION_QUALIF_HP\t-2.00\t+2.00\t+2.00\n",
      "---\n",
      "pred_mlp_50_1: \t -1.00 \t +1 \t -1.00\n",
      "pred_mlp_100_1: \t -1.00 \t +1 \t -1.00\n"
     ]
    },
    {
     "data": {
      "image/png": "[encoded data removed]",
      "text/plain": [
       "<Figure size 432x144 with 1 Axes>"
      ]
     },
     "metadata": {
      "needs_background": "light"
     },
     "output_type": "display_data"
    },
    {
     "name": "stdout",
     "output_type": "stream",
     "text": [
      "---\n",
      "QUALIFICATION_ACCAF\t+0.90\t+2.00\t+2.00\n",
      "---\n",
      "pred_mlp_50_1: \t +1.90 \t +1 \t +1.90\n",
      "pred_mlp_10_1: \t -1.00 \t +1 \t -1.00\n"
     ]
    },
    {
     "data": {
      "image/png": "[encoded data removed]",
      "text/plain": [
       "<Figure size 432x144 with 1 Axes>"
      ]
     },
     "metadata": {
      "needs_background": "light"
     },
     "output_type": "display_data"
    },
    {
     "name": "stdout",
     "output_type": "stream",
     "text": [
      "---\n",
      "A_RECLAMER_AUTOSTART\t-1.00\t+1.00\t+1.00\n",
      "---\n",
      "pred_mlp_50_1: \t -1.00 \t +1 \t -1.00\n"
     ]
    },
    {
     "data": {
      "image/png": "[encoded data removed]",
      "text/plain": [
       "<Figure size 432x144 with 1 Axes>"
      ]
     },
     "metadata": {
      "needs_background": "light"
     },
     "output_type": "display_data"
    },
    {
     "name": "stdout",
     "output_type": "stream",
     "text": [
      "---\n",
      "HANDICAP_A_RECLAMER\t-1.00\t+1.00\t+1.00\n",
      "---\n",
      "pred_mlp_50_1: \t -1.00 \t +1 \t -1.00\n"
     ]
    },
    {
     "data": {
      "image/png": "[encoded data removed]",
      "text/plain": [
       "<Figure size 432x144 with 1 Axes>"
      ]
     },
     "metadata": {
      "needs_background": "light"
     },
     "output_type": "display_data"
    }
   ],
   "source": [
    "%matplotlib inline\n",
    "import matplotlib\n",
    "import numpy as np\n",
    "import matplotlib.pyplot as plt\n",
    "\n",
    "bb = bets[(bets['target'].str.contains('^pred_mlp_'))].groupby('id').filter(lambda r: r['num'].nunique() == 1 ).copy()\n",
    "#bb = bets.groupby('id').filter(lambda r: (r['target'] == 'pred_mlp_1').sum() == 0 and (r['target'] == 'pred_knn_10_1').sum() == 1  )\n",
    "\n",
    "def f(r):\n",
    "    n1 = r[(r['target'] == 'pred_mlp_100_1')]['num']\n",
    "    n2 = r[(r['target'] == 'pred_rf_100_1')]['num']\n",
    "    \n",
    "    if not len(n1) and len(n2):\n",
    "        return True\n",
    "    if not len(n2) and len(n1):\n",
    "        return True\n",
    "    \n",
    "    if n1.max() != n2.max():\n",
    "        return True\n",
    "    \n",
    "    return False\n",
    "\n",
    "#bb = bets.groupby('id').filter(f)\n",
    "\n",
    "f = 'sub_category'\n",
    "\n",
    "for s in bb[f].value_counts().index:\n",
    "    x = bb[bb[f] == s].copy()\n",
    "    print(\"---\\n{}\\t{:+.2f}\\t{:+.2f}\\t{:+.2f}\\n---\".format(s, x['profit'].sum(), x['bet'].sum(), len(x)))\n",
    "    for t in x['target'].value_counts().index:\n",
    "        bbb = x[(x['target'] == t) & (x['odds_ref'] > 0)].copy()\n",
    "        print(\"{:10s}: \\t {:+.2f} \\t {:+.0f} \\t {:+.2f}\".format(t, bbb.profit.sum(), bbb.profit.count(), bbb.profit.mean()) )\n",
    "        \n",
    "    x['stash'] = x['profit'].cumsum()\n",
    "\n",
    "    fig, axs = plt.subplots(1,1)\n",
    "    x['stash'].plot(figsize=(6, 2))\n",
    "    plt.show()"
   ]
  },
  {
   "cell_type": "code",
   "execution_count": 9,
   "metadata": {},
   "outputs": [
    {
     "data": {
      "text/plain": [
       "['declared_player_count',\n",
       " 'handicap_distance',\n",
       " 'handicap_distance_amax',\n",
       " 'handicap_distance_amin',\n",
       " 'handicap_distance_mean',\n",
       " 'handicap_distance_r',\n",
       " 'handicap_distance_std',\n",
       " 'handicap_weight',\n",
       " 'handicap_weight_amax',\n",
       " 'handicap_weight_amin',\n",
       " 'handicap_weight_mean',\n",
       " 'handicap_weight_r',\n",
       " 'handicap_weight_std',\n",
       " 'hist_1_pos',\n",
       " 'hist_2_pos',\n",
       " 'hist_3_pos',\n",
       " 'hist_4_pos',\n",
       " 'hist_5_pos',\n",
       " 'hist_6_pos',\n",
       " 'odds_0',\n",
       " 'odds_1',\n",
       " 'odds_2',\n",
       " 'odds_3',\n",
       " 'odds_4',\n",
       " 'odds_5',\n",
       " 'odds_6',\n",
       " 'odds_7',\n",
       " 'odds_8',\n",
       " 'odds_9',\n",
       " 'placed_2_count',\n",
       " 'placed_2_count_amax',\n",
       " 'placed_2_count_amin',\n",
       " 'placed_2_count_mean',\n",
       " 'placed_2_count_r',\n",
       " 'placed_2_count_std',\n",
       " 'placed_3_count',\n",
       " 'placed_3_count_amax',\n",
       " 'placed_3_count_amin',\n",
       " 'placed_3_count_mean',\n",
       " 'placed_3_count_r',\n",
       " 'placed_3_count_std',\n",
       " 'placed_earnings',\n",
       " 'placed_earnings_amax',\n",
       " 'placed_earnings_amin',\n",
       " 'placed_earnings_mean',\n",
       " 'placed_earnings_r',\n",
       " 'placed_earnings_std',\n",
       " 'prev_year_earnings',\n",
       " 'prev_year_earnings_amax',\n",
       " 'prev_year_earnings_amin',\n",
       " 'prev_year_earnings_mean',\n",
       " 'prev_year_earnings_r',\n",
       " 'prev_year_earnings_std',\n",
       " 'prize',\n",
       " 'race_count',\n",
       " 'race_count_amax',\n",
       " 'race_count_amin',\n",
       " 'race_count_mean',\n",
       " 'race_count_r',\n",
       " 'race_count_std',\n",
       " 'victory_count',\n",
       " 'victory_count_amax',\n",
       " 'victory_count_amin',\n",
       " 'victory_count_mean',\n",
       " 'victory_count_r',\n",
       " 'victory_count_std',\n",
       " 'victory_earnings',\n",
       " 'victory_earnings_amax',\n",
       " 'victory_earnings_amin',\n",
       " 'victory_earnings_mean',\n",
       " 'victory_earnings_r',\n",
       " 'victory_earnings_std']"
      ]
     },
     "execution_count": 9,
     "metadata": {},
     "output_type": "execute_result"
    }
   ],
   "source": [
    "program.model.features"
   ]
  }
 ],
 "metadata": {
  "kernelspec": {
   "display_name": "Django Shell-Plus",
   "language": "python",
   "name": "django_extensions"
  },
  "language_info": {
   "codemirror_mode": {
    "name": "ipython",
    "version": 3
   },
   "file_extension": ".py",
   "mimetype": "text/x-python",
   "name": "python",
   "nbconvert_exporter": "python",
   "pygments_lexer": "ipython3",
   "version": "3.6.4"
  }
 },
 "nbformat": 4,
 "nbformat_minor": 2
}
