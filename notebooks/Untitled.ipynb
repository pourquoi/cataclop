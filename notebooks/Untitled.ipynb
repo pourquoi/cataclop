{
 "cells": [
  {
   "cell_type": "code",
   "execution_count": 1,
   "metadata": {},
   "outputs": [],
   "source": [
    "from cataclop.core.models import *"
   ]
  },
  {
   "cell_type": "code",
   "execution_count": 2,
   "metadata": {},
   "outputs": [],
   "source": [
    "from cataclop.pmu.models import *"
   ]
  },
  {
   "cell_type": "code",
   "execution_count": 20,
   "metadata": {},
   "outputs": [
    {
     "name": "stdout",
     "output_type": "stream",
     "text": [
      "2018-10-01 R1C1 13:10 12 12\n",
      "2018-10-01 R1C2 13:47 16 16\n",
      "2018-10-01 R1C3 14:22 16 16\n",
      "2018-10-01 R1C4 14:50 13 13\n",
      "2018-10-01 R1C5 15:50 12 12\n",
      "2018-10-01 R1C6 16:23 12 12\n",
      "2018-10-01 R1C7 16:55 9 9\n",
      "2018-10-01 R1C8 17:25 16 16\n",
      "2018-10-01 R1C9 17:55 16 16\n",
      "2018-10-01 R2C1 11:07 7 7\n",
      "2018-10-01 R2C2 11:35 8 8\n",
      "2018-10-01 R2C3 12:08 9 9\n",
      "2018-10-01 R2C4 12:40 8 8\n",
      "2018-10-01 R2C5 13:10 10 10\n",
      "2018-10-01 R3C1 10:50 5 5\n",
      "2018-10-01 R3C2 11:23 5 5\n",
      "2018-10-01 R3C3 11:56 6 6\n",
      "2018-10-01 R3C4 12:23 7 7\n",
      "2018-10-01 R3C5 12:55 9 9\n",
      "2018-10-01 R3C6 13:25 9 9\n",
      "2018-10-01 R3C7 14:05 7 7\n",
      "2018-10-01 R3C8 14:35 9 9\n",
      "2018-10-01 R4C1 15:07 14 14\n",
      "2018-10-01 R4C2 15:37 12 12\n",
      "2018-10-01 R4C3 16:07 14 14\n",
      "2018-10-01 R4C4 16:40 7 7\n",
      "2018-10-01 R4C5 17:10 13 13\n",
      "2018-10-01 R4C6 17:40 7 7\n",
      "2018-10-01 R4C7 18:10 5 5\n",
      "2018-10-01 R4C8 18:40 6 6\n",
      "2018-10-01 R4C9 19:10 8 8\n",
      "2018-10-01 R5C1 18:25 16 16\n",
      "2018-10-01 R5C2 18:55 16 16\n",
      "2018-10-01 R5C3 19:25 15 15\n",
      "2018-10-01 R5C4 19:50 11 11\n",
      "2018-10-01 R5C5 20:15 16 16\n",
      "2018-10-01 R5C6 20:40 14 14\n",
      "2018-10-01 R5C7 21:05 14 14\n",
      "2018-10-01 R5C8 21:30 14 14\n",
      "2018-10-01 R5C9 21:55 16 16\n"
     ]
    }
   ],
   "source": [
    "races = Race.objects.filter(start_at__date=\"2018-10-01\")\n",
    "\n",
    "for race in races:\n",
    "    print(race, race.declared_player_count, race.player_set.count())"
   ]
  },
  {
   "cell_type": "code",
   "execution_count": 11,
   "metadata": {},
   "outputs": [
    {
     "name": "stdout",
     "output_type": "stream",
     "text": [
      "2019-02-01 R1C4 15:32 1 11.9 14.5\n",
      "2019-02-01 R1C6 16:40 1 6.4 5.3\n",
      "2019-02-01 R2C5 14:04 1 15.2 21.5\n",
      "2019-02-01 R5C1 18:27 1 1.2 1.1\n",
      "2019-02-01 R5C2 18:57 1 12.7 1.9\n",
      "2019-02-01 R5C3 19:27 1 1.3 1.1\n",
      "2019-02-01 R5C4 19:57 1 1.4 1.1\n"
     ]
    }
   ],
   "source": [
    "players = Player.objects.filter(final_odds_ref_offline__isnull=False, position=1)\n",
    "\n",
    "for p in players:\n",
    "    print(p.race, p.position, p.final_odds_ref, p.final_odds_ref_offline)"
   ]
  },
  {
   "cell_type": "code",
   "execution_count": null,
   "metadata": {},
   "outputs": [],
   "source": [
    "bets = Bet.objects.filter(player__isnull=False).order_by('-created_at')\n",
    "\n",
    "for bet in bets:\n",
    "    print( '{} {} / {}: bet {}€ on {}'.format(bet.created_at, bet.url, bet.program, bet.amount, bet.player.num))"
   ]
  },
  {
   "cell_type": "code",
   "execution_count": null,
   "metadata": {},
   "outputs": [],
   "source": [
    "horse = Horse.objects.filter(name__icontains='what secret').first()\n",
    "horse"
   ]
  },
  {
   "cell_type": "code",
   "execution_count": null,
   "metadata": {},
   "outputs": [],
   "source": [
    "player = Player.objects.filter(horse=horse, num=3).last()\n",
    "player.race.id"
   ]
  },
  {
   "cell_type": "code",
   "execution_count": null,
   "metadata": {},
   "outputs": [],
   "source": [
    "odds = Odds.objects.filter(player=player)\n",
    "odds"
   ]
  },
  {
   "cell_type": "code",
   "execution_count": null,
   "metadata": {},
   "outputs": [],
   "source": [
    "import pandas as pd\n",
    "import numpy as np\n",
    "\n",
    "%matplotlib inline\n",
    "import matplotlib\n",
    "import matplotlib.pyplot as plt\n",
    "\n",
    "from cataclop.ml import preprocessing\n",
    "from cataclop.ml import exploration\n",
    "\n",
    "pd.set_option('display.max_columns', 200)\n",
    "pd.set_option('display.max_rows', 500)\n",
    "\n",
    "from cataclop.ml.pipeline import factories"
   ]
  },
  {
   "cell_type": "code",
   "execution_count": null,
   "metadata": {},
   "outputs": [],
   "source": [
    "dataset = factories.Dataset.factory('2019-01-07', params={\n",
    "    'race_id':60962\n",
    "})"
   ]
  },
  {
   "cell_type": "code",
   "execution_count": null,
   "metadata": {},
   "outputs": [],
   "source": [
    "dataset.load()"
   ]
  },
  {
   "cell_type": "code",
   "execution_count": null,
   "metadata": {},
   "outputs": [],
   "source": [
    "dataset.players[['num', 'horse_id', 'final_odds_ref', 'position']]"
   ]
  }
 ],
 "metadata": {
  "kernelspec": {
   "display_name": "Django Shell-Plus",
   "language": "python",
   "name": "django_extensions"
  },
  "language_info": {
   "codemirror_mode": {
    "name": "ipython",
    "version": 3
   },
   "file_extension": ".py",
   "mimetype": "text/x-python",
   "name": "python",
   "nbconvert_exporter": "python",
   "pygments_lexer": "ipython3",
   "version": "3.6.4"
  }
 },
 "nbformat": 4,
 "nbformat_minor": 2
}
