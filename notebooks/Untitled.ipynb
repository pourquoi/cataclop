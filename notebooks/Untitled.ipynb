{
 "cells": [
  {
   "cell_type": "code",
   "execution_count": null,
   "metadata": {},
   "outputs": [],
   "source": [
    "import os\n",
    "os.environ[\"DJANGO_ALLOW_ASYNC_UNSAFE\"] = \"true\""
   ]
  },
  {
   "cell_type": "code",
   "execution_count": null,
   "metadata": {},
   "outputs": [],
   "source": [
    "import keras\n",
    "import pandas as pd\n",
    "import numpy as np\n",
    "\n",
    "from tqdm.notebook import tqdm\n",
    "\n",
    "from sklearn import preprocessing\n",
    "\n",
    "from cataclop.ml import preprocessing as cataclop_preprocessing"
   ]
  },
  {
   "cell_type": "code",
   "execution_count": null,
   "metadata": {},
   "outputs": [],
   "source": [
    "from cataclop.ml.pipeline import factories\n",
    "\n",
    "dataset = factories.Dataset.factory('default', params={\n",
    "    \"from\": \"2019-02-01\",\n",
    "    \"to\": \"2019-12-31\"\n",
    "})\n",
    "dataset.load(force=True)"
   ]
  },
  {
   "cell_type": "code",
   "execution_count": null,
   "metadata": {},
   "outputs": [],
   "source": [
    "race_features = ['prize', 'declared_player_count']\n",
    "race_features += ['odds_{:d}'.format(i) for i in range(10)]\n",
    "\n",
    "\n",
    "horse_features = ['age'] + ['hist_{}_pos'.format(i+1) for i in range(6)]\n",
    "\n",
    "for f in dataset.agg_features:\n",
    "            if f.startswith('final_odds'):\n",
    "                continue\n",
    "            horse_features.append(f)\n",
    "            #horse_features.append('{}_r'.format(f))\n",
    "            #for s in dataset.agg_features_funcs:\n",
    "                #features.append('{}_{}'.format(f, s[0]))\n",
    "\n",
    "horse_cat_features = ['horse_sex', 'horse_breed']\n",
    "race_cat_features = ['category', 'sub_category']\n",
    "\n",
    "race_features = sorted(list(set(race_features)))\n",
    "horse_features = sorted(list(set(horse_features)))\n",
    "horse_cat_features = sorted(list(set(horse_cat_features)))\n",
    "race_cat_features = sorted(list(set(race_cat_features)))\n",
    "\n",
    "features = race_features + horse_features\n",
    "cat_features = race_cat_features + horse_cat_features\n",
    "\n",
    "print(features)\n",
    "print(cat_features)\n"
   ]
  },
  {
   "cell_type": "code",
   "execution_count": null,
   "metadata": {},
   "outputs": [],
   "source": [
    "NAN_FLAG = 0\n",
    "\n",
    "df = dataset.players\n",
    "df = df.groupby('race_id').filter(lambda r: (r['trueskill_mu'] == 25).sum() < r['declared_player_count'].max()/2 and r['position'].min() == 1 and r['winner_dividend'].max() > 0 and r['odds_0'].min() != dataset.params['nan_flag'] and r['odds_1'].min() != dataset.params['nan_flag'] )\n",
    "df.reset_index(inplace=True)\n",
    "df.loc[:, features] = df.loc[:, features].fillna(NAN_FLAG)\n",
    "\n",
    "df['position'] = df['position'].fillna(20)\n",
    "\n",
    "scaler = preprocessing.MinMaxScaler() \n",
    "scaled = scaler.fit_transform(df.loc[:, features].values)\n",
    "\n",
    "df.loc[:, features] = scaled"
   ]
  },
  {
   "cell_type": "code",
   "execution_count": null,
   "metadata": {},
   "outputs": [],
   "source": [
    "horse_dummies = cataclop_preprocessing.get_dummies(df, horse_cat_features, limit=5)\n",
    "\n",
    "df_horse_dummies = cataclop_preprocessing.get_dummy_values(df, horse_dummies)\n",
    "\n",
    "df = pd.concat([df, df_horse_dummies], axis=1)\n",
    "\n",
    "race_dummies = cataclop_preprocessing.get_dummies(df, race_cat_features, limit=5)\n",
    "\n",
    "df_race_dummies = cataclop_preprocessing.get_dummy_values(df, race_dummies)\n",
    "\n",
    "df = pd.concat([df, df_race_dummies], axis=1)\n",
    "\n",
    "\n",
    "all_horse_features = list(set(horse_features + list(df_horse_dummies.columns)))\n",
    "\n",
    "all_race_features = list(set(race_features + list(df_race_dummies.columns)))\n",
    "\n",
    "print(all_horse_features, all_race_features)"
   ]
  },
  {
   "cell_type": "code",
   "execution_count": null,
   "metadata": {},
   "outputs": [],
   "source": [
    "\n",
    "def make_Xy(df, train=True):\n",
    "\n",
    "    races = df.groupby('race_id')\n",
    "    n_races = len(races)\n",
    "\n",
    "    n_features = len(features)\n",
    "    X = []\n",
    "    y = []\n",
    "\n",
    "    # keep track of the raw data position in the dataset \n",
    "    back_idx = []\n",
    "\n",
    "    for race_id, race in tqdm(races, total=n_races):\n",
    "        n_players = len(race)\n",
    "\n",
    "\n",
    "        for i in range(n_players):\n",
    "            player1 = race.iloc[i]\n",
    "            x1 = player1[all_horse_features].values\n",
    "\n",
    "            # only train on 4 first\n",
    "            if train and (player1['position'] == 0 or player1['position'] > 6):\n",
    "                continue\n",
    "\n",
    "            for j in range(n_players):\n",
    "                if j == i:\n",
    "                    continue\n",
    "                player2 = race.iloc[j]\n",
    "\n",
    "                # only train on 4 first\n",
    "                if train and (player2['position'] == 0 or player2['position'] > 6):\n",
    "                    continue\n",
    "\n",
    "                x2 = player2[all_horse_features].values\n",
    "\n",
    "                row_x = np.concatenate((x1, x2, player1[all_race_features]))\n",
    "\n",
    "                if player1['position'] == 0 and player2['position'] == 0:\n",
    "                    row_y = 0\n",
    "                elif player1['position'] == 0:\n",
    "                    row_y = 0\n",
    "                elif player2['position'] == 0:\n",
    "                    row_y = 0\n",
    "                else:\n",
    "                    row_y = 1 if player1['position'] < player2['position'] else 0\n",
    "\n",
    "                X.append(row_x)\n",
    "                y.append(row_y)\n",
    "\n",
    "                back_idx.append((race.index[i], race.index[j]))\n",
    "\n",
    "    X = np.array(X)\n",
    "    X = X.astype(np.float32)\n",
    "\n",
    "    y = np.array(y)\n",
    "    y = y.astype(np.float32)\n",
    "                \n",
    "    return (X, y, back_idx)\n",
    "    "
   ]
  },
  {
   "cell_type": "code",
   "execution_count": null,
   "metadata": {},
   "outputs": [],
   "source": [
    "race_ids = df['race_id'].unique()\n",
    "test_portion = int(len(race_ids) * 0.3)\n",
    "test_race_ids = race_ids[0:test_portion]\n",
    "train_race_ids = race_ids[test_portion+1:]\n",
    "\n",
    "df_train = df[df['race_id'].isin(train_race_ids)].copy()\n",
    "df_test = df[df['race_id'].isin(test_race_ids)].copy()"
   ]
  },
  {
   "cell_type": "code",
   "execution_count": null,
   "metadata": {},
   "outputs": [],
   "source": []
  },
  {
   "cell_type": "code",
   "execution_count": null,
   "metadata": {},
   "outputs": [],
   "source": [
    "X, y, _ = make_Xy(df_train)"
   ]
  },
  {
   "cell_type": "code",
   "execution_count": null,
   "metadata": {},
   "outputs": [],
   "source": [
    "#X = np.reshape(X, (X.shape[0], X.shape[1], 1))\n",
    "X = np.reshape(X, (X.shape[0], X.shape[1]))"
   ]
  },
  {
   "cell_type": "code",
   "execution_count": null,
   "metadata": {},
   "outputs": [],
   "source": [
    "X.shape\n",
    "X[0:1]"
   ]
  },
  {
   "cell_type": "code",
   "execution_count": null,
   "metadata": {},
   "outputs": [],
   "source": [
    "from keras.models import Sequential\n",
    "from keras.layers import Activation, Dropout, Flatten, Dense\n",
    "from keras.layers import Conv1D, MaxPooling1D\n",
    "from keras.utils import np_utils\n",
    "from keras.callbacks import ModelCheckpoint, EarlyStopping\n",
    "\n",
    "model = Sequential()\n",
    "\n",
    "\n",
    "model.add(Dense(100, input_dim=X.shape[1]))\n",
    "model.add(Dropout(0.5))\n",
    "model.add(Activation('relu'))\n",
    "'''\n",
    "model.add(Conv1D(32, 9, input_shape=(X.shape[1], 1)))\n",
    "model.add(Activation('sigmoid'))\n",
    "#model.add(Dropout(0.5))\n",
    "model.add(MaxPooling1D(pool_size=2))\n",
    "\n",
    "model.add(Conv1D(64, 3))\n",
    "model.add(Activation('sigmoid'))\n",
    "#model.add(Dropout(0.5))\n",
    "model.add(MaxPooling1D(pool_size=2))\n",
    "\n",
    "model.add(Flatten())\n",
    "\n",
    "model.add(Dense(20))\n",
    "model.add(Activation('relu'))\n",
    "model.add(Dropout(0.5))\n",
    "'''\n",
    "\n",
    "model.add(Dense(1))\n",
    "model.add(Activation('sigmoid'))\n",
    "\n",
    "model.compile(loss='binary_crossentropy',\n",
    "      optimizer='adam',\n",
    "      metrics=['accuracy'])\n",
    "          "
   ]
  },
  {
   "cell_type": "code",
   "execution_count": null,
   "metadata": {},
   "outputs": [],
   "source": [
    "model.summary()"
   ]
  },
  {
   "cell_type": "code",
   "execution_count": null,
   "metadata": {},
   "outputs": [],
   "source": [
    "model.fit(X, y, batch_size=16, epochs=10, validation_split=0.1)"
   ]
  },
  {
   "cell_type": "code",
   "execution_count": null,
   "metadata": {},
   "outputs": [],
   "source": [
    "X_test, y_test, back_idx = make_Xy(df_test, train=False)"
   ]
  },
  {
   "cell_type": "code",
   "execution_count": null,
   "metadata": {},
   "outputs": [],
   "source": [
    "predictions = model.predict(X_test)"
   ]
  },
  {
   "cell_type": "code",
   "execution_count": null,
   "metadata": {},
   "outputs": [],
   "source": [
    "df_test['score'] = 0\n",
    "\n",
    "for i in tqdm(range(len(predictions))):\n",
    "    \n",
    "    player1 = df_test.loc[back_idx[i][0]]\n",
    "    player2 = df_test.loc[back_idx[i][1]]\n",
    "    \n",
    "    df_test.loc[ back_idx[i][0], 'score' ] = df_test.loc[ back_idx[i][0], 'score' ] + predictions[i]\n",
    "    "
   ]
  },
  {
   "cell_type": "code",
   "execution_count": null,
   "metadata": {},
   "outputs": [],
   "source": [
    "from cataclop.ml.exploration import random_race\n",
    "\n",
    "random_race(df_test, ['position', 'sub_category', 'num', 'final_odds', 'final_odds_ref', 'score'])"
   ]
  },
  {
   "cell_type": "code",
   "execution_count": null,
   "metadata": {},
   "outputs": [],
   "source": [
    "def fast_bet(r):\n",
    "    p = 'score'\n",
    "\n",
    "    s = r.sort_values(by=p, ascending=False)\n",
    "    o = s.index.sort_values(ascending=True, return_indexer=True)\n",
    "        \n",
    "    idx = (r[p] == r[p].max())\n",
    "        \n",
    "    r['pn'] = o[1]\n",
    "    return r"
   ]
  },
  {
   "cell_type": "code",
   "execution_count": null,
   "metadata": {},
   "outputs": [],
   "source": [
    "df_test['pn'] = 0\n",
    "df_test = df_test.groupby('race_id').apply(fast_bet)"
   ]
  },
  {
   "cell_type": "code",
   "execution_count": null,
   "metadata": {},
   "outputs": [],
   "source": [
    "df_test['bet'] = 1\n",
    "df_test['profit'] = (df_test['winner_dividend'].fillna(0.)/100.-1.0)"
   ]
  },
  {
   "cell_type": "code",
   "execution_count": null,
   "metadata": {},
   "outputs": [],
   "source": [
    "df_test[(df_test['pn']==0) & (df_test['final_odds'] > 10.)]['profit'].describe()"
   ]
  }
 ],
 "metadata": {
  "kernelspec": {
   "display_name": "Django Shell-Plus",
   "language": "python",
   "name": "django_extensions"
  },
  "language_info": {
   "codemirror_mode": {
    "name": "ipython",
    "version": 3
   },
   "file_extension": ".py",
   "mimetype": "text/x-python",
   "name": "python",
   "nbconvert_exporter": "python",
   "pygments_lexer": "ipython3",
   "version": "3.6.4"
  }
 },
 "nbformat": 4,
 "nbformat_minor": 4
}
