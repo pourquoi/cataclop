{
 "cells": [
  {
   "cell_type": "code",
   "execution_count": 1,
   "metadata": {},
   "outputs": [],
   "source": [
    "from cataclop.core.models import *"
   ]
  },
  {
   "cell_type": "code",
   "execution_count": 2,
   "metadata": {},
   "outputs": [],
   "source": [
    "from cataclop.pmu.models import *"
   ]
  },
  {
   "cell_type": "code",
   "execution_count": null,
   "metadata": {},
   "outputs": [],
   "source": [
    "races = Race.objects.filter(start_at__date=\"2018-10-01\")\n",
    "\n",
    "for race in races:\n",
    "    print(race, race.declared_player_count, race.player_set.count())"
   ]
  },
  {
   "cell_type": "code",
   "execution_count": 6,
   "metadata": {},
   "outputs": [
    {
     "name": "stdout",
     "output_type": "stream",
     "text": [
      "2019-02-05 R1C1 13:45 1 7.1 6.8 6.4 5.7\n",
      "2019-02-05 R1C2 14:22 1 19.3 19.6 18.3 18.9\n",
      "2019-02-05 R1C3 14:57 1 6.9 9.7 6.2 8.8\n",
      "2019-02-05 R1C4 15:30 1 2.9 4.4 3.0 5.2\n",
      "2019-02-05 R1C5 16:05 1 2.3 2.2 2.3 4.2\n",
      "2019-02-05 R1C6 16:40 1 14.8 18.3 12.7 16.7\n",
      "2019-02-05 R1C7 17:15 1 2.9 6.6 3.0 3.3\n",
      "2019-02-05 R1C8 17:50 1 4.4 5.4 3.6 4.0\n",
      "2019-02-05 R2C1 11:55 1 3.4 3.2 2.9 2.7\n",
      "2019-02-05 R2C2 12:25 1 2.9 4.7 2.6 3.4\n",
      "2019-02-05 R2C3 12:57 1 4.9 5.8 3.9 6.6\n",
      "2019-02-05 R2C4 13:25 1 1.7 1.6 1.7 1.5\n",
      "2019-02-05 R2C5 14:04 1 1.4 1.6 1.6 1.2\n",
      "2019-02-05 R2C6 14:37 1 7.1 13.3 7.6 8.5\n",
      "2019-02-05 R2C7 15:12 1 7.7 10.8 7.9 11.5\n",
      "2019-02-05 R2C8 15:47 1 6.6 6.2 5.3 5.5\n",
      "2019-02-05 R3C1 12:10 1 2.1 2.4 2.6 2.8\n",
      "2019-02-05 R3C2 12:40 1 9.1 18.4 7.3 9.8\n",
      "2019-02-05 R3C3 13:10 1 87.9 26.3 98.8 26.6\n",
      "2019-02-05 R4C1 16:22 1 2.8 2.7 2.6 2.7\n",
      "2019-02-05 R4C2 16:57 1 4.4 6.0 4.5 7.9\n",
      "2019-02-05 R4C3 17:32 1 16.0 31.3 18.3 17.0\n",
      "2019-02-05 R4C4 18:07 1 3.3 3.4 2.8 5.1\n",
      "2019-02-05 R4C5 18:39 1 3.0 3.6 2.7 2.5\n",
      "2019-02-05 R4C6 19:07 1 8.0 6.9 10.7 11.1\n",
      "2019-02-05 R4C7 19:39 1 12.8 10.3 13.4 11.5\n",
      "2019-02-05 R4C8 20:11 1 21.0 45.2 21.4 24.4\n",
      "2019-02-05 R5C1 18:24 1 122.2 94.9 60.8 56.3\n",
      "2019-02-05 R5C1 18:24 1 1.5 1.9 1.5 2.0\n",
      "2019-02-05 R5C2 18:55 1 1.8 2.0 1.7 1.6\n",
      "2019-02-05 R5C3 19:24 1 2.7 1.8 2.7 3.5\n",
      "2019-02-05 R5C4 19:54 1 2.5 6.2 3.5 6.9\n",
      "2019-02-05 R5C5 20:25 1 9.7 68.8 11.4 10.2\n",
      "2019-02-05 R5C6 20:47 1 3.0 5.0 3.5 4.0\n",
      "2019-02-05 R5C7 21:12 1 2.0 2.2 2.3 1.5\n",
      "2019-02-05 R5C8 21:37 1 1.9 1.8 1.9 1.9\n"
     ]
    }
   ],
   "source": [
    "players = Player.objects.filter(final_odds_ref_unibet__isnull=False, position=1)\n",
    "\n",
    "for p in players:\n",
    "    print(p.race, p.position, p.final_odds, p.final_odds_ref, p.final_odds_unibet, p.final_odds_ref_unibet)"
   ]
  },
  {
   "cell_type": "code",
   "execution_count": null,
   "metadata": {},
   "outputs": [],
   "source": [
    "bets = Bet.objects.filter(player__isnull=False).order_by('-created_at')\n",
    "\n",
    "for bet in bets:\n",
    "    print( '{} {} / {}: bet {}€ on {}'.format(bet.created_at, bet.url, bet.program, bet.amount, bet.player.num))"
   ]
  },
  {
   "cell_type": "code",
   "execution_count": null,
   "metadata": {},
   "outputs": [],
   "source": [
    "horse = Horse.objects.filter(name__icontains='what secret').first()\n",
    "horse"
   ]
  },
  {
   "cell_type": "code",
   "execution_count": null,
   "metadata": {},
   "outputs": [],
   "source": [
    "player = Player.objects.filter(horse=horse, num=3).last()\n",
    "player.race.id"
   ]
  },
  {
   "cell_type": "code",
   "execution_count": null,
   "metadata": {},
   "outputs": [],
   "source": [
    "odds = Odds.objects.filter(player=player)\n",
    "odds"
   ]
  },
  {
   "cell_type": "code",
   "execution_count": null,
   "metadata": {},
   "outputs": [],
   "source": [
    "import pandas as pd\n",
    "import numpy as np\n",
    "\n",
    "%matplotlib inline\n",
    "import matplotlib\n",
    "import matplotlib.pyplot as plt\n",
    "\n",
    "from cataclop.ml import preprocessing\n",
    "from cataclop.ml import exploration\n",
    "\n",
    "pd.set_option('display.max_columns', 200)\n",
    "pd.set_option('display.max_rows', 500)\n",
    "\n",
    "from cataclop.ml.pipeline import factories"
   ]
  },
  {
   "cell_type": "code",
   "execution_count": null,
   "metadata": {},
   "outputs": [],
   "source": [
    "dataset = factories.Dataset.factory('2019-01-07', params={\n",
    "    'race_id':60962\n",
    "})"
   ]
  },
  {
   "cell_type": "code",
   "execution_count": null,
   "metadata": {},
   "outputs": [],
   "source": [
    "dataset.load()"
   ]
  },
  {
   "cell_type": "code",
   "execution_count": null,
   "metadata": {},
   "outputs": [],
   "source": [
    "dataset.players[['num', 'horse_id', 'final_odds_ref', 'position']]"
   ]
  }
 ],
 "metadata": {
  "kernelspec": {
   "display_name": "Django Shell-Plus",
   "language": "python",
   "name": "django_extensions"
  },
  "language_info": {
   "codemirror_mode": {
    "name": "ipython",
    "version": 3
   },
   "file_extension": ".py",
   "mimetype": "text/x-python",
   "name": "python",
   "nbconvert_exporter": "python",
   "pygments_lexer": "ipython3",
   "version": "3.6.4"
  }
 },
 "nbformat": 4,
 "nbformat_minor": 2
}
