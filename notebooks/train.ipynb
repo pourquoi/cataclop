{
 "cells": [
  {
   "cell_type": "code",
   "execution_count": 1,
   "metadata": {},
   "outputs": [],
   "source": [
    "import pandas as pd\n",
    "import numpy as np\n",
    "\n",
    "%matplotlib inline\n",
    "import matplotlib\n",
    "import matplotlib.pyplot as plt\n",
    "\n",
    "from cataclop.ml import preprocessing\n",
    "from cataclop.ml import exploration\n",
    "\n",
    "pd.set_option('display.max_columns', 200)\n",
    "pd.set_option('display.max_rows', 500)\n",
    "\n",
    "from cataclop.ml.pipeline import factories"
   ]
  },
  {
   "cell_type": "code",
   "execution_count": 2,
   "metadata": {},
   "outputs": [],
   "source": [
    "program = factories.Program.factory('default', version='1.1')"
   ]
  },
  {
   "cell_type": "code",
   "execution_count": null,
   "metadata": {},
   "outputs": [],
   "source": [
    "program.train(dataset_params = {\n",
    "    #'from': '2013-05-10'\n",
    "    'from': '2018-01-01',\n",
    "    'to': '2018-12-31',\n",
    "}, model_params = {\n",
    "    'kfolds': 2,\n",
    "    'nan_flag': 100000,\n",
    "    'n_targets': 1\n",
    "}, dataset_reload=True)"
   ]
  },
  {
   "cell_type": "code",
   "execution_count": null,
   "metadata": {},
   "outputs": [],
   "source": []
  },
  {
   "cell_type": "code",
   "execution_count": null,
   "metadata": {},
   "outputs": [],
   "source": [
    "len(program.model.models[0]['estimators'])\n",
    "program.model.hash"
   ]
  },
  {
   "cell_type": "code",
   "execution_count": null,
   "metadata": {},
   "outputs": [],
   "source": [
    "#program.dataset.save()\n",
    "#program.model.save()"
   ]
  },
  {
   "cell_type": "code",
   "execution_count": null,
   "metadata": {},
   "outputs": [],
   "source": [
    "#program.lock('2019-02-04')"
   ]
  },
  {
   "cell_type": "code",
   "execution_count": null,
   "metadata": {},
   "outputs": [],
   "source": [
    "print('{} races from {} to {}'.format(program.df.race_id.nunique(), program.df.start_at.min(), program.df.start_at.max()))"
   ]
  },
  {
   "cell_type": "code",
   "execution_count": null,
   "metadata": {},
   "outputs": [],
   "source": [
    "for model in program.model.models:\n",
    "    clf = model['estimators'][-1]['pipeline'].steps[-1][1]\n",
    "    if hasattr(clf, 'classes_'):\n",
    "        clf = model['estimators'][-1]['pipeline'].steps[-1][1]\n",
    "        print(clf.classes_)"
   ]
  },
  {
   "cell_type": "code",
   "execution_count": null,
   "metadata": {},
   "outputs": [],
   "source": [
    "pd.set_option('precision',7)\n",
    "    \n",
    "for model in program.model.models:\n",
    "    clf = model['estimators'][-1]['pipeline'].steps[-1][1]\n",
    "    if hasattr(clf, 'feature_importances_'):\n",
    "        fi = pd.Series(clf.feature_importances_, index=program.model.features+preprocessing.get_dummy_features(model['estimators'][-1]['dummies']))\n",
    "        print(model['name'])\n",
    "        print(fi.sort_values(ascending=False)[0:100])\n",
    "        print(\"---\\n\")\n",
    "    if hasattr(clf, 'coef_'):\n",
    "        fi = pd.Series(clf.coef_, index=program.model.features+preprocessing.get_dummy_features(model['estimators'][-1]['dummies']))\n",
    "        print(model['name'])\n",
    "        print(fi.sort_values(ascending=False)[0:100])\n",
    "        print(\"---\\n\")\n",
    "\n",
    "\n",
    "for model in program.model.stacked_models:\n",
    "    clf = model['estimators'][-1]['pipeline'].steps[-1][1]\n",
    "    if hasattr(clf, 'feature_importances_'):\n",
    "        fi = pd.Series(clf.feature_importances_, index=program.model.stacked_features+preprocessing.get_dummy_features(model['estimators'][-1]['dummies']))\n",
    "        print(model['name'])\n",
    "        print(fi.sort_values(ascending=False)[0:100])\n",
    "        print(\"---\\n\")\n",
    "    if hasattr(clf, 'coef_'):\n",
    "        fi = pd.Series(clf.coef_, index=program.model.stacked_features+preprocessing.get_dummy_features(model['estimators'][-1]['dummies']))\n",
    "        print(model['name'])\n",
    "        print(fi.sort_values(ascending=False)[0:100])\n",
    "        print(\"---\\n\")\n",
    "        \n",
    "pd.set_option('precision',7)\n",
    "\n"
   ]
  },
  {
   "cell_type": "code",
   "execution_count": null,
   "metadata": {},
   "outputs": [],
   "source": [
    "df = program.df\n",
    "\n",
    "for model in program.model.models:\n",
    "    print(model['name'], df['pred_{}_1'.format(model['name'])].mean())"
   ]
  },
  {
   "cell_type": "code",
   "execution_count": null,
   "metadata": {},
   "outputs": [],
   "source": [
    "program.model.features"
   ]
  },
  {
   "cell_type": "code",
   "execution_count": null,
   "metadata": {},
   "outputs": [],
   "source": [
    "#exploration.random_race(df, cols=['position', 'declared_player_count', 'sub_category', 'num', 'final_odds', 'final_odds_ref', 'pred_stacked'] + ['pred_stacked_{}'.format(pos+1) for pos in range(1,8)] + ['pred_xgb_100_1', 'pred_rf_100_1', 'pred_knn_5_1', 'pred_mlp_100_1', 'pred_ridge_1_1']).sort_values(by='pred_stacked_8', ascending=False)\n",
    "\n",
    "#exploration.random_race(df, cols=['position', 'declared_player_count', 'sub_category', 'num', 'final_odds', 'final_odds_ref', 'target_pos', 'target_returns'] + ['pred_{}_1'.format(model['name']) for model in program.model.models] + ['pred_stacked_{}_1'.format(model['name']) for model in program.model.stacked_models]).sort_values(by='position', ascending=True)\n",
    "exploration.random_race(df, cols=['position', 'declared_player_count', 'sub_category', 'num', 'final_odds', 'final_odds_ref', 'target'] + ['pred_{}_1'.format(model['name']) for model in program.model.models] ).sort_values(by='position', ascending=True)\n",
    "\n"
   ]
  },
  {
   "cell_type": "code",
   "execution_count": null,
   "metadata": {},
   "outputs": [],
   "source": [
    "def fast_bet(r):\n",
    "    r['bet'] = (r['pred_knn_1_1'] == r['pred_knn_1_1'].max()).astype('float')\n",
    "    r['bet'] += (r['pred_knn_2_1'] == r['pred_knn_2_1'].max()).astype('float')\n",
    "    return r\n",
    "    \n",
    "dd = df.groupby('race_id').filter(lambda r: r['pred_knn_1_1'].std()!=0)\n",
    "dd = dd.groupby('race_id').apply(fast_bet)"
   ]
  },
  {
   "cell_type": "code",
   "execution_count": null,
   "metadata": {},
   "outputs": [],
   "source": [
    "dd['profit'] = dd['bet'] * (dd['target']-1)"
   ]
  },
  {
   "cell_type": "code",
   "execution_count": null,
   "metadata": {},
   "outputs": [],
   "source": [
    "dd[(dd['bet']>0) & (dd['sub_category']=='HANDICAP') & (dd['final_odds_ref']>3) & (dd['final_odds_ref']<30) & (dd['pred_knn_1_1'] > 1)]['profit'].describe()\n"
   ]
  },
  {
   "cell_type": "code",
   "execution_count": null,
   "metadata": {},
   "outputs": [],
   "source": [
    "#df['pred_sum'] = df[['pred_{}_1'.format(model['name']) for model in program.model.models ]].sum(axis=1)\n",
    "#df['pred_sum'] = df[['pred_knn_{}_1'.format(n) for n in [5,10,20,30]]].sum(axis=1)\n",
    "df['pred_sum'] = df[['pred_{}_1'.format(model['name']) for model in program.model.models ]].sum(axis=1)\n",
    "\n",
    "'''\n",
    "for model in program.model.models:\n",
    "    df['pred_{}_1_3'.format(model['name'])] = df[ ['pred_{}_{}'.format(model['name'], i) for i in range(1,4) ] ].sum(axis=1)\n",
    "    df['pred_{}_2_4'.format(model['name'])] = df[ ['pred_{}_{}'.format(model['name'], i) for i in range(2,5) ] ].sum(axis=1)\n",
    "'''\n"
   ]
  },
  {
   "cell_type": "code",
   "execution_count": null,
   "metadata": {},
   "outputs": [],
   "source": [
    "df['pred_rnd'] = np.random.rand(df.shape[0])\n",
    "\n",
    "'''\n",
    "for model in program.model.models:\n",
    "    df['pred_minus_ref_{}'.format(model['name'])] = (-df['pred_{}_1'.format(model['name'])]-df['final_odds_ref']).pow(2).pow(0.5)\n",
    "    \n",
    "for model in program.model.stacked_models:\n",
    "    df['pred_minus_ref_stacked_{}'.format(model['name'])] = (-df['pred_stacked_{}_1'.format(model['name'])]-df['final_odds_ref']).pow(2).pow(0.5)\n",
    "'''"
   ]
  },
  {
   "cell_type": "code",
   "execution_count": null,
   "metadata": {},
   "outputs": [],
   "source": []
  },
  {
   "cell_type": "code",
   "execution_count": null,
   "metadata": {},
   "outputs": [],
   "source": [
    "#program.bet(N=1, max_odds=20, targets=['pred_rnd', 'final_odds_ref', 'pred_sum'] + ['pred_{}_1'.format(model['name']) for model in program.model.models])\n",
    "#bets = program.bets\n",
    "#bets['profit'].mean()"
   ]
  },
  {
   "cell_type": "code",
   "execution_count": null,
   "metadata": {},
   "outputs": [],
   "source": [
    "program.model.features"
   ]
  },
  {
   "cell_type": "code",
   "execution_count": null,
   "metadata": {},
   "outputs": [],
   "source": [
    "def bet(df, features, categorical_features, targets, N=1, max_odds=20, break_on_bet=True, break_on_odds=False):\n",
    "\n",
    "    races = df.sort_values('start_at').groupby('race_id')\n",
    "\n",
    "    bets = []\n",
    "\n",
    "    for (id, race) in races:\n",
    "\n",
    "        candidate_bets = []\n",
    "\n",
    "        nums = []\n",
    "\n",
    "        for target in targets:\n",
    "\n",
    "            r = race.sort_values(by=target, ascending=False)\n",
    "\n",
    "            if len(r) <= N:\n",
    "                break\n",
    "                \n",
    "            NN = N\n",
    "\n",
    "            for n in range(NN):\n",
    "\n",
    "                player = r.iloc[n]\n",
    "\n",
    "                odds = player['final_odds_ref']\n",
    "\n",
    "                if max_odds is not None and odds > max_odds:\n",
    "                    if break_on_odds:\n",
    "                        break\n",
    "                    else:\n",
    "                        continue\n",
    "\n",
    "                nth = (r['final_odds_ref']<odds).sum()+1\n",
    "                \n",
    "                #bet = np.clip(np.abs(player[target])/100.0, 0, 10)\n",
    "                \n",
    "                #bet = np.round(1+bet) * 1.5\n",
    "                \n",
    "                #if bet <= 0:\n",
    "                #    break\n",
    "                \n",
    "                if n+1 < len(r) and r.iloc[n+1][target] == player[target]:\n",
    "                    NN = NN+1\n",
    "                    \n",
    "                bet = 1\n",
    "\n",
    "                profit = player['winner_dividend']/100.0 * bet - bet\n",
    "                profit_placed = player['placed_dividend']/100.0 * bet - bet\n",
    "\n",
    "                row = [id, player['start_at'], player['num'], player['position'], n, odds, player['final_odds'], target, player[target], r[target].std(), bet, profit, profit_placed]\n",
    "\n",
    "                for nn in range(1,4):\n",
    "                    if n+nn < len(r):\n",
    "                        row.append(r.iloc[n+nn][target])\n",
    "                    else:\n",
    "                        row.append(np.nan)\n",
    "\n",
    "                for f in features:\n",
    "                    row.append(player[f])\n",
    "                for f in categorical_features:\n",
    "                    row.append(player[f])\n",
    "\n",
    "                candidate_bets.append( row )\n",
    "\n",
    "                nums.append(player['num'])\n",
    "\n",
    "                if break_on_bet:\n",
    "                    break\n",
    "\n",
    "        #if len(candidate_bets) == 1:\n",
    "        #    bets += candidate_bets\n",
    "        bets += candidate_bets\n",
    "\n",
    "    cols = ['id', 'date', 'num', 'pos', 'nb', 'odds_ref', 'odds_final', 'target', 'pred', 'pred_std', 'bet', 'profit', 'profit_placed']\n",
    "\n",
    "    for nn in range(1,4):\n",
    "        cols.append('next_pred_{}'.format(nn))\n",
    "\n",
    "    cols = cols + features + categorical_features\n",
    "\n",
    "    bets = pd.DataFrame(bets, columns=cols)\n",
    "    bets['date'] = pd.to_datetime(bets['date'])\n",
    "\n",
    "    bets = bets.set_index(bets['date'])\n",
    "    bets = bets.sort_index()\n",
    "\n",
    "    bets['bets'] = bets['bet'].cumsum()\n",
    "    bets['stash'] = bets['profit'].cumsum()\n",
    "\n",
    "    return bets\n",
    "\n"
   ]
  },
  {
   "cell_type": "code",
   "execution_count": null,
   "metadata": {},
   "outputs": [],
   "source": [
    "def bet2(df):\n",
    "\n",
    "    races = df.sort_values('start_at').groupby('race_id')\n",
    "    \n",
    "    bet = 0\n",
    "    profit = 0\n",
    "    \n",
    "  \n",
    "    strats = [\n",
    "            [1, 1, 1],\n",
    "            [0, 1, 1, 1],\n",
    "            [0, 0, 1, 1, 1],\n",
    "            [0, 0, 0, 1, 1, 1],\n",
    "            [0, 0, 0, 0, 1, 1, 1],\n",
    "        ]\n",
    "\n",
    "\n",
    "    \n",
    "    for (id, race) in races:\n",
    "\n",
    "        r = race.sort_values(by='final_odds_ref', ascending=True)\n",
    "        \n",
    "        '''\n",
    "        if r.iloc[0]['final_odds_ref'] > 20:\n",
    "            continue\n",
    "            \n",
    "        if r.iloc[0]['final_odds_ref'] < 3:\n",
    "            continue\n",
    "        \n",
    "        bet += 1\n",
    "        profit += r.iloc[0]['winner_dividend']/100.0 * 1 - 1\n",
    "        \n",
    "        continue\n",
    "        '''\n",
    "        \n",
    "\n",
    "        si = int(list(r['pred_xgb_100'].value_counts().index)[0])\n",
    "        \n",
    "        if si == 0:\n",
    "            continue\n",
    "            \n",
    "        strat = strats[si-1]\n",
    "        \n",
    "        \n",
    "        for n in range(len(strat)):\n",
    "            \n",
    "            if r.iloc[n]['final_odds_ref'] > 20 or r.iloc[n]['final_odds_ref'] < 3:\n",
    "                continue\n",
    "            \n",
    "            bet += strat[n]\n",
    "            profit += r.iloc[n]['winner_dividend']/100.0 * strat[n] - strat[n]\n",
    "\n",
    "        \n",
    "        '''\n",
    "        for strat in strats:\n",
    "            for n in range(len(strat)):\n",
    "                if len(r) <= n:\n",
    "                    break\n",
    "                b = strat[n] * r.iloc[0]['pred_xgb_100_{}'.format(n+1)]\n",
    "                bet += b\n",
    "                profit += r.iloc[n]['winner_dividend']/100.0 * b - b\n",
    "        '''\n",
    "    \n",
    "    return (bet, profit)\n",
    "        \n",
    "\n",
    "        "
   ]
  },
  {
   "cell_type": "code",
   "execution_count": null,
   "metadata": {},
   "outputs": [],
   "source": [
    "\n",
    "bets = bet(df, program.model.features, program.model.categorical_features, \n",
    "    N=3, max_odds=None, break_on_bet=False, break_on_odds=False, \n",
    "    targets=['pred_rnd', 'final_odds_ref', 'pred_sum'] + ['pred_{}_{}'.format(model['name'], i+1) for i in range(program.model.params['n_targets']) for model in program.model.models]# + ['pred_stacked_{}_1'.format(model['name']) for model in program.model.stacked_models] \n",
    "   )\n",
    "\n",
    "'''\n",
    "['pred_{}_{}'.format(model['name'], i) for model in program.model.models for i in ['1_3', '2_4'] ]\n",
    "bets = bet(df, program.model.features, program.model.categorical_features, \n",
    "    N=3, max_odds=30, break_on_bet=False, break_on_odds=False, \n",
    "    targets=['pred_rnd', 'final_odds_ref', 'pred_sum'] + ['pred_{}_1'.format(model['name']) for model in program.model.models] + ['pred_stacked_{}_1'.format(model['name']) for model in program.model.stacked_models]\n",
    "   )\n",
    "'''\n",
    "    "
   ]
  },
  {
   "cell_type": "code",
   "execution_count": null,
   "metadata": {},
   "outputs": [],
   "source": [
    "bets['profit'].describe()"
   ]
  },
  {
   "cell_type": "code",
   "execution_count": null,
   "metadata": {},
   "outputs": [],
   "source": [
    "df[['pred_{}_1'.format(model['name']) for model in program.model.models]].describe()"
   ]
  },
  {
   "cell_type": "code",
   "execution_count": null,
   "metadata": {},
   "outputs": [],
   "source": [
    "bets = bets.set_index(bets['date'])\n",
    "bets = bets.sort_index()"
   ]
  },
  {
   "cell_type": "code",
   "execution_count": null,
   "metadata": {},
   "outputs": [],
   "source": [
    "list(bets.columns)"
   ]
  },
  {
   "cell_type": "code",
   "execution_count": null,
   "metadata": {
    "scrolled": true
   },
   "outputs": [],
   "source": [
    "def graph_bb(bb, f):\n",
    "    results = []\n",
    "\n",
    "    for s in bb[f].value_counts().index:\n",
    "        results = []\n",
    "        x = bb[ (bb[f] == s) & (bb['pred_std'] != 0) & (bb['pred'] != 0) ].copy()\n",
    "        if len(x) == 0:\n",
    "            continue\n",
    "        #print(\"---\\n{}\\t{:+.2f}\\t{:+.2f}\\t{:+.2f}\\n---\".format(s, x['profit'].sum(), x['bet'].sum(), len(x)))\n",
    "\n",
    "        fig, axs = plt.subplots(1,1)\n",
    "\n",
    "        for t in x['target'].value_counts().index:\n",
    "            bbb = x[(x['target'] == t)].copy()\n",
    "            #bbb = bbb[ (bbb['pred']>bbb['pred'].quantile(0.85)) ].copy()\n",
    "\n",
    "\n",
    "            results.append({\n",
    "                'idx_1': s,\n",
    "                'idx_2': t,\n",
    "                'profit': bbb.profit.sum(),\n",
    "                'profit_place': bbb.profit_placed.sum(),\n",
    "                'bet': bbb.bet.sum(),\n",
    "                'bets': bbb.bet.count(),\n",
    "                'avg': bbb.profit.sum() / bbb.bet.sum()\n",
    "            })\n",
    "\n",
    "            '''\n",
    "            bbb['stash'] = bbb['profit'].cumsum()\n",
    "            bbb['cbet'] = bbb['bet'].cumsum()\n",
    "\n",
    "            fig, axs = plt.subplots(1,1)\n",
    "            bbb['stash'].plot(figsize=(6, 2))\n",
    "            bbb['cbet'].plot(figsize=(6, 2))\n",
    "            plt.show()\n",
    "            '''\n",
    "\n",
    "            #print(\"{:10s}: \\t {:+.2f} \\t {:+.0f} \\t {:+.2f}\".format(t, bbb.profit.sum(), bbb.profit.count(), bbb.profit.mean()) )\n",
    "\n",
    "            bbb['stash'] = bbb['profit'].cumsum()\n",
    "            bbb['cbet'] = bbb['bet'].cumsum()\n",
    "\n",
    "            bbb['stash'].plot(figsize=(10, 2))\n",
    "            bbb['cbet'].plot(figsize=(10, 2))\n",
    "\n",
    "        results = pd.DataFrame(results)\n",
    "        results = results.set_index(['idx_1', 'idx_2'])\n",
    "        print(results.sort_values(by='avg', ascending=False))\n",
    "\n",
    "\n",
    "        plt.show()    \n",
    "\n",
    "    \n",
    "    "
   ]
  },
  {
   "cell_type": "code",
   "execution_count": null,
   "metadata": {},
   "outputs": [],
   "source": [
    "countries = list(bets['country'].value_counts()[0:10].index)\n",
    "sub_categories = list(bets['sub_category'].value_counts()[0:10].index)\n",
    "\n",
    "%store countries\n",
    "%store sub_categories"
   ]
  },
  {
   "cell_type": "code",
   "execution_count": null,
   "metadata": {},
   "outputs": [],
   "source": [
    "from skopt.space import Real, Integer\n",
    "from skopt.utils import use_named_args\n",
    "\n",
    "target = 'pred_knn_1_1'\n",
    "\n",
    "c_min = bets[(bets['target'] == target)]['pred'].min()\n",
    "c_mean = bets[(bets['target'] == target)]['pred'].mean()\n",
    "c_max = bets[(bets['target'] == target)]['pred'].max()\n",
    "\n",
    "space = [\n",
    "          Real(1, 10, name='min_odds'),\n",
    "          Real(10, 60, name='max_odds'),\n",
    "          Real(c_min, c_mean, name='min_pred'),\n",
    "          Real(c_mean, c_max, name='max_pred'),\n",
    "          Integer(5, 25, name='max_players')] + [\n",
    "          Integer(0,1, name='country_{}'.format(country)) for country in countries] + [\n",
    "          Integer(0,1, name='sub_category_{}'.format(sub_category)) for sub_category in sub_categories] + [\n",
    "          Integer(0,1, name='nb_{}'.format(n)) for n in range(0,6)]\n",
    "         \n",
    "def x_to_params(x):\n",
    "    params = {}\n",
    "    \n",
    "    params['min_odds'] = x[0]\n",
    "    params['max_odds'] = x[1]\n",
    "    params['max_pred'] = x[3]\n",
    "    params['min_pred'] = x[2]\n",
    "    params['max_players'] = x[4]\n",
    "    \n",
    "    for i, country in enumerate(countries):\n",
    "        params['country_{}'.format(country)] = x[5+i]\n",
    "        \n",
    "    for i, sc in enumerate(sub_categories):\n",
    "        params['sub_category_{}'.format(sc)] = x[5+len(countries)+i]\n",
    "        \n",
    "    for n in range(0,6):\n",
    "        params['nb_{}'.format(n)] = x[5+len(countries)+len(sub_categories)+n]\n",
    "\n",
    "    return params\n",
    "\n",
    "@use_named_args(space)\n",
    "def f(**params):\n",
    "    return ff(params)\n",
    "    \n",
    "def ff(params, train=True):\n",
    "    \n",
    "    print(params)\n",
    "    \n",
    "    b = bets[ (bets['pred'] != 0) & (bets['target']==target) & (bets['pred_std'] != 0)]\n",
    "    \n",
    "    b = b[ (b['odds_ref'] > params['min_odds']) & (b['odds_ref'] < params['max_odds']) & (b['declared_player_count'] > 1) & (b['declared_player_count'] <= params['max_players']) ]\n",
    "    \n",
    "    #b = b[(b['pred'] >= params['min_pred']) & (b['pred'] <= params['max_pred'])]\n",
    "    \n",
    "    for country in countries:\n",
    "        if params['country_{}'.format(country)] == 0:\n",
    "            b = b[ b['country'] != country ]\n",
    "            \n",
    "    for sub_category in sub_categories:\n",
    "        if params['sub_category_{}'.format(sub_category)] == 0:\n",
    "            b = b[ b['sub_category'] != sub_category ]\n",
    "            \n",
    "    for n in range(0,6):\n",
    "        if params['nb_{}'.format(n)] == 0:\n",
    "            b = b[ b['nb'] != n]\n",
    "    \n",
    "    p = b.profit.sum()\n",
    "    pp = len(b[b['profit'] > 0])\n",
    "    bet = b.bet.sum()\n",
    "    \n",
    "    print(\"{:+.2f} {:+.2f}\\n\".format(p, bet))\n",
    "        \n",
    "    if bet == 0:\n",
    "        return 0\n",
    "    \n",
    "    if not train:\n",
    "        return b\n",
    "    \n",
    "    return - (p)\n",
    "    \n",
    "    "
   ]
  },
  {
   "cell_type": "code",
   "execution_count": null,
   "metadata": {},
   "outputs": [],
   "source": [
    "c_mean, c_min, c_max"
   ]
  },
  {
   "cell_type": "code",
   "execution_count": null,
   "metadata": {},
   "outputs": [],
   "source": [
    "#from skopt import dummy_minimize, gp_minimize, gbrt_minimize\n",
    "\n",
    "#res = dummy_minimize(f, space, n_calls=500)"
   ]
  },
  {
   "cell_type": "code",
   "execution_count": null,
   "metadata": {},
   "outputs": [],
   "source": [
    "#x_to_params(res.x), res.fun"
   ]
  },
  {
   "cell_type": "code",
   "execution_count": null,
   "metadata": {},
   "outputs": [],
   "source": [
    "#params = x_to_params(res.x)\n",
    "#%store params\n",
    "#params"
   ]
  },
  {
   "cell_type": "code",
   "execution_count": null,
   "metadata": {},
   "outputs": [],
   "source": [
    "#%store -r params\n",
    "#%store -r countries\n",
    "#%store -r sub_categories"
   ]
  },
  {
   "cell_type": "code",
   "execution_count": null,
   "metadata": {},
   "outputs": [],
   "source": [
    "#bb = ff(params, False)"
   ]
  },
  {
   "cell_type": "code",
   "execution_count": null,
   "metadata": {},
   "outputs": [],
   "source": [
    "#bb = bets[(bets['nb']==1) & (bets['odds_ref'] > 1) & (bets['odds_ref'] > bets['final_odds_ref_offline']) & (bets['odds_ref'] < 20) & (bets['sub_category']!='kCOURSE_A_CONDITIONS') & (bets['pred'] > 1) & (bets['pred'] < 200) & (bets['target']!='final_odds_ref')   ].copy()\n",
    "\n",
    "bb = bets[(bets['nb']==1) & (bets['odds_ref'] > 3) & (bets['odds_ref'] > bets['final_odds_ref_offline']) & (bets['odds_ref'] < 20) & (bets['sub_category']!='kCOURSE_A_CONDITIONS') & (bets['pred'] > 2) & (bets['pred'] < 200) & (bets['target']=='pred_knn_2_1')   ].copy()\n",
    "\n",
    "\n",
    "#bb = bb.groupby('id').filter(lambda b: len(b) <3 )\n",
    "#bb = bets[ ((bets['nb']==2) ) & (bets['target']!='fpred_stacked_mlp_relu_1') & (bets['odds_ref']<30) & (bets['odds_ref']>10) & (bets['pred']>0)]\n",
    "#bb = bets[ ((bets['nb']==2) ) & (bets['target']!='fpred_knn_2_1') & (bets['odds_ref']<10) & (bets['odds_ref']>3) & (bets['pred']>0.1)]\n",
    "#bb = bets[ (bets['country']!='dFRA') & (bets['sub_category']!='dNATIONALE_AUTOSTART') & (bets['nb']==1) & (bets['target']!='kpred_knn_1_1') & (bets['pred']>0.) & (bets['odds_ref']<10) & (bets['odds_ref']>1)  ].copy()\n",
    "\n",
    "\n",
    "# ok\n",
    "#bb = bets[ (bets['country']!='FRA') & (bets['sub_category']!='COURSE_A_CONDITIONS') & (bets['nb']==0) & (bets['odds_ref']>=bets['odds_3']) & (bets['odds_ref']<20) & (bets['target']=='pred_knn_10_2') ].copy()\n",
    "\n",
    "\n",
    "#bb = bets[ (bets['country']!='FRA') & (bets['sub_category']!='COURSE_A_CONDITIONS') & (bets['nb']>=3) & (bets['nb']<=3) & (bets['odds_ref']>=bets['odds_1']) & (bets['odds_ref']<20) & (bets['target']=='pred_stacked_mlp_sigmoid_1') ].copy()\n",
    "#bb = bets[ (bets['country']=='FRA') & (bets['sub_category']=='AUTOSTART') & (bets['nb']<=0) & (bets['odds_ref']>=0) & (bets['odds_ref']<20) ].copy()\n",
    "#bb = bets[ (bets['country']=='FRA') & (bets['sub_category']!='COURSE_A_CONDITIONS') & (bets['nb']==0) & ( (bets['target']=='pred_knn_10_1') | (bets['target']=='pred_minus_ref_lasso_1') ) & (bets['odds_ref']>10) & (bets['odds_ref']<20) & (bets['pred']>20)].copy()        \n",
    "#bb = bets[ (bets['country']=='FRA') & (bets['nb']==0) & (bets['odds_ref']>10) & (bets['odds_ref']<20) & (bets['pred']>0)].copy()\n",
    "#bb = bb.groupby('id').filter(lambda r: r['num'].count() == 2)\n",
    "#graph_bb( bets[(bets['target']=='pred_lasso_0.1_1') & (bets['nb']==0) & (bets['odds_ref']>5) & (bets['odds_ref']<20) & (bets['pred']>0.)], 'sub_category')\n",
    "#bb['profit'] = bb['profit'] * 1/(1+bb['nb'])\n",
    "#bb['bet'] = bb['bet'] * 1/(1+bb['nb'])\n",
    "\n",
    "#bb['profit'] = bb['profit'] * bb['pred']\n",
    "#bb['bet'] = bb['bet'] * bb['pred']\n",
    "\n",
    "graph_bb(bb, 'sub_category')\n",
    "\n",
    "\n"
   ]
  },
  {
   "cell_type": "code",
   "execution_count": null,
   "metadata": {},
   "outputs": [],
   "source": [
    "bb[bb['declared_player_count']<10]['profit'].mean()\n"
   ]
  },
  {
   "cell_type": "code",
   "execution_count": null,
   "metadata": {},
   "outputs": [],
   "source": [
    "program.df['category'].value_counts()"
   ]
  },
  {
   "cell_type": "code",
   "execution_count": null,
   "metadata": {},
   "outputs": [],
   "source": [
    "mode = 'INTERNET'\n",
    "mode.lower()"
   ]
  }
 ],
 "metadata": {
  "kernelspec": {
   "display_name": "Django Shell-Plus",
   "language": "python",
   "name": "django_extensions"
  },
  "language_info": {
   "codemirror_mode": {
    "name": "ipython",
    "version": 3
   },
   "file_extension": ".py",
   "mimetype": "text/x-python",
   "name": "python",
   "nbconvert_exporter": "python",
   "pygments_lexer": "ipython3",
   "version": "3.6.4"
  }
 },
 "nbformat": 4,
 "nbformat_minor": 2
}
