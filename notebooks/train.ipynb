{
 "cells": [
  {
   "cell_type": "code",
   "execution_count": null,
   "metadata": {},
   "outputs": [],
   "source": [
    "from IPython.core.display import display, HTML\n",
    "display(HTML(\"<style>.container { width:100% !important; }</style>\"))"
   ]
  },
  {
   "cell_type": "code",
   "execution_count": null,
   "metadata": {},
   "outputs": [],
   "source": [
    "import pandas as pd\n",
    "import numpy as np\n",
    "\n",
    "import os\n",
    "os.environ[\"DJANGO_ALLOW_ASYNC_UNSAFE\"] = \"true\"\n",
    "\n",
    "%matplotlib inline\n",
    "import matplotlib\n",
    "import matplotlib.pyplot as plt\n",
    "\n",
    "from cataclop.ml import preprocessing\n",
    "from cataclop.ml import exploration\n",
    "\n",
    "pd.set_option('display.max_columns', 200)\n",
    "pd.set_option('display.max_rows', 500)\n",
    "\n",
    "from cataclop.ml.pipeline import factories"
   ]
  },
  {
   "cell_type": "code",
   "execution_count": null,
   "metadata": {},
   "outputs": [],
   "source": [
    "program = factories.Program.factory('default', version='1.2')"
   ]
  },
  {
   "cell_type": "code",
   "execution_count": null,
   "metadata": {},
   "outputs": [],
   "source": [
    "program.train(dataset_params = {\n",
    "    'from': '2018-01-01',\n",
    "    'to': '2021-03-01',\n",
    "    #'hippodrome': ['DEAUVILLE']\n",
    "    #'countries': ['FRA'],\n",
    "    #'categories': ['PLAT'],\n",
    "    'sub_categories': ['HANDICAP'],\n",
    "    #'prize_min': 40000\n",
    "}, model_params = {\n",
    "    'seed': 123456,\n",
    "    'kfolds': 3,\n",
    "    'nan_flag': 0,\n",
    "    'n_targets': 1,\n",
    "}, dataset_reload=True, model='default', dataset='default')"
   ]
  },
  {
   "cell_type": "code",
   "execution_count": null,
   "metadata": {},
   "outputs": [],
   "source": [
    "program.df.describe()"
   ]
  },
  {
   "cell_type": "code",
   "execution_count": null,
   "metadata": {},
   "outputs": [],
   "source": [
    "program.model.features"
   ]
  },
  {
   "cell_type": "code",
   "execution_count": null,
   "metadata": {},
   "outputs": [],
   "source": [
    "print('{} samples, {} features'.format(program.df.shape[0], len(program.model.features)))"
   ]
  },
  {
   "cell_type": "code",
   "execution_count": null,
   "metadata": {},
   "outputs": [],
   "source": [
    "if not hasattr(program.model, 'stacked_models'):\n",
    "    program.model.stacked_models = []\n",
    "    program.df['target_stacked'] = 0"
   ]
  },
  {
   "cell_type": "code",
   "execution_count": null,
   "metadata": {},
   "outputs": [],
   "source": [
    "[model[\"name\"] for model in program.model.models] + [model[\"name\"] for model in program.model.stacked_models]"
   ]
  },
  {
   "cell_type": "code",
   "execution_count": null,
   "metadata": {},
   "outputs": [],
   "source": [
    "print(\n",
    "    '{} races from {} to {}'.format(\n",
    "        program.df.race_id.nunique(), \n",
    "        program.df.start_at.min(), \n",
    "        program.df.start_at.max()\n",
    "    )\n",
    ")"
   ]
  },
  {
   "cell_type": "code",
   "execution_count": null,
   "metadata": {},
   "outputs": [],
   "source": [
    "for model in program.model.models:\n",
    "    clf = model['estimators'][-1]['pipeline'].steps[-1][1]\n",
    "    if hasattr(clf, 'classes_'):\n",
    "        clf = model['estimators'][-1]['pipeline'].steps[-1][1]\n",
    "        print(clf.classes_)"
   ]
  },
  {
   "cell_type": "code",
   "execution_count": null,
   "metadata": {},
   "outputs": [],
   "source": [
    "from cataclop.ml import preprocessing\n",
    "pd.set_option('precision',7)\n",
    "    \n",
    "for model in program.model.models:\n",
    "    clf = model['estimators'][-1]['pipeline'].steps[-1][1]\n",
    "    if hasattr(clf, 'feature_importances_'):\n",
    "        fi = pd.Series(clf.feature_importances_, index=program.model.features+preprocessing.get_dummy_features(model['estimators'][-1]['dummies']))\n",
    "        print(model['name'])\n",
    "        print(fi.sort_values(ascending=False)[0:100])\n",
    "        print(\"---\\n\")\n",
    "    if hasattr(clf, 'coef_'):\n",
    "        fi = pd.Series(clf.coef_, index=program.model.features+preprocessing.get_dummy_features(model['estimators'][-1]['dummies']))\n",
    "        print(model['name'])\n",
    "        print(fi.sort_values(ascending=False)[0:100])\n",
    "        print(\"---\\n\")\n",
    "\n",
    "if hasattr(program.model, \"stacked_models\"):\n",
    "    for model in program.model.stacked_models:\n",
    "        clf = model['estimators'][-1]['pipeline'].steps[-1][1]\n",
    "        if hasattr(clf, 'feature_importances_'):\n",
    "            fi = pd.Series(clf.feature_importances_, index=program.model.stacked_features+preprocessing.get_dummy_features(model['estimators'][-1]['dummies']))\n",
    "            print(model['name'])\n",
    "            print(fi.sort_values(ascending=False)[0:100])\n",
    "            print(\"---\\n\")\n",
    "        if hasattr(clf, 'coef_'):\n",
    "            fi = pd.Series(clf.coef_, index=program.model.stacked_features+preprocessing.get_dummy_features(model['estimators'][-1]['dummies']))\n",
    "            print(model['name'])\n",
    "            print(fi.sort_values(ascending=False)[0:100])\n",
    "            print(\"---\\n\")\n",
    "        \n",
    "pd.set_option('precision',7)\n",
    "\n"
   ]
  },
  {
   "cell_type": "code",
   "execution_count": null,
   "metadata": {},
   "outputs": [],
   "source": [
    "df = program.df\n",
    "\n",
    "for model in program.model.models:\n",
    "    print(model['name'], df['pred_{}_1'.format(model['name'])].mean())"
   ]
  },
  {
   "cell_type": "code",
   "execution_count": null,
   "metadata": {},
   "outputs": [],
   "source": [
    "from sklearn import preprocessing\n",
    "\n",
    "df['pred_sum_1'] = 1\n",
    "for model in program.model.models:\n",
    "    m = model['name']\n",
    "    #s = preprocessing.MinMaxScaler()\n",
    "    #scaled = s.fit_transform(df[['pred_{}_1'.format(m)]].values)\n",
    "    #df['pred_{}_s_1'.format(m)] = scaled\n",
    "    #df['pred_sum_1'] = df['pred_sum_1'] * df['pred_{}_s_1'.format(m)]\n",
    "    \n",
    "df['pred_sum_1'] = df[['pred_{}_1'.format(model['name']) for model in program.model.models]].sum(axis=1)\n",
    "df['pred_sum_1'] /= len(program.model.models)\n",
    "\n",
    "df['pred_stacked_sum_1'] = df[['pred_stacked_{}_1'.format(model['name']) for model in program.model.stacked_models]].sum(axis=1)\n",
    "df['pred_stacked_sum_1'] /= len(program.model.stacked_models)\n",
    "\n",
    "df['pred_odds_1'] = df['final_odds_ref']\n",
    "df['pred_rnd_1'] = np.random.rand(df.shape[0])\n",
    "df['pred_trueskill_mu_1'] = df['trueskill_mu']"
   ]
  },
  {
   "cell_type": "code",
   "execution_count": null,
   "metadata": {},
   "outputs": [],
   "source": [
    "cols = [\n",
    "            'position', \n",
    "            'declared_player_count', \n",
    "            'sub_category', \n",
    "            'num', \n",
    "            'final_odds', \n",
    "            'final_odds_ref', \n",
    "            'final_odds_ref_unibet', \n",
    "            'target',\n",
    "            'target_stacked',\n",
    "            'pred_sum_1',\n",
    "            'pred_stacked_sum_1',\n",
    "            'race_winner_dividend',\n",
    "            'winner_dividend',\n",
    "            'placed_dividend',\n",
    "            'trueskill_mu',\n",
    "            'hist_1_pos'\n",
    "        ] + [\n",
    "            'pred_{}_1'.format(model['name']) for model in program.model.models\n",
    "        ] + [\n",
    "            'pred_stacked_{}_1'.format(model['name']) for model in program.model.stacked_models\n",
    "        ] \n",
    "exploration.random_race(df, \n",
    "                        cols=cols\n",
    "                       ).sort_values(by='position', ascending=True)"
   ]
  },
  {
   "cell_type": "code",
   "execution_count": null,
   "metadata": {},
   "outputs": [],
   "source": [
    "# more exploration of a single race features\n",
    "#(df.reset_index(drop=True).set_index(['race_id', df.index]).loc[65509][['position'] + program.model.features]).sort_values(by='position', ascending=True)"
   ]
  },
  {
   "cell_type": "code",
   "execution_count": null,
   "metadata": {},
   "outputs": [],
   "source": [
    "dd = df"
   ]
  },
  {
   "cell_type": "code",
   "execution_count": null,
   "metadata": {},
   "outputs": [],
   "source": [
    "models = program.model.models + [{\"name\": \"sum\"}, {\"name\": \"maj\"}, {\"name\": \"stacked_maj\"}, {\"name\": \"stacked_sum\"}, {\"name\": \"rnd\"}, {\"name\": \"odds\"}, {\"name\": \"trueskill_mu\"}]\n",
    "#dd = df.groupby('race_id').filter(lambda r: r['pred_sum'].std()!=0)\n",
    "models = models + [{\"name\": \"stacked_{}\".format(model[\"name\"])} for model in program.model.stacked_models]\n",
    "\n",
    "for model in models:\n",
    "    m = model['name']\n",
    "    dd['bet_{}'.format(m)] = 0.\n",
    "    dd['profit_{}'.format(m)] = 0.\n",
    "    dd['n_{}'.format(m)] = 0.\n",
    "    dd['n_odds_{}'.format(m)] = 0.\n",
    "    dd['pred_{}_std'.format(m)] = 0.\n",
    "    "
   ]
  },
  {
   "cell_type": "code",
   "execution_count": null,
   "metadata": {},
   "outputs": [],
   "source": [
    "dd['pred_rnd_1'] = np.random.rand(dd.shape[0])\n",
    "dd['maj_1'] = 0.\n",
    "dd['pred_maj_1'] = 0.\n",
    "dd['stacked_maj_1'] = 0.\n",
    "dd['pred_stacked_maj_1'] = 0."
   ]
  },
  {
   "cell_type": "code",
   "execution_count": null,
   "metadata": {},
   "outputs": [],
   "source": [
    "[model[\"name\"] for model in models]"
   ]
  },
  {
   "cell_type": "code",
   "execution_count": null,
   "metadata": {},
   "outputs": [],
   "source": [
    "def fast_bet(r):\n",
    "    for model in models:\n",
    "        asc = not model['name'].startswith('stacked')\n",
    "        p = 'pred_{}_1'.format(model['name'])\n",
    "        #print(model['name'], df['pred_{}_1'.format(model['name'])].mean())\n",
    "        s = r.sort_values(by=p, ascending=asc)\n",
    "        o = s.index.sort_values(ascending=True, return_indexer=True)\n",
    "        s2 = r.sort_values(by='final_odds_ref')\n",
    "        o2 = s2.index.sort_values(ascending=True, return_indexer=True)\n",
    "\n",
    "\n",
    "        idx = (r[p] == r[p].max())\n",
    "\n",
    "        r['bet_{}'.format(model['name'])] = np.clip(r[p], a_min=0., a_max=1.) #((idx).astype('float'))\n",
    "\n",
    "\n",
    "        r['n_{}'.format(model['name'])] = o[1]\n",
    "        r['n_odds_{}'.format(model['name'])] = o2[1]\n",
    "    return r"
   ]
  },
  {
   "cell_type": "code",
   "execution_count": null,
   "metadata": {},
   "outputs": [],
   "source": [
    "dd = dd.groupby('race_id').apply(fast_bet)\n",
    "\n",
    "for model in models:\n",
    "    dd['profit_{}'.format(model['name'])] = dd['bet_{}'.format(model['name'])] * 1.0 * (dd['target_returns']-1.0)\n",
    "\n",
    "cols = ['profit_{}'.format(model['name']) for model in models]"
   ]
  },
  {
   "cell_type": "code",
   "execution_count": null,
   "metadata": {},
   "outputs": [],
   "source": [
    "\n",
    "mm = [m['name'] for m in models if m['name'].startswith('nn_') or m['name'].startswith('knn_') or m['name'].startswith('xgb_')]\n",
    "\n",
    "dd['n_maj'] = dd[['n_{}'.format(m) for m in mm]].sum(axis=1)\n",
    "dd['n_maj'] /= dd['declared_player_count']\n",
    "dd['n_maj'] = dd['n_maj'].round(1)\n",
    "dd['pred_maj_1'] = dd['n_maj']\n",
    "\n",
    "mm = [m['name'] for m in models if m['name'].startswith('stacked_stacked')]\n",
    "\n",
    "dd['n_stacked_maj'] = dd[['n_{}'.format(m) for m in mm]].sum(axis=1)\n",
    "dd['n_stacked_maj'] /= dd['declared_player_count']\n",
    "dd['n_stacked_maj'] = dd['n_stacked_maj'].round(1)\n",
    "dd['pred_stacked_maj_1'] = dd['n_stacked_maj']\n",
    "\n",
    "\n",
    "for model in models:\n",
    "    m = model['name']\n",
    "    #dd['profit_{}'.format(m)] = np.clip(dd['pred_{}_1'.format(m)], a_min=0., a_max=10.) * 1.0 * (dd['target_returns']-1.0)\n",
    "    #dd['profit_{}'.format(m)] = 1.0 * (dd['target_returns']-1.0)\n",
    "    dd['bet_{}'.format(m)] = 1#np.ceil(0.1 * np.clip((df['pred_{}_1'.format(m)]), a_min=0., a_max=10.) * np.log(df['n_odds_{}'.format(m)]+1.) )\n",
    "    dd['profit_{}'.format(m)] = dd['bet_{}'.format(m)] * 1.0 * (dd['target_returns']-1.0)\n"
   ]
  },
  {
   "cell_type": "code",
   "execution_count": null,
   "metadata": {},
   "outputs": [],
   "source": [
    "cols = [\n",
    "            'position', \n",
    "            'n_maj',\n",
    "            'n_stacked_maj',\n",
    "            'declared_player_count', \n",
    "            'sub_category', \n",
    "            'num', \n",
    "            'final_odds', \n",
    "            'final_odds_ref', \n",
    "            'final_odds_ref_unibet', \n",
    "            'target',\n",
    "            'target_stacked',\n",
    "            'race_winner_dividend',\n",
    "            'trueskill_mu',\n",
    "        ] + [\n",
    "            'n_{}'.format(model['name']) for model in models\n",
    "        ] + [\n",
    "            'pred_{}_1'.format(model['name']) for model in models\n",
    "        ] + [\n",
    "            'bet_{}'.format(model['name']) for model in models\n",
    "        ] + [\n",
    "            'profit_{}'.format(model['name']) for model in models\n",
    "        ]\n",
    "exploration.random_race(dd, \n",
    "                        cols=cols\n",
    "                       ).sort_values(by='position', ascending=True)"
   ]
  },
  {
   "cell_type": "code",
   "execution_count": null,
   "metadata": {},
   "outputs": [],
   "source": [
    "#s = dd.groupby('race_id')['final_odds_offline'].std()\n",
    "#s = s.to_frame()\n",
    "#s.columns = ['final_odds_offline_std']"
   ]
  },
  {
   "cell_type": "code",
   "execution_count": null,
   "metadata": {},
   "outputs": [],
   "source": [
    "#dd = dd.join(s, how='left', on='race_id')"
   ]
  },
  {
   "cell_type": "code",
   "execution_count": null,
   "metadata": {},
   "outputs": [],
   "source": [
    "#dd['prize'].apply(np.exp).describe()"
   ]
  },
  {
   "cell_type": "code",
   "execution_count": null,
   "metadata": {},
   "outputs": [],
   "source": [
    "for m in models: \n",
    "    print(m['name'])\n",
    "    print(dd['pred_{}_1'.format(m['name'])].quantile(0.5))"
   ]
  },
  {
   "cell_type": "code",
   "execution_count": null,
   "metadata": {
    "scrolled": false
   },
   "outputs": [],
   "source": [
    "f = 'category'\n",
    "for s in dd[f].value_counts().index:\n",
    "    r = pd.DataFrame(columns=['r', 'bets_mean', 'bets_max', 'bets_min', 'profit_mean', 'profit_max', 'profit_min', 'stash_min', 'stash_max', 'count'], index=[model['name'] for model in models])\n",
    "    print(s)\n",
    "    for model in models:\n",
    "        \n",
    "        m = model['name']\n",
    "        #if not m.startswith('stacked'):\n",
    "        #    continue\n",
    "\n",
    "        #for c in dd['sub_category'].value_counts().sort_values(ascending=False).index[0:7]:\n",
    "        #print(c)\n",
    "\n",
    "        ddd = dd[dd[f]==s]#dd[(dd['category'].isin(['PLAT'])) & (dd['sub_category'].isin(['HANDICAP'])) ]#dd[(dd['sub_category']==c)]# & (dd['sub_category'].isin(['HANDICAjP_DIVISE', 'HANjDICAP', 'AUTOSTART'])) ]\n",
    "        #ddd = ddd.groupby('race_id').filter(lambda r: r['pred_{}_1'.format(m)].std() > 0.01)\n",
    "        #g = ddd[(ddd['n_odds_{}'.format(m)]>=0) & (ddd['pred_{}_1'.format(m)] >= np.quantile(ddd['pred_{}_1'.format(m)], 0.7)) & (ddd['final_odds_ref_offline'].notnull()) & (ddd['final_odds_ref_offline'] > ddd['final_odds_offline']) & (ddd['final_odds_ref'] > 20) & (ddd['final_odds_ref']<50)][['start_at', 'race_id', 'position', 'final_odds', 'final_odds_ref', 'final_odds_ref_unibet', 'final_odds_ref_offline_std', 'final_odds_offline_std', 'profit_{}'.format(m), 'bet_{}'.format(m), 'pred_{}_1'.format(m)]].copy()\n",
    "        #(ddd['final_odds_ref_offline'] > ddd['final_odds_offline']) \n",
    "        g = ddd[  (ddd['final_odds_ref_offline'] > ddd['final_odds_offline'])  & (ddd['n_{}'.format(m)]<=0) & (ddd['final_odds_ref'] > 20) & (ddd['final_odds_ref']<50) & (ddd['final_odds_ref_offline'].notnull())  ][['start_at', 'race_id', 'position', 'final_odds', 'final_odds_ref', 'profit_{}'.format(m), 'bet_{}'.format(m), 'pred_{}_1'.format(m)]].copy()\n",
    "        #g = ddd[(ddd['n_{}'.format(m)]==0)].copy()\n",
    "        g['stash_{}'.format(m)] = g['profit_{}'.format(m)].cumsum()\n",
    "        g['bets_{}'.format(m)] = g['bet_{}'.format(m)].cumsum()\n",
    "        g['stash_{}'.format(m)].plot(figsize=(16, 4), title=m)\n",
    "        g['bets_{}'.format(m)].plot()\n",
    "        plt.grid(True)\n",
    "        plt.show()\n",
    "\n",
    "        #print(m, np.quantile(ddd['pred_{}_1'.format(m)], 0.7), ddd['start_at'].min(), ddd['start_at'].max())\n",
    "\n",
    "        r.loc[m]['r'] = g['profit_{}'.format(m)].sum() / g['bet_{}'.format(m)].sum()\n",
    "        r.loc[m]['bets_mean'] = g['bet_{}'.format(m)].mean()\n",
    "        r.loc[m]['bets_min'] = g['bet_{}'.format(m)].min()\n",
    "        r.loc[m]['bets_max'] = g['bet_{}'.format(m)].max()\n",
    "        r.loc[m]['profit_mean'] = g['profit_{}'.format(m)].mean()\n",
    "        r.loc[m]['profit_min'] = g['profit_{}'.format(m)].min()\n",
    "        r.loc[m]['profit_max'] = g['profit_{}'.format(m)].max()\n",
    "        r.loc[m]['stash_min'] = g['stash_{}'.format(m)].min()\n",
    "        r.loc[m]['stash_max'] = g['stash_{}'.format(m)].max()\n",
    "        r.loc[m]['count'] = g['stash_{}'.format(m)].count()\n",
    "\n",
    "    print(r[['r', 'count']])\n"
   ]
  },
  {
   "cell_type": "code",
   "execution_count": null,
   "metadata": {},
   "outputs": [],
   "source": [
    "def bet(df):\n",
    "    models = [{\"name\":'mlp_30'}]\n",
    "    \n",
    "    def fast_bet(r):\n",
    "        for model in models:\n",
    "            p = 'pred_{}_1'.format(model['name'])\n",
    "            #print(model['name'], df['pred_{}_1'.format(model['name'])].mean())\n",
    "            s = r.sort_values(by=p)\n",
    "            o = s.index.sort_values(ascending=True, return_indexer=True)\n",
    "            s2 = r.sort_values(by='final_odds_ref')\n",
    "            o2 = s2.index.sort_values(ascending=True, return_indexer=True)\n",
    "\n",
    "\n",
    "            idx = (r[p] == r[p].max())\n",
    "        #idx = (r['pred_knn_5_1'] > 0) & (r['final_odds_ref'] > 5)\n",
    "        #idx = (r['pred_knn_5_1'] > 0.) & (r['final_odds_ref'] > 5) & (r['final_odds_ref'] < 30)\n",
    "            #if r[p].std() == 0:\n",
    "            #    r['bet'] = 0\n",
    "            #    return r\n",
    "            r['bet_{}'.format(model['name'])] = np.clip(r[p], a_min=0., a_max=1.) #((idx).astype('float'))\n",
    "\n",
    "\n",
    "            r['n_{}'.format(model['name'])] = o[1]\n",
    "            r['n_odds_{}'.format(model['name'])] = o2[1]\n",
    "        return r\n",
    "    \n",
    "    df = df[(df['country']=='FRA') & (df['sub_category'].isin(['HANDICAP', 'HANDICAP_DIVISE']))].copy()\n",
    "    df = df.groupby('race_id').apply(fast_bet)\n",
    "\n",
    "    for model in models:\n",
    "        m = model['name']\n",
    "        #dd['profit_{}'.format(m)] = np.clip(dd['pred_{}_1'.format(m)], a_min=0., a_max=10.) * 1.0 * (dd['target_returns']-1.0)\n",
    "        #dd['profit_{}'.format(m)] = 1.0 * (dd['target_returns']-1.0)\n",
    "        df['bet_{}'.format(m)] = np.ceil(0.1 * np.clip((df['pred_{}_1'.format(m)]/10.), a_min=0., a_max=10.) * np.log(df['n_odds_{}'.format(m)]+1.) )\n",
    "        df['profit_{}'.format(m)] = df['bet_{}'.format(m)] * 1.0 * (df['target_returns']-1.0)\n",
    "\n",
    "    df['bet'] = df[['bet_{}'.format(model['name']) for model in models]].sum(axis=1)\n",
    "    df['profit'] = df[['profit_{}'.format(model['name']) for model in models]].sum(axis=1)\n",
    "    df['target'] = 'mlp_30_1'\n",
    "    \n",
    "    bets = df[(df['pred_mlp_30_1'] >= 13.6) & (df['final_odds_ref_offline']>df['final_odds_offline']) & (df['final_odds_ref'] > 20) & (df['final_odds_ref']<50)][['race_id', 'start_at', 'bet', 'category', 'sub_category', 'country', 'target', 'profit', 'num', 'race_id', 'position', 'final_odds_ref', 'final_odds', 'profit_{}'.format(m), 'bet_{}'.format(m), 'pred_{}_1'.format(m)]].copy()\n",
    "    bets['date'] = pd.to_datetime(bets['start_at'])\n",
    "    \n",
    "    #bets = bets.set_index(bets['date'])\n",
    "    #bets = bets.sort_index()\n",
    "    \n",
    "    bets['bets'] = bets['bet'].cumsum()\n",
    "    bets['stash'] = bets['profit'].cumsum()\n",
    "\n",
    "    return bets"
   ]
  },
  {
   "cell_type": "code",
   "execution_count": null,
   "metadata": {},
   "outputs": [],
   "source": [
    "#bets = bet(df, program.model.features, program.model.categorical_features, \n",
    "#    N=1, max_odds=30, break_on_bet=True, break_on_odds=False, \n",
    "#    targets=['pred_rnd_1', 'final_odds_ref', 'pred_sum_1'] + ['pred_{}_{}'.format(model['name'], i+1) for i in range(program.model.params['n_targets']) for model in program.model.models]# + ['pred_stacked_{}_1'.format(model['name']) for model in program.model.stacked_models] \n",
    "#   )   "
   ]
  },
  {
   "cell_type": "code",
   "execution_count": null,
   "metadata": {},
   "outputs": [],
   "source": [
    "bets = bet(df)"
   ]
  },
  {
   "cell_type": "code",
   "execution_count": null,
   "metadata": {},
   "outputs": [],
   "source": [
    "#bets = bets.set_index(bets['date'])\n",
    "#bets = bets.sort_index()"
   ]
  },
  {
   "cell_type": "code",
   "execution_count": null,
   "metadata": {},
   "outputs": [],
   "source": [
    "bets['target'] = 'fg'\n",
    "list(bets.columns)"
   ]
  },
  {
   "cell_type": "code",
   "execution_count": null,
   "metadata": {
    "scrolled": true
   },
   "outputs": [],
   "source": [
    "def graph_bb(bb, f):\n",
    "    results = []\n",
    "\n",
    "    for s in bb[f].value_counts().index:\n",
    "        results = []\n",
    "        x = bb[ (bb[f] == s)  ].copy()\n",
    "        if len(x) == 0:\n",
    "            continue\n",
    "        #print(\"---\\n{}\\t{:+.2f}\\t{:+.2f}\\t{:+.2f}\\n---\".format(s, x['profit'].sum(), x['bet'].sum(), len(x)))\n",
    "\n",
    "        fig, axs = plt.subplots(1,1)\n",
    "\n",
    "        for t in x['target'].value_counts().index:\n",
    "            bbb = x[(x['target'] == t)].copy()\n",
    "            #bbb = bbb[ (bbb['pred']>bbb['pred'].quantile(0.85)) ].copy()\n",
    "            \n",
    "            if 'profit_placed' not in list(bbb.columns):\n",
    "                bbb['profit_placed'] = 0\n",
    "\n",
    "            results.append({\n",
    "                'idx_1': s,\n",
    "                'idx_2': t,\n",
    "                'profit': bbb.profit.sum(),\n",
    "                'profit_place': bbb.profit_placed.sum(),\n",
    "                'bet': bbb.bet.sum(),\n",
    "                'bets': bbb.bet.count(),\n",
    "                'avg': bbb.profit.sum() / bbb.bet.sum()\n",
    "            })\n",
    "\n",
    "            '''\n",
    "            bbb['stash'] = bbb['profit'].cumsum()\n",
    "            bbb['cbet'] = bbb['bet'].cumsum()\n",
    "\n",
    "            fig, axs = plt.subplots(1,1)\n",
    "            bbb['stash'].plot(figsize=(6, 2))\n",
    "            bbb['cbet'].plot(figsize=(6, 2))\n",
    "            plt.show()\n",
    "            '''\n",
    "\n",
    "            #print(\"{:10s}: \\t {:+.2f} \\t {:+.0f} \\t {:+.2f}\".format(t, bbb.profit.sum(), bbb.profit.count(), bbb.profit.mean()) )\n",
    "\n",
    "            bbb['stash'] = bbb['profit'].cumsum()\n",
    "            bbb['cbet'] = bbb['bet'].cumsum()\n",
    "\n",
    "            bbb['stash'].plot(figsize=(10, 2))\n",
    "            #bbb['cbet'].plot(figsize=(10, 2))\n",
    "\n",
    "        results = pd.DataFrame(results)\n",
    "        results = results.set_index(['idx_1', 'idx_2'])\n",
    "        print(results.sort_values(by='avg', ascending=False))\n",
    "\n",
    "\n",
    "        plt.show()\n",
    "        "
   ]
  },
  {
   "cell_type": "code",
   "execution_count": null,
   "metadata": {},
   "outputs": [],
   "source": [
    "graph_bb(bets, 'country')"
   ]
  },
  {
   "cell_type": "code",
   "execution_count": null,
   "metadata": {},
   "outputs": [],
   "source": [
    "#countries = list(bets['country'].value_counts()[0:10].index)\n",
    "#sub_categories = list(bets['sub_category'].value_counts()[0:10].index)\n",
    "\n",
    "#%store countries\n",
    "#%store sub_categories"
   ]
  },
  {
   "cell_type": "code",
   "execution_count": null,
   "metadata": {},
   "outputs": [],
   "source": [
    "from skopt.space import Real, Integer\n",
    "from skopt.utils import use_named_args\n",
    "\n",
    "target = 'pred_knn_1_1'\n",
    "\n",
    "c_min = bets[(bets['target'] == target)]['pred'].min()\n",
    "c_mean = bets[(bets['target'] == target)]['pred'].mean()\n",
    "c_max = bets[(bets['target'] == target)]['pred'].max()\n",
    "\n",
    "space = [\n",
    "          Real(1, 10, name='min_odds'),\n",
    "          Real(10, 60, name='max_odds'),\n",
    "          Real(c_min, c_mean, name='min_pred'),\n",
    "          Real(c_mean, c_max, name='max_pred'),\n",
    "          Integer(5, 25, name='max_players')] + [\n",
    "          Integer(0,1, name='country_{}'.format(country)) for country in countries] + [\n",
    "          Integer(0,1, name='sub_category_{}'.format(sub_category)) for sub_category in sub_categories] + [\n",
    "          Integer(0,1, name='nb_{}'.format(n)) for n in range(0,6)]\n",
    "         \n",
    "def x_to_params(x):\n",
    "    params = {}\n",
    "    \n",
    "    params['min_odds'] = x[0]\n",
    "    params['max_odds'] = x[1]\n",
    "    params['max_pred'] = x[3]\n",
    "    params['min_pred'] = x[2]\n",
    "    params['max_players'] = x[4]\n",
    "    \n",
    "    for i, country in enumerate(countries):\n",
    "        params['country_{}'.format(country)] = x[5+i]\n",
    "        \n",
    "    for i, sc in enumerate(sub_categories):\n",
    "        params['sub_category_{}'.format(sc)] = x[5+len(countries)+i]\n",
    "        \n",
    "    for n in range(0,6):\n",
    "        params['nb_{}'.format(n)] = x[5+len(countries)+len(sub_categories)+n]\n",
    "\n",
    "    return params\n",
    "\n",
    "@use_named_args(space)\n",
    "def f(**params):\n",
    "    return ff(params)\n",
    "    \n",
    "def ff(params, train=True):\n",
    "    \n",
    "    print(params)\n",
    "    \n",
    "    b = bets[ (bets['pred'] != 0) & (bets['target']==target) & (bets['pred_std'] != 0)]\n",
    "    \n",
    "    b = b[ (b['odds_ref'] > params['min_odds']) & (b['odds_ref'] < params['max_odds']) & (b['declared_player_count'] > 1) & (b['declared_player_count'] <= params['max_players']) ]\n",
    "    \n",
    "    #b = b[(b['pred'] >= params['min_pred']) & (b['pred'] <= params['max_pred'])]\n",
    "    \n",
    "    for country in countries:\n",
    "        if params['country_{}'.format(country)] == 0:\n",
    "            b = b[ b['country'] != country ]\n",
    "            \n",
    "    for sub_category in sub_categories:\n",
    "        if params['sub_category_{}'.format(sub_category)] == 0:\n",
    "            b = b[ b['sub_category'] != sub_category ]\n",
    "            \n",
    "    for n in range(0,6):\n",
    "        if params['nb_{}'.format(n)] == 0:\n",
    "            b = b[ b['nb'] != n]\n",
    "    \n",
    "    p = b.profit.sum()\n",
    "    pp = len(b[b['profit'] > 0])\n",
    "    bet = b.bet.sum()\n",
    "    \n",
    "    print(\"{:+.2f} {:+.2f}\\n\".format(p, bet))\n",
    "        \n",
    "    if bet == 0:\n",
    "        return 0\n",
    "    \n",
    "    if not train:\n",
    "        return b\n",
    "    \n",
    "    return - (p)\n",
    "    \n",
    "    "
   ]
  },
  {
   "cell_type": "code",
   "execution_count": null,
   "metadata": {},
   "outputs": [],
   "source": [
    "#c_mean, c_min, c_max"
   ]
  },
  {
   "cell_type": "code",
   "execution_count": null,
   "metadata": {},
   "outputs": [],
   "source": [
    "#from skopt import dummy_minimize, gp_minimize, gbrt_minimize\n",
    "\n",
    "#res = dummy_minimize(f, space, n_calls=500)"
   ]
  },
  {
   "cell_type": "code",
   "execution_count": null,
   "metadata": {},
   "outputs": [],
   "source": [
    "#x_to_params(res.x), res.fun"
   ]
  },
  {
   "cell_type": "code",
   "execution_count": null,
   "metadata": {},
   "outputs": [],
   "source": [
    "#params = x_to_params(res.x)\n",
    "#%store params\n",
    "#params"
   ]
  },
  {
   "cell_type": "code",
   "execution_count": null,
   "metadata": {},
   "outputs": [],
   "source": [
    "#%store -r params\n",
    "#%store -r countries\n",
    "#%store -r sub_categories"
   ]
  },
  {
   "cell_type": "code",
   "execution_count": null,
   "metadata": {},
   "outputs": [],
   "source": [
    "#bb = ff(params, False)"
   ]
  },
  {
   "cell_type": "code",
   "execution_count": null,
   "metadata": {},
   "outputs": [],
   "source": [
    "#bb = bets[(bets['pred'] > 1.) & (bets['next_pred_1'] != bets['next_pred_2'])]\n",
    "#bb = bets[(bets['pred_std'] < 0.1) & (bets['pred'] < 1.)]\n",
    "#bb = bets[ (bets['odds_ref'] > 1) & (bets['odds_ref'] < 30) & (bets['pred'] > 1) & (bets['target'] == 'pred_xgb_100_1') ]\n",
    "#graph_bb( bb[bb['target']=='pred_knn_1_1'], 'category')\n",
    "#graph_bb( bets, 'category')"
   ]
  },
  {
   "cell_type": "code",
   "execution_count": null,
   "metadata": {},
   "outputs": [],
   "source": [
    "bets = bets.iloc[:,~bets.columns.duplicated()]"
   ]
  },
  {
   "cell_type": "code",
   "execution_count": null,
   "metadata": {},
   "outputs": [],
   "source": [
    "#bb = bets[(bets['sub_category']=='HANDICAP') & (bets['country'] != 'FRA')]\n",
    "#bb = bb[(bb['pred_mlp_10_1']>118) & (bb['final_odds_ref']>=bb['final_odds'])].copy()\n",
    "bb = bets\n",
    "bb['stash'] = bb.profit.cumsum()\n",
    "bb['stash'].plot(figsize=(12,4))"
   ]
  },
  {
   "cell_type": "code",
   "execution_count": null,
   "metadata": {},
   "outputs": [],
   "source": []
  },
  {
   "cell_type": "code",
   "execution_count": null,
   "metadata": {},
   "outputs": [],
   "source": [
    "# to save the program when the model looks good, call: program.lock('2020-03-03')\n",
    "\n",
    "# a copy of the program, model and dataset class will be created\n",
    "\n",
    "# after this, open the new program class in *ml/pipeline/programs* and update the `model_params` in the `run` function\n",
    "\n",
    "# add any additional bet filter and bet strategy to the program bet function\n",
    "\n",
    "# add the new program to the better command *pmu/management/commands/bet.py*: programs = ['2020-03-03']"
   ]
  },
  {
   "cell_type": "code",
   "execution_count": null,
   "metadata": {},
   "outputs": [],
   "source": [
    "program.lock('position_prediction')"
   ]
  },
  {
   "cell_type": "code",
   "execution_count": null,
   "metadata": {},
   "outputs": [],
   "source": []
  }
 ],
 "metadata": {
  "kernelspec": {
   "display_name": "Django Shell-Plus",
   "language": "python",
   "name": "django_extensions"
  },
  "language_info": {
   "codemirror_mode": {
    "name": "ipython",
    "version": 3
   },
   "file_extension": ".py",
   "mimetype": "text/x-python",
   "name": "python",
   "nbconvert_exporter": "python",
   "pygments_lexer": "ipython3",
   "version": "3.7.10"
  }
 },
 "nbformat": 4,
 "nbformat_minor": 2
}
