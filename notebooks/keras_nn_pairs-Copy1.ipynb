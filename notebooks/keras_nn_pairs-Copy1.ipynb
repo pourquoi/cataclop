{
 "cells": [
  {
   "cell_type": "code",
   "execution_count": 1,
   "metadata": {},
   "outputs": [],
   "source": [
    "import os\n",
    "os.environ[\"DJANGO_ALLOW_ASYNC_UNSAFE\"] = \"true\""
   ]
  },
  {
   "cell_type": "code",
   "execution_count": 2,
   "metadata": {},
   "outputs": [],
   "source": [
    "import keras\n",
    "import pandas as pd\n",
    "import numpy as np\n",
    "\n",
    "from tqdm.notebook import tqdm\n",
    "\n",
    "from sklearn import preprocessing\n",
    "\n",
    "from cataclop.ml import preprocessing as cataclop_preprocessing"
   ]
  },
  {
   "cell_type": "code",
   "execution_count": 3,
   "metadata": {},
   "outputs": [
    {
     "name": "stdout",
     "output_type": "stream",
     "text": [
      "2432 races\n"
     ]
    }
   ],
   "source": [
    "from cataclop.ml.pipeline import factories\n",
    "\n",
    "dataset = factories.Dataset.factory('default', params={\n",
    "    \"from\": \"2018-01-01\",\n",
    "    \"to\": \"2019-12-31\",\n",
    "    \"categories\": [\"PLAT\"],\n",
    "    \"countries\": [\"FRA\"],\n",
    "    \"sub_categories\": [\"GROUPE_I\", \"GROUPE_II\", \"GROUPE_III\", \"HANDICAP\", \"HANDICAP_DIVISE\"]\n",
    "})\n",
    "dataset.load(force=True)"
   ]
  },
  {
   "cell_type": "code",
   "execution_count": 4,
   "metadata": {},
   "outputs": [
    {
     "name": "stdout",
     "output_type": "stream",
     "text": [
      "['declared_player_count', 'odds_0', 'odds_1', 'odds_2', 'odds_3', 'odds_4', 'odds_5', 'odds_6', 'odds_7', 'odds_8', 'odds_9', 'prize', 'age', 'final_odds_ref', 'final_odds_ref_r', 'handicap_distance', 'handicap_distance_r', 'handicap_weight', 'handicap_weight_r', 'hist_1_days', 'hist_1_days_r', 'hist_1_pos', 'hist_1_pos_r', 'hist_2_days', 'hist_2_days_r', 'hist_2_pos', 'hist_2_pos_r', 'hist_3_days', 'hist_3_days_r', 'hist_3_pos', 'hist_3_pos_r', 'hist_4_pos', 'hist_5_pos', 'hist_6_pos', 'placed_2_count', 'placed_2_count_r', 'placed_3_count', 'placed_3_count_r', 'placed_earnings', 'placed_earnings_r', 'post_position', 'post_position_r', 'prev_year_earnings', 'prev_year_earnings_r', 'race_count', 'race_count_r', 'trainer_avg_winning_dividend', 'trainer_avg_winning_dividend_r', 'trainer_winning_rate', 'trainer_winning_rate_r', 'trueskill_mu', 'trueskill_mu_r', 'trueskill_sigma', 'trueskill_sigma_r', 'victory_count', 'victory_count_r', 'victory_earnings', 'victory_earnings_r']\n",
      "['category', 'sub_category', 'horse_breed', 'horse_sex']\n"
     ]
    }
   ],
   "source": [
    "race_features = ['prize', 'declared_player_count']\n",
    "race_features += ['odds_{:d}'.format(i) for i in range(10)]\n",
    "\n",
    "\n",
    "horse_features = ['age', 'final_odds_ref', 'final_odds_ref_r'] + ['hist_{}_pos'.format(i+1) for i in range(6)]\n",
    "\n",
    "for f in dataset.agg_features:\n",
    "        if f.startswith('final_odds'):\n",
    "            continue\n",
    "        horse_features.append(f)\n",
    "        horse_features.append('{}_r'.format(f))\n",
    "        #for s in dataset.agg_features_funcs:\n",
    "            #features.append('{}_{}'.format(f, s[0]))\n",
    "\n",
    "horse_cat_features = ['horse_sex', 'horse_breed']\n",
    "race_cat_features = ['category', 'sub_category']\n",
    "\n",
    "race_features = sorted(list(set(race_features)))\n",
    "horse_features = sorted(list(set(horse_features)))\n",
    "horse_cat_features = sorted(list(set(horse_cat_features)))\n",
    "race_cat_features = sorted(list(set(race_cat_features)))\n",
    "\n",
    "features = race_features + horse_features\n",
    "cat_features = race_cat_features + horse_cat_features\n",
    "\n",
    "print(features)\n",
    "print(cat_features)\n"
   ]
  },
  {
   "cell_type": "code",
   "execution_count": 5,
   "metadata": {},
   "outputs": [],
   "source": [
    "NAN_FLAG = 0\n",
    "\n",
    "df = dataset.players.copy()\n",
    "df = df.groupby('race_id').filter(lambda r: (r['trueskill_mu'] == 25).sum() < r['declared_player_count'].max()/2 and r['position'].min() == 1 and r['winner_dividend'].max() > 0 and r['odds_0'].min() != dataset.params['nan_flag'] and r['odds_1'].min() != dataset.params['nan_flag'] )\n",
    "df.reset_index(inplace=True)\n",
    "df.loc[:, features] = df.loc[:, features].fillna(NAN_FLAG)\n",
    "\n",
    "df['position'] = df['position'].fillna(20)\n",
    "\n",
    "scaler = preprocessing.RobustScaler() \n",
    "scaled = scaler.fit_transform(df.loc[:, features].values)\n",
    "\n",
    "df['declared_player_count_real'] = df['declared_player_count'].copy()\n",
    "df['prize_real'] = df['prize'].copy()\n",
    "df.loc[:, features] = scaled"
   ]
  },
  {
   "cell_type": "code",
   "execution_count": 6,
   "metadata": {},
   "outputs": [
    {
     "name": "stdout",
     "output_type": "stream",
     "text": [
      "56 ['hist_3_pos', 'hist_6_pos', 'horse_breed_value_AQPS', 'trainer_avg_winning_dividend', 'race_count', 'handicap_weight', 'hist_3_days_r', 'placed_3_count_r', 'hist_5_pos', 'horse_sex_value_PUR-SANG', 'hist_1_days_r', 'hist_2_days_r', 'handicap_distance_r', 'post_position_r', 'hist_2_days', 'post_position', 'horse_sex_value_AQPS', 'horse_breed_value_INCONNU', 'victory_count_r', 'placed_earnings', 'horse_breed_value_PUR-SANG', 'hist_1_days', 'prev_year_earnings', 'hist_3_pos_r', 'placed_2_count_r', 'trainer_winning_rate_r', 'horse_sex_value_INCONNU', 'prev_year_earnings_r', 'placed_3_count', 'trueskill_sigma', 'trueskill_sigma_r', 'victory_count', 'victory_earnings_r', 'hist_1_pos_r', 'hist_2_pos', 'final_odds_ref_r', 'handicap_distance', 'hist_1_pos', 'placed_2_count', 'hist_4_pos', 'trueskill_mu', 'horse_breed_value_TROTTEUR FRANCAIS', 'horse_breed_value_TROTTEUR ETRANGER', 'final_odds_ref', 'horse_sex_value_TROTTEUR ETRANGER', 'race_count_r', 'handicap_weight_r', 'placed_earnings_r', 'horse_sex_value_TROTTEUR FRANCAIS', 'hist_2_pos_r', 'hist_3_days', 'trueskill_mu_r', 'victory_earnings', 'trainer_avg_winning_dividend_r', 'age', 'trainer_winning_rate']\n",
      "18 ['odds_0', 'odds_8', 'odds_4', 'odds_7', 'sub_category_value_GROUPE_III', 'sub_category_value_HANDICAP', 'odds_1', 'sub_category_value_GROUPE_II', 'odds_2', 'odds_6', 'sub_category_value_HANDICAP_DIVISE', 'odds_5', 'sub_category_value_GROUPE_I', 'odds_9', 'category_value_PLAT', 'declared_player_count', 'prize', 'odds_3']\n"
     ]
    }
   ],
   "source": [
    "horse_dummies = cataclop_preprocessing.get_dummies(df, horse_cat_features, limit=5)\n",
    "\n",
    "df_horse_dummies = cataclop_preprocessing.get_dummy_values(df, horse_dummies)\n",
    "\n",
    "df = pd.concat([df, df_horse_dummies], axis=1)\n",
    "\n",
    "race_dummies = cataclop_preprocessing.get_dummies(df, race_cat_features, limit=5)\n",
    "\n",
    "df_race_dummies = cataclop_preprocessing.get_dummy_values(df, race_dummies)\n",
    "\n",
    "df = pd.concat([df, df_race_dummies], axis=1)\n",
    "\n",
    "\n",
    "all_horse_features = list(set(horse_features + list(df_horse_dummies.columns)))\n",
    "\n",
    "all_race_features = list(set(race_features + list(df_race_dummies.columns)))\n",
    "\n",
    "print(len(all_horse_features), all_horse_features)\n",
    "print(len(all_race_features), all_race_features)"
   ]
  },
  {
   "cell_type": "code",
   "execution_count": 8,
   "metadata": {},
   "outputs": [],
   "source": [
    "\n",
    "def make_Xy(df, train=True):\n",
    "\n",
    "    races = df.groupby('race_id')\n",
    "    n_races = len(races)\n",
    "\n",
    "    n_features = len(features)\n",
    "    X = []\n",
    "    y = []\n",
    "\n",
    "    # keep track of the raw data position in the dataset \n",
    "    back_idx = []\n",
    "\n",
    "    for race_id, race in tqdm(races, total=n_races):\n",
    "        n_players = len(race)\n",
    "\n",
    "\n",
    "        for i in range(n_players):\n",
    "            player1 = race.iloc[i]\n",
    "            x1 = player1[all_horse_features].values\n",
    "\n",
    "            # only train on 4 first\n",
    "            if train and (player1['position'] == 0 or player1['position'] == 20 ):\n",
    "                continue\n",
    "                \n",
    "            c = player1['declared_player_count_real']\n",
    "\n",
    "            for j in range(n_players):\n",
    "                if j == i:\n",
    "                    continue\n",
    "                player2 = race.iloc[j]\n",
    "\n",
    "                # only train on 4 first\n",
    "                if train and (player2['position'] == 0 or player2['position'] == 20):\n",
    "                    continue\n",
    "\n",
    "                x2 = player2[all_horse_features].values\n",
    "\n",
    "                row_x = np.concatenate((x1, x2, player1[all_race_features]))\n",
    "                \n",
    "                if not train:\n",
    "                    row_y = 0\n",
    "                else:\n",
    "                \n",
    "                    if c == 0:\n",
    "                        continue\n",
    "                        \n",
    "                    p = (player2['position'] - player1['position']) / c\n",
    "                \n",
    "                    row_y = p\n",
    "\n",
    "                X.append(row_x)\n",
    "                y.append(row_y)\n",
    "\n",
    "                back_idx.append((race.index[i], race.index[j]))\n",
    "\n",
    "    X = np.array(X)\n",
    "    X = X.astype(np.float32)\n",
    "\n",
    "    y = np.array(y)\n",
    "    y = y.astype(np.float32)\n",
    "                \n",
    "    return (X, y, back_idx)\n",
    "    "
   ]
  },
  {
   "cell_type": "code",
   "execution_count": 9,
   "metadata": {},
   "outputs": [],
   "source": [
    "race_ids = df['race_id'].unique()\n",
    "test_portion = int(len(race_ids) * 0.2)\n",
    "test_race_ids = race_ids[0:test_portion]\n",
    "train_race_ids = race_ids[test_portion+1:]\n",
    "\n",
    "df_train = df[df['race_id'].isin(train_race_ids)].copy()\n",
    "df_test = df[df['race_id'].isin(test_race_ids)].copy()"
   ]
  },
  {
   "cell_type": "code",
   "execution_count": 10,
   "metadata": {},
   "outputs": [],
   "source": [
    "df_train = df"
   ]
  },
  {
   "cell_type": "code",
   "execution_count": 11,
   "metadata": {},
   "outputs": [
    {
     "name": "stdout",
     "output_type": "stream",
     "text": [
      "372 1488\n"
     ]
    }
   ],
   "source": [
    "print(len(test_race_ids), len(train_race_ids))"
   ]
  },
  {
   "cell_type": "code",
   "execution_count": 12,
   "metadata": {},
   "outputs": [
    {
     "data": {
      "application/vnd.jupyter.widget-view+json": {
       "model_id": "153dcb4a3f1249c39249d89c34df32d4",
       "version_major": 2,
       "version_minor": 0
      },
      "text/plain": [
       "HBox(children=(FloatProgress(value=0.0, max=1861.0), HTML(value='')))"
      ]
     },
     "metadata": {},
     "output_type": "display_data"
    },
    {
     "name": "stdout",
     "output_type": "stream",
     "text": [
      "\n"
     ]
    }
   ],
   "source": [
    "X, y, _ = make_Xy(df_train)"
   ]
  },
  {
   "cell_type": "code",
   "execution_count": 13,
   "metadata": {},
   "outputs": [
    {
     "data": {
      "text/plain": [
       "(294142, 130)"
      ]
     },
     "execution_count": 13,
     "metadata": {},
     "output_type": "execute_result"
    }
   ],
   "source": [
    "X.shape"
   ]
  },
  {
   "cell_type": "code",
   "execution_count": 14,
   "metadata": {},
   "outputs": [
    {
     "data": {
      "text/plain": [
       "<AxesSubplot:>"
      ]
     },
     "execution_count": 14,
     "metadata": {},
     "output_type": "execute_result"
    },
    {
     "data": {
      "image/png": "[encoded data removed]",
      "text/plain": [
       "<Figure size 432x288 with 1 Axes>"
      ]
     },
     "metadata": {
      "needs_background": "light"
     },
     "output_type": "display_data"
    }
   ],
   "source": [
    "pd.Series(y).hist()"
   ]
  },
  {
   "cell_type": "code",
   "execution_count": 15,
   "metadata": {},
   "outputs": [],
   "source": [
    "#X = np.reshape(X, (X.shape[0], X.shape[1], 1))\n",
    "X = np.reshape(X, (X.shape[0], X.shape[1]))"
   ]
  },
  {
   "cell_type": "code",
   "execution_count": 16,
   "metadata": {},
   "outputs": [],
   "source": [
    "from keras.models import Sequential\n",
    "from keras.layers import Activation, Dropout, Flatten, Dense\n",
    "from keras.layers import Conv1D, MaxPooling1D\n",
    "from keras.utils import np_utils\n",
    "from keras.callbacks import ModelCheckpoint, EarlyStopping\n",
    "\n",
    "model = Sequential()\n",
    "\n",
    "\n",
    "model.add(Dense(10, input_dim=X.shape[1]))\n",
    "model.add(Dropout(0.5))\n",
    "model.add(Activation('relu'))\n",
    "'''\n",
    "model.add(Conv1D(12, 9, input_shape=(X.shape[1], 1)))\n",
    "model.add(Activation('sigmoid'))\n",
    "#model.add(Dropout(0.5))\n",
    "model.add(MaxPooling1D(pool_size=2))\n",
    "\n",
    "model.add(Conv1D(32, 3))\n",
    "model.add(Activation('sigmoid'))\n",
    "#model.add(Dropout(0.5))\n",
    "model.add(MaxPooling1D(pool_size=2))\n",
    "\n",
    "model.add(Conv1D(64, 3))\n",
    "model.add(Activation('sigmoid'))\n",
    "#model.add(Dropout(0.5))\n",
    "model.add(MaxPooling1D(pool_size=2))\n",
    "\n",
    "model.add(Flatten())\n",
    "\n",
    "model.add(Dense(20))\n",
    "model.add(Activation('sigmoid'))\n",
    "#model.add(Dropout(0.3))\n",
    "'''\n",
    "\n",
    "model.add(Dense(1))\n",
    "model.add(Activation('tanh'))\n",
    "\n",
    "\n",
    "\n",
    "model.compile(loss='mean_squared_error',\n",
    "      optimizer='RMSprop',\n",
    "      metrics=['accuracy'])\n",
    "          "
   ]
  },
  {
   "cell_type": "code",
   "execution_count": 17,
   "metadata": {},
   "outputs": [
    {
     "name": "stdout",
     "output_type": "stream",
     "text": [
      "Model: \"sequential\"\n",
      "_________________________________________________________________\n",
      "Layer (type)                 Output Shape              Param #   \n",
      "=================================================================\n",
      "dense (Dense)                (None, 10)                1310      \n",
      "_________________________________________________________________\n",
      "dropout (Dropout)            (None, 10)                0         \n",
      "_________________________________________________________________\n",
      "activation (Activation)      (None, 10)                0         \n",
      "_________________________________________________________________\n",
      "dense_1 (Dense)              (None, 1)                 11        \n",
      "_________________________________________________________________\n",
      "activation_1 (Activation)    (None, 1)                 0         \n",
      "=================================================================\n",
      "Total params: 1,321\n",
      "Trainable params: 1,321\n",
      "Non-trainable params: 0\n",
      "_________________________________________________________________\n"
     ]
    }
   ],
   "source": [
    "model.summary()"
   ]
  },
  {
   "cell_type": "code",
   "execution_count": 19,
   "metadata": {},
   "outputs": [
    {
     "data": {
      "text/plain": [
       "array([0.7213355 , 0.91157454, 0.2720067 , ..., 0.6780719 , 0.4854268 ,\n",
       "       0.8479969 ], dtype=float32)"
      ]
     },
     "execution_count": 19,
     "metadata": {},
     "output_type": "execute_result"
    }
   ],
   "source": [
    "y"
   ]
  },
  {
   "cell_type": "code",
   "execution_count": 18,
   "metadata": {},
   "outputs": [
    {
     "name": "stdout",
     "output_type": "stream",
     "text": [
      "Epoch 1/5\n",
      "8270/8273 [============================>.] - ETA: 0s - loss: 0.4729 - accuracy: 5.8192e-04\n",
      "Epoch 00001: val_loss improved from inf to 0.41732, saving model to /tmp/weights.best.hdf5\n",
      "8273/8273 [==============================] - 13s 2ms/step - loss: 0.4729 - accuracy: 5.8173e-04 - val_loss: 0.4173 - val_accuracy: 5.4394e-04\n",
      "Epoch 2/5\n",
      "8259/8273 [============================>.] - ETA: 0s - loss: 0.4560 - accuracy: 6.1297e-04\n",
      "Epoch 00002: val_loss improved from 0.41732 to 0.41198, saving model to /tmp/weights.best.hdf5\n",
      "8273/8273 [==============================] - 14s 2ms/step - loss: 0.4559 - accuracy: 6.1195e-04 - val_loss: 0.4120 - val_accuracy: 5.4394e-04\n",
      "Epoch 3/5\n",
      "8273/8273 [==============================] - ETA: 0s - loss: 0.4374 - accuracy: 6.1195e-04\n",
      "Epoch 00003: val_loss improved from 0.41198 to 0.39861, saving model to /tmp/weights.best.hdf5\n",
      "8273/8273 [==============================] - 15s 2ms/step - loss: 0.4374 - accuracy: 6.1195e-04 - val_loss: 0.3986 - val_accuracy: 5.4394e-04\n",
      "Epoch 4/5\n",
      "8244/8273 [============================>.] - ETA: 0s - loss: 0.4281 - accuracy: 6.0271e-04\n",
      "Epoch 00004: val_loss did not improve from 0.39861\n",
      "8273/8273 [==============================] - 15s 2ms/step - loss: 0.4281 - accuracy: 6.0440e-04 - val_loss: 0.3986 - val_accuracy: 5.4394e-04\n",
      "Epoch 5/5\n",
      "8256/8273 [============================>.] - ETA: 0s - loss: 0.4080 - accuracy: 6.0184e-04\n",
      "Epoch 00005: val_loss did not improve from 0.39861\n",
      "8273/8273 [==============================] - 15s 2ms/step - loss: 0.4080 - accuracy: 6.0440e-04 - val_loss: 0.3991 - val_accuracy: 5.4394e-04\n"
     ]
    },
    {
     "data": {
      "text/plain": [
       "<tensorflow.python.keras.callbacks.History at 0x1468a2b70>"
      ]
     },
     "execution_count": 18,
     "metadata": {},
     "output_type": "execute_result"
    }
   ],
   "source": [
    "checkpointer = ModelCheckpoint(filepath='/tmp/weights.best.hdf5', \n",
    "                        verbose=1, save_best_only=True)\n",
    "model.fit(X, y, \n",
    "    batch_size=32, epochs=5, validation_split=0.1, callbacks=[checkpointer])"
   ]
  },
  {
   "cell_type": "code",
   "execution_count": 19,
   "metadata": {},
   "outputs": [
    {
     "name": "stdout",
     "output_type": "stream",
     "text": [
      "WARNING:tensorflow:From /Users/pourquoi/.local/share/virtualenvs/cataclop-django-M9amAh3O/lib/python3.6/site-packages/tensorflow/python/ops/resource_variable_ops.py:1817: calling BaseResourceVariable.__init__ (from tensorflow.python.ops.resource_variable_ops) with constraint is deprecated and will be removed in a future version.\n",
      "Instructions for updating:\n",
      "If using Keras pass *_constraint arguments to layers.\n",
      "INFO:tensorflow:Assets written to: /tmp/model/assets\n"
     ]
    }
   ],
   "source": [
    "from dill import dump, load\n",
    "#dump(model.get_weights(), open('/tmp/weights.pkl', 'wb'))\n",
    "model.save('/tmp/model')"
   ]
  },
  {
   "cell_type": "code",
   "execution_count": 20,
   "metadata": {},
   "outputs": [
    {
     "data": {
      "application/vnd.jupyter.widget-view+json": {
       "model_id": "87a08aca040244cabdbda82fad411da2",
       "version_major": 2,
       "version_minor": 0
      },
      "text/plain": [
       "HBox(children=(FloatProgress(value=0.0, max=372.0), HTML(value='')))"
      ]
     },
     "metadata": {},
     "output_type": "display_data"
    },
    {
     "name": "stdout",
     "output_type": "stream",
     "text": [
      "\n"
     ]
    }
   ],
   "source": [
    "X_test, y_test, back_idx = make_Xy(df_test, train=False)"
   ]
  },
  {
   "cell_type": "code",
   "execution_count": 21,
   "metadata": {},
   "outputs": [],
   "source": [
    "#X_test = np.reshape(X_test, (X_test.shape[0], X_test.shape[1], 1))\n",
    "X_test = np.reshape(X_test, (X_test.shape[0], X_test.shape[1]))"
   ]
  },
  {
   "cell_type": "code",
   "execution_count": 22,
   "metadata": {},
   "outputs": [],
   "source": [
    "predictions = model.predict(X_test)"
   ]
  },
  {
   "cell_type": "code",
   "execution_count": null,
   "metadata": {},
   "outputs": [],
   "source": [
    "predictions"
   ]
  },
  {
   "cell_type": "code",
   "execution_count": 23,
   "metadata": {},
   "outputs": [],
   "source": [
    "df_test['score'] = 0\n",
    "df_test['pn'] = 0\n",
    "df_test['stash'] = 0"
   ]
  },
  {
   "cell_type": "code",
   "execution_count": 25,
   "metadata": {},
   "outputs": [
    {
     "data": {
      "application/vnd.jupyter.widget-view+json": {
       "model_id": "1b831e2aab11452d95827247a50ef8ef",
       "version_major": 2,
       "version_minor": 0
      },
      "text/plain": [
       "HBox(children=(FloatProgress(value=0.0, max=72076.0), HTML(value='')))"
      ]
     },
     "metadata": {},
     "output_type": "display_data"
    },
    {
     "name": "stdout",
     "output_type": "stream",
     "text": [
      "\n"
     ]
    }
   ],
   "source": [
    "\n",
    "for i in tqdm(range(len(predictions))):\n",
    "    \n",
    "    df_test.loc[ back_idx[i][0], 'score' ] = df_test.loc[ back_idx[i][0], 'score' ] + predictions[i]\n",
    "    "
   ]
  },
  {
   "cell_type": "code",
   "execution_count": 44,
   "metadata": {},
   "outputs": [
    {
     "data": {
      "text/html": [
       "<div>\n",
       "<style scoped>\n",
       "    .dataframe tbody tr th:only-of-type {\n",
       "        vertical-align: middle;\n",
       "    }\n",
       "\n",
       "    .dataframe tbody tr th {\n",
       "        vertical-align: top;\n",
       "    }\n",
       "\n",
       "    .dataframe thead th {\n",
       "        text-align: right;\n",
       "    }\n",
       "</style>\n",
       "<table border=\"1\" class=\"dataframe\">\n",
       "  <thead>\n",
       "    <tr style=\"text-align: right;\">\n",
       "      <th></th>\n",
       "      <th></th>\n",
       "      <th>position</th>\n",
       "      <th>sub_category</th>\n",
       "      <th>num</th>\n",
       "      <th>final_odds</th>\n",
       "      <th>final_odds_ref</th>\n",
       "      <th>score</th>\n",
       "      <th>pn</th>\n",
       "    </tr>\n",
       "    <tr>\n",
       "      <th>race_id</th>\n",
       "      <th></th>\n",
       "      <th></th>\n",
       "      <th></th>\n",
       "      <th></th>\n",
       "      <th></th>\n",
       "      <th></th>\n",
       "      <th></th>\n",
       "      <th></th>\n",
       "    </tr>\n",
       "  </thead>\n",
       "  <tbody>\n",
       "    <tr>\n",
       "      <th rowspan=\"13\" valign=\"top\">63530</th>\n",
       "      <th>4348</th>\n",
       "      <td>3.0</td>\n",
       "      <td>HANDICAP_DIVISE</td>\n",
       "      <td>1</td>\n",
       "      <td>8.7</td>\n",
       "      <td>-0.062069</td>\n",
       "      <td>-12.000000</td>\n",
       "      <td>0</td>\n",
       "    </tr>\n",
       "    <tr>\n",
       "      <th>4349</th>\n",
       "      <td>12.0</td>\n",
       "      <td>HANDICAP_DIVISE</td>\n",
       "      <td>2</td>\n",
       "      <td>5.7</td>\n",
       "      <td>-0.524138</td>\n",
       "      <td>-12.000000</td>\n",
       "      <td>0</td>\n",
       "    </tr>\n",
       "    <tr>\n",
       "      <th>4359</th>\n",
       "      <td>11.0</td>\n",
       "      <td>HANDICAP_DIVISE</td>\n",
       "      <td>12</td>\n",
       "      <td>44.8</td>\n",
       "      <td>0.903448</td>\n",
       "      <td>-12.000000</td>\n",
       "      <td>0</td>\n",
       "    </tr>\n",
       "    <tr>\n",
       "      <th>4360</th>\n",
       "      <td>6.0</td>\n",
       "      <td>HANDICAP_DIVISE</td>\n",
       "      <td>13</td>\n",
       "      <td>58.5</td>\n",
       "      <td>1.979310</td>\n",
       "      <td>-4.569166</td>\n",
       "      <td>0</td>\n",
       "    </tr>\n",
       "    <tr>\n",
       "      <th>4357</th>\n",
       "      <td>4.0</td>\n",
       "      <td>HANDICAP_DIVISE</td>\n",
       "      <td>10</td>\n",
       "      <td>25.7</td>\n",
       "      <td>0.137931</td>\n",
       "      <td>-3.603680</td>\n",
       "      <td>0</td>\n",
       "    </tr>\n",
       "    <tr>\n",
       "      <th>4355</th>\n",
       "      <td>2.0</td>\n",
       "      <td>HANDICAP_DIVISE</td>\n",
       "      <td>8</td>\n",
       "      <td>27.6</td>\n",
       "      <td>0.331034</td>\n",
       "      <td>-3.567754</td>\n",
       "      <td>0</td>\n",
       "    </tr>\n",
       "    <tr>\n",
       "      <th>4354</th>\n",
       "      <td>7.0</td>\n",
       "      <td>HANDICAP_DIVISE</td>\n",
       "      <td>7</td>\n",
       "      <td>18.9</td>\n",
       "      <td>0.200000</td>\n",
       "      <td>-3.548383</td>\n",
       "      <td>0</td>\n",
       "    </tr>\n",
       "    <tr>\n",
       "      <th>4358</th>\n",
       "      <td>13.0</td>\n",
       "      <td>HANDICAP_DIVISE</td>\n",
       "      <td>11</td>\n",
       "      <td>19.0</td>\n",
       "      <td>0.103448</td>\n",
       "      <td>-3.214464</td>\n",
       "      <td>0</td>\n",
       "    </tr>\n",
       "    <tr>\n",
       "      <th>4356</th>\n",
       "      <td>9.0</td>\n",
       "      <td>HANDICAP_DIVISE</td>\n",
       "      <td>9</td>\n",
       "      <td>9.2</td>\n",
       "      <td>-0.144828</td>\n",
       "      <td>-3.186793</td>\n",
       "      <td>0</td>\n",
       "    </tr>\n",
       "    <tr>\n",
       "      <th>4353</th>\n",
       "      <td>8.0</td>\n",
       "      <td>HANDICAP_DIVISE</td>\n",
       "      <td>6</td>\n",
       "      <td>15.1</td>\n",
       "      <td>-0.206897</td>\n",
       "      <td>-3.076545</td>\n",
       "      <td>0</td>\n",
       "    </tr>\n",
       "    <tr>\n",
       "      <th>4350</th>\n",
       "      <td>10.0</td>\n",
       "      <td>HANDICAP_DIVISE</td>\n",
       "      <td>3</td>\n",
       "      <td>7.2</td>\n",
       "      <td>-0.358621</td>\n",
       "      <td>-2.715346</td>\n",
       "      <td>0</td>\n",
       "    </tr>\n",
       "    <tr>\n",
       "      <th>4352</th>\n",
       "      <td>4.0</td>\n",
       "      <td>HANDICAP_DIVISE</td>\n",
       "      <td>5</td>\n",
       "      <td>9.4</td>\n",
       "      <td>-0.600000</td>\n",
       "      <td>-2.068138</td>\n",
       "      <td>0</td>\n",
       "    </tr>\n",
       "    <tr>\n",
       "      <th>4351</th>\n",
       "      <td>1.0</td>\n",
       "      <td>HANDICAP_DIVISE</td>\n",
       "      <td>4</td>\n",
       "      <td>4.2</td>\n",
       "      <td>-0.524138</td>\n",
       "      <td>-1.994153</td>\n",
       "      <td>0</td>\n",
       "    </tr>\n",
       "  </tbody>\n",
       "</table>\n",
       "</div>"
      ],
      "text/plain": [
       "              position     sub_category  num  final_odds  final_odds_ref  \\\n",
       "race_id                                                                    \n",
       "63530   4348       3.0  HANDICAP_DIVISE    1         8.7       -0.062069   \n",
       "        4349      12.0  HANDICAP_DIVISE    2         5.7       -0.524138   \n",
       "        4359      11.0  HANDICAP_DIVISE   12        44.8        0.903448   \n",
       "        4360       6.0  HANDICAP_DIVISE   13        58.5        1.979310   \n",
       "        4357       4.0  HANDICAP_DIVISE   10        25.7        0.137931   \n",
       "        4355       2.0  HANDICAP_DIVISE    8        27.6        0.331034   \n",
       "        4354       7.0  HANDICAP_DIVISE    7        18.9        0.200000   \n",
       "        4358      13.0  HANDICAP_DIVISE   11        19.0        0.103448   \n",
       "        4356       9.0  HANDICAP_DIVISE    9         9.2       -0.144828   \n",
       "        4353       8.0  HANDICAP_DIVISE    6        15.1       -0.206897   \n",
       "        4350      10.0  HANDICAP_DIVISE    3         7.2       -0.358621   \n",
       "        4352       4.0  HANDICAP_DIVISE    5         9.4       -0.600000   \n",
       "        4351       1.0  HANDICAP_DIVISE    4         4.2       -0.524138   \n",
       "\n",
       "                  score  pn  \n",
       "race_id                      \n",
       "63530   4348 -12.000000   0  \n",
       "        4349 -12.000000   0  \n",
       "        4359 -12.000000   0  \n",
       "        4360  -4.569166   0  \n",
       "        4357  -3.603680   0  \n",
       "        4355  -3.567754   0  \n",
       "        4354  -3.548383   0  \n",
       "        4358  -3.214464   0  \n",
       "        4356  -3.186793   0  \n",
       "        4353  -3.076545   0  \n",
       "        4350  -2.715346   0  \n",
       "        4352  -2.068138   0  \n",
       "        4351  -1.994153   0  "
      ]
     },
     "execution_count": 44,
     "metadata": {},
     "output_type": "execute_result"
    }
   ],
   "source": [
    "from cataclop.ml.exploration import random_race\n",
    "\n",
    "random_race(df_test, ['position', 'sub_category', 'num', 'final_odds', 'final_odds_ref', 'score', 'pn']).sort_values(by='score')"
   ]
  },
  {
   "cell_type": "code",
   "execution_count": 45,
   "metadata": {},
   "outputs": [],
   "source": [
    "def fast_bet(r):\n",
    "    p = 'score'\n",
    "\n",
    "    s = r.sort_values(by=p, ascending=False)\n",
    "    o = s.index.sort_values(ascending=True, return_indexer=True)\n",
    "        \n",
    "    #idx = (r[p] == r[p].max())\n",
    "    \n",
    "    s2 = r.sort_values(by='final_odds_ref')\n",
    "    o2 = s2.index.sort_values(ascending=True, return_indexer=True)\n",
    "    \n",
    "    s3 = r.sort_values(by='final_odds')\n",
    "    o3 = s3.index.sort_values(ascending=True, return_indexer=True)\n",
    "        \n",
    "    r['pn'] = o[1]\n",
    "    r['oddsrn'] = o2[1]\n",
    "    r['oddsn'] = o3[1]\n",
    "    r['pstd'] = r[p].std()\n",
    "    return r"
   ]
  },
  {
   "cell_type": "code",
   "execution_count": 46,
   "metadata": {},
   "outputs": [],
   "source": [
    "df_test = df_test.groupby('race_id').apply(fast_bet)"
   ]
  },
  {
   "cell_type": "code",
   "execution_count": 78,
   "metadata": {},
   "outputs": [
    {
     "name": "stdout",
     "output_type": "stream",
     "text": [
      "win % for pred number #\n",
      "0 0.1693548387096774\n",
      "1 0.08035714285714286\n",
      "2 0.08333333333333333\n",
      "3 0.14285714285714285\n",
      "4 0.06756756756756757\n",
      "5 0.16666666666666666\n",
      "6 0.1276595744680851\n",
      "7 0.02564102564102564\n",
      "8 0.03571428571428571\n",
      "9 0.25\n",
      "win % for odds ref number #\n",
      "0 0.2236842105263158\n",
      "1 0.14814814814814814\n",
      "2 0.12048192771084337\n",
      "3 0.09734513274336283\n",
      "4 0.09411764705882353\n",
      "5 0.0855457227138643\n",
      "6 0.06376811594202898\n",
      "7 0.05309734513274336\n",
      "8 0.0705521472392638\n",
      "9 0.03715170278637771\n",
      "win % for pred number #, when odds number >\n",
      "0 0.16778523489932887\n",
      "1 0.1099476439790576\n",
      "2 0.11827956989247312\n",
      "3 0.07936507936507936\n",
      "4 0.033707865168539325\n",
      "5 0.046632124352331605\n",
      "6 0.05649717514124294\n",
      "7 0.03314917127071823\n",
      "8 0.045714285714285714\n",
      "9 0.018072289156626505\n"
     ]
    }
   ],
   "source": [
    "h = df_test\n",
    "\n",
    "print('win % for pred number #')\n",
    "for i in range(10):\n",
    "    if len(h[ (h['pn']==i) & (h['score'] > 0) & (h['position'] > 3)]):\n",
    "        print(i, len(h[ (h['pn']==i) & (h['score'] > 0) & (h['position'] == 1)]) / len(h[ (h['pn']==i) & (h['score'] > 0) & (h['position'] != 1)]))\n",
    "    \n",
    "print('win % for odds ref number #')\n",
    "for i in range(10):\n",
    "    if len(h[ (h['oddsrn']==i) & (h['position'] > 3)]):\n",
    "        print(i, len(h[ (h['oddsrn']==i) & (h['position'] == 1)]) / len(h[ (h['oddsrn']==i) & (h['position'] != 1)]))\n",
    "\n",
    "print('win % for pred number #, when odds number >')\n",
    "for i in range(10):\n",
    "    if len(h[ (h['pn']==i) & (h['oddsn']>i) & (h['position'] > 3)]):\n",
    "        print(i, len(h[ (h['pn']==i) & (h['oddsn']>i) & (h['position'] <= 1)]) / len(h[ (h['pn']==i) & (h['oddsn']>i) & (h['position'] != 1)]))"
   ]
  },
  {
   "cell_type": "code",
   "execution_count": 73,
   "metadata": {},
   "outputs": [],
   "source": [
    "df_test['bet'] = np.clip(df_test['oddsn'] + 1, 1, 3) #1 #/ np.clip(df_test['score'], 0, 10)\n",
    "df_test['profit'] = df_test['bet'] * (df_test['winner_dividend'].fillna(0.)/100.-1.0)# + (df_test['winner_dividend'].fillna(0.)/100.-1.0)"
   ]
  },
  {
   "cell_type": "code",
   "execution_count": 74,
   "metadata": {},
   "outputs": [
    {
     "name": "stdout",
     "output_type": "stream",
     "text": [
      "HANDICAP_DIVISE\n",
      "count    62.000000\n",
      "mean      2.966129\n",
      "std      14.205459\n",
      "min      -3.000000\n",
      "25%      -3.000000\n",
      "50%      -3.000000\n",
      "75%      -3.000000\n",
      "max      50.700000\n",
      "Name: profit, dtype: float64\n",
      "HANDICAP\n",
      "count     7.000000\n",
      "mean      1.585714\n",
      "std      12.132660\n",
      "min      -3.000000\n",
      "25%      -3.000000\n",
      "50%      -3.000000\n",
      "75%      -3.000000\n",
      "max      29.100000\n",
      "Name: profit, dtype: float64\n",
      "GROUPE_III\n",
      "count    2.0\n",
      "mean    -3.0\n",
      "std      0.0\n",
      "min     -3.0\n",
      "25%     -3.0\n",
      "50%     -3.0\n",
      "75%     -3.0\n",
      "max     -3.0\n",
      "Name: profit, dtype: float64\n",
      "GROUPE_II\n",
      "count    2.0\n",
      "mean    -3.0\n",
      "std      0.0\n",
      "min     -3.0\n",
      "25%     -3.0\n",
      "50%     -3.0\n",
      "75%     -3.0\n",
      "max     -3.0\n",
      "Name: profit, dtype: float64\n",
      "GROUPE_I\n",
      "count     2.000000\n",
      "mean     12.750000\n",
      "std      22.273864\n",
      "min      -3.000000\n",
      "25%       4.875000\n",
      "50%      12.750000\n",
      "75%      20.625000\n",
      "max      28.500000\n",
      "Name: profit, dtype: float64\n"
     ]
    }
   ],
   "source": [
    "#g = df_test[(df_test['sub_category']=='HANDICAP') & (df_test['oddsrn'] <= df_test['pn']) & (df_test['final_odds_ref'] < 30.) & (df_test['final_odds_ref'] > 1.)].copy()\n",
    "#df_test[(df_test['pn']==0) & (df_test['pstd']<1.) & (df_test['final_odds_ref'] > 1.) & (df_test['final_odds_ref'] < 30.)]['profit'].describe()\n",
    "\n",
    "for cat in df_test['sub_category'].value_counts().index:\n",
    "    print(cat)\n",
    "    g = df_test[ (df_test['pn']==2) & (df_test['sub_category']==cat) & (df_test['prize'] > 0.3) & (df_test['final_odds'] > 10) ].copy()\n",
    "    print(g['profit'].describe())"
   ]
  },
  {
   "cell_type": "code",
   "execution_count": 77,
   "metadata": {},
   "outputs": [
    {
     "name": "stdout",
     "output_type": "stream",
     "text": [
      "HANDICAP_DIVISE\n",
      "62\n",
      "                start_at      horse_name  race_id     prize     sub_category  \\\n",
      "739  2018-03-09 13:47:00         SA TUNA    16074  2.185110  HANDICAP_DIVISE   \n",
      "816  2018-03-13 16:20:00         TANTRIS    16246  0.757405  HANDICAP_DIVISE   \n",
      "852  2018-03-15 13:51:00  KING OF SPADES    16327  2.185110  HANDICAP_DIVISE   \n",
      "874  2018-03-20 13:47:00   BONFIRE HEART    16541  2.185110  HANDICAP_DIVISE   \n",
      "896  2018-03-20 16:30:00     GOLDEN BUCK    16546  0.757405  HANDICAP_DIVISE   \n",
      "954  2018-03-29 13:47:00    CASTLE DREAM    16908  2.185110  HANDICAP_DIVISE   \n",
      "994  2018-03-29 16:29:00  SING SOMETHING    16913  0.757405  HANDICAP_DIVISE   \n",
      "1028 2018-03-31 16:55:00      SCANDALEUX    16996  0.757405  HANDICAP_DIVISE   \n",
      "1117 2018-04-16 17:28:00        RAJELINE    17672  0.757405  HANDICAP_DIVISE   \n",
      "1131 2018-05-07 13:47:00   BONFIRE HEART    18555  2.185110  HANDICAP_DIVISE   \n",
      "\n",
      "      final_odds  placed_dividend  position  bet  profit  stash  \n",
      "739         11.0            350.0       3.0    3    -3.0   -3.0  \n",
      "816         12.2              0.0      13.0    3    -3.0   -6.0  \n",
      "852         12.4              0.0      13.0    3    -3.0   -9.0  \n",
      "874         17.2              0.0       7.0    3    -3.0  -12.0  \n",
      "896         15.3              0.0       4.0    3    -3.0  -15.0  \n",
      "954         12.6              0.0       5.0    3    -3.0  -18.0  \n",
      "994         14.9              0.0       7.0    3    -3.0  -21.0  \n",
      "1028        12.1              0.0       9.0    3    -3.0  -24.0  \n",
      "1117        12.0              0.0       8.0    3    -3.0  -27.0  \n",
      "1131        10.6              0.0       8.0    3    -3.0  -30.0  \n"
     ]
    },
    {
     "data": {
      "image/png": "[encoded data removed]",
      "text/plain": [
       "<Figure size 432x288 with 1 Axes>"
      ]
     },
     "metadata": {
      "needs_background": "light"
     },
     "output_type": "display_data"
    },
    {
     "name": "stdout",
     "output_type": "stream",
     "text": [
      "HANDICAP\n",
      "7\n",
      "                start_at        horse_name  race_id     prize sub_category  \\\n",
      "495  2018-02-16 15:40:00    DRAGON'S TEETH    15267  0.592539     HANDICAP   \n",
      "626  2018-02-23 14:37:00       REBEL QUEEN    15539  0.592539     HANDICAP   \n",
      "1209 2018-05-18 15:41:00    LE TIGRE BLANC    19020  0.504879     HANDICAP   \n",
      "1840 2018-10-12 15:13:00      SONG OF LIFE    64980  0.504879     HANDICAP   \n",
      "1929 2018-10-28 14:35:00    SALT LAKE CITY    65728  1.644704     HANDICAP   \n",
      "3281 2018-06-16 16:30:00      DUC DE MERAN    20278  0.504879     HANDICAP   \n",
      "5059 2018-10-04 13:25:00  BEYOND MY DREAMS    64607  1.644704     HANDICAP   \n",
      "\n",
      "      final_odds  placed_dividend  position  bet  profit  stash  \n",
      "495         11.7              0.0       8.0    3    -3.0   -3.0  \n",
      "626         15.6              0.0       5.0    3    -3.0   -6.0  \n",
      "1209        27.5              0.0      13.0    3    -3.0   -9.0  \n",
      "1840        10.7            380.0       1.0    3    29.1   20.1  \n",
      "1929        11.3            380.0       3.0    3    -3.0   17.1  \n",
      "3281        10.5              0.0       4.0    3    -3.0   14.1  \n",
      "5059        11.0              0.0       6.0    3    -3.0   11.1  \n"
     ]
    },
    {
     "data": {
      "image/png": "[encoded data removed]",
      "text/plain": [
       "<Figure size 432x288 with 1 Axes>"
      ]
     },
     "metadata": {
      "needs_background": "light"
     },
     "output_type": "display_data"
    },
    {
     "name": "stdout",
     "output_type": "stream",
     "text": [
      "GROUPE_III\n",
      "2\n",
      "                start_at        horse_name  race_id     prize sub_category  \\\n",
      "1286 2018-06-17 15:26:00  INFERNAL MAJESTY    20308  3.072424   GROUPE_III   \n",
      "3621 2018-10-31 14:37:00    FORZA CAPITANO    65905  3.072424   GROUPE_III   \n",
      "\n",
      "      final_odds  placed_dividend  position  bet  profit  stash  \n",
      "1286        17.9              0.0       5.0    3    -3.0   -3.0  \n",
      "3621        10.5            340.0       3.0    3    -3.0   -6.0  \n"
     ]
    },
    {
     "data": {
      "image/png": "[encoded data removed]",
      "text/plain": [
       "<Figure size 432x288 with 1 Axes>"
      ]
     },
     "metadata": {
      "needs_background": "light"
     },
     "output_type": "display_data"
    },
    {
     "name": "stdout",
     "output_type": "stream",
     "text": [
      "GROUPE_II\n",
      "2\n",
      "                start_at horse_name  race_id     prize sub_category  \\\n",
      "1241 2018-06-03 15:36:00     FINCHE    19725  4.072463    GROUPE_II   \n",
      "2627 2019-06-02 15:40:00     GYLLEN    71992  4.072463    GROUPE_II   \n",
      "\n",
      "      final_odds  placed_dividend  position  bet  profit  stash  \n",
      "1241        23.7              0.0       5.0    3    -3.0   -3.0  \n",
      "2627        11.0              0.0       5.0    3    -3.0   -6.0  \n"
     ]
    },
    {
     "data": {
      "image/png": "[encoded data removed]",
      "text/plain": [
       "<Figure size 432x288 with 1 Axes>"
      ]
     },
     "metadata": {
      "needs_background": "light"
     },
     "output_type": "display_data"
    },
    {
     "name": "stdout",
     "output_type": "stream",
     "text": [
      "GROUPE_I\n",
      "2\n",
      "                start_at horse_name  race_id     prize sub_category  \\\n",
      "1248 2018-06-03 16:15:00  DICE ROLL    19726  9.110075     GROUPE_I   \n",
      "1293 2018-06-17 16:07:00    LAURENS    20309  8.274898     GROUPE_I   \n",
      "\n",
      "      final_odds  placed_dividend  position  bet  profit  stash  \n",
      "1248        13.8              0.0      11.0    3    -3.0   -3.0  \n",
      "1293        10.5            300.0       1.0    3    28.5   25.5  \n"
     ]
    },
    {
     "data": {
      "image/png": "[encoded data removed]",
      "text/plain": [
       "<Figure size 432x288 with 1 Axes>"
      ]
     },
     "metadata": {
      "needs_background": "light"
     },
     "output_type": "display_data"
    }
   ],
   "source": [
    "from matplotlib import pyplot as plt\n",
    "for cat in df_test['sub_category'].value_counts().index:\n",
    "    print(cat)\n",
    "    g = df_test[ (df_test['pn']==2) & (df_test['prize'] > 0.3) & (df_test['sub_category']==cat) & (df_test['final_odds'] > 10) ].copy()\n",
    "    g['stash'] = g['profit'].cumsum()\n",
    "    pd.set_option('display.max_rows', 1000)\n",
    "    print(len(g))\n",
    "    print(g[['start_at', 'horse_name', 'race_id', 'prize', 'sub_category', 'final_odds', 'placed_dividend', 'position', 'bet', 'profit', 'stash']].head(10))\n",
    "    g['stash'].plot()\n",
    "    plt.show()"
   ]
  },
  {
   "cell_type": "code",
   "execution_count": null,
   "metadata": {},
   "outputs": [],
   "source": []
  },
  {
   "cell_type": "code",
   "execution_count": null,
   "metadata": {},
   "outputs": [],
   "source": [
    "g['stash'].plot()"
   ]
  },
  {
   "cell_type": "code",
   "execution_count": 32,
   "metadata": {},
   "outputs": [],
   "source": [
    "from dill import dump, load\n",
    "\n",
    "dump(scaler, open('/Users/pourquoi/workspace/cataclop/cataclop-django/var/models/keras-pair-pos2/scaler.pkl', 'wb+'))\n",
    "\n",
    "model.save('/Users/pourquoi/workspace/cataclop/cataclop-django/var/models/keras-pair-pos2/model.h5')"
   ]
  },
  {
   "cell_type": "code",
   "execution_count": 24,
   "metadata": {},
   "outputs": [],
   "source": [
    "dump(horse_dummies, open('/Users/pourquoi/workspace/cataclop/cataclop-django/var/models/keras-pair-pos2/horse_dummies.pkl', 'wb'))\n",
    "dump(race_dummies, open('/Users/pourquoi/workspace/cataclop/cataclop-django/var/models/keras-pair-pos2/race_dummies.pkl', 'wb'))"
   ]
  },
  {
   "cell_type": "code",
   "execution_count": null,
   "metadata": {},
   "outputs": [],
   "source": []
  }
 ],
 "metadata": {
  "kernelspec": {
   "display_name": "Django Shell-Plus",
   "language": "python",
   "name": "django_extensions"
  },
  "language_info": {
   "codemirror_mode": {
    "name": "ipython",
    "version": 3
   },
   "file_extension": ".py",
   "mimetype": "text/x-python",
   "name": "python",
   "nbconvert_exporter": "python",
   "pygments_lexer": "ipython3",
   "version": "3.6.4"
  }
 },
 "nbformat": 4,
 "nbformat_minor": 4
}
