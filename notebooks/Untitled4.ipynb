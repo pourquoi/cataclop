{
 "cells": [
  {
   "cell_type": "code",
   "execution_count": null,
   "metadata": {},
   "outputs": [],
   "source": [
    "import datetime"
   ]
  },
  {
   "cell_type": "code",
   "execution_count": null,
   "metadata": {},
   "outputs": [],
   "source": [
    "datetime.date.today().isoformat()"
   ]
  },
  {
   "cell_type": "code",
   "execution_count": null,
   "metadata": {},
   "outputs": [],
   "source": [
    "from cataclop.core import models"
   ]
  },
  {
   "cell_type": "code",
   "execution_count": null,
   "metadata": {},
   "outputs": [],
   "source": [
    "import datetime\n",
    "\n",
    "from django.db.models import Avg, Max, Min, Count\n",
    "\n",
    "races = models.Race.objects.filter(start_at__gte=datetime.datetime.today(), start_at__lte=datetime.date.today())[:1]\n",
    "\n",
    "races\n",
    "\n"
   ]
  },
  {
   "cell_type": "code",
   "execution_count": 21,
   "metadata": {},
   "outputs": [
    {
     "name": "stdout",
     "output_type": "stream",
     "text": [
      "2018-11-22 00:00:00\n",
      "sdf\n"
     ]
    }
   ],
   "source": [
    "import datetime\n",
    "from cataclop.core.models import Player\n",
    "from dateutil.parser import parse\n",
    "num=1\n",
    "race_num=2\n",
    "session_num=1\n",
    "date = parse('2018-11-22')\n",
    "print(date)\n",
    "try:\n",
    "    player = Player.objects.get(num=num, race__start_at__date=date, race__num=race_num, race__session__num=session_num)\n",
    "    print(player)\n",
    "except:\n",
    "    print('sdf')\n",
    "    \n"
   ]
  },
  {
   "cell_type": "code",
   "execution_count": 28,
   "metadata": {},
   "outputs": [
    {
     "data": {
      "text/plain": [
       "<QuerySet [<User: mathias.dusautoy@gmail.com>]>"
      ]
     },
     "execution_count": 28,
     "metadata": {},
     "output_type": "execute_result"
    }
   ],
   "source": [
    "from cataclop.users import models\n",
    "\n",
    "models.User.objects.all()"
   ]
  }
 ],
 "metadata": {
  "kernelspec": {
   "display_name": "Django Shell-Plus",
   "language": "python",
   "name": "django_extensions"
  },
  "language_info": {
   "codemirror_mode": {
    "name": "ipython",
    "version": 3
   },
   "file_extension": ".py",
   "mimetype": "text/x-python",
   "name": "python",
   "nbconvert_exporter": "python",
   "pygments_lexer": "ipython3",
   "version": "3.6.4"
  }
 },
 "nbformat": 4,
 "nbformat_minor": 2
}
