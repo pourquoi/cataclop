{
 "cells": [
  {
   "cell_type": "code",
   "execution_count": 1,
   "metadata": {},
   "outputs": [],
   "source": [
    "import os\n",
    "os.environ[\"DJANGO_ALLOW_ASYNC_UNSAFE\"] = \"true\""
   ]
  },
  {
   "cell_type": "code",
   "execution_count": 2,
   "metadata": {},
   "outputs": [],
   "source": [
    "import keras\n",
    "import pandas as pd\n",
    "import numpy as np\n",
    "\n",
    "from tqdm.notebook import tqdm\n",
    "\n",
    "from sklearn import preprocessing\n",
    "\n",
    "from cataclop.ml import preprocessing as cataclop_preprocessing"
   ]
  },
  {
   "cell_type": "code",
   "execution_count": 3,
   "metadata": {},
   "outputs": [
    {
     "name": "stdout",
     "output_type": "stream",
     "text": [
      "22731 races\n"
     ]
    }
   ],
   "source": [
    "from cataclop.ml.pipeline import factories\n",
    "\n",
    "dataset = factories.Dataset.factory('default', params={\n",
    "    \"from\": \"2018-01-01\",\n",
    "    \"to\": \"2019-12-31\",\n",
    "    \"countries\": [\"FRA\"]\n",
    "})\n",
    "dataset.load(force=True)"
   ]
  },
  {
   "cell_type": "code",
   "execution_count": 4,
   "metadata": {},
   "outputs": [
    {
     "name": "stdout",
     "output_type": "stream",
     "text": [
      "['declared_player_count', 'odds_0', 'odds_1', 'odds_2', 'odds_3', 'odds_4', 'odds_5', 'odds_6', 'odds_7', 'odds_8', 'odds_9', 'prize', 'age', 'final_odds_ref', 'final_odds_ref_r', 'handicap_distance', 'handicap_distance_mean', 'handicap_distance_r', 'handicap_distance_std', 'handicap_weight', 'handicap_weight_mean', 'handicap_weight_r', 'handicap_weight_std', 'hist_1_days', 'hist_1_days_mean', 'hist_1_days_r', 'hist_1_days_std', 'hist_1_pos', 'hist_1_pos_mean', 'hist_1_pos_r', 'hist_1_pos_std', 'hist_2_days', 'hist_2_days_mean', 'hist_2_days_r', 'hist_2_days_std', 'hist_2_pos', 'hist_2_pos_mean', 'hist_2_pos_r', 'hist_2_pos_std', 'hist_3_days', 'hist_3_days_mean', 'hist_3_days_r', 'hist_3_days_std', 'hist_3_pos', 'hist_3_pos_mean', 'hist_3_pos_r', 'hist_3_pos_std', 'hist_4_pos', 'hist_5_pos', 'hist_6_pos', 'placed_2_count', 'placed_2_count_mean', 'placed_2_count_r', 'placed_2_count_std', 'placed_3_count', 'placed_3_count_mean', 'placed_3_count_r', 'placed_3_count_std', 'placed_earnings', 'placed_earnings_mean', 'placed_earnings_r', 'placed_earnings_std', 'post_position', 'post_position_mean', 'post_position_r', 'post_position_std', 'prev_year_earnings', 'prev_year_earnings_mean', 'prev_year_earnings_r', 'prev_year_earnings_std', 'race_count', 'race_count_mean', 'race_count_r', 'race_count_std', 'trainer_avg_winning_dividend', 'trainer_avg_winning_dividend_mean', 'trainer_avg_winning_dividend_r', 'trainer_avg_winning_dividend_std', 'trainer_winning_rate', 'trainer_winning_rate_mean', 'trainer_winning_rate_r', 'trainer_winning_rate_std', 'trueskill_mu', 'trueskill_mu_mean', 'trueskill_mu_r', 'trueskill_mu_std', 'trueskill_sigma', 'trueskill_sigma_mean', 'trueskill_sigma_r', 'trueskill_sigma_std', 'victory_count', 'victory_count_mean', 'victory_count_r', 'victory_count_std', 'victory_earnings', 'victory_earnings_mean', 'victory_earnings_r', 'victory_earnings_std']\n",
      "['sub_category', 'horse_breed', 'horse_sex']\n"
     ]
    }
   ],
   "source": [
    "race_features = ['prize', 'declared_player_count']\n",
    "race_features += ['odds_{:d}'.format(i) for i in range(10)]\n",
    "\n",
    "\n",
    "horse_features = ['age', 'final_odds_ref', 'final_odds_ref_r'] + ['hist_{}_pos'.format(i+1) for i in range(6)]\n",
    "\n",
    "for f in dataset.agg_features:\n",
    "        if f.startswith('final_odds'):\n",
    "            continue\n",
    "        horse_features.append(f)\n",
    "        horse_features.append('{}_r'.format(f))\n",
    "        horse_features.append('{}_std'.format(f))\n",
    "        horse_features.append('{}_mean'.format(f))\n",
    "        #for s in dataset.agg_features_funcs:\n",
    "            #features.append('{}_{}'.format(f, s[0]))\n",
    "\n",
    "horse_cat_features = ['horse_sex', 'horse_breed']\n",
    "race_cat_features = ['sub_category']#['category', 'sub_category']\n",
    "\n",
    "race_features = sorted(list(set(race_features)))\n",
    "horse_features = sorted(list(set(horse_features)))\n",
    "horse_cat_features = sorted(list(set(horse_cat_features)))\n",
    "race_cat_features = sorted(list(set(race_cat_features)))\n",
    "\n",
    "features = race_features + horse_features\n",
    "cat_features = race_cat_features + horse_cat_features\n",
    "\n",
    "print(features)\n",
    "print(cat_features)\n"
   ]
  },
  {
   "cell_type": "code",
   "execution_count": 5,
   "metadata": {},
   "outputs": [],
   "source": [
    "NAN_FLAG = 0\n",
    "\n",
    "df = dataset.players.copy()\n",
    "#df = df.groupby('race_id').filter(lambda r: (r['trueskill_mu'] == 25).sum() < r['declared_player_count'].max()/2 and r['position'].min() == 1 and r['winner_dividend'].max() > 0 and r['odds_0'].min() != dataset.params['nan_flag'] and r['odds_1'].min() != dataset.params['nan_flag'] )\n",
    "df = df.groupby('race_id').filter(lambda r: r['position'].min() == 1 and r['winner_dividend'].max() > 0 and r['odds_0'].min() != dataset.params['nan_flag'] and r['odds_1'].min() != dataset.params['nan_flag'] )\n",
    "df.reset_index(inplace=True)\n",
    "df.loc[:, features] = df.loc[:, features].fillna(NAN_FLAG)\n",
    "\n",
    "df['position'] = df['position'].fillna(20)\n",
    "\n",
    "scaler = preprocessing.RobustScaler() \n",
    "scaled = scaler.fit_transform(df.loc[:, features].values)\n",
    "\n",
    "df['final_odds_ref_real'] = df['final_odds_ref'].copy()\n",
    "df['declared_player_count_real'] = df['declared_player_count'].copy()\n",
    "df['prize_real'] = df['prize'].copy()\n",
    "df.loc[:, features] = scaled"
   ]
  },
  {
   "cell_type": "code",
   "execution_count": 6,
   "metadata": {},
   "outputs": [
    {
     "name": "stdout",
     "output_type": "stream",
     "text": [
      "96 ['hist_3_days_r', 'trueskill_sigma_std', 'final_odds_ref', 'hist_1_pos_mean', 'trueskill_mu_r', 'handicap_weight_mean', 'victory_earnings', 'horse_sex_value_TROTTEUR ETRANGER', 'handicap_distance_mean', 'horse_sex_value_PUR-SANG', 'hist_3_days_mean', 'hist_5_pos', 'handicap_weight_r', 'trueskill_mu', 'placed_earnings', 'hist_1_days_r', 'placed_2_count_r', 'race_count_std', 'trainer_winning_rate_mean', 'horse_breed_value_TROTTEUR ETRANGER', 'trainer_winning_rate_r', 'placed_3_count', 'hist_4_pos', 'horse_breed_value_ARABE', 'placed_earnings_r', 'hist_2_days', 'hist_2_pos', 'hist_2_pos_r', 'trainer_winning_rate_std', 'prev_year_earnings', 'hist_2_days_mean', 'hist_1_days_mean', 'hist_2_pos_mean', 'final_odds_ref_r', 'hist_6_pos', 'hist_1_days_std', 'trueskill_sigma', 'hist_3_pos_mean', 'horse_breed_value_AQPS', 'placed_earnings_mean', 'trainer_avg_winning_dividend_mean', 'race_count', 'placed_2_count_std', 'handicap_weight', 'trainer_avg_winning_dividend', 'horse_sex_value_TROTTEUR FRANCAIS', 'handicap_weight_std', 'post_position_std', 'placed_3_count_r', 'trueskill_mu_std', 'hist_2_days_std', 'placed_3_count_std', 'horse_sex_value_AQPS', 'hist_1_pos_r', 'hist_2_pos_std', 'horse_breed_value_TROTTEUR FRANCAIS', 'victory_earnings_mean', 'hist_3_pos_r', 'trueskill_sigma_mean', 'hist_2_days_r', 'trueskill_mu_mean', 'age', 'prev_year_earnings_r', 'victory_count', 'hist_1_pos', 'placed_earnings_std', 'hist_3_pos', 'trainer_avg_winning_dividend_std', 'trainer_avg_winning_dividend_r', 'post_position_r', 'placed_2_count', 'hist_3_days_std', 'handicap_distance_r', 'placed_3_count_mean', 'trainer_winning_rate', 'horse_sex_value_ARABE', 'victory_earnings_r', 'horse_breed_value_PUR-SANG', 'placed_2_count_mean', 'victory_earnings_std', 'race_count_mean', 'victory_count_mean', 'post_position', 'victory_count_std', 'handicap_distance', 'post_position_mean', 'race_count_r', 'hist_3_days', 'hist_3_pos_std', 'hist_1_days', 'prev_year_earnings_mean', 'victory_count_r', 'handicap_distance_std', 'prev_year_earnings_std', 'trueskill_sigma_r', 'hist_1_pos_std']\n",
      "17 ['declared_player_count', 'odds_1', 'odds_2', 'odds_0', 'prize', 'odds_7', 'sub_category_value_INCONNU', 'odds_8', 'odds_9', 'sub_category_value_HANDICAP_DIVISE', 'sub_category_value_AUTOSTART', 'odds_3', 'sub_category_value_COURSE_A_CONDITIONS', 'odds_4', 'odds_6', 'sub_category_value_A_RECLAMER', 'odds_5']\n"
     ]
    }
   ],
   "source": [
    "horse_dummies = cataclop_preprocessing.get_dummies(df, horse_cat_features, limit=5)\n",
    "\n",
    "df_horse_dummies = cataclop_preprocessing.get_dummy_values(df, horse_dummies)\n",
    "\n",
    "df = pd.concat([df, df_horse_dummies], axis=1)\n",
    "\n",
    "race_dummies = cataclop_preprocessing.get_dummies(df, race_cat_features, limit=5)\n",
    "\n",
    "df_race_dummies = cataclop_preprocessing.get_dummy_values(df, race_dummies)\n",
    "\n",
    "df = pd.concat([df, df_race_dummies], axis=1)\n",
    "\n",
    "\n",
    "all_horse_features = list(set(horse_features + list(df_horse_dummies.columns)))\n",
    "\n",
    "all_race_features = list(set(race_features + list(df_race_dummies.columns)))\n",
    "\n",
    "print(len(all_horse_features), all_horse_features)\n",
    "print(len(all_race_features), all_race_features)"
   ]
  },
  {
   "cell_type": "code",
   "execution_count": 232,
   "metadata": {},
   "outputs": [],
   "source": [
    "\n",
    "def make_Xy(df, train=True):\n",
    "\n",
    "    races = df.groupby('race_id')\n",
    "    n_races = len(races)\n",
    "\n",
    "    n_features = len(features)\n",
    "    X = []\n",
    "    y = []\n",
    "\n",
    "    # keep track of the raw data position in the dataset \n",
    "    back_idx = []\n",
    "\n",
    "    for race_id, race in tqdm(races, total=n_races):\n",
    "        n_players = len(race)\n",
    "\n",
    "\n",
    "        for i in range(n_players):\n",
    "            player1 = race.iloc[i]\n",
    "            x1 = player1[all_horse_features].values\n",
    "\n",
    "            # only train on 4 first\n",
    "            if train and (player1['position'] == 0 or player1['position'] > 6 ):\n",
    "                continue\n",
    "                \n",
    "            c = player1['declared_player_count_real']\n",
    "\n",
    "            for j in range(n_players):\n",
    "                if j == i:\n",
    "                    continue\n",
    "                player2 = race.iloc[j]\n",
    "\n",
    "                # only train on 4 first\n",
    "                if train and (player2['position'] == 0 or player2['position'] > 6):\n",
    "                    continue\n",
    "\n",
    "                x2 = player2[all_horse_features].values\n",
    "\n",
    "                row_x = np.concatenate((x1, x2, player1[all_race_features]))\n",
    "                \n",
    "                if not train:\n",
    "                    row_y = 0\n",
    "                else:\n",
    "                \n",
    "                    if c == 0:\n",
    "                        continue\n",
    "                        \n",
    "                    p = (player2['placed_dividend'] - player1['placed_dividend']) / 100\n",
    "                \n",
    "                    row_y = p\n",
    "\n",
    "                X.append(row_x)\n",
    "                y.append(row_y)\n",
    "\n",
    "                back_idx.append((race.index[i], race.index[j]))\n",
    "\n",
    "    X = np.array(X)\n",
    "    X = X.astype(np.float32)\n",
    "\n",
    "    y = np.array(y)\n",
    "    y = y.astype(np.float32)\n",
    "                \n",
    "    return (X, y, back_idx)\n",
    "    "
   ]
  },
  {
   "cell_type": "code",
   "execution_count": null,
   "metadata": {},
   "outputs": [],
   "source": []
  },
  {
   "cell_type": "code",
   "execution_count": 8,
   "metadata": {},
   "outputs": [],
   "source": [
    "race_ids = df['race_id'].unique()\n",
    "test_portion = int(len(race_ids) * 0.2)\n",
    "test_race_ids = race_ids[0:test_portion]\n",
    "train_race_ids = race_ids[test_portion+1:]\n",
    "\n",
    "df_train = df[df['race_id'].isin(train_race_ids)].copy()\n",
    "df_test = df[df['race_id'].isin(test_race_ids)].copy()"
   ]
  },
  {
   "cell_type": "code",
   "execution_count": 9,
   "metadata": {},
   "outputs": [],
   "source": [
    "#df_train = df\n",
    "df_train"
   ]
  },
  {
   "cell_type": "code",
   "execution_count": 10,
   "metadata": {},
   "outputs": [
    {
     "name": "stdout",
     "output_type": "stream",
     "text": [
      "4472 17888\n"
     ]
    }
   ],
   "source": [
    "print(len(test_race_ids), len(train_race_ids))"
   ]
  },
  {
   "cell_type": "code",
   "execution_count": 156,
   "metadata": {},
   "outputs": [],
   "source": [
    "X = df_train[all_horse_features + all_race_features]\n",
    "y = df_train['position'].fillna(df_train['declared_player_count_real']) / df_train['declared_player_count_real']"
   ]
  },
  {
   "cell_type": "code",
   "execution_count": 155,
   "metadata": {},
   "outputs": [
    {
     "data": {
      "text/plain": [
       "count    226253.000000\n",
       "mean         13.507149\n",
       "std           3.059823\n",
       "min           3.000000\n",
       "25%          11.000000\n",
       "50%          14.000000\n",
       "75%          16.000000\n",
       "max          20.000000\n",
       "Name: declared_player_count_real, dtype: float64"
      ]
     },
     "execution_count": 155,
     "metadata": {},
     "output_type": "execute_result"
    }
   ],
   "source": [
    "df_train['declared_player_count_real'].describe()"
   ]
  },
  {
   "cell_type": "code",
   "execution_count": 233,
   "metadata": {},
   "outputs": [
    {
     "data": {
      "application/vnd.jupyter.widget-view+json": {
       "model_id": "daf52d8172904d5d93b2167cc8c7e759",
       "version_major": 2,
       "version_minor": 0
      },
      "text/plain": [
       "HBox(children=(FloatProgress(value=0.0, max=17888.0), HTML(value='')))"
      ]
     },
     "metadata": {},
     "output_type": "display_data"
    },
    {
     "name": "stdout",
     "output_type": "stream",
     "text": [
      "\n"
     ]
    }
   ],
   "source": [
    "X, y, _ = make_Xy(df_train)"
   ]
  },
  {
   "cell_type": "code",
   "execution_count": 234,
   "metadata": {},
   "outputs": [
    {
     "data": {
      "text/plain": [
       "(527710, 209)"
      ]
     },
     "execution_count": 234,
     "metadata": {},
     "output_type": "execute_result"
    }
   ],
   "source": [
    "X.shape"
   ]
  },
  {
   "cell_type": "code",
   "execution_count": 285,
   "metadata": {},
   "outputs": [
    {
     "data": {
      "text/plain": [
       "<AxesSubplot:>"
      ]
     },
     "execution_count": 285,
     "metadata": {},
     "output_type": "execute_result"
    },
    {
     "data": {
      "image/png": "[encoded data removed]",
      "text/plain": [
       "<Figure size 432x288 with 1 Axes>"
      ]
     },
     "metadata": {
      "needs_background": "light"
     },
     "output_type": "display_data"
    }
   ],
   "source": [
    "#y = y / 20\n",
    "pd.Series(y).hist()"
   ]
  },
  {
   "cell_type": "code",
   "execution_count": 289,
   "metadata": {},
   "outputs": [],
   "source": [
    "X = np.reshape(X, (X.shape[0], X.shape[1], 1))\n",
    "#X = np.reshape(X, (X.shape[0], X.shape[1]))"
   ]
  },
  {
   "cell_type": "code",
   "execution_count": 291,
   "metadata": {},
   "outputs": [],
   "source": [
    "from keras.models import Sequential\n",
    "from keras.layers import Activation, Dropout, Flatten, Dense\n",
    "from keras.layers import Conv1D, MaxPooling1D\n",
    "from keras.utils import np_utils\n",
    "from keras.callbacks import ModelCheckpoint, EarlyStopping\n",
    "\n",
    "model = Sequential()\n",
    "\n",
    "'''\n",
    "model.add(Dense(100, input_dim=X.shape[1]))\n",
    "model.add(Dropout(0.1))\n",
    "model.add(Activation('sigmoid'))\n",
    "'''\n",
    "\n",
    "\n",
    "model.add(Conv1D(12, 9, input_shape=(X.shape[1], 1)))\n",
    "model.add(Activation('relu'))\n",
    "#model.add(Dropout(0.5))\n",
    "model.add(MaxPooling1D(pool_size=2))\n",
    "\n",
    "model.add(Conv1D(32, 3))\n",
    "model.add(Activation('relu'))\n",
    "#model.add(Dropout(0.5))\n",
    "model.add(MaxPooling1D(pool_size=2))\n",
    "\n",
    "model.add(Conv1D(64, 3))\n",
    "model.add(Activation('relu'))\n",
    "#model.add(Dropout(0.5))\n",
    "model.add(MaxPooling1D(pool_size=2))\n",
    "\n",
    "model.add(Flatten())\n",
    "\n",
    "#model.add(Dense(1))\n",
    "#model.add(Activation('sigmoid'))\n",
    "#model.add(Dropout(0.3))\n",
    "\n",
    "\n",
    "model.add(Dense(1))\n",
    "model.add(Activation('tanh'))\n",
    "\n",
    "\n",
    "\n",
    "model.compile(loss='mean_squared_error',\n",
    "      optimizer='rmsprop',\n",
    "      metrics=['mean_squared_error'])\n",
    "          "
   ]
  },
  {
   "cell_type": "code",
   "execution_count": 287,
   "metadata": {},
   "outputs": [
    {
     "name": "stdout",
     "output_type": "stream",
     "text": [
      "Model: \"sequential_8\"\n",
      "_________________________________________________________________\n",
      "Layer (type)                 Output Shape              Param #   \n",
      "=================================================================\n",
      "conv1d (Conv1D)              (None, 201, 12)           120       \n",
      "_________________________________________________________________\n",
      "activation_18 (Activation)   (None, 201, 12)           0         \n",
      "_________________________________________________________________\n",
      "max_pooling1d (MaxPooling1D) (None, 100, 12)           0         \n",
      "_________________________________________________________________\n",
      "conv1d_1 (Conv1D)            (None, 98, 32)            1184      \n",
      "_________________________________________________________________\n",
      "activation_19 (Activation)   (None, 98, 32)            0         \n",
      "_________________________________________________________________\n",
      "max_pooling1d_1 (MaxPooling1 (None, 49, 32)            0         \n",
      "_________________________________________________________________\n",
      "conv1d_2 (Conv1D)            (None, 47, 64)            6208      \n",
      "_________________________________________________________________\n",
      "activation_20 (Activation)   (None, 47, 64)            0         \n",
      "_________________________________________________________________\n",
      "max_pooling1d_2 (MaxPooling1 (None, 23, 64)            0         \n",
      "_________________________________________________________________\n",
      "flatten (Flatten)            (None, 1472)              0         \n",
      "_________________________________________________________________\n",
      "dense_18 (Dense)             (None, 1)                 1473      \n",
      "_________________________________________________________________\n",
      "activation_21 (Activation)   (None, 1)                 0         \n",
      "=================================================================\n",
      "Total params: 8,985\n",
      "Trainable params: 8,985\n",
      "Non-trainable params: 0\n",
      "_________________________________________________________________\n"
     ]
    }
   ],
   "source": [
    "model.summary()"
   ]
  },
  {
   "cell_type": "code",
   "execution_count": 283,
   "metadata": {},
   "outputs": [
    {
     "data": {
      "text/plain": [
       "array([0.215, 0.   , 0.   , ..., 0.   , 0.055, 0.   ], dtype=float32)"
      ]
     },
     "execution_count": 283,
     "metadata": {},
     "output_type": "execute_result"
    }
   ],
   "source": [
    "y"
   ]
  },
  {
   "cell_type": "code",
   "execution_count": 292,
   "metadata": {},
   "outputs": [
    {
     "name": "stdout",
     "output_type": "stream",
     "text": [
      "Epoch 1/5\n",
      "14841/14842 [============================>.] - ETA: 0s - loss: 0.7839 - mean_squared_error: 0.7839\n",
      "Epoch 00001: val_loss improved from inf to 0.70692, saving model to /tmp/weights.best.hdf5\n",
      "14842/14842 [==============================] - 315s 21ms/step - loss: 0.7839 - mean_squared_error: 0.7839 - val_loss: 0.7069 - val_mean_squared_error: 0.7069\n",
      "Epoch 2/5\n",
      "14840/14842 [============================>.] - ETA: 0s - loss: 0.7453 - mean_squared_error: 0.7453\n",
      "Epoch 00002: val_loss improved from 0.70692 to 0.70665, saving model to /tmp/weights.best.hdf5\n",
      "14842/14842 [==============================] - 279s 19ms/step - loss: 0.7453 - mean_squared_error: 0.7453 - val_loss: 0.7067 - val_mean_squared_error: 0.7067\n",
      "Epoch 3/5\n",
      "14840/14842 [============================>.] - ETA: 0s - loss: 0.7445 - mean_squared_error: 0.7445\n",
      "Epoch 00003: val_loss improved from 0.70665 to 0.70617, saving model to /tmp/weights.best.hdf5\n",
      "14842/14842 [==============================] - 230s 15ms/step - loss: 0.7445 - mean_squared_error: 0.7445 - val_loss: 0.7062 - val_mean_squared_error: 0.7062\n",
      "Epoch 4/5\n",
      "14842/14842 [==============================] - ETA: 0s - loss: 0.7446 - mean_squared_error: 0.7446\n",
      "Epoch 00004: val_loss did not improve from 0.70617\n",
      "14842/14842 [==============================] - 306s 21ms/step - loss: 0.7446 - mean_squared_error: 0.7446 - val_loss: 0.7065 - val_mean_squared_error: 0.7065\n",
      "Epoch 5/5\n",
      "14841/14842 [============================>.] - ETA: 0s - loss: 0.7449 - mean_squared_error: 0.7449\n",
      "Epoch 00005: val_loss did not improve from 0.70617\n",
      "14842/14842 [==============================] - 324s 22ms/step - loss: 0.7449 - mean_squared_error: 0.7449 - val_loss: 0.7069 - val_mean_squared_error: 0.7069\n"
     ]
    },
    {
     "data": {
      "text/plain": [
       "<tensorflow.python.keras.callbacks.History at 0x16d613400>"
      ]
     },
     "execution_count": 292,
     "metadata": {},
     "output_type": "execute_result"
    }
   ],
   "source": [
    "checkpointer = ModelCheckpoint(filepath='/tmp/weights.best.hdf5', \n",
    "                        verbose=1, save_best_only=True)\n",
    "model.fit(X, y, \n",
    "    batch_size=32, epochs=5, validation_split=0.1, callbacks=[checkpointer])"
   ]
  },
  {
   "cell_type": "code",
   "execution_count": 20,
   "metadata": {},
   "outputs": [
    {
     "name": "stdout",
     "output_type": "stream",
     "text": [
      "WARNING:tensorflow:From /Users/pourquoi/.local/share/virtualenvs/cataclop-django-M9amAh3O/lib/python3.6/site-packages/tensorflow/python/ops/resource_variable_ops.py:1817: calling BaseResourceVariable.__init__ (from tensorflow.python.ops.resource_variable_ops) with constraint is deprecated and will be removed in a future version.\n",
      "Instructions for updating:\n",
      "If using Keras pass *_constraint arguments to layers.\n",
      "INFO:tensorflow:Assets written to: /tmp/model/assets\n"
     ]
    }
   ],
   "source": [
    "from dill import dump, load\n",
    "#dump(model.get_weights(), open('/tmp/weights.pkl', 'wb'))\n",
    "model.save('/tmp/model')"
   ]
  },
  {
   "cell_type": "code",
   "execution_count": 181,
   "metadata": {},
   "outputs": [],
   "source": [
    "model.load_weights('/tmp/weights.best.hdf5')"
   ]
  },
  {
   "cell_type": "code",
   "execution_count": 293,
   "metadata": {},
   "outputs": [
    {
     "data": {
      "application/vnd.jupyter.widget-view+json": {
       "model_id": "b21d816481c2415e8b29f2de309f9132",
       "version_major": 2,
       "version_minor": 0
      },
      "text/plain": [
       "HBox(children=(FloatProgress(value=0.0, max=4472.0), HTML(value='')))"
      ]
     },
     "metadata": {},
     "output_type": "display_data"
    },
    {
     "name": "stdout",
     "output_type": "stream",
     "text": [
      "\n"
     ]
    }
   ],
   "source": [
    "X_test, y_test, back_idx = make_Xy(df_test, train=False)"
   ]
  },
  {
   "cell_type": "code",
   "execution_count": 75,
   "metadata": {},
   "outputs": [],
   "source": [
    "X_test = df_test[all_horse_features + all_race_features]\n",
    "y_test = df_test['winner_dividend'] / 1000"
   ]
  },
  {
   "cell_type": "code",
   "execution_count": 294,
   "metadata": {},
   "outputs": [],
   "source": [
    "X_test = np.reshape(X_test, (X_test.shape[0], X_test.shape[1], 1))\n",
    "#X_test = np.reshape(X_test, (X_test.shape[0], X_test.shape[1]))"
   ]
  },
  {
   "cell_type": "code",
   "execution_count": 295,
   "metadata": {},
   "outputs": [],
   "source": [
    "predictions = model.predict(X_test)"
   ]
  },
  {
   "cell_type": "code",
   "execution_count": 219,
   "metadata": {},
   "outputs": [
    {
     "data": {
      "text/plain": [
       "array([[0.83884001],\n",
       "       [0.84609176],\n",
       "       [0.52380711],\n",
       "       ...,\n",
       "       [0.68641626],\n",
       "       [0.77197458],\n",
       "       [0.63577547]])"
      ]
     },
     "execution_count": 219,
     "metadata": {},
     "output_type": "execute_result"
    }
   ],
   "source": [
    "predictions"
   ]
  },
  {
   "cell_type": "code",
   "execution_count": 325,
   "metadata": {},
   "outputs": [],
   "source": [
    "#df_test['score'] = 0\n",
    "df_test['pn'] = 0\n",
    "df_test['pn_diff'] = 0\n",
    "df_test['pn_same'] = 0\n",
    "df_test['stash'] = 0"
   ]
  },
  {
   "cell_type": "code",
   "execution_count": 297,
   "metadata": {},
   "outputs": [
    {
     "data": {
      "application/vnd.jupyter.widget-view+json": {
       "model_id": "f479d7ef121647449d9c1fde6d826327",
       "version_major": 2,
       "version_minor": 0
      },
      "text/plain": [
       "HBox(children=(FloatProgress(value=0.0, max=650220.0), HTML(value='')))"
      ]
     },
     "metadata": {},
     "output_type": "display_data"
    },
    {
     "name": "stdout",
     "output_type": "stream",
     "text": [
      "\n"
     ]
    }
   ],
   "source": [
    "\n",
    "for i in tqdm(range(len(predictions))):\n",
    "    \n",
    "    df_test.loc[ back_idx[i][0], 'score' ] = df_test.loc[ back_idx[i][0], 'score' ] + predictions[i]\n"
   ]
  },
  {
   "cell_type": "code",
   "execution_count": 222,
   "metadata": {},
   "outputs": [],
   "source": [
    "df_test['score'] = predictions"
   ]
  },
  {
   "cell_type": "code",
   "execution_count": 298,
   "metadata": {},
   "outputs": [
    {
     "data": {
      "text/plain": [
       "count    53873.000000\n",
       "mean        -3.613657\n",
       "std          8.351550\n",
       "min        -19.000000\n",
       "25%        -10.000000\n",
       "50%         -3.000000\n",
       "75%          0.000000\n",
       "max         19.000000\n",
       "Name: score, dtype: float64"
      ]
     },
     "execution_count": 298,
     "metadata": {},
     "output_type": "execute_result"
    }
   ],
   "source": [
    "df_test['score'].describe()"
   ]
  },
  {
   "cell_type": "code",
   "execution_count": 344,
   "metadata": {},
   "outputs": [
    {
     "data": {
      "text/html": [
       "<div>\n",
       "<style scoped>\n",
       "    .dataframe tbody tr th:only-of-type {\n",
       "        vertical-align: middle;\n",
       "    }\n",
       "\n",
       "    .dataframe tbody tr th {\n",
       "        vertical-align: top;\n",
       "    }\n",
       "\n",
       "    .dataframe thead th {\n",
       "        text-align: right;\n",
       "    }\n",
       "</style>\n",
       "<table border=\"1\" class=\"dataframe\">\n",
       "  <thead>\n",
       "    <tr style=\"text-align: right;\">\n",
       "      <th></th>\n",
       "      <th></th>\n",
       "      <th>position</th>\n",
       "      <th>sub_category</th>\n",
       "      <th>num</th>\n",
       "      <th>final_odds</th>\n",
       "      <th>final_odds_ref_real</th>\n",
       "      <th>score</th>\n",
       "      <th>pn</th>\n",
       "    </tr>\n",
       "    <tr>\n",
       "      <th>race_id</th>\n",
       "      <th></th>\n",
       "      <th></th>\n",
       "      <th></th>\n",
       "      <th></th>\n",
       "      <th></th>\n",
       "      <th></th>\n",
       "      <th></th>\n",
       "      <th></th>\n",
       "    </tr>\n",
       "  </thead>\n",
       "  <tbody>\n",
       "    <tr>\n",
       "      <th rowspan=\"16\" valign=\"top\">21654</th>\n",
       "      <th>3265</th>\n",
       "      <td>2.0</td>\n",
       "      <td>HANDICAP_DIVISE</td>\n",
       "      <td>9</td>\n",
       "      <td>11.7</td>\n",
       "      <td>13.3</td>\n",
       "      <td>-1.226780</td>\n",
       "      <td>0</td>\n",
       "    </tr>\n",
       "    <tr>\n",
       "      <th>3272</th>\n",
       "      <td>20.0</td>\n",
       "      <td>HANDICAP_DIVISE</td>\n",
       "      <td>16</td>\n",
       "      <td>15.9</td>\n",
       "      <td>16.8</td>\n",
       "      <td>-1.001847</td>\n",
       "      <td>1</td>\n",
       "    </tr>\n",
       "    <tr>\n",
       "      <th>3267</th>\n",
       "      <td>10.0</td>\n",
       "      <td>HANDICAP_DIVISE</td>\n",
       "      <td>11</td>\n",
       "      <td>15.5</td>\n",
       "      <td>16.5</td>\n",
       "      <td>-0.965113</td>\n",
       "      <td>2</td>\n",
       "    </tr>\n",
       "    <tr>\n",
       "      <th>3258</th>\n",
       "      <td>14.0</td>\n",
       "      <td>HANDICAP_DIVISE</td>\n",
       "      <td>2</td>\n",
       "      <td>73.1</td>\n",
       "      <td>43.8</td>\n",
       "      <td>-0.952336</td>\n",
       "      <td>3</td>\n",
       "    </tr>\n",
       "    <tr>\n",
       "      <th>3271</th>\n",
       "      <td>7.0</td>\n",
       "      <td>HANDICAP_DIVISE</td>\n",
       "      <td>15</td>\n",
       "      <td>20.2</td>\n",
       "      <td>18.4</td>\n",
       "      <td>-0.927595</td>\n",
       "      <td>4</td>\n",
       "    </tr>\n",
       "    <tr>\n",
       "      <th>3270</th>\n",
       "      <td>6.0</td>\n",
       "      <td>HANDICAP_DIVISE</td>\n",
       "      <td>14</td>\n",
       "      <td>25.1</td>\n",
       "      <td>31.4</td>\n",
       "      <td>-0.867839</td>\n",
       "      <td>5</td>\n",
       "    </tr>\n",
       "    <tr>\n",
       "      <th>3264</th>\n",
       "      <td>8.0</td>\n",
       "      <td>HANDICAP_DIVISE</td>\n",
       "      <td>8</td>\n",
       "      <td>30.5</td>\n",
       "      <td>35.7</td>\n",
       "      <td>-0.861370</td>\n",
       "      <td>6</td>\n",
       "    </tr>\n",
       "    <tr>\n",
       "      <th>3262</th>\n",
       "      <td>9.0</td>\n",
       "      <td>HANDICAP_DIVISE</td>\n",
       "      <td>6</td>\n",
       "      <td>3.6</td>\n",
       "      <td>5.4</td>\n",
       "      <td>-0.852198</td>\n",
       "      <td>7</td>\n",
       "    </tr>\n",
       "    <tr>\n",
       "      <th>3268</th>\n",
       "      <td>12.0</td>\n",
       "      <td>HANDICAP_DIVISE</td>\n",
       "      <td>12</td>\n",
       "      <td>8.5</td>\n",
       "      <td>8.4</td>\n",
       "      <td>-0.835616</td>\n",
       "      <td>8</td>\n",
       "    </tr>\n",
       "    <tr>\n",
       "      <th>3259</th>\n",
       "      <td>11.0</td>\n",
       "      <td>HANDICAP_DIVISE</td>\n",
       "      <td>3</td>\n",
       "      <td>19.3</td>\n",
       "      <td>18.7</td>\n",
       "      <td>-0.828972</td>\n",
       "      <td>9</td>\n",
       "    </tr>\n",
       "    <tr>\n",
       "      <th>3260</th>\n",
       "      <td>4.0</td>\n",
       "      <td>HANDICAP_DIVISE</td>\n",
       "      <td>4</td>\n",
       "      <td>10.2</td>\n",
       "      <td>9.6</td>\n",
       "      <td>-0.825234</td>\n",
       "      <td>10</td>\n",
       "    </tr>\n",
       "    <tr>\n",
       "      <th>3269</th>\n",
       "      <td>13.0</td>\n",
       "      <td>HANDICAP_DIVISE</td>\n",
       "      <td>13</td>\n",
       "      <td>52.9</td>\n",
       "      <td>39.0</td>\n",
       "      <td>-0.785626</td>\n",
       "      <td>11</td>\n",
       "    </tr>\n",
       "    <tr>\n",
       "      <th>3266</th>\n",
       "      <td>5.0</td>\n",
       "      <td>HANDICAP_DIVISE</td>\n",
       "      <td>10</td>\n",
       "      <td>17.6</td>\n",
       "      <td>17.3</td>\n",
       "      <td>-0.739072</td>\n",
       "      <td>12</td>\n",
       "    </tr>\n",
       "    <tr>\n",
       "      <th>3257</th>\n",
       "      <td>1.0</td>\n",
       "      <td>HANDICAP_DIVISE</td>\n",
       "      <td>1</td>\n",
       "      <td>7.8</td>\n",
       "      <td>6.9</td>\n",
       "      <td>-0.701427</td>\n",
       "      <td>13</td>\n",
       "    </tr>\n",
       "    <tr>\n",
       "      <th>3261</th>\n",
       "      <td>3.0</td>\n",
       "      <td>HANDICAP_DIVISE</td>\n",
       "      <td>5</td>\n",
       "      <td>7.5</td>\n",
       "      <td>4.9</td>\n",
       "      <td>-0.620422</td>\n",
       "      <td>14</td>\n",
       "    </tr>\n",
       "    <tr>\n",
       "      <th>3263</th>\n",
       "      <td>20.0</td>\n",
       "      <td>HANDICAP_DIVISE</td>\n",
       "      <td>7</td>\n",
       "      <td>NaN</td>\n",
       "      <td>100000.0</td>\n",
       "      <td>-0.135792</td>\n",
       "      <td>15</td>\n",
       "    </tr>\n",
       "  </tbody>\n",
       "</table>\n",
       "</div>"
      ],
      "text/plain": [
       "              position     sub_category  num  final_odds  final_odds_ref_real  \\\n",
       "race_id                                                                         \n",
       "21654   3265       2.0  HANDICAP_DIVISE    9        11.7                 13.3   \n",
       "        3272      20.0  HANDICAP_DIVISE   16        15.9                 16.8   \n",
       "        3267      10.0  HANDICAP_DIVISE   11        15.5                 16.5   \n",
       "        3258      14.0  HANDICAP_DIVISE    2        73.1                 43.8   \n",
       "        3271       7.0  HANDICAP_DIVISE   15        20.2                 18.4   \n",
       "        3270       6.0  HANDICAP_DIVISE   14        25.1                 31.4   \n",
       "        3264       8.0  HANDICAP_DIVISE    8        30.5                 35.7   \n",
       "        3262       9.0  HANDICAP_DIVISE    6         3.6                  5.4   \n",
       "        3268      12.0  HANDICAP_DIVISE   12         8.5                  8.4   \n",
       "        3259      11.0  HANDICAP_DIVISE    3        19.3                 18.7   \n",
       "        3260       4.0  HANDICAP_DIVISE    4        10.2                  9.6   \n",
       "        3269      13.0  HANDICAP_DIVISE   13        52.9                 39.0   \n",
       "        3266       5.0  HANDICAP_DIVISE   10        17.6                 17.3   \n",
       "        3257       1.0  HANDICAP_DIVISE    1         7.8                  6.9   \n",
       "        3261       3.0  HANDICAP_DIVISE    5         7.5                  4.9   \n",
       "        3263      20.0  HANDICAP_DIVISE    7         NaN             100000.0   \n",
       "\n",
       "                 score  pn  \n",
       "race_id                     \n",
       "21654   3265 -1.226780   0  \n",
       "        3272 -1.001847   1  \n",
       "        3267 -0.965113   2  \n",
       "        3258 -0.952336   3  \n",
       "        3271 -0.927595   4  \n",
       "        3270 -0.867839   5  \n",
       "        3264 -0.861370   6  \n",
       "        3262 -0.852198   7  \n",
       "        3268 -0.835616   8  \n",
       "        3259 -0.828972   9  \n",
       "        3260 -0.825234  10  \n",
       "        3269 -0.785626  11  \n",
       "        3266 -0.739072  12  \n",
       "        3257 -0.701427  13  \n",
       "        3261 -0.620422  14  \n",
       "        3263 -0.135792  15  "
      ]
     },
     "execution_count": 344,
     "metadata": {},
     "output_type": "execute_result"
    }
   ],
   "source": [
    "from cataclop.ml.exploration import random_race\n",
    "\n",
    "random_race(df_test, ['position', 'sub_category', 'num', 'final_odds', 'final_odds_ref_real', 'score', 'pn']).sort_values(by='score')"
   ]
  },
  {
   "cell_type": "code",
   "execution_count": 328,
   "metadata": {},
   "outputs": [],
   "source": [
    "def fast_bet(r):\n",
    "    p = 'score'\n",
    "\n",
    "    s = r.sort_values(by=p, ascending=True)\n",
    "    o = s.index.sort_values(ascending=True, return_indexer=True)\n",
    "    l = len(s)\n",
    "    \n",
    "    if not l:\n",
    "        return r\n",
    "    \n",
    "    i = 0\n",
    "    n = 0\n",
    "    last_score = -1000\n",
    "    while(i < l):\n",
    "        h_score = s.iloc[i]['score']\n",
    "        if last_score != h_score:\n",
    "            n = n + 1\n",
    "        r['pn_same'] = (s['score'] == h_score).sum() / l\n",
    "        i = i + 1\n",
    "        \n",
    "    #idx = (r[p] == r[p].max())\n",
    "    \n",
    "    s2 = r.sort_values(by='final_odds_ref')\n",
    "    o2 = s2.index.sort_values(ascending=True, return_indexer=True)\n",
    "    \n",
    "    s3 = r.sort_values(by='final_odds')\n",
    "    o3 = s3.index.sort_values(ascending=True, return_indexer=True)\n",
    "        \n",
    "    r['pn'] = o[1]\n",
    "    r['oddsrn'] = o2[1]\n",
    "    r['oddsn'] = o3[1]\n",
    "    r['pstd'] = r[p].std()\n",
    "    r['pn_diff'] = n\n",
    "    return r"
   ]
  },
  {
   "cell_type": "code",
   "execution_count": 329,
   "metadata": {},
   "outputs": [],
   "source": [
    "df_test = df_test.groupby('race_id').apply(fast_bet)"
   ]
  },
  {
   "cell_type": "code",
   "execution_count": 354,
   "metadata": {},
   "outputs": [],
   "source": [
    "df_test['bet'] = 1#+df_test['pn']#df_test['oddsn']#np.clip(df_test['oddsn'] + 1, 1, 3) #1 #/ np.clip(df_test['score'], 0, 10)\n",
    "df_test['profit'] = df_test['bet'] * (df_test['winner_dividend'].fillna(0.)/100.-1.0)# + (df_test['winner_dividend'].fillna(0.)/100.-1.0)"
   ]
  },
  {
   "cell_type": "code",
   "execution_count": 352,
   "metadata": {},
   "outputs": [
    {
     "name": "stdout",
     "output_type": "stream",
     "text": [
      "win % for pred number #\n",
      "0 0.09500489715964741\n",
      "  $$  -0.28407871198568874\n",
      "1 0.10501606127996047\n",
      "  $$  -0.45939177101967804\n",
      "2 0.09420112551994128\n",
      "  $$  -0.8449910554561717\n",
      "3 0.08596406022340942\n",
      "  $$  -1.322898032200358\n",
      "4 0.09470068694798822\n",
      "  $$  -1.4782608695652173\n",
      "5 0.0939830929885629\n",
      "  $$  -1.7436818181818183\n",
      "6 0.10495932826029913\n",
      "  $$  -0.4415103300878652\n",
      "7 0.09620182977543665\n",
      "  $$  -1.7448659585230148\n",
      "8 0.09035962526443034\n",
      "  $$  -2.0092849223946785\n",
      "9 0.08514190317195326\n",
      "  $$  -3.094153846153846\n",
      "10 0.08311195445920304\n",
      "  $$  -3.254905395935529\n",
      "11 0.08532272325375774\n",
      "  $$  -1.985498981670061\n",
      "12 0.07422895974908521\n",
      "  $$  -3.896204379562043\n",
      "13 0.07677784770295784\n",
      "  $$  -4.796493278784336\n",
      "14 0.06904761904761905\n",
      "  $$  -3.242761692650334\n",
      "15 0.06754032258064516\n",
      "  $$  -4.602077431539188\n",
      "16 0.06497175141242938\n",
      "  $$  -1.7270557029177716\n",
      "17 0.0380952380952381\n",
      "  $$  -4.054128440366973\n",
      "18 0.0\n",
      "  $$  -19.0\n",
      "19 0.0\n",
      "  $$  -20.0\n",
      "win % for odds ref number #\n",
      "0 0.3983739837398374\n",
      "$$  -1.2012969588550986\n",
      "1 0.20701754385964913\n",
      "$$  -1.0654740608228979\n",
      "2 0.1519835136527563\n",
      "$$  -1.2139982110912344\n",
      "3 0.11022840119165839\n",
      "$$  -1.0879248658318428\n",
      "4 0.0898876404494382\n",
      "$$  -1.2098386373823398\n",
      "5 0.057692307692307696\n",
      "$$  -1.9979772727272729\n",
      "6 0.05301325331332833\n",
      "$$  -1.385419140346711\n",
      "7 0.03943217665615142\n",
      "$$  -2.218108244815377\n",
      "8 0.04488850275123081\n",
      "$$  -0.7011363636363636\n",
      "9 0.028481012658227847\n",
      "$$  -2.200430769230769\n",
      "win % for pred number #, when odds number >\n",
      "1 0.0592274678111588\n",
      "$$  -0.47914640734737984\n",
      "2 0.04253968253968254\n",
      "$$  -0.9813032886723507\n",
      "3 0.03135768435561682\n",
      "$$  -1.646909455395924\n",
      "4 0.033712428919577576\n",
      "$$  -1.73811394891945\n",
      "5 0.026276648487853247\n",
      "$$  -2.6092753623188405\n",
      "6 0.027670527670527672\n",
      "$$  -0.39273638071383876\n",
      "7 0.020292207792207792\n",
      "$$  -2.6832140015910895\n",
      "8 0.016025641025641024\n",
      "$$  -3.82807570977918\n",
      "9 0.01422475106685633\n",
      "$$  -5.9929873772791025\n"
     ]
    }
   ],
   "source": [
    "h = df_test\n",
    "\n",
    "print('win % for pred number #')\n",
    "for i in range(20):\n",
    "    if len(h[ (h['pn']==i) & (h['position'] > 3)]):\n",
    "        print(i, len(h[ (h['pn']==i) & (h['position'] == 1)]) / len(h[ (h['pn']==i) & (h['position'] != 1)]))\n",
    "        print('  $$ ',  h[ (h['pn']==i) ]['profit'].mean() )\n",
    "    \n",
    "print('win % for odds ref number #')\n",
    "for i in range(10):\n",
    "    if len(h[ (h['oddsrn']==i) & (h['position'] > 3)]):\n",
    "        print(i, len(h[ (h['oddsrn']==i) & (h['position'] == 1)]) / len(h[ (h['oddsrn']==i) & (h['position'] != 1)]))\n",
    "        print('$$ ',  h[ (h['oddsrn']==i) ]['profit'].mean() )\n",
    "\n",
    "print('win % for pred number #, when odds number >')\n",
    "for i in range(10):\n",
    "    if len(h[ (h['pn']==i) & (h['oddsn']<i) & (h['position'] > 3)]):\n",
    "        print(i, len(h[ (h['pn']==i) & (h['oddsn']>i) & (h['position'] == 1)]) / len(h[ (h['pn']==i) & (h['oddsn']>i) & (h['position'] != 1)]))\n",
    "        print('$$ ', h[ (h['pn']==i) & (h['oddsn']>i)]['profit'].mean() )"
   ]
  },
  {
   "cell_type": "code",
   "execution_count": 268,
   "metadata": {},
   "outputs": [
    {
     "name": "stdout",
     "output_type": "stream",
     "text": [
      "2018-01-06 11:50:00 2019-12-23 16:14:00\n",
      "2018-01-01 12:52:00 2019-12-30 20:33:00\n"
     ]
    }
   ],
   "source": [
    "print(df_test['start_at'].min(), df_test['start_at'].max())\n",
    "print(df_train['start_at'].min(), df_train['start_at'].max())"
   ]
  },
  {
   "cell_type": "code",
   "execution_count": 357,
   "metadata": {},
   "outputs": [
    {
     "name": "stdout",
     "output_type": "stream",
     "text": [
      "COURSE_A_CONDITIONS\n",
      "count    80.000000\n",
      "mean     -0.727500\n",
      "std       1.142058\n",
      "min      -1.000000\n",
      "25%      -1.000000\n",
      "50%      -1.000000\n",
      "75%      -1.000000\n",
      "max       6.600000\n",
      "Name: profit, dtype: float64\n",
      "INCONNU\n",
      "count    106.000000\n",
      "mean      -0.040566\n",
      "std        3.560358\n",
      "min       -1.000000\n",
      "25%       -1.000000\n",
      "50%       -1.000000\n",
      "75%       -1.000000\n",
      "max       26.600000\n",
      "Name: profit, dtype: float64\n",
      "HANDICAP_DIVISE\n",
      "count    224.000000\n",
      "mean      -0.258929\n",
      "std        3.804330\n",
      "min       -1.000000\n",
      "25%       -1.000000\n",
      "50%       -1.000000\n",
      "75%       -1.000000\n",
      "max       35.000000\n",
      "Name: profit, dtype: float64\n",
      "A_RECLAMER\n",
      "count    66.000000\n",
      "mean     -0.412121\n",
      "std       3.394861\n",
      "min      -1.000000\n",
      "25%      -1.000000\n",
      "50%      -1.000000\n",
      "75%      -1.000000\n",
      "max      21.500000\n",
      "Name: profit, dtype: float64\n",
      "AUTOSTART\n",
      "count    48.000000\n",
      "mean     -0.327083\n",
      "std       2.554157\n",
      "min      -1.000000\n",
      "25%      -1.000000\n",
      "50%      -1.000000\n",
      "75%      -1.000000\n",
      "max      12.900000\n",
      "Name: profit, dtype: float64\n",
      "HANDICAP_CATEGORIE_DIVISE\n",
      "count    78.000000\n",
      "mean     -0.134615\n",
      "std       4.393024\n",
      "min      -1.000000\n",
      "25%      -1.000000\n",
      "50%      -1.000000\n",
      "75%      -1.000000\n",
      "max      29.400000\n",
      "Name: profit, dtype: float64\n",
      "HANDICAP\n",
      "count    42.000000\n",
      "mean      0.683333\n",
      "std       6.397672\n",
      "min      -1.000000\n",
      "25%      -1.000000\n",
      "50%      -1.000000\n",
      "75%      -1.000000\n",
      "max      33.100000\n",
      "Name: profit, dtype: float64\n",
      "HANDICAP_DE_CATEGORIE\n",
      "count    41.000000\n",
      "mean      0.314634\n",
      "std       5.305165\n",
      "min      -1.000000\n",
      "25%      -1.000000\n",
      "50%      -1.000000\n",
      "75%      -1.000000\n",
      "max      28.100000\n",
      "Name: profit, dtype: float64\n",
      "NATIONALE\n",
      "count    4.0\n",
      "mean    -1.0\n",
      "std      0.0\n",
      "min     -1.0\n",
      "25%     -1.0\n",
      "50%     -1.0\n",
      "75%     -1.0\n",
      "max     -1.0\n",
      "Name: profit, dtype: float64\n",
      "APPRENTIS_LADS_JOCKEYS\n",
      "count    9.0\n",
      "mean    -1.0\n",
      "std      0.0\n",
      "min     -1.0\n",
      "25%     -1.0\n",
      "50%     -1.0\n",
      "75%     -1.0\n",
      "max     -1.0\n",
      "Name: profit, dtype: float64\n",
      "EUROPEENNE\n",
      "count    29.0\n",
      "mean     -1.0\n",
      "std       0.0\n",
      "min      -1.0\n",
      "25%      -1.0\n",
      "50%      -1.0\n",
      "75%      -1.0\n",
      "max      -1.0\n",
      "Name: profit, dtype: float64\n",
      "AMATEURS_AUTOSTART\n",
      "count    16.000\n",
      "mean     -0.175\n",
      "std       3.300\n",
      "min      -1.000\n",
      "25%      -1.000\n",
      "50%      -1.000\n",
      "75%      -1.000\n",
      "max      12.200\n",
      "Name: profit, dtype: float64\n",
      "EUROPEENNE_AUTOSTART\n",
      "count    13.000000\n",
      "mean      1.130769\n",
      "std       7.682598\n",
      "min      -1.000000\n",
      "25%      -1.000000\n",
      "50%      -1.000000\n",
      "75%      -1.000000\n",
      "max      26.700000\n",
      "Name: profit, dtype: float64\n",
      "GROUPE_III\n",
      "count    2.0\n",
      "mean    -1.0\n",
      "std      0.0\n",
      "min     -1.0\n",
      "25%     -1.0\n",
      "50%     -1.0\n",
      "75%     -1.0\n",
      "max     -1.0\n",
      "Name: profit, dtype: float64\n",
      "NATIONALE_AUTOSTART\n",
      "count    6.000000\n",
      "mean     0.550000\n",
      "std      3.796709\n",
      "min     -1.000000\n",
      "25%     -1.000000\n",
      "50%     -1.000000\n",
      "75%     -1.000000\n",
      "max      8.300000\n",
      "Name: profit, dtype: float64\n",
      "AMATEURS\n",
      "count     6.000000\n",
      "mean      3.416667\n",
      "std      10.818580\n",
      "min      -1.000000\n",
      "25%      -1.000000\n",
      "50%      -1.000000\n",
      "75%      -1.000000\n",
      "max      25.500000\n",
      "Name: profit, dtype: float64\n",
      "COURSE_A_CONDITION_QUALIF_HP\n",
      "count    15.0\n",
      "mean     -1.0\n",
      "std       0.0\n",
      "min      -1.0\n",
      "25%      -1.0\n",
      "50%      -1.0\n",
      "75%      -1.0\n",
      "max      -1.0\n",
      "Name: profit, dtype: float64\n",
      "APPRENTIS_LADS_JOCKEYS_AUTOSTART\n",
      "count    6.000000\n",
      "mean    -0.266667\n",
      "std      1.796292\n",
      "min     -1.000000\n",
      "25%     -1.000000\n",
      "50%     -1.000000\n",
      "75%     -1.000000\n",
      "max      3.400000\n",
      "Name: profit, dtype: float64\n",
      "GROUPE_II\n",
      "count    1.0\n",
      "mean    -1.0\n",
      "std      NaN\n",
      "min     -1.0\n",
      "25%     -1.0\n",
      "50%     -1.0\n",
      "75%     -1.0\n",
      "max     -1.0\n",
      "Name: profit, dtype: float64\n",
      "A_RECLAMER_AUTOSTART\n",
      "count    4.0\n",
      "mean    -1.0\n",
      "std      0.0\n",
      "min     -1.0\n",
      "25%     -1.0\n",
      "50%     -1.0\n",
      "75%     -1.0\n",
      "max     -1.0\n",
      "Name: profit, dtype: float64\n",
      "GROUPE_I\n",
      "count    4.0\n",
      "mean    -1.0\n",
      "std      0.0\n",
      "min     -1.0\n",
      "25%     -1.0\n",
      "50%     -1.0\n",
      "75%     -1.0\n",
      "max     -1.0\n",
      "Name: profit, dtype: float64\n",
      "INTERNATIONALE\n",
      "count    2.0\n",
      "mean    -1.0\n",
      "std      0.0\n",
      "min     -1.0\n",
      "25%     -1.0\n",
      "50%     -1.0\n",
      "75%     -1.0\n",
      "max     -1.0\n",
      "Name: profit, dtype: float64\n",
      "APPRENTIS_LADS_JOCKEYS_EUROPEENNE\n",
      "count    0.0\n",
      "mean     NaN\n",
      "std      NaN\n",
      "min      NaN\n",
      "25%      NaN\n",
      "50%      NaN\n",
      "75%      NaN\n",
      "max      NaN\n",
      "Name: profit, dtype: float64\n",
      "APPRENTIS_LADS_JOCKEYS_A_RECLAMER_AUTOSTART\n",
      "count    1.0\n",
      "mean    -1.0\n",
      "std      NaN\n",
      "min     -1.0\n",
      "25%     -1.0\n",
      "50%     -1.0\n",
      "75%     -1.0\n",
      "max     -1.0\n",
      "Name: profit, dtype: float64\n",
      "A_RECLAMER_APPRENTIS_LADS_JOCKEYS\n",
      "count    0.0\n",
      "mean     NaN\n",
      "std      NaN\n",
      "min      NaN\n",
      "25%      NaN\n",
      "50%      NaN\n",
      "75%      NaN\n",
      "max      NaN\n",
      "Name: profit, dtype: float64\n",
      "AMATEURS_NATIONALE\n",
      "count    0.0\n",
      "mean     NaN\n",
      "std      NaN\n",
      "min      NaN\n",
      "25%      NaN\n",
      "50%      NaN\n",
      "75%      NaN\n",
      "max      NaN\n",
      "Name: profit, dtype: float64\n",
      "AMATEURS_EUROPEENNE_AUTOSTART\n",
      "count    0.0\n",
      "mean     NaN\n",
      "std      NaN\n",
      "min      NaN\n",
      "25%      NaN\n",
      "50%      NaN\n",
      "75%      NaN\n",
      "max      NaN\n",
      "Name: profit, dtype: float64\n",
      "INTERNATIONALE_AUTOSTART\n",
      "count    0.0\n",
      "mean     NaN\n",
      "std      NaN\n",
      "min      NaN\n",
      "25%      NaN\n",
      "50%      NaN\n",
      "75%      NaN\n",
      "max      NaN\n",
      "Name: profit, dtype: float64\n",
      "AMATEURS_PRIORITE_AUX_PROPRIETAIRES\n",
      "count    0.0\n",
      "mean     NaN\n",
      "std      NaN\n",
      "min      NaN\n",
      "25%      NaN\n",
      "50%      NaN\n",
      "75%      NaN\n",
      "max      NaN\n",
      "Name: profit, dtype: float64\n",
      "QUALIFICATION_ACCAF\n",
      "count    0.0\n",
      "mean     NaN\n",
      "std      NaN\n",
      "min      NaN\n",
      "25%      NaN\n",
      "50%      NaN\n",
      "75%      NaN\n",
      "max      NaN\n",
      "Name: profit, dtype: float64\n",
      "COURSE_AP\n",
      "count    0.0\n",
      "mean     NaN\n",
      "std      NaN\n",
      "min      NaN\n",
      "25%      NaN\n",
      "50%      NaN\n",
      "75%      NaN\n",
      "max      NaN\n",
      "Name: profit, dtype: float64\n",
      "A_RECLAMER_AMATEURS_AUTOSTART\n",
      "count    0.0\n",
      "mean     NaN\n",
      "std      NaN\n",
      "min      NaN\n",
      "25%      NaN\n",
      "50%      NaN\n",
      "75%      NaN\n",
      "max      NaN\n",
      "Name: profit, dtype: float64\n",
      "A_RECLAMER_AMATEURS\n",
      "count    0.0\n",
      "mean     NaN\n",
      "std      NaN\n",
      "min      NaN\n",
      "25%      NaN\n",
      "50%      NaN\n",
      "75%      NaN\n",
      "max      NaN\n",
      "Name: profit, dtype: float64\n",
      "COURSE_INTERNATIONALE\n",
      "count    0.0\n",
      "mean     NaN\n",
      "std      NaN\n",
      "min      NaN\n",
      "25%      NaN\n",
      "50%      NaN\n",
      "75%      NaN\n",
      "max      NaN\n",
      "Name: profit, dtype: float64\n",
      "FINALE_REGIONALE_ACCAF\n",
      "count    0.0\n",
      "mean     NaN\n",
      "std      NaN\n",
      "min      NaN\n",
      "25%      NaN\n",
      "50%      NaN\n",
      "75%      NaN\n",
      "max      NaN\n",
      "Name: profit, dtype: float64\n",
      "AMATEURS_INTERNATIONALE_AUTOSTART\n",
      "count    0.0\n",
      "mean     NaN\n",
      "std      NaN\n",
      "min      NaN\n",
      "25%      NaN\n",
      "50%      NaN\n",
      "75%      NaN\n",
      "max      NaN\n",
      "Name: profit, dtype: float64\n",
      "AMATEURS_INTERNATIONALE\n",
      "count    0.0\n",
      "mean     NaN\n",
      "std      NaN\n",
      "min      NaN\n",
      "25%      NaN\n",
      "50%      NaN\n",
      "75%      NaN\n",
      "max      NaN\n",
      "Name: profit, dtype: float64\n",
      "HANDICAP_A_RECLAMER\n",
      "count    0.0\n",
      "mean     NaN\n",
      "std      NaN\n",
      "min      NaN\n",
      "25%      NaN\n",
      "50%      NaN\n",
      "75%      NaN\n",
      "max      NaN\n",
      "Name: profit, dtype: float64\n",
      "AMATEURS_EUROPEENNE\n",
      "count    0.0\n",
      "mean     NaN\n",
      "std      NaN\n",
      "min      NaN\n",
      "25%      NaN\n",
      "50%      NaN\n",
      "75%      NaN\n",
      "max      NaN\n",
      "Name: profit, dtype: float64\n",
      "AMATEURS_DAMES_AUTOSTART\n",
      "count    0.0\n",
      "mean     NaN\n",
      "std      NaN\n",
      "min      NaN\n",
      "25%      NaN\n",
      "50%      NaN\n",
      "75%      NaN\n",
      "max      NaN\n",
      "Name: profit, dtype: float64\n",
      "MIXTE\n",
      "count    0.0\n",
      "mean     NaN\n",
      "std      NaN\n",
      "min      NaN\n",
      "25%      NaN\n",
      "50%      NaN\n",
      "75%      NaN\n",
      "max      NaN\n",
      "Name: profit, dtype: float64\n",
      "COURSE_AP_EUROPEENNE\n",
      "count    0.0\n",
      "mean     NaN\n",
      "std      NaN\n",
      "min      NaN\n",
      "25%      NaN\n",
      "50%      NaN\n",
      "75%      NaN\n",
      "max      NaN\n",
      "Name: profit, dtype: float64\n"
     ]
    }
   ],
   "source": [
    "#g = df_test[(df_test['sub_category']=='HANDICAP') & (df_test['oddsrn'] <= df_test['pn']) & (df_test['final_odds_ref'] < 30.) & (df_test['final_odds_ref'] > 1.)].copy()\n",
    "#df_test[(df_test['pn']==0) & (df_test['pstd']<1.) & (df_test['final_odds_ref'] > 1.) & (df_test['final_odds_ref'] < 30.)]['profit'].describe()\n",
    "\n",
    "\n",
    "\n",
    "for cat in df_test['sub_category'].value_counts().index:\n",
    "    print(cat)\n",
    "    \n",
    "    g = df_test[ (df_test['pn_same']<0.1) & (df_test['pn']==0) & (df_test['sub_category']==cat) & (df_test['final_odds_ref_real'] > 2) & (df_test['final_odds_ref_real'] < 40) ].copy()\n",
    "    print(g['profit'].describe())"
   ]
  },
  {
   "cell_type": "code",
   "execution_count": 343,
   "metadata": {},
   "outputs": [
    {
     "name": "stdout",
     "output_type": "stream",
     "text": [
      "COURSE_A_CONDITIONS\n",
      "934\n",
      "               start_at        horse_name  race_id     prize  bet  oddsn  \\\n",
      "25  2018-01-06 12:50:00      GALATA TOWER    13639  0.354981    1      3   \n",
      "170 2018-01-15 12:55:00         PLAVALINE    13983  0.417374    1      5   \n",
      "223 2018-01-15 15:10:00  BEYOND MY DREAMS    13987  0.354981    1      6   \n",
      "259 2018-01-15 16:12:00          ASHTANEH    13989 -0.081598    1      3   \n",
      "286 2018-01-26 13:02:00    RUNNING WATERS    14425  0.077616    1      3   \n",
      "336 2018-01-26 15:12:00     GOOD QUESTION    14429  0.354981    1      4   \n",
      "516 2018-02-01 15:42:00       BERMONVILLE    14662  0.417374    1      5   \n",
      "572 2018-02-08 12:55:00   HURRICANE LIGHT    14943  0.417374    1      6   \n",
      "608 2018-02-08 14:35:00    BREATH OF LIFE    14946  0.354981    1      5   \n",
      "634 2018-02-08 15:40:00         GONE SOLO    14948  0.354981    1      6   \n",
      "\n",
      "            sub_category  final_odds  winner_dividend  placed_dividend  \\\n",
      "25   COURSE_A_CONDITIONS         9.4              0.0              0.0   \n",
      "170  COURSE_A_CONDITIONS        18.8              0.0              0.0   \n",
      "223  COURSE_A_CONDITIONS        13.0           1300.0            380.0   \n",
      "259  COURSE_A_CONDITIONS         9.4              0.0            220.0   \n",
      "286  COURSE_A_CONDITIONS         8.0              0.0            240.0   \n",
      "336  COURSE_A_CONDITIONS         8.8              0.0              0.0   \n",
      "516  COURSE_A_CONDITIONS        13.4              0.0              0.0   \n",
      "572  COURSE_A_CONDITIONS        11.0              0.0              0.0   \n",
      "608  COURSE_A_CONDITIONS         9.3              0.0              0.0   \n",
      "634  COURSE_A_CONDITIONS        16.0              0.0            300.0   \n",
      "\n",
      "     position  bet  profit  stash  \n",
      "25        5.0    1    -1.0   -1.0  \n",
      "170       4.0    1    -1.0   -2.0  \n",
      "223       1.0    1    12.0   10.0  \n",
      "259       2.0    1    -1.0    9.0  \n",
      "286       3.0    1    -1.0    8.0  \n",
      "336       5.0    1    -1.0    7.0  \n",
      "516      10.0    1    -1.0    6.0  \n",
      "572       6.0    1    -1.0    5.0  \n",
      "608       7.0    1    -1.0    4.0  \n",
      "634       2.0    1    -1.0    3.0  \n"
     ]
    },
    {
     "data": {
      "image/png": "[encoded data removed]",
      "text/plain": [
       "<Figure size 432x288 with 1 Axes>"
      ]
     },
     "metadata": {
      "needs_background": "light"
     },
     "output_type": "display_data"
    },
    {
     "name": "stdout",
     "output_type": "stream",
     "text": [
      "INCONNU\n",
      "456\n",
      "                start_at      horse_name  race_id     prize  bet  oddsn  \\\n",
      "2811 2018-06-17 17:30:00  RODESS DU LOUP    20311  3.205417    1      1   \n",
      "6227 2019-03-25 17:17:00      THORPE BAY    69421 -0.354977    1      5   \n",
      "6552 2019-04-13 13:18:00         ORKANOS    70132 -0.354977    1     10   \n",
      "7468 2019-06-16 18:00:00          KANAAN    72499  3.205417    1      4   \n",
      "7539 2019-06-21 15:56:00  SCRIBNER CREEK    72694 -0.354977    1      2   \n",
      "7917 2019-09-20 14:17:00  MAIZE AND BLUE    76247 -0.354977    1      4   \n",
      "9192 2018-05-08 12:20:00    FOREVER JIEL    18607 -0.457644    1      3   \n",
      "9835 2018-09-06 15:40:00  DIAMANT D'IDEF    63320 -0.081598    1      6   \n",
      "9847 2018-09-06 16:10:00    BEAU JENILOU    63321  0.645023    1      7   \n",
      "9861 2018-09-09 14:30:00     FILS A PAPA    63493 -0.812614    1      2   \n",
      "\n",
      "     sub_category  final_odds  winner_dividend  placed_dividend  position  \\\n",
      "2811      INCONNU         5.4            540.0            220.0       1.0   \n",
      "6227      INCONNU         9.3              0.0              0.0      20.0   \n",
      "6552      INCONNU        71.3              0.0              0.0       8.0   \n",
      "7468      INCONNU         7.2              0.0            250.0       3.0   \n",
      "7539      INCONNU         5.4              0.0              0.0       6.0   \n",
      "7917      INCONNU         6.3              0.0              0.0       5.0   \n",
      "9192      INCONNU        12.1              0.0              0.0      20.0   \n",
      "9835      INCONNU        24.6              0.0              0.0       9.0   \n",
      "9847      INCONNU        31.9              0.0              0.0       8.0   \n",
      "9861      INCONNU         6.3              0.0              0.0       8.0   \n",
      "\n",
      "      bet  profit  stash  \n",
      "2811    1     4.4    4.4  \n",
      "6227    1    -1.0    3.4  \n",
      "6552    1    -1.0    2.4  \n",
      "7468    1    -1.0    1.4  \n",
      "7539    1    -1.0    0.4  \n",
      "7917    1    -1.0   -0.6  \n",
      "9192    1    -1.0   -1.6  \n",
      "9835    1    -1.0   -2.6  \n",
      "9847    1    -1.0   -3.6  \n",
      "9861    1    -1.0   -4.6  \n"
     ]
    },
    {
     "data": {
      "image/png": "[encoded data removed]",
      "text/plain": [
       "<Figure size 432x288 with 1 Axes>"
      ]
     },
     "metadata": {
      "needs_background": "light"
     },
     "output_type": "display_data"
    },
    {
     "name": "stdout",
     "output_type": "stream",
     "text": [
      "HANDICAP_DIVISE\n",
      "336\n",
      "               start_at    horse_name  race_id     prize  bet  oddsn  \\\n",
      "79  2018-01-06 14:20:00      CHAOLINI    13642 -0.354977    1      2   \n",
      "103 2018-01-06 15:32:00   AS D'ARTOIS    13644 -0.081598    1      5   \n",
      "118 2018-01-06 16:02:00       DYREMIS    13645 -0.167608    1      2   \n",
      "163 2018-01-15 12:25:00  SOMBRE HEROS    13982 -0.258535    1      2   \n",
      "201 2018-01-15 14:05:00   APRIL ANGEL    13985 -0.167608    1      7   \n",
      "213 2018-01-15 14:37:00        FRESCO    13986  0.000000    1      8   \n",
      "264 2018-01-26 12:32:00  SPEEDY SPEED    14424 -0.567396    1      7   \n",
      "289 2018-01-26 13:32:00       DYREMIS    14426 -0.258535    1      1   \n",
      "363 2018-01-26 15:45:00   ROYAL GREEN    14430 -0.258535    1      9   \n",
      "375 2018-01-26 16:17:00  JACK MUSCOLO    14431 -0.081598    1     12   \n",
      "\n",
      "        sub_category  final_odds  winner_dividend  placed_dividend  position  \\\n",
      "79   HANDICAP_DIVISE         7.0              0.0              0.0       4.0   \n",
      "103  HANDICAP_DIVISE        11.5              0.0              0.0      12.0   \n",
      "118  HANDICAP_DIVISE         6.2              0.0            170.0       2.0   \n",
      "163  HANDICAP_DIVISE         7.7              0.0            350.0       2.0   \n",
      "201  HANDICAP_DIVISE        16.8              0.0            400.0       3.0   \n",
      "213  HANDICAP_DIVISE        28.0              0.0              0.0       8.0   \n",
      "264  HANDICAP_DIVISE        17.2              0.0              0.0       6.0   \n",
      "289  HANDICAP_DIVISE         5.2              0.0            160.0       2.0   \n",
      "363  HANDICAP_DIVISE        16.1              0.0              0.0      11.0   \n",
      "375  HANDICAP_DIVISE        34.1              0.0              0.0      14.0   \n",
      "\n",
      "     bet  profit  stash  \n",
      "79     1    -1.0   -1.0  \n",
      "103    1    -1.0   -2.0  \n",
      "118    1    -1.0   -3.0  \n",
      "163    1    -1.0   -4.0  \n",
      "201    1    -1.0   -5.0  \n",
      "213    1    -1.0   -6.0  \n",
      "264    1    -1.0   -7.0  \n",
      "289    1    -1.0   -8.0  \n",
      "363    1    -1.0   -9.0  \n",
      "375    1    -1.0  -10.0  \n"
     ]
    },
    {
     "data": {
      "image/png": "[encoded data removed]",
      "text/plain": [
       "<Figure size 432x288 with 1 Axes>"
      ]
     },
     "metadata": {
      "needs_background": "light"
     },
     "output_type": "display_data"
    },
    {
     "name": "stdout",
     "output_type": "stream",
     "text": [
      "A_RECLAMER\n",
      "325\n",
      "                start_at      horse_name  race_id     prize  bet  oddsn  \\\n",
      "186  2018-01-15 13:25:00  ORIENTAL GHOST    13984 -0.457644    1      8   \n",
      "418  2018-02-01 12:25:00     WORLD POWER    14656 -0.354977    1      1   \n",
      "438  2018-02-01 13:00:00      BELLE CITY    14657  0.000000    1      7   \n",
      "556  2018-02-08 12:25:00          AKIRIA    14942 -0.354977    1     12   \n",
      "664  2018-02-13 12:25:00  QUIZ EVOLUTION    15144 -0.167608    1      4   \n",
      "691  2018-02-13 13:25:00           SHILO    15146 -0.258535    1      1   \n",
      "694  2018-02-13 14:05:00       MUNAASHID    15147 -0.167608    1      3   \n",
      "770  2018-02-16 13:25:00    NINE OU FOUR    15263 -0.457644    1      2   \n",
      "1084 2018-03-06 12:40:00       ALSSARUKH    15963  0.477412    1      6   \n",
      "1364 2018-03-15 12:40:00       MUNAASHID    16325 -0.081598    1      2   \n",
      "\n",
      "     sub_category  final_odds  winner_dividend  placed_dividend  position  \\\n",
      "186    A_RECLAMER        23.8              0.0              0.0       9.0   \n",
      "418    A_RECLAMER         6.1              0.0              0.0       8.0   \n",
      "438    A_RECLAMER        14.8              0.0              0.0      20.0   \n",
      "556    A_RECLAMER        34.3              0.0              0.0      13.0   \n",
      "664    A_RECLAMER        11.0              0.0            210.0       3.0   \n",
      "691    A_RECLAMER         5.8              0.0              0.0      13.0   \n",
      "694    A_RECLAMER         5.9              0.0            210.0       2.0   \n",
      "770    A_RECLAMER         4.6              0.0              0.0       4.0   \n",
      "1084   A_RECLAMER        28.0              0.0              0.0       6.0   \n",
      "1364   A_RECLAMER         5.9              0.0              0.0       8.0   \n",
      "\n",
      "      bet  profit  stash  \n",
      "186     1    -1.0   -1.0  \n",
      "418     1    -1.0   -2.0  \n",
      "438     1    -1.0   -3.0  \n",
      "556     1    -1.0   -4.0  \n",
      "664     1    -1.0   -5.0  \n",
      "691     1    -1.0   -6.0  \n",
      "694     1    -1.0   -7.0  \n",
      "770     1    -1.0   -8.0  \n",
      "1084    1    -1.0   -9.0  \n",
      "1364    1    -1.0  -10.0  \n"
     ]
    },
    {
     "data": {
      "image/png": "[encoded data removed]",
      "text/plain": [
       "<Figure size 432x288 with 1 Axes>"
      ]
     },
     "metadata": {
      "needs_background": "light"
     },
     "output_type": "display_data"
    },
    {
     "name": "stdout",
     "output_type": "stream",
     "text": [
      "AUTOSTART\n",
      "244\n",
      "                 start_at          horse_name  race_id     prize  bet  oddsn  \\\n",
      "11950 2018-01-17 14:35:00         ETOILE ALDO    14060 -0.258535    1      1   \n",
      "12014 2018-01-21 13:45:00     FANTASTIQUE ACE    66025 -0.812614    1      3   \n",
      "12121 2018-01-28 17:05:00            BOYLOTIN    14529 -0.167608    1      5   \n",
      "12164 2018-01-28 14:15:00  ETIKETTE DU PHENIX    66067 -0.685285    1      6   \n",
      "12183 2018-01-28 14:45:00  BRASILIA DU PERCHE    66068 -0.457644    1      6   \n",
      "12273 2018-02-04 13:40:00         FRENCH BABY    66097 -0.812614    1      6   \n",
      "12353 2018-02-04 17:10:00     AS DES CHALIERS    66103 -0.685285    1      5   \n",
      "12396 2018-02-17 13:20:00     ECLAIR DES VAUX    15301 -0.167608    1      7   \n",
      "12674 2018-03-25 12:50:00      EL NINA FLIGNY    16763 -0.081598    1      6   \n",
      "12765 2018-04-15 15:45:00  BRASILIA DU PERCHE    17662 -0.457644    1      8   \n",
      "\n",
      "      sub_category  final_odds  winner_dividend  placed_dividend  position  \\\n",
      "11950    AUTOSTART         3.8              0.0            180.0       2.0   \n",
      "12014    AUTOSTART         9.2              0.0              0.0       6.0   \n",
      "12121    AUTOSTART        17.2              0.0            380.0       2.0   \n",
      "12164    AUTOSTART        30.5              0.0              0.0       4.0   \n",
      "12183    AUTOSTART        15.6              0.0              0.0      10.0   \n",
      "12273    AUTOSTART        14.7              0.0              0.0      20.0   \n",
      "12353    AUTOSTART        17.3              0.0              0.0       8.0   \n",
      "12396    AUTOSTART        15.9              0.0              0.0      20.0   \n",
      "12674    AUTOSTART        19.7              0.0              0.0       5.0   \n",
      "12765    AUTOSTART        17.9              0.0              0.0      20.0   \n",
      "\n",
      "       bet  profit  stash  \n",
      "11950    1    -1.0   -1.0  \n",
      "12014    1    -1.0   -2.0  \n",
      "12121    1    -1.0   -3.0  \n",
      "12164    1    -1.0   -4.0  \n",
      "12183    1    -1.0   -5.0  \n",
      "12273    1    -1.0   -6.0  \n",
      "12353    1    -1.0   -7.0  \n",
      "12396    1    -1.0   -8.0  \n",
      "12674    1    -1.0   -9.0  \n",
      "12765    1    -1.0  -10.0  \n"
     ]
    },
    {
     "data": {
      "image/png": "[encoded data removed]",
      "text/plain": [
       "<Figure size 432x288 with 1 Axes>"
      ]
     },
     "metadata": {
      "needs_background": "light"
     },
     "output_type": "display_data"
    },
    {
     "name": "stdout",
     "output_type": "stream",
     "text": [
      "HANDICAP_CATEGORIE_DIVISE\n",
      "150\n",
      "                start_at          horse_name  race_id     prize  bet  oddsn  \\\n",
      "2043 2018-04-13 17:23:00        MOCKLERSHILL    17546 -0.812614    1      2   \n",
      "2206 2018-04-27 15:00:00            SUNDERIA    18119 -0.081598    1      1   \n",
      "2240 2018-04-27 16:00:00        SOMBRE HEROS    18121  0.077616    1      1   \n",
      "2251 2018-04-27 16:30:00  LIGHT OF THE WORLD    18122 -0.081598    1     11   \n",
      "2321 2018-05-02 15:40:00               O DEE    18357  0.077616    1     12   \n",
      "2346 2018-05-02 16:14:00         BECQUAGEMME    18358 -0.081598    1      2   \n",
      "2386 2018-05-07 14:50:00           ALSSARUKH    18557  0.222335    1      6   \n",
      "2398 2018-05-07 15:55:00           MA LOUGIE    18559 -0.081598    1     10   \n",
      "2638 2018-05-18 16:47:00              AKIRIA    19022  0.077616    1     14   \n",
      "2651 2018-05-18 17:17:00            SUNDERIA    19023 -0.081598    1      9   \n",
      "\n",
      "                   sub_category  final_odds  winner_dividend  placed_dividend  \\\n",
      "2043  HANDICAP_CATEGORIE_DIVISE         6.7              0.0            300.0   \n",
      "2206  HANDICAP_CATEGORIE_DIVISE         4.8              0.0              0.0   \n",
      "2240  HANDICAP_CATEGORIE_DIVISE         5.8              0.0              0.0   \n",
      "2251  HANDICAP_CATEGORIE_DIVISE        27.2              0.0              0.0   \n",
      "2321  HANDICAP_CATEGORIE_DIVISE        33.3              0.0              0.0   \n",
      "2346  HANDICAP_CATEGORIE_DIVISE         8.7              0.0              0.0   \n",
      "2386  HANDICAP_CATEGORIE_DIVISE        12.0              0.0              0.0   \n",
      "2398  HANDICAP_CATEGORIE_DIVISE        36.1              0.0              0.0   \n",
      "2638  HANDICAP_CATEGORIE_DIVISE        51.0              0.0              0.0   \n",
      "2651  HANDICAP_CATEGORIE_DIVISE        24.7              0.0              0.0   \n",
      "\n",
      "      position  bet  profit  stash  \n",
      "2043       3.0    1    -1.0   -1.0  \n",
      "2206      20.0    1    -1.0   -2.0  \n",
      "2240       5.0    1    -1.0   -3.0  \n",
      "2251       8.0    1    -1.0   -4.0  \n",
      "2321       4.0    1    -1.0   -5.0  \n",
      "2346       4.0    1    -1.0   -6.0  \n",
      "2386       5.0    1    -1.0   -7.0  \n",
      "2398      10.0    1    -1.0   -8.0  \n",
      "2638      15.0    1    -1.0   -9.0  \n",
      "2651       9.0    1    -1.0  -10.0  \n"
     ]
    },
    {
     "data": {
      "image/png": "[encoded data removed]",
      "text/plain": [
       "<Figure size 432x288 with 1 Axes>"
      ]
     },
     "metadata": {
      "needs_background": "light"
     },
     "output_type": "display_data"
    },
    {
     "name": "stdout",
     "output_type": "stream",
     "text": [
      "HANDICAP\n",
      "110\n",
      "                start_at      horse_name  race_id     prize  bet  oddsn  \\\n",
      "62   2018-01-06 13:50:00   LA MANDRAGOLA    13641  0.290040    1      4   \n",
      "386  2018-01-26 16:47:00          FRESCO    14432  0.000000    1     10   \n",
      "807  2018-02-16 14:35:00  DESERT HEIGHTS    15265  0.000000    1     10   \n",
      "909  2018-02-22 14:05:00         GASALTO    15496  0.000000    1      5   \n",
      "1037 2018-02-23 15:40:00     APRIL ANGEL    15541  0.000000    1     12   \n",
      "1314 2018-03-13 15:00:00     ZONE REGARD    16244  0.645023    1      4   \n",
      "2713 2018-06-03 16:58:00         MEZIDON    19727  1.992950    1     11   \n",
      "2830 2018-06-17 18:05:00  AKINATHOR GAME    20312  1.609294    1      7   \n",
      "3058 2018-11-08 13:28:00         SEXTINE    21052  1.102680    1      6   \n",
      "3151 2018-11-13 12:25:00          IVIRKA    21320  1.102680    1      7   \n",
      "\n",
      "     sub_category  final_odds  winner_dividend  placed_dividend  position  \\\n",
      "62       HANDICAP        12.3              0.0              0.0      16.0   \n",
      "386      HANDICAP        28.5              0.0              0.0      11.0   \n",
      "807      HANDICAP        23.7              0.0              0.0       7.0   \n",
      "909      HANDICAP        10.9              0.0              0.0      15.0   \n",
      "1037     HANDICAP        31.0              0.0              0.0      12.0   \n",
      "1314     HANDICAP        10.5              0.0              0.0       5.0   \n",
      "2713     HANDICAP        23.6              0.0              0.0      10.0   \n",
      "2830     HANDICAP        18.5              0.0              0.0      15.0   \n",
      "3058     HANDICAP        24.6              0.0              0.0      10.0   \n",
      "3151     HANDICAP        25.6              0.0              0.0       7.0   \n",
      "\n",
      "      bet  profit  stash  \n",
      "62      1    -1.0   -1.0  \n",
      "386     1    -1.0   -2.0  \n",
      "807     1    -1.0   -3.0  \n",
      "909     1    -1.0   -4.0  \n",
      "1037    1    -1.0   -5.0  \n",
      "1314    1    -1.0   -6.0  \n",
      "2713    1    -1.0   -7.0  \n",
      "2830    1    -1.0   -8.0  \n",
      "3058    1    -1.0   -9.0  \n",
      "3151    1    -1.0  -10.0  \n"
     ]
    },
    {
     "data": {
      "image/png": "[encoded data removed]",
      "text/plain": [
       "<Figure size 432x288 with 1 Axes>"
      ]
     },
     "metadata": {
      "needs_background": "light"
     },
     "output_type": "display_data"
    },
    {
     "name": "stdout",
     "output_type": "stream",
     "text": [
      "HANDICAP_DE_CATEGORIE\n",
      "93\n",
      "                start_at          horse_name  race_id     prize  bet  oddsn  \\\n",
      "1134 2018-03-06 14:50:00         SOME NIGHTS    15967  0.222335    1     13   \n",
      "1491 2018-03-20 14:52:00      EN PLEIN COEUR    16543 -0.081598    1      0   \n",
      "1997 2018-04-13 15:48:00     TRESOR DU ROUME    17543  0.222335    1      1   \n",
      "2735 2018-06-03 18:10:00      ZIGGY STARDUST    19729  0.222335    1      5   \n",
      "2747 2018-06-17 13:48:00  DOCTOR FONTENAILLE    20305  0.000000    1      1   \n",
      "2770 2018-06-17 14:50:00        TEXAS RANGER    20307  0.151621    1      3   \n",
      "3015 2018-11-07 16:07:00               LOMAO    21011  0.222335    1      3   \n",
      "3419 2018-07-09 16:25:00   MA PETITE TOSCANE    22228  0.222335    1     15   \n",
      "3629 2018-07-27 17:13:00              SAMOON    23069 -0.081598    1      6   \n",
      "4447 2018-09-15 19:47:00            AN AMKAN    63735 -0.081598    1      8   \n",
      "\n",
      "               sub_category  final_odds  winner_dividend  placed_dividend  \\\n",
      "1134  HANDICAP_DE_CATEGORIE        48.0              0.0              0.0   \n",
      "1491  HANDICAP_DE_CATEGORIE         3.5            350.0            160.0   \n",
      "1997  HANDICAP_DE_CATEGORIE         5.3              0.0            210.0   \n",
      "2735  HANDICAP_DE_CATEGORIE         9.6              0.0            350.0   \n",
      "2747  HANDICAP_DE_CATEGORIE         5.1              0.0              0.0   \n",
      "2770  HANDICAP_DE_CATEGORIE         8.1              0.0              0.0   \n",
      "3015  HANDICAP_DE_CATEGORIE         7.8            780.0            330.0   \n",
      "3419  HANDICAP_DE_CATEGORIE        50.5              0.0              0.0   \n",
      "3629  HANDICAP_DE_CATEGORIE        20.4              0.0              0.0   \n",
      "4447  HANDICAP_DE_CATEGORIE        23.7              0.0            430.0   \n",
      "\n",
      "      position  bet  profit  stash  \n",
      "1134      15.0    1    -1.0   -1.0  \n",
      "1491       1.0    1     2.5    1.5  \n",
      "1997       2.0    1    -1.0    0.5  \n",
      "2735       2.0    1    -1.0   -0.5  \n",
      "2747       7.0    1    -1.0   -1.5  \n",
      "2770      11.0    1    -1.0   -2.5  \n",
      "3015       1.0    1     6.8    4.3  \n",
      "3419      13.0    1    -1.0    3.3  \n",
      "3629       7.0    1    -1.0    2.3  \n",
      "4447       3.0    1    -1.0    1.3  \n"
     ]
    },
    {
     "data": {
      "image/png": "[encoded data removed]",
      "text/plain": [
       "<Figure size 432x288 with 1 Axes>"
      ]
     },
     "metadata": {
      "needs_background": "light"
     },
     "output_type": "display_data"
    },
    {
     "name": "stdout",
     "output_type": "stream",
     "text": [
      "NATIONALE\n",
      "73\n",
      "                 start_at          horse_name  race_id     prize  bet  oddsn  \\\n",
      "9095  2018-04-15 11:50:00      FLECHE DE JIEL    17634 -0.354977    1      1   \n",
      "9267  2018-05-08 15:30:00               DUSTY    18613  0.000000    1     11   \n",
      "9748  2018-09-06 11:55:00         FORMAT D'AM    63313 -0.258535    1      2   \n",
      "9761  2018-09-06 12:25:00   FLANDERS CALENDES    63314 -0.258535    1      4   \n",
      "9787  2018-09-06 13:27:00      EL GATO GRANDE    63316  0.000000    1      8   \n",
      "10281 2018-10-17 16:25:00        FRAGGLE ROCK    65235  0.151621    1      8   \n",
      "10306 2018-10-17 16:55:00         ELTON TRAFO    65236  0.535267    1      1   \n",
      "10793 2019-04-14 12:10:00     GADJO SAUTREUIL    70167 -0.457644    1      0   \n",
      "11203 2019-09-05 11:50:00      GRAAL DU CHENE    75705 -0.457644    1      1   \n",
      "11215 2019-09-05 12:20:00  FRIPON DE L'EPINAY    75706 -0.258535    1     10   \n",
      "\n",
      "      sub_category  final_odds  winner_dividend  placed_dividend  position  \\\n",
      "9095     NATIONALE         2.9              0.0              0.0      20.0   \n",
      "9267     NATIONALE        83.3              0.0              0.0      20.0   \n",
      "9748     NATIONALE         5.3              0.0              0.0       7.0   \n",
      "9761     NATIONALE        15.6              0.0            390.0       3.0   \n",
      "9787     NATIONALE        24.1              0.0              0.0      20.0   \n",
      "10281    NATIONALE        30.4              0.0              0.0       9.0   \n",
      "10306    NATIONALE         4.6              0.0            180.0       3.0   \n",
      "10793    NATIONALE         4.7              0.0              0.0       4.0   \n",
      "11203    NATIONALE         2.5              0.0              0.0      20.0   \n",
      "11215    NATIONALE        95.0              0.0              0.0       8.0   \n",
      "\n",
      "       bet  profit  stash  \n",
      "9095     1    -1.0   -1.0  \n",
      "9267     1    -1.0   -2.0  \n",
      "9748     1    -1.0   -3.0  \n",
      "9761     1    -1.0   -4.0  \n",
      "9787     1    -1.0   -5.0  \n",
      "10281    1    -1.0   -6.0  \n",
      "10306    1    -1.0   -7.0  \n",
      "10793    1    -1.0   -8.0  \n",
      "11203    1    -1.0   -9.0  \n",
      "11215    1    -1.0  -10.0  \n"
     ]
    },
    {
     "data": {
      "image/png": "[encoded data removed]",
      "text/plain": [
       "<Figure size 432x288 with 1 Axes>"
      ]
     },
     "metadata": {
      "needs_background": "light"
     },
     "output_type": "display_data"
    },
    {
     "name": "stdout",
     "output_type": "stream",
     "text": [
      "APPRENTIS_LADS_JOCKEYS\n",
      "54\n",
      "                 start_at          horse_name  race_id     prize  bet  oddsn  \\\n",
      "9807  2018-09-06 14:07:00          CARRE CHIC    63317  0.000000    1     10   \n",
      "10268 2018-10-17 15:55:00          COCCINELLE    65234  0.151621    1      7   \n",
      "11226 2019-09-05 12:52:00           DRIGANALA    75707 -0.258535    1      6   \n",
      "12494 2018-03-04 13:15:00    DAYLIGHT OF LOVE    15897 -0.167608    1      7   \n",
      "12841 2018-04-15 16:45:00                EVRY    66478 -0.567396    1      7   \n",
      "13040 2018-04-25 16:00:00             CANCALE    18026  0.151621    1      7   \n",
      "13314 2018-06-10 11:45:00  VOYOU DES BRUYERES    20019  0.077616    1      8   \n",
      "13526 2018-06-16 21:32:00      CASTING DANCER    20295  0.000000    1      8   \n",
      "14833 2019-06-15 20:30:00       ELIXIR MERITE    72482  0.077616    1      5   \n",
      "15092 2018-02-23 14:21:00           DUC QUICK    15519  0.935068    1      5   \n",
      "\n",
      "                 sub_category  final_odds  winner_dividend  placed_dividend  \\\n",
      "9807   APPRENTIS_LADS_JOCKEYS        52.6              0.0              0.0   \n",
      "10268  APPRENTIS_LADS_JOCKEYS        42.9              0.0              0.0   \n",
      "11226  APPRENTIS_LADS_JOCKEYS        26.0              0.0              0.0   \n",
      "12494  APPRENTIS_LADS_JOCKEYS        18.5              0.0              0.0   \n",
      "12841  APPRENTIS_LADS_JOCKEYS        14.7              0.0              0.0   \n",
      "13040  APPRENTIS_LADS_JOCKEYS        21.4              0.0              0.0   \n",
      "13314  APPRENTIS_LADS_JOCKEYS        22.7              0.0            530.0   \n",
      "13526  APPRENTIS_LADS_JOCKEYS        23.8           2380.0            430.0   \n",
      "14833  APPRENTIS_LADS_JOCKEYS        29.0              0.0              0.0   \n",
      "15092  APPRENTIS_LADS_JOCKEYS        17.1              0.0              0.0   \n",
      "\n",
      "       position  bet  profit  stash  \n",
      "9807       12.0    1    -1.0   -1.0  \n",
      "10268      11.0    1    -1.0   -2.0  \n",
      "11226       6.0    1    -1.0   -3.0  \n",
      "12494       8.0    1    -1.0   -4.0  \n",
      "12841      20.0    1    -1.0   -5.0  \n",
      "13040       9.0    1    -1.0   -6.0  \n",
      "13314       2.0    1    -1.0   -7.0  \n",
      "13526       1.0    1    22.8   15.8  \n",
      "14833       5.0    1    -1.0   14.8  \n",
      "15092       4.0    1    -1.0   13.8  \n"
     ]
    },
    {
     "data": {
      "image/png": "[encoded data removed]",
      "text/plain": [
       "<Figure size 432x288 with 1 Axes>"
      ]
     },
     "metadata": {
      "needs_background": "light"
     },
     "output_type": "display_data"
    },
    {
     "name": "stdout",
     "output_type": "stream",
     "text": [
      "EUROPEENNE\n",
      "61\n",
      "                 start_at         horse_name  race_id     prize  bet  oddsn  \\\n",
      "10240 2018-10-17 14:52:00   ARAMIS DE DIGEON    65232  0.645023    1      9   \n",
      "11256 2019-09-05 14:37:00       GUSTY RHYTHM    75710  0.222335    1      1   \n",
      "12435 2018-02-17 14:52:00  THAIGER EXCLUSIVE    15304  0.151621    1      1   \n",
      "12454 2018-02-17 15:32:00             BRABUS    15305  1.021080    1      3   \n",
      "13026 2018-04-25 15:23:00   COLONEL CHANLECY    18025  0.354981    1      1   \n",
      "14424 2019-03-20 13:45:00      DEFI DE MORGE    69229  0.747694    1      6   \n",
      "14497 2019-03-20 17:15:00         BOXING DAY    69235  1.021080    1      6   \n",
      "15365 2018-02-28 15:05:00      CYRIEL D'ATOM    15715  2.205380    1      3   \n",
      "15646 2018-04-30 18:06:00           DASCALIA    18286  1.580103    1      6   \n",
      "15664 2018-04-30 18:34:00            URBANIO    18287  1.580103    1      1   \n",
      "\n",
      "      sub_category  final_odds  winner_dividend  placed_dividend  position  \\\n",
      "10240   EUROPEENNE        44.2              0.0              0.0      20.0   \n",
      "11256   EUROPEENNE         4.0            400.0            170.0       1.0   \n",
      "12435   EUROPEENNE         5.9            590.0            410.0       1.0   \n",
      "12454   EUROPEENNE         8.2              0.0              0.0      13.0   \n",
      "13026   EUROPEENNE         4.4              0.0              0.0       8.0   \n",
      "14424   EUROPEENNE        16.5              0.0              0.0       6.0   \n",
      "14497   EUROPEENNE        13.1              0.0              0.0       5.0   \n",
      "15365   EUROPEENNE        10.8              0.0              0.0       4.0   \n",
      "15646   EUROPEENNE        12.9              0.0              0.0      13.0   \n",
      "15664   EUROPEENNE         5.4              0.0              0.0       4.0   \n",
      "\n",
      "       bet  profit  stash  \n",
      "10240    1    -1.0   -1.0  \n",
      "11256    1     3.0    2.0  \n",
      "12435    1     4.9    6.9  \n",
      "12454    1    -1.0    5.9  \n",
      "13026    1    -1.0    4.9  \n",
      "14424    1    -1.0    3.9  \n",
      "14497    1    -1.0    2.9  \n",
      "15365    1    -1.0    1.9  \n",
      "15646    1    -1.0    0.9  \n",
      "15664    1    -1.0   -0.1  \n"
     ]
    },
    {
     "data": {
      "image/png": "[encoded data removed]",
      "text/plain": [
       "<Figure size 432x288 with 1 Axes>"
      ]
     },
     "metadata": {
      "needs_background": "light"
     },
     "output_type": "display_data"
    },
    {
     "name": "stdout",
     "output_type": "stream",
     "text": [
      "AMATEURS_AUTOSTART\n",
      "52\n",
      "                 start_at          horse_name  race_id     prize  bet  oddsn  \\\n",
      "11929 2018-01-17 13:27:00            VAQUESSO    14058 -1.915201    1      4   \n",
      "12095 2018-01-21 16:30:00    VILATE DU BOCAGE    66030 -1.915201    1      5   \n",
      "12420 2018-02-17 14:20:00    VICTOR DU MOULIN    15303 -1.915201    1      6   \n",
      "12523 2018-03-04 13:48:00  VOYOU DES BRUYERES    15898 -1.915201    1      7   \n",
      "12659 2018-03-25 12:20:00      BEAUTE D'ATOUT    16762 -1.915201    1      3   \n",
      "12873 2018-04-15 17:45:00      BELLA DU BEROY    66480 -1.915201    1      5   \n",
      "12895 2018-04-22 14:15:00        BELDI WINNER    66531 -3.017656    1      2   \n",
      "12931 2018-04-22 15:15:00    AKITA D'OCCAGNES    66533 -1.915201    1     11   \n",
      "12968 2018-04-22 17:08:00      BELLA DU BEROY    66535 -3.017656    1      0   \n",
      "13295 2018-05-06 20:25:00       ALIBI DU GADE    18539 -1.915201    1      9   \n",
      "\n",
      "             sub_category  final_odds  winner_dividend  placed_dividend  \\\n",
      "11929  AMATEURS_AUTOSTART         8.6              0.0              0.0   \n",
      "12095  AMATEURS_AUTOSTART        10.8              0.0              0.0   \n",
      "12420  AMATEURS_AUTOSTART        17.2              0.0              0.0   \n",
      "12523  AMATEURS_AUTOSTART        22.3              0.0              0.0   \n",
      "12659  AMATEURS_AUTOSTART         5.5              0.0              0.0   \n",
      "12873  AMATEURS_AUTOSTART        10.4              0.0            310.0   \n",
      "12895  AMATEURS_AUTOSTART         7.6              0.0              0.0   \n",
      "12931  AMATEURS_AUTOSTART        38.7              0.0              0.0   \n",
      "12968  AMATEURS_AUTOSTART         2.3              0.0              0.0   \n",
      "13295  AMATEURS_AUTOSTART        26.4              0.0              0.0   \n",
      "\n",
      "       position  bet  profit  stash  \n",
      "11929      20.0    1    -1.0   -1.0  \n",
      "12095      14.0    1    -1.0   -2.0  \n",
      "12420       6.0    1    -1.0   -3.0  \n",
      "12523      12.0    1    -1.0   -4.0  \n",
      "12659       5.0    1    -1.0   -5.0  \n",
      "12873       3.0    1    -1.0   -6.0  \n",
      "12895       4.0    1    -1.0   -7.0  \n",
      "12931      20.0    1    -1.0   -8.0  \n",
      "12968      20.0    1    -1.0   -9.0  \n",
      "13295      20.0    1    -1.0  -10.0  \n"
     ]
    },
    {
     "data": {
      "image/png": "[encoded data removed]",
      "text/plain": [
       "<Figure size 432x288 with 1 Axes>"
      ]
     },
     "metadata": {
      "needs_background": "light"
     },
     "output_type": "display_data"
    },
    {
     "name": "stdout",
     "output_type": "stream",
     "text": [
      "EUROPEENNE_AUTOSTART\n",
      "52\n",
      "                 start_at         horse_name  race_id     prize  bet  oddsn  \\\n",
      "12630 2018-03-18 16:30:00      DREAM STAR HM    16501 -0.457644    1     11   \n",
      "12747 2018-03-25 15:30:00            ANDANTE    16768  0.354981    1      1   \n",
      "14379 2019-03-03 14:54:00            BEA GYN    68622  0.354981    1      7   \n",
      "14750 2019-06-15 17:19:00         AMIGO KUKY    72476  0.151621    1     10   \n",
      "15332 2018-02-28 13:47:00  ALTESSE DU BANNEY    15713  1.609294    1      5   \n",
      "15792 2018-05-26 15:10:00     BAXTER DU KLAU    19348  1.850389    1      1   \n",
      "15904 2018-06-16 15:15:00         TAMURE ROC    20261  2.205380    1      0   \n",
      "16189 2018-07-11 13:47:00        OLIMPUS CAF    22298  1.693784    1      9   \n",
      "16290 2018-07-11 17:29:00      VOLTURINA JET    22305  1.457669    1      7   \n",
      "16359 2018-07-15 16:15:00     ELIZIR DU HOME    22507  1.457669    1      4   \n",
      "\n",
      "               sub_category  final_odds  winner_dividend  placed_dividend  \\\n",
      "12630  EUROPEENNE_AUTOSTART        27.8              0.0              0.0   \n",
      "12747  EUROPEENNE_AUTOSTART         3.2              0.0            160.0   \n",
      "14379  EUROPEENNE_AUTOSTART        24.9              0.0              0.0   \n",
      "14750  EUROPEENNE_AUTOSTART        52.0              0.0              0.0   \n",
      "15332  EUROPEENNE_AUTOSTART        21.8              0.0              0.0   \n",
      "15792  EUROPEENNE_AUTOSTART         5.3              0.0              0.0   \n",
      "15904  EUROPEENNE_AUTOSTART         3.8              0.0              0.0   \n",
      "16189  EUROPEENNE_AUTOSTART        45.5              0.0              0.0   \n",
      "16290  EUROPEENNE_AUTOSTART        19.2              0.0            500.0   \n",
      "16359  EUROPEENNE_AUTOSTART        11.8              0.0              0.0   \n",
      "\n",
      "       position  bet  profit  stash  \n",
      "12630      10.0    1    -1.0   -1.0  \n",
      "12747       3.0    1    -1.0   -2.0  \n",
      "14379       5.0    1    -1.0   -3.0  \n",
      "14750      14.0    1    -1.0   -4.0  \n",
      "15332       6.0    1    -1.0   -5.0  \n",
      "15792      10.0    1    -1.0   -6.0  \n",
      "15904       8.0    1    -1.0   -7.0  \n",
      "16189      10.0    1    -1.0   -8.0  \n",
      "16290       3.0    1    -1.0   -9.0  \n",
      "16359       7.0    1    -1.0  -10.0  \n"
     ]
    },
    {
     "data": {
      "image/png": "[encoded data removed]",
      "text/plain": [
       "<Figure size 432x288 with 1 Axes>"
      ]
     },
     "metadata": {
      "needs_background": "light"
     },
     "output_type": "display_data"
    },
    {
     "name": "stdout",
     "output_type": "stream",
     "text": [
      "GROUPE_III\n",
      "73\n",
      "                start_at        horse_name  race_id    prize  bet  oddsn  \\\n",
      "1977 2018-04-13 14:20:00     SANDS OF MALI    17541  2.20538    1      1   \n",
      "2375 2018-05-07 14:20:00  ALTERNATIVE FACT    18556  2.20538    1      5   \n",
      "2726 2018-06-03 17:35:00          WALDLIED    19728  2.20538    1      2   \n",
      "2763 2018-06-17 14:20:00       SUN AT WORK    20306  2.20538    1      6   \n",
      "2789 2018-06-17 15:26:00       WIND CHIMES    20308  2.20538    1      0   \n",
      "3387 2018-07-09 15:25:00         FLOWRIDER    22226  2.20538    1      2   \n",
      "4200 2018-09-01 14:23:00          TUDO BEM    63065  2.20538    1      6   \n",
      "6589 2019-04-13 14:54:00           BARBILL    70135  2.20538    1      0   \n",
      "7056 2019-05-06 16:10:00           MAKMOUR    70956  2.20538    1      1   \n",
      "7361 2019-06-02 17:50:00            SAGAMA    71995  2.20538    1      7   \n",
      "\n",
      "     sub_category  final_odds  winner_dividend  placed_dividend  position  \\\n",
      "1977   GROUPE_III         4.7            470.0            200.0       1.0   \n",
      "2375   GROUPE_III        13.9              0.0              0.0       6.0   \n",
      "2726   GROUPE_III         4.7              0.0            170.0       2.0   \n",
      "2763   GROUPE_III        30.9              0.0              0.0       6.0   \n",
      "2789   GROUPE_III         2.1              0.0              0.0       3.0   \n",
      "3387   GROUPE_III         6.1              0.0              0.0       3.0   \n",
      "4200   GROUPE_III        25.5              0.0              0.0       8.0   \n",
      "6589   GROUPE_III         2.2              0.0              0.0       6.0   \n",
      "7056   GROUPE_III         3.5              0.0              0.0       7.0   \n",
      "7361   GROUPE_III        39.0              0.0              0.0       8.0   \n",
      "\n",
      "      bet  profit  stash  \n",
      "1977    1     3.7    3.7  \n",
      "2375    1    -1.0    2.7  \n",
      "2726    1    -1.0    1.7  \n",
      "2763    1    -1.0    0.7  \n",
      "2789    1    -1.0   -0.3  \n",
      "3387    1    -1.0   -1.3  \n",
      "4200    1    -1.0   -2.3  \n",
      "6589    1    -1.0   -3.3  \n",
      "7056    1    -1.0   -4.3  \n",
      "7361    1    -1.0   -5.3  \n"
     ]
    },
    {
     "data": {
      "image/png": "[encoded data removed]",
      "text/plain": [
       "<Figure size 432x288 with 1 Axes>"
      ]
     },
     "metadata": {
      "needs_background": "light"
     },
     "output_type": "display_data"
    },
    {
     "name": "stdout",
     "output_type": "stream",
     "text": [
      "NATIONALE_AUTOSTART\n",
      "61\n",
      "                 start_at          horse_name  race_id     prize  bet  oddsn  \\\n",
      "11942 2018-01-17 14:05:00         FAIRY WHITE    14059  0.077616    1      2   \n",
      "12392 2018-02-17 12:50:00         FIRST LEBEL    15300  0.000000    1      6   \n",
      "12480 2018-02-17 16:34:00    DONATELLA TERRIE    15307  0.077616    1      9   \n",
      "12636 2018-03-25 11:20:00    FONDON DE PELMER    16760  0.151621    1      3   \n",
      "12724 2018-03-25 14:22:00  DAKARA DES VOLCANS    16766  0.000000    1     10   \n",
      "12736 2018-03-25 14:51:00     DECOSTER VALLEE    16767  0.000000    1      4   \n",
      "12975 2018-04-25 13:12:00     ELIXIR DU GILET    18021  0.077616    1      3   \n",
      "13100 2018-04-26 13:27:00     EMILIE DES IRIS    18069  0.077616    1      4   \n",
      "13192 2018-05-06 16:47:00    FLEUR DE PENGUEN    18532 -0.081598    1      5   \n",
      "13504 2018-06-16 20:23:00      FULL DES LUCAS    20293  0.000000    1      5   \n",
      "\n",
      "              sub_category  final_odds  winner_dividend  placed_dividend  \\\n",
      "11942  NATIONALE_AUTOSTART         4.8              0.0            160.0   \n",
      "12392  NATIONALE_AUTOSTART        15.4              0.0              0.0   \n",
      "12480  NATIONALE_AUTOSTART        22.1              0.0              0.0   \n",
      "12636  NATIONALE_AUTOSTART        12.6              0.0              0.0   \n",
      "12724  NATIONALE_AUTOSTART        61.9              0.0              0.0   \n",
      "12736  NATIONALE_AUTOSTART        11.6              0.0              0.0   \n",
      "12975  NATIONALE_AUTOSTART         9.1              0.0            290.0   \n",
      "13100  NATIONALE_AUTOSTART         7.9              0.0              0.0   \n",
      "13192  NATIONALE_AUTOSTART        19.2           1920.0            330.0   \n",
      "13504  NATIONALE_AUTOSTART        17.8              0.0              0.0   \n",
      "\n",
      "       position  bet  profit  stash  \n",
      "11942       3.0    1    -1.0   -1.0  \n",
      "12392      20.0    1    -1.0   -2.0  \n",
      "12480       7.0    1    -1.0   -3.0  \n",
      "12636      20.0    1    -1.0   -4.0  \n",
      "12724       6.0    1    -1.0   -5.0  \n",
      "12736       4.0    1    -1.0   -6.0  \n",
      "12975       2.0    1    -1.0   -7.0  \n",
      "13100       7.0    1    -1.0   -8.0  \n",
      "13192       1.0    1    18.2   10.2  \n",
      "13504      10.0    1    -1.0    9.2  \n"
     ]
    },
    {
     "data": {
      "image/png": "[encoded data removed]",
      "text/plain": [
       "<Figure size 432x288 with 1 Axes>"
      ]
     },
     "metadata": {
      "needs_background": "light"
     },
     "output_type": "display_data"
    },
    {
     "name": "stdout",
     "output_type": "stream",
     "text": [
      "AMATEURS\n",
      "33\n",
      "                 start_at          horse_name  race_id     prize  bet  oddsn  \\\n",
      "9154  2018-04-15 14:22:00            CASTALDO    17639 -1.915201    1      6   \n",
      "11462 2019-10-20 12:10:00            CASTALDO    77335 -1.915201    1      7   \n",
      "12910 2018-04-22 14:45:00      COYAN D'ALSACE    66532 -3.017656    1     10   \n",
      "16900 2018-07-29 20:45:00        COCKTAIL WAY    23181 -0.685285    1      1   \n",
      "17003 2018-06-28 21:31:00    BRISE DU CHOQUEL    52791 -0.685285    1      0   \n",
      "18884 2019-03-08 18:47:00      BIG BEN FRANCA    68799 -0.951027    1      0   \n",
      "19307 2019-03-26 18:42:00           CASH VRAC    69472 -0.951027    1      9   \n",
      "19641 2019-04-29 18:50:00  CHENE DE LANDISACQ    70704 -0.951027    1     10   \n",
      "19993 2019-06-26 18:46:00       CALBA DU PONT    72893 -0.951027    1      7   \n",
      "20071 2019-06-29 14:37:00       ALIVE BRULARD    73000 -0.951027    1     11   \n",
      "\n",
      "      sub_category  final_odds  winner_dividend  placed_dividend  position  \\\n",
      "9154      AMATEURS        91.1              0.0              0.0      20.0   \n",
      "11462     AMATEURS        68.0              0.0              0.0       7.0   \n",
      "12910     AMATEURS        32.6              0.0              0.0       4.0   \n",
      "16900     AMATEURS         3.6              0.0              0.0      20.0   \n",
      "17003     AMATEURS         2.8              0.0            150.0       2.0   \n",
      "18884     AMATEURS         3.2              0.0              0.0      20.0   \n",
      "19307     AMATEURS        44.7              0.0              0.0      11.0   \n",
      "19641     AMATEURS        84.0              0.0              0.0      14.0   \n",
      "19993     AMATEURS        35.0              0.0              0.0       9.0   \n",
      "20071     AMATEURS        45.0              0.0              0.0       6.0   \n",
      "\n",
      "       bet  profit  stash  \n",
      "9154     1    -1.0   -1.0  \n",
      "11462    1    -1.0   -2.0  \n",
      "12910    1    -1.0   -3.0  \n",
      "16900    1    -1.0   -4.0  \n",
      "17003    1    -1.0   -5.0  \n",
      "18884    1    -1.0   -6.0  \n",
      "19307    1    -1.0   -7.0  \n",
      "19641    1    -1.0   -8.0  \n",
      "19993    1    -1.0   -9.0  \n",
      "20071    1    -1.0  -10.0  \n"
     ]
    },
    {
     "data": {
      "image/png": "[encoded data removed]",
      "text/plain": [
       "<Figure size 432x288 with 1 Axes>"
      ]
     },
     "metadata": {
      "needs_background": "light"
     },
     "output_type": "display_data"
    },
    {
     "name": "stdout",
     "output_type": "stream",
     "text": [
      "COURSE_A_CONDITION_QUALIF_HP\n",
      "57\n",
      "                start_at         horse_name  race_id     prize  bet  oddsn  \\\n",
      "1326 2018-03-13 15:40:00       PONT NEUILLY    16245 -0.167608    1      0   \n",
      "1827 2018-03-31 17:23:00           SKY BOLT    16997 -0.167608    1      7   \n",
      "2388 2018-05-07 15:20:00             ICONIC    18558 -0.167608    1      7   \n",
      "4606 2018-10-12 16:44:00  KOOL AND THE GANG    64983  0.290040    1      8   \n",
      "5923 2019-03-12 17:30:00    DUQUESA PENGUIN    68923  0.000000    1      9   \n",
      "5936 2019-03-12 18:00:00             ZEPHIR    68924 -0.167608    1      9   \n",
      "6313 2019-03-28 17:17:00       LAVINIA ROSE    69531 -0.167608    1     11   \n",
      "6736 2019-04-24 16:29:00    DUQUESA PENGUIN    70516 -0.167608    1      1   \n",
      "7202 2019-05-17 14:29:00       HAPPY ENDING    71391  0.222335    1      8   \n",
      "7308 2019-06-02 13:55:00          NORTH END    71989  0.290040    1      1   \n",
      "\n",
      "                      sub_category  final_odds  winner_dividend  \\\n",
      "1326  COURSE_A_CONDITION_QUALIF_HP         3.6              0.0   \n",
      "1827  COURSE_A_CONDITION_QUALIF_HP        13.5              0.0   \n",
      "2388  COURSE_A_CONDITION_QUALIF_HP        12.1              0.0   \n",
      "4606  COURSE_A_CONDITION_QUALIF_HP        13.8              0.0   \n",
      "5923  COURSE_A_CONDITION_QUALIF_HP        21.2              0.0   \n",
      "5936  COURSE_A_CONDITION_QUALIF_HP        24.4              0.0   \n",
      "6313  COURSE_A_CONDITION_QUALIF_HP        27.9              0.0   \n",
      "6736  COURSE_A_CONDITION_QUALIF_HP         5.0              0.0   \n",
      "7202  COURSE_A_CONDITION_QUALIF_HP        25.0              0.0   \n",
      "7308  COURSE_A_CONDITION_QUALIF_HP         6.3              0.0   \n",
      "\n",
      "      placed_dividend  position  bet  profit  stash  \n",
      "1326              0.0       5.0    1    -1.0   -1.0  \n",
      "1827            400.0       2.0    1    -1.0   -2.0  \n",
      "2388              0.0       6.0    1    -1.0   -3.0  \n",
      "4606              0.0       4.0    1    -1.0   -4.0  \n",
      "5923            510.0       3.0    1    -1.0   -5.0  \n",
      "5936              0.0      12.0    1    -1.0   -6.0  \n",
      "6313              0.0      11.0    1    -1.0   -7.0  \n",
      "6736              0.0      12.0    1    -1.0   -8.0  \n",
      "7202              0.0      10.0    1    -1.0   -9.0  \n",
      "7308              0.0       4.0    1    -1.0  -10.0  \n"
     ]
    },
    {
     "data": {
      "image/png": "[encoded data removed]",
      "text/plain": [
       "<Figure size 432x288 with 1 Axes>"
      ]
     },
     "metadata": {
      "needs_background": "light"
     },
     "output_type": "display_data"
    },
    {
     "name": "stdout",
     "output_type": "stream",
     "text": [
      "APPRENTIS_LADS_JOCKEYS_AUTOSTART\n",
      "26\n",
      "                 start_at          horse_name  race_id     prize  bet  oddsn  \\\n",
      "11895 2018-01-17 12:30:00     CRACK DU TILLET    14056  0.077616    1      1   \n",
      "13674 2019-01-16 12:05:00   CALL ON ME RANAIS    61136 -0.167608    1      6   \n",
      "14224 2019-02-16 13:15:00    ATHOS DU MANOLET    68092  0.222335    1      7   \n",
      "15494 2018-04-19 18:18:00     CRESUS DU CHENE    17796  1.325021    1      6   \n",
      "15742 2018-04-30 21:00:00      COOPER DE GUEZ    18292  1.102680    1      6   \n",
      "15761 2018-05-26 14:05:00  EVERY TIME BOURBON    19346  0.935068    1      0   \n",
      "18071 2018-09-27 20:00:00        BALOU DE MAI    64337  1.180298    1      0   \n",
      "18352 2018-10-11 18:40:00           DIEGO NAY    64943  1.102680    1      6   \n",
      "23896 2018-09-09 19:12:00   DAISY DES CHARMES    63464 -0.258535    1      8   \n",
      "23909 2018-09-09 19:40:00      DESPERATE GIRL    63465 -0.258535    1      7   \n",
      "\n",
      "                           sub_category  final_odds  winner_dividend  \\\n",
      "11895  APPRENTIS_LADS_JOCKEYS_AUTOSTART         4.4            440.0   \n",
      "13674  APPRENTIS_LADS_JOCKEYS_AUTOSTART        15.1              0.0   \n",
      "14224  APPRENTIS_LADS_JOCKEYS_AUTOSTART        34.8              0.0   \n",
      "15494  APPRENTIS_LADS_JOCKEYS_AUTOSTART        18.5              0.0   \n",
      "15742  APPRENTIS_LADS_JOCKEYS_AUTOSTART        14.1              0.0   \n",
      "15761  APPRENTIS_LADS_JOCKEYS_AUTOSTART         2.6              0.0   \n",
      "18071  APPRENTIS_LADS_JOCKEYS_AUTOSTART         3.0              0.0   \n",
      "18352  APPRENTIS_LADS_JOCKEYS_AUTOSTART        21.2              0.0   \n",
      "23896  APPRENTIS_LADS_JOCKEYS_AUTOSTART        33.4              0.0   \n",
      "23909  APPRENTIS_LADS_JOCKEYS_AUTOSTART        24.3              0.0   \n",
      "\n",
      "       placed_dividend  position  bet  profit  stash  \n",
      "11895            150.0       1.0    1     3.4    3.4  \n",
      "13674              0.0      10.0    1    -1.0    2.4  \n",
      "14224              0.0      20.0    1    -1.0    1.4  \n",
      "15494              0.0      20.0    1    -1.0    0.4  \n",
      "15742              0.0       5.0    1    -1.0   -0.6  \n",
      "15761            130.0       3.0    1    -1.0   -1.6  \n",
      "18071            160.0       3.0    1    -1.0   -2.6  \n",
      "18352              0.0      20.0    1    -1.0   -3.6  \n",
      "23896            790.0       2.0    1    -1.0   -4.6  \n",
      "23909              0.0       7.0    1    -1.0   -5.6  \n"
     ]
    },
    {
     "data": {
      "image/png": "[encoded data removed]",
      "text/plain": [
       "<Figure size 432x288 with 1 Axes>"
      ]
     },
     "metadata": {
      "needs_background": "light"
     },
     "output_type": "display_data"
    },
    {
     "name": "stdout",
     "output_type": "stream",
     "text": [
      "GROUPE_II\n",
      "28\n",
      "                 start_at          horse_name  race_id     prize  bet  oddsn  \\\n",
      "2670  2018-06-03 14:30:00  MISSION IMPASSIBLE    19723  2.977762    1      2   \n",
      "2676  2018-06-03 15:02:00           SON CESIO    19724  2.977762    1      1   \n",
      "2688  2018-06-03 15:36:00        WAY TO PARIS    19725  2.977762    1      4   \n",
      "2810  2018-06-17 16:49:00            SOLESILI    20310  2.977762    1      7   \n",
      "7328  2019-06-02 15:40:00               ZIYAD    71992  2.977762    1      6   \n",
      "17076 2018-06-30 15:45:00    UN MEC D'HERIPRE    52851  2.850424    1      0   \n",
      "17688 2018-08-11 16:35:00           AMOUR FOU    62089  2.850424    1      7   \n",
      "22746 2018-04-28 17:15:00  BILLIE DE MONTFORT    18172  2.560373    1      1   \n",
      "27748 2018-10-13 15:50:00      HELLO YOUMZAIN    65020  3.581483    1      4   \n",
      "29836 2019-10-12 14:38:00     SPARTAN FIGHTER    77025  3.581483    1      6   \n",
      "\n",
      "      sub_category  final_odds  winner_dividend  placed_dividend  position  \\\n",
      "2670     GROUPE_II         5.5            550.0            350.0       1.0   \n",
      "2676     GROUPE_II         5.0              0.0              0.0       7.0   \n",
      "2688     GROUPE_II        13.8              0.0              0.0       3.0   \n",
      "2810     GROUPE_II        20.5              0.0              0.0       6.0   \n",
      "7328     GROUPE_II        18.0              0.0            390.0       2.0   \n",
      "17076    GROUPE_II         2.2              0.0              0.0       4.0   \n",
      "17688    GROUPE_II        52.5              0.0              0.0      20.0   \n",
      "22746    GROUPE_II         2.9              0.0              0.0       4.0   \n",
      "27748    GROUPE_II        10.6           1060.0            330.0       1.0   \n",
      "29836    GROUPE_II        21.0              0.0              0.0       6.0   \n",
      "\n",
      "       bet  profit  stash  \n",
      "2670     1     4.5    4.5  \n",
      "2676     1    -1.0    3.5  \n",
      "2688     1    -1.0    2.5  \n",
      "2810     1    -1.0    1.5  \n",
      "7328     1    -1.0    0.5  \n",
      "17076    1    -1.0   -0.5  \n",
      "17688    1    -1.0   -1.5  \n",
      "22746    1    -1.0   -2.5  \n",
      "27748    1     9.6    7.1  \n",
      "29836    1    -1.0    6.1  \n"
     ]
    },
    {
     "data": {
      "image/png": "[encoded data removed]",
      "text/plain": [
       "<Figure size 432x288 with 1 Axes>"
      ]
     },
     "metadata": {
      "needs_background": "light"
     },
     "output_type": "display_data"
    },
    {
     "name": "stdout",
     "output_type": "stream",
     "text": [
      "A_RECLAMER_AUTOSTART\n",
      "16\n",
      "                 start_at        horse_name  race_id     prize  bet  oddsn  \\\n",
      "15138 2018-02-23 15:57:00  EUREKA DE NAPPES    15522  0.000000    1      6   \n",
      "15239 2018-02-24 19:10:00  COLIBRI DE LARRE    15587  0.000000    1      4   \n",
      "15720 2018-04-30 20:33:00      ENZO MESLOIS    18291  0.000000    1      3   \n",
      "16558 2018-07-25 16:27:00      DERBY WINNER    22964  0.000000    1      0   \n",
      "17902 2018-08-16 12:25:00      FLASH TURGOT    62333  0.000000    1     10   \n",
      "18042 2018-09-27 18:55:00    DEMON DE BABEL    64335  0.000000    1      6   \n",
      "18901 2019-03-08 19:18:00           AS DORE    68800 -0.167608    1      1   \n",
      "19127 2019-03-14 19:42:00  GIORDANO DU PECH    69026 -0.167608    1      3   \n",
      "20044 2019-06-29 14:00:00   DIVINE EMERAUDE    72999 -0.167608    1      8   \n",
      "20850 2019-07-25 22:30:00           EL TORO    74064 -0.167608    1     12   \n",
      "\n",
      "               sub_category  final_odds  winner_dividend  placed_dividend  \\\n",
      "15138  A_RECLAMER_AUTOSTART        29.9              0.0            460.0   \n",
      "15239  A_RECLAMER_AUTOSTART         7.1              0.0              0.0   \n",
      "15720  A_RECLAMER_AUTOSTART         9.7              0.0              0.0   \n",
      "16558  A_RECLAMER_AUTOSTART         4.1              0.0              0.0   \n",
      "17902  A_RECLAMER_AUTOSTART        28.1              0.0            520.0   \n",
      "18042  A_RECLAMER_AUTOSTART        19.0              0.0              0.0   \n",
      "18901  A_RECLAMER_AUTOSTART         3.7              0.0            220.0   \n",
      "19127  A_RECLAMER_AUTOSTART        10.6           1060.0            200.0   \n",
      "20044  A_RECLAMER_AUTOSTART        25.0              0.0              0.0   \n",
      "20850  A_RECLAMER_AUTOSTART        57.0              0.0              0.0   \n",
      "\n",
      "       position  bet  profit  stash  \n",
      "15138       3.0    1    -1.0   -1.0  \n",
      "15239       5.0    1    -1.0   -2.0  \n",
      "15720      10.0    1    -1.0   -3.0  \n",
      "16558      20.0    1    -1.0   -4.0  \n",
      "17902       3.0    1    -1.0   -5.0  \n",
      "18042      12.0    1    -1.0   -6.0  \n",
      "18901       2.0    1    -1.0   -7.0  \n",
      "19127       1.0    1     9.6    2.6  \n",
      "20044      10.0    1    -1.0    1.6  \n",
      "20850      20.0    1    -1.0    0.6  \n"
     ]
    },
    {
     "data": {
      "image/png": "[encoded data removed]",
      "text/plain": [
       "<Figure size 432x288 with 1 Axes>"
      ]
     },
     "metadata": {
      "needs_background": "light"
     },
     "output_type": "display_data"
    },
    {
     "name": "stdout",
     "output_type": "stream",
     "text": [
      "GROUPE_I\n",
      "21\n",
      "                 start_at    horse_name  race_id     prize  bet  oddsn  \\\n",
      "2695  2018-06-03 16:15:00     HEY GAMAN    19726  6.868564    1      6   \n",
      "2791  2018-06-17 16:07:00       HAPPILY    20309  6.223515    1      6   \n",
      "4848  2018-10-28 15:47:00  MAX DYNAMITE    65730  4.553368    1      8   \n",
      "4854  2018-10-28 16:22:00      GRAIGNES    65731  4.018080    1      4   \n",
      "7338  2019-06-02 16:25:00     RAISE YOU    71993  6.868564    1      5   \n",
      "7412  2019-06-16 16:05:00   GRAND GLORY    72496  6.223515    1     11   \n",
      "36401 2018-05-19 16:18:00     WILDRIVER    19045  4.018080    1      4   \n",
      "36508 2018-05-20 17:05:00   L'AMI SERGE    19112  4.553368    1      2   \n",
      "37046 2018-11-03 15:50:00     AZUCARDEL    20786  4.553368    1      1   \n",
      "37113 2018-11-04 14:03:00   PORTO POLLO    20842  4.018080    1      5   \n",
      "\n",
      "      sub_category  final_odds  winner_dividend  placed_dividend  position  \\\n",
      "2695      GROUPE_I        18.3              0.0              0.0       7.0   \n",
      "2791      GROUPE_I        13.2              0.0              0.0       4.0   \n",
      "4848      GROUPE_I        34.0              0.0              0.0       8.0   \n",
      "4854      GROUPE_I         8.4              0.0              0.0       3.0   \n",
      "7338      GROUPE_I        17.0              0.0              0.0      10.0   \n",
      "7412      GROUPE_I        29.0              0.0            600.0       3.0   \n",
      "36401     GROUPE_I         9.0            900.0            180.0       1.0   \n",
      "36508     GROUPE_I         6.2              0.0              0.0       7.0   \n",
      "37046     GROUPE_I         5.7              0.0              0.0      20.0   \n",
      "37113     GROUPE_I        13.3              0.0              0.0       6.0   \n",
      "\n",
      "       bet  profit  stash  \n",
      "2695     1    -1.0   -1.0  \n",
      "2791     1    -1.0   -2.0  \n",
      "4848     1    -1.0   -3.0  \n",
      "4854     1    -1.0   -4.0  \n",
      "7338     1    -1.0   -5.0  \n",
      "7412     1    -1.0   -6.0  \n",
      "36401    1     8.0    2.0  \n",
      "36508    1    -1.0    1.0  \n",
      "37046    1    -1.0    0.0  \n",
      "37113    1    -1.0   -1.0  \n"
     ]
    },
    {
     "data": {
      "image/png": "[encoded data removed]",
      "text/plain": [
       "<Figure size 432x288 with 1 Axes>"
      ]
     },
     "metadata": {
      "needs_background": "light"
     },
     "output_type": "display_data"
    },
    {
     "name": "stdout",
     "output_type": "stream",
     "text": [
      "INTERNATIONALE\n",
      "5\n",
      "                 start_at        horse_name  race_id     prize  bet  oddsn  \\\n",
      "14960 2019-11-30 15:32:00          ETONNANT    78842  1.425529    1      3   \n",
      "20635 2019-07-20 17:03:00           DELFINO    73838  2.560373    1      7   \n",
      "21374 2019-08-10 16:07:00  VIRGIOUS DU MAZA    74755  2.560373    1      8   \n",
      "21550 2019-08-13 17:21:00    VALOKAJA HINDO    74847  2.977762    1      3   \n",
      "23330 2018-11-04 15:32:00  ALAMO DU GOUTIER    20861  1.102680    1      8   \n",
      "\n",
      "         sub_category  final_odds  winner_dividend  placed_dividend  position  \\\n",
      "14960  INTERNATIONALE         9.9              0.0              0.0       8.0   \n",
      "20635  INTERNATIONALE        26.0              0.0              0.0       8.0   \n",
      "21374  INTERNATIONALE        38.0              0.0              0.0      20.0   \n",
      "21550  INTERNATIONALE        17.0           1700.0            200.0       1.0   \n",
      "23330  INTERNATIONALE        26.0              0.0              0.0       7.0   \n",
      "\n",
      "       bet  profit  stash  \n",
      "14960    1    -1.0   -1.0  \n",
      "20635    1    -1.0   -2.0  \n",
      "21374    1    -1.0   -3.0  \n",
      "21550    1    16.0   13.0  \n",
      "23330    1    -1.0   12.0  \n"
     ]
    },
    {
     "data": {
      "image/png": "[encoded data removed]",
      "text/plain": [
       "<Figure size 432x288 with 1 Axes>"
      ]
     },
     "metadata": {
      "needs_background": "light"
     },
     "output_type": "display_data"
    },
    {
     "name": "stdout",
     "output_type": "stream",
     "text": [
      "APPRENTIS_LADS_JOCKEYS_EUROPEENNE\n",
      "4\n",
      "                 start_at          horse_name  race_id     prize  bet  oddsn  \\\n",
      "19281 2019-03-26 17:34:00   VICTOIRE DE COSSE    69470  1.457669    1      9   \n",
      "22479 2019-10-21 15:00:00  CIROCO D'AUVILLIER    77350  1.520063    1      3   \n",
      "31392 2018-07-09 12:25:00      BARBIE PERRINE    22236  0.290040    1      1   \n",
      "31983 2019-02-20 19:34:00      BAHIA DE LIGNY    68244  0.151621    1      0   \n",
      "\n",
      "                            sub_category  final_odds  winner_dividend  \\\n",
      "19281  APPRENTIS_LADS_JOCKEYS_EUROPEENNE        48.5              0.0   \n",
      "22479  APPRENTIS_LADS_JOCKEYS_EUROPEENNE        12.0              0.0   \n",
      "31392  APPRENTIS_LADS_JOCKEYS_EUROPEENNE         3.2              0.0   \n",
      "31983  APPRENTIS_LADS_JOCKEYS_EUROPEENNE         3.6            360.0   \n",
      "\n",
      "       placed_dividend  position  bet  profit  stash  \n",
      "19281            940.0       2.0    1    -1.0   -1.0  \n",
      "22479              0.0       6.0    1    -1.0   -2.0  \n",
      "31392              0.0      20.0    1    -1.0   -3.0  \n",
      "31983            170.0       1.0    1     2.6   -0.4  \n"
     ]
    },
    {
     "data": {
      "image/png": "[encoded data removed]",
      "text/plain": [
       "<Figure size 432x288 with 1 Axes>"
      ]
     },
     "metadata": {
      "needs_background": "light"
     },
     "output_type": "display_data"
    },
    {
     "name": "stdout",
     "output_type": "stream",
     "text": [
      "APPRENTIS_LADS_JOCKEYS_A_RECLAMER_AUTOSTART\n",
      "5\n",
      "                 start_at         horse_name  race_id     prize  bet  oddsn  \\\n",
      "16632 2018-07-26 13:25:00         UNO DANCER    23020  0.000000    1      9   \n",
      "17920 2018-08-16 14:05:00  BOLIDE DE LA COTE    62336  0.000000    1      0   \n",
      "18562 2018-10-18 19:05:00    ULTIMO DU DOUET    65298  0.000000    1      7   \n",
      "19653 2019-04-29 19:22:00       DREAM TURGOT    70705 -0.167608    1      9   \n",
      "20779 2019-07-25 19:17:00      VERSO DU JAAR    74058 -0.167608    1      8   \n",
      "\n",
      "                                      sub_category  final_odds  \\\n",
      "16632  APPRENTIS_LADS_JOCKEYS_A_RECLAMER_AUTOSTART        32.1   \n",
      "17920  APPRENTIS_LADS_JOCKEYS_A_RECLAMER_AUTOSTART         3.0   \n",
      "18562  APPRENTIS_LADS_JOCKEYS_A_RECLAMER_AUTOSTART        16.1   \n",
      "19653  APPRENTIS_LADS_JOCKEYS_A_RECLAMER_AUTOSTART        36.0   \n",
      "20779  APPRENTIS_LADS_JOCKEYS_A_RECLAMER_AUTOSTART        38.0   \n",
      "\n",
      "       winner_dividend  placed_dividend  position  bet  profit  stash  \n",
      "16632              0.0              0.0       9.0    1    -1.0   -1.0  \n",
      "17920              0.0              0.0       4.0    1    -1.0   -2.0  \n",
      "18562              0.0            380.0       3.0    1    -1.0   -3.0  \n",
      "19653              0.0           1080.0       2.0    1    -1.0   -4.0  \n",
      "20779              0.0              0.0       6.0    1    -1.0   -5.0  \n"
     ]
    },
    {
     "data": {
      "image/png": "[encoded data removed]",
      "text/plain": [
       "<Figure size 432x288 with 1 Axes>"
      ]
     },
     "metadata": {
      "needs_background": "light"
     },
     "output_type": "display_data"
    },
    {
     "name": "stdout",
     "output_type": "stream",
     "text": [
      "A_RECLAMER_APPRENTIS_LADS_JOCKEYS\n",
      "5\n",
      "                 start_at          horse_name  race_id     prize  bet  oddsn  \\\n",
      "22604 2019-10-23 18:25:00   CARTOUCHE JEMISKA    77440 -0.167608    1      8   \n",
      "24780 2018-05-27 15:00:00   DRYOPS DU GOUTIER    66831 -1.102640    1     10   \n",
      "24796 2018-05-27 15:33:00  BOMBO DE CARENTONE    66832 -1.102640    1      8   \n",
      "30223 2018-01-07 15:48:00      VASCO D'AGAMIS    65945 -1.102640    1     13   \n",
      "32424 2019-05-24 21:00:00  ARCHE DE MALBERAUX    71678 -1.102640    1      3   \n",
      "\n",
      "                            sub_category  final_odds  winner_dividend  \\\n",
      "22604  A_RECLAMER_APPRENTIS_LADS_JOCKEYS        29.0              0.0   \n",
      "24780  A_RECLAMER_APPRENTIS_LADS_JOCKEYS        34.4              0.0   \n",
      "24796  A_RECLAMER_APPRENTIS_LADS_JOCKEYS        24.0              0.0   \n",
      "30223  A_RECLAMER_APPRENTIS_LADS_JOCKEYS        47.9              0.0   \n",
      "32424  A_RECLAMER_APPRENTIS_LADS_JOCKEYS         8.4              0.0   \n",
      "\n",
      "       placed_dividend  position  bet  profit  stash  \n",
      "22604              0.0       5.0    1    -1.0   -1.0  \n",
      "24780              0.0      20.0    1    -1.0   -2.0  \n",
      "24796              0.0       5.0    1    -1.0   -3.0  \n",
      "30223              0.0      12.0    1    -1.0   -4.0  \n",
      "32424              0.0       6.0    1    -1.0   -5.0  \n"
     ]
    },
    {
     "data": {
      "image/png": "[encoded data removed]",
      "text/plain": [
       "<Figure size 432x288 with 1 Axes>"
      ]
     },
     "metadata": {
      "needs_background": "light"
     },
     "output_type": "display_data"
    },
    {
     "name": "stdout",
     "output_type": "stream",
     "text": [
      "AMATEURS_NATIONALE\n",
      "2\n",
      "                 start_at          horse_name  race_id     prize  bet  oddsn  \\\n",
      "12997 2018-04-25 14:20:00        CAIMAN FAWEY    18023 -1.457597    1      9   \n",
      "42096 2018-03-28 14:52:00  VINGT DEUX JUILLET    16873 -1.457597    1      0   \n",
      "\n",
      "             sub_category  final_odds  winner_dividend  placed_dividend  \\\n",
      "12997  AMATEURS_NATIONALE        22.5              0.0              0.0   \n",
      "42096  AMATEURS_NATIONALE         3.7              0.0            170.0   \n",
      "\n",
      "       position  bet  profit  stash  \n",
      "12997      20.0    1    -1.0   -1.0  \n",
      "42096       3.0    1    -1.0   -2.0  \n"
     ]
    },
    {
     "data": {
      "image/png": "[encoded data removed]",
      "text/plain": [
       "<Figure size 432x288 with 1 Axes>"
      ]
     },
     "metadata": {
      "needs_background": "light"
     },
     "output_type": "display_data"
    },
    {
     "name": "stdout",
     "output_type": "stream",
     "text": [
      "AMATEURS_EUROPEENNE_AUTOSTART\n",
      "1\n",
      "                 start_at    horse_name  race_id     prize  bet  oddsn  \\\n",
      "22830 2018-04-28 20:25:00  AZUR DAIRPET    18178 -1.915201    1      3   \n",
      "\n",
      "                        sub_category  final_odds  winner_dividend  \\\n",
      "22830  AMATEURS_EUROPEENNE_AUTOSTART        13.0            280.0   \n",
      "\n",
      "       placed_dividend  position  bet  profit  stash  \n",
      "22830            230.0       1.0    1     1.8    1.8  \n"
     ]
    },
    {
     "data": {
      "image/png": "[encoded data removed]",
      "text/plain": [
       "<Figure size 432x288 with 1 Axes>"
      ]
     },
     "metadata": {
      "needs_background": "light"
     },
     "output_type": "display_data"
    },
    {
     "name": "stdout",
     "output_type": "stream",
     "text": [
      "INTERNATIONALE_AUTOSTART\n",
      "2\n",
      "                 start_at          horse_name  race_id     prize  bet  oddsn  \\\n",
      "15609 2018-04-21 16:09:00  BILLIE DE MONTFORT    17857  3.663085    1      3   \n",
      "20936 2019-07-27 16:25:00      DORGOS DE GUEZ    74122  2.560373    1      5   \n",
      "\n",
      "                   sub_category  final_odds  winner_dividend  placed_dividend  \\\n",
      "15609  INTERNATIONALE_AUTOSTART        24.0              0.0              0.0   \n",
      "20936  INTERNATIONALE_AUTOSTART        23.0              0.0              0.0   \n",
      "\n",
      "       position  bet  profit  stash  \n",
      "15609       4.0    1    -1.0   -1.0  \n",
      "20936       6.0    1    -1.0   -2.0  \n"
     ]
    },
    {
     "data": {
      "image/png": "[encoded data removed]",
      "text/plain": [
       "<Figure size 432x288 with 1 Axes>"
      ]
     },
     "metadata": {
      "needs_background": "light"
     },
     "output_type": "display_data"
    },
    {
     "name": "stdout",
     "output_type": "stream",
     "text": [
      "AMATEURS_PRIORITE_AUX_PROPRIETAIRES\n",
      "1\n",
      "                 start_at horse_name  race_id     prize  bet  oddsn  \\\n",
      "49128 2018-07-14 20:07:00    BOYARDO    22500 -2.560118    1      4   \n",
      "\n",
      "                              sub_category  final_odds  winner_dividend  \\\n",
      "49128  AMATEURS_PRIORITE_AUX_PROPRIETAIRES        20.1              0.0   \n",
      "\n",
      "       placed_dividend  position  bet  profit  stash  \n",
      "49128              0.0       5.0    1    -1.0   -1.0  \n"
     ]
    },
    {
     "data": {
      "image/png": "[encoded data removed]",
      "text/plain": [
       "<Figure size 432x288 with 1 Axes>"
      ]
     },
     "metadata": {
      "needs_background": "light"
     },
     "output_type": "display_data"
    },
    {
     "name": "stdout",
     "output_type": "stream",
     "text": [
      "QUALIFICATION_ACCAF\n",
      "2\n",
      "                start_at horse_name  race_id     prize  bet  oddsn  \\\n",
      "2844 2018-06-22 14:05:00     DALOOB    20529  1.457669    1      5   \n",
      "7505 2019-06-21 14:18:00    AL HAZM    72691  1.457669    1      0   \n",
      "\n",
      "             sub_category  final_odds  winner_dividend  placed_dividend  \\\n",
      "2844  QUALIFICATION_ACCAF        29.8              0.0              0.0   \n",
      "7505  QUALIFICATION_ACCAF         3.2              0.0            130.0   \n",
      "\n",
      "      position  bet  profit  stash  \n",
      "2844       4.0    1    -1.0   -1.0  \n",
      "7505       2.0    1    -1.0   -2.0  \n"
     ]
    },
    {
     "data": {
      "image/png": "[encoded data removed]",
      "text/plain": [
       "<Figure size 432x288 with 1 Axes>"
      ]
     },
     "metadata": {
      "needs_background": "light"
     },
     "output_type": "display_data"
    },
    {
     "name": "stdout",
     "output_type": "stream",
     "text": [
      "COURSE_AP\n",
      "1\n",
      "                 start_at        horse_name  race_id     prize  bet  oddsn  \\\n",
      "42557 2018-04-25 14:00:00  COQUIN DU HOULEY    66569 -0.812614    1      8   \n",
      "\n",
      "      sub_category  final_odds  winner_dividend  placed_dividend  position  \\\n",
      "42557    COURSE_AP        26.5              0.0              0.0      20.0   \n",
      "\n",
      "       bet  profit  stash  \n",
      "42557    1    -1.0   -1.0  \n"
     ]
    },
    {
     "data": {
      "image/png": "[encoded data removed]",
      "text/plain": [
       "<Figure size 432x288 with 1 Axes>"
      ]
     },
     "metadata": {
      "needs_background": "light"
     },
     "output_type": "display_data"
    },
    {
     "name": "stdout",
     "output_type": "stream",
     "text": [
      "A_RECLAMER_AMATEURS_AUTOSTART\n",
      "0\n",
      "Empty DataFrame\n",
      "Columns: [start_at, horse_name, race_id, prize, bet, oddsn, sub_category, final_odds, winner_dividend, placed_dividend, position, bet, profit, stash]\n",
      "Index: []\n"
     ]
    },
    {
     "data": {
      "image/png": "[encoded data removed]",
      "text/plain": [
       "<Figure size 432x288 with 1 Axes>"
      ]
     },
     "metadata": {
      "needs_background": "light"
     },
     "output_type": "display_data"
    },
    {
     "name": "stdout",
     "output_type": "stream",
     "text": [
      "A_RECLAMER_AMATEURS\n",
      "0\n",
      "Empty DataFrame\n",
      "Columns: [start_at, horse_name, race_id, prize, bet, oddsn, sub_category, final_odds, winner_dividend, placed_dividend, position, bet, profit, stash]\n",
      "Index: []\n"
     ]
    },
    {
     "data": {
      "image/png": "[encoded data removed]",
      "text/plain": [
       "<Figure size 432x288 with 1 Axes>"
      ]
     },
     "metadata": {
      "needs_background": "light"
     },
     "output_type": "display_data"
    },
    {
     "name": "stdout",
     "output_type": "stream",
     "text": [
      "COURSE_INTERNATIONALE\n",
      "0\n",
      "Empty DataFrame\n",
      "Columns: [start_at, horse_name, race_id, prize, bet, oddsn, sub_category, final_odds, winner_dividend, placed_dividend, position, bet, profit, stash]\n",
      "Index: []\n"
     ]
    },
    {
     "data": {
      "image/png": "[encoded data removed]",
      "text/plain": [
       "<Figure size 432x288 with 1 Axes>"
      ]
     },
     "metadata": {
      "needs_background": "light"
     },
     "output_type": "display_data"
    },
    {
     "name": "stdout",
     "output_type": "stream",
     "text": [
      "FINALE_REGIONALE_ACCAF\n",
      "0\n",
      "Empty DataFrame\n",
      "Columns: [start_at, horse_name, race_id, prize, bet, oddsn, sub_category, final_odds, winner_dividend, placed_dividend, position, bet, profit, stash]\n",
      "Index: []\n"
     ]
    },
    {
     "data": {
      "image/png": "[encoded data removed]",
      "text/plain": [
       "<Figure size 432x288 with 1 Axes>"
      ]
     },
     "metadata": {
      "needs_background": "light"
     },
     "output_type": "display_data"
    },
    {
     "name": "stdout",
     "output_type": "stream",
     "text": [
      "AMATEURS_INTERNATIONALE_AUTOSTART\n",
      "0\n",
      "Empty DataFrame\n",
      "Columns: [start_at, horse_name, race_id, prize, bet, oddsn, sub_category, final_odds, winner_dividend, placed_dividend, position, bet, profit, stash]\n",
      "Index: []\n"
     ]
    },
    {
     "data": {
      "image/png": "[encoded data removed]",
      "text/plain": [
       "<Figure size 432x288 with 1 Axes>"
      ]
     },
     "metadata": {
      "needs_background": "light"
     },
     "output_type": "display_data"
    },
    {
     "name": "stdout",
     "output_type": "stream",
     "text": [
      "AMATEURS_INTERNATIONALE\n",
      "0\n",
      "Empty DataFrame\n",
      "Columns: [start_at, horse_name, race_id, prize, bet, oddsn, sub_category, final_odds, winner_dividend, placed_dividend, position, bet, profit, stash]\n",
      "Index: []\n"
     ]
    },
    {
     "data": {
      "image/png": "[encoded data removed]",
      "text/plain": [
       "<Figure size 432x288 with 1 Axes>"
      ]
     },
     "metadata": {
      "needs_background": "light"
     },
     "output_type": "display_data"
    },
    {
     "name": "stdout",
     "output_type": "stream",
     "text": [
      "HANDICAP_A_RECLAMER\n",
      "0\n",
      "Empty DataFrame\n",
      "Columns: [start_at, horse_name, race_id, prize, bet, oddsn, sub_category, final_odds, winner_dividend, placed_dividend, position, bet, profit, stash]\n",
      "Index: []\n"
     ]
    },
    {
     "data": {
      "image/png": "[encoded data removed]",
      "text/plain": [
       "<Figure size 432x288 with 1 Axes>"
      ]
     },
     "metadata": {
      "needs_background": "light"
     },
     "output_type": "display_data"
    },
    {
     "name": "stdout",
     "output_type": "stream",
     "text": [
      "AMATEURS_EUROPEENNE\n",
      "0\n",
      "Empty DataFrame\n",
      "Columns: [start_at, horse_name, race_id, prize, bet, oddsn, sub_category, final_odds, winner_dividend, placed_dividend, position, bet, profit, stash]\n",
      "Index: []\n"
     ]
    },
    {
     "data": {
      "image/png": "[encoded data removed]",
      "text/plain": [
       "<Figure size 432x288 with 1 Axes>"
      ]
     },
     "metadata": {
      "needs_background": "light"
     },
     "output_type": "display_data"
    },
    {
     "name": "stdout",
     "output_type": "stream",
     "text": [
      "AMATEURS_DAMES_AUTOSTART\n",
      "0\n",
      "Empty DataFrame\n",
      "Columns: [start_at, horse_name, race_id, prize, bet, oddsn, sub_category, final_odds, winner_dividend, placed_dividend, position, bet, profit, stash]\n",
      "Index: []\n"
     ]
    },
    {
     "data": {
      "image/png": "[encoded data removed]",
      "text/plain": [
       "<Figure size 432x288 with 1 Axes>"
      ]
     },
     "metadata": {
      "needs_background": "light"
     },
     "output_type": "display_data"
    },
    {
     "name": "stdout",
     "output_type": "stream",
     "text": [
      "MIXTE\n",
      "0\n",
      "Empty DataFrame\n",
      "Columns: [start_at, horse_name, race_id, prize, bet, oddsn, sub_category, final_odds, winner_dividend, placed_dividend, position, bet, profit, stash]\n",
      "Index: []\n"
     ]
    },
    {
     "data": {
      "image/png": "[encoded data removed]",
      "text/plain": [
       "<Figure size 432x288 with 1 Axes>"
      ]
     },
     "metadata": {
      "needs_background": "light"
     },
     "output_type": "display_data"
    },
    {
     "name": "stdout",
     "output_type": "stream",
     "text": [
      "COURSE_AP_EUROPEENNE\n",
      "0\n",
      "Empty DataFrame\n",
      "Columns: [start_at, horse_name, race_id, prize, bet, oddsn, sub_category, final_odds, winner_dividend, placed_dividend, position, bet, profit, stash]\n",
      "Index: []\n"
     ]
    },
    {
     "data": {
      "image/png": "[encoded data removed]",
      "text/plain": [
       "<Figure size 432x288 with 1 Axes>"
      ]
     },
     "metadata": {
      "needs_background": "light"
     },
     "output_type": "display_data"
    }
   ],
   "source": [
    "from matplotlib import pyplot as plt\n",
    "for cat in df_test['sub_category'].value_counts().index:\n",
    "    print(cat)\n",
    "    #g = df_test[ (df_test['pn']==0) & (df_test['sub_category']==cat) & (df_test['final_odds'] > 8) ].copy()\n",
    "    #g = df_test[ (df_test['pn']<df_test['oddsn']) & (df_test['sub_category']==cat) & (df_test['final_odds_ref_real'] > 20) ].copy()\n",
    "    g = df_test[ (df_test['pn_diff']>5) & (df_test['pn']==0) & (df_test['sub_category']==cat) & (df_test['final_odds_ref_real'] > 2) & (df_test['final_odds_ref_real'] < 40) ].copy()\n",
    "    \n",
    "    #g = g.groupby('race_id').apply(lambda r: r.iloc[-3:])\n",
    "    \n",
    "    g['stash'] = g['profit'].cumsum()\n",
    "    pd.set_option('display.max_rows', 1000)\n",
    "    print(len(g))\n",
    "    print(g[['start_at', 'horse_name', 'race_id', 'prize', 'bet', 'oddsn', 'sub_category', 'final_odds', 'winner_dividend', 'placed_dividend', 'position', 'bet', 'profit', 'stash']].head(10))\n",
    "    g['stash'].plot()\n",
    "    plt.show()"
   ]
  },
  {
   "cell_type": "raw",
   "metadata": {},
   "source": []
  },
  {
   "cell_type": "code",
   "execution_count": null,
   "metadata": {},
   "outputs": [],
   "source": [
    "g['stash'].plot()"
   ]
  },
  {
   "cell_type": "code",
   "execution_count": null,
   "metadata": {},
   "outputs": [],
   "source": [
    "from dill import dump, load\n",
    "\n",
    "dump(scaler, open('/Users/pourquoi/workspace/cataclop/cataclop-django/var/models/keras-pair-pos2/scaler.pkl', 'wb+'))\n",
    "\n",
    "model.save('/Users/pourquoi/workspace/cataclop/cataclop-django/var/models/keras-pair-pos2/model.h5')"
   ]
  },
  {
   "cell_type": "code",
   "execution_count": null,
   "metadata": {},
   "outputs": [],
   "source": [
    "dump(horse_dummies, open('/Users/pourquoi/workspace/cataclop/cataclop-django/var/models/keras-pair-pos2/horse_dummies.pkl', 'wb'))\n",
    "dump(race_dummies, open('/Users/pourquoi/workspace/cataclop/cataclop-django/var/models/keras-pair-pos2/race_dummies.pkl', 'wb'))"
   ]
  },
  {
   "cell_type": "code",
   "execution_count": null,
   "metadata": {},
   "outputs": [],
   "source": []
  }
 ],
 "metadata": {
  "kernelspec": {
   "display_name": "Django Shell-Plus",
   "language": "python",
   "name": "django_extensions"
  },
  "language_info": {
   "codemirror_mode": {
    "name": "ipython",
    "version": 3
   },
   "file_extension": ".py",
   "mimetype": "text/x-python",
   "name": "python",
   "nbconvert_exporter": "python",
   "pygments_lexer": "ipython3",
   "version": "3.6.4"
  }
 },
 "nbformat": 4,
 "nbformat_minor": 4
}
