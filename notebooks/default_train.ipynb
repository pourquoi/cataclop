{
 "cells": [
  {
   "cell_type": "code",
   "execution_count": 1,
   "metadata": {},
   "outputs": [],
   "source": [
    "import pandas as pd\n",
    "import numpy as np\n",
    "\n",
    "pd.set_option('display.max_columns', 200)\n",
    "pd.set_option('display.max_rows', 500)\n",
    "\n",
    "from cataclop.ml.pipeline import factories"
   ]
  },
  {
   "cell_type": "code",
   "execution_count": 2,
   "metadata": {},
   "outputs": [],
   "source": [
    "program = factories.Program.factory('default', version='1.1')"
   ]
  },
  {
   "cell_type": "code",
   "execution_count": 3,
   "metadata": {},
   "outputs": [
    {
     "name": "stderr",
     "output_type": "stream",
     "text": [
      "loading data 422765343d4f6e214c41091598dd9cb9 from cache\n",
      "preparing model data\n",
      "training knn_10\n",
      "mea: 4.045300439974859\n",
      "training knn_100\n",
      "mea: 4.042992489000628\n",
      "training mlp_10\n",
      "mea: 3.8784596458314713\n",
      "training mlp_100\n",
      "mea: 4.01874765566886\n",
      "training gbr_10\n",
      "mea: 4.073984777098436\n",
      "training gbr_100\n",
      "mea: 4.509486318844861\n",
      "training rf_10\n",
      "mea: 4.913756372527012\n",
      "training rf_100\n",
      "mea: 4.905736137798929\n",
      "training knn_10\n",
      "mea: 3.9769033626649906\n",
      "training knn_100\n",
      "mea: 3.987407573852923\n",
      "training mlp_10\n",
      "mea: 3.9301924342372474\n",
      "training mlp_100\n",
      "mea: 3.908729383142868\n",
      "training gbr_10\n",
      "mea: 3.985462590336489\n",
      "training gbr_100\n",
      "mea: 4.298977301116855\n",
      "training rf_10\n",
      "mea: 4.779692178100027\n",
      "training rf_100\n",
      "mea: 4.715166199081142\n"
     ]
    }
   ],
   "source": [
    "program.train(dataset_params = {\n",
    "    #'from': '2013-05-10'\n",
    "    'from': '2017-01-02',\n",
    "    'to': '2018-10-01'\n",
    "})"
   ]
  },
  {
   "cell_type": "code",
   "execution_count": 4,
   "metadata": {},
   "outputs": [
    {
     "name": "stdout",
     "output_type": "stream",
     "text": [
      "422765343d4f6e214c41091598dd9cb9\n",
      "8948b3ec9f8d1a9f09e4610a770ae0f9\n"
     ]
    }
   ],
   "source": [
    "program.dataset.save()\n",
    "print(program.dataset.hash)\n",
    "program.model.save()\n",
    "print(program.model.hash)"
   ]
  },
  {
   "cell_type": "code",
   "execution_count": 5,
   "metadata": {},
   "outputs": [
    {
     "name": "stdout",
     "output_type": "stream",
     "text": [
      "11106 races from 2017-01-02 11:40:00 to 2018-06-21 18:35:00\n"
     ]
    }
   ],
   "source": [
    "print('{} races from {} to {}'.format(program.df.race_id.nunique(), program.df.start_at.min(), program.df.start_at.max()))"
   ]
  },
  {
   "cell_type": "code",
   "execution_count": 6,
   "metadata": {},
   "outputs": [
    {
     "data": {
      "text/plain": [
       "id                              0\n",
       "age                             0\n",
       "earnings                        0\n",
       "final_odds                   1876\n",
       "final_odds_ref                  0\n",
       "handicap_distance               0\n",
       "handicap_weight                 0\n",
       "herder_id                   42976\n",
       "horse_id                        0\n",
       "imported_at_player              0\n",
       "is_first_timer                  0\n",
       "is_racing                       0\n",
       "jockey_id                       0\n",
       "music                           0\n",
       "num                             0\n",
       "owner_id                        1\n",
       "placed_2_count                  0\n",
       "placed_3_count                  0\n",
       "placed_count                    0\n",
       "placed_dividend                 0\n",
       "placed_earnings                 0\n",
       "position                    15311\n",
       "post_position                   0\n",
       "prev_year_earnings              0\n",
       "race_count                      0\n",
       "race_id                         0\n",
       "time                        98057\n",
       "trainer_id                      0\n",
       "victory_count                   0\n",
       "victory_earnings                0\n",
       "winner_dividend                 0\n",
       "year_earnings                   0\n",
       "category                        0\n",
       "condition_age               39918\n",
       "condition_sex                   0\n",
       "declared_player_count           0\n",
       "distance                        0\n",
       "imported_at_race                0\n",
       "num_race                        0\n",
       "num_bis                    106971\n",
       "prize                           0\n",
       "session_id                      0\n",
       "start_at                        0\n",
       "sub_category                    0\n",
       "date                            0\n",
       "hippodrome_id                   0\n",
       "imported_at_session             0\n",
       "num_session                     0\n",
       "code                            0\n",
       "country                         0\n",
       "imported_at_hippo               0\n",
       "name                            0\n",
       "hist_1_pos                      0\n",
       "hist_2_pos                      0\n",
       "hist_3_pos                      0\n",
       "hist_4_pos                      0\n",
       "hist_5_pos                      0\n",
       "hist_6_pos                      0\n",
       "speed                           0\n",
       "win                             0\n",
       "final_odds_ref_inv              0\n",
       "race_count_mean                 0\n",
       "race_count_std                  0\n",
       "race_count_amin                 0\n",
       "race_count_amax                 0\n",
       "victory_count_mean              0\n",
       "victory_count_std               0\n",
       "victory_count_amin              0\n",
       "victory_count_amax              0\n",
       "placed_2_count_mean             0\n",
       "placed_2_count_std              0\n",
       "placed_2_count_amin             0\n",
       "placed_2_count_amax             0\n",
       "placed_3_count_mean             0\n",
       "placed_3_count_std              0\n",
       "placed_3_count_amin             0\n",
       "placed_3_count_amax             0\n",
       "victory_earnings_mean           0\n",
       "victory_earnings_std            0\n",
       "victory_earnings_amin           0\n",
       "victory_earnings_amax           0\n",
       "placed_earnings_mean            0\n",
       "placed_earnings_std             0\n",
       "placed_earnings_amin            0\n",
       "placed_earnings_amax            0\n",
       "prev_year_earnings_mean         0\n",
       "prev_year_earnings_std          0\n",
       "prev_year_earnings_amin         0\n",
       "prev_year_earnings_amax         0\n",
       "handicap_distance_mean          0\n",
       "handicap_distance_std           0\n",
       "handicap_distance_amin          0\n",
       "handicap_distance_amax          0\n",
       "handicap_weight_mean            0\n",
       "handicap_weight_std             0\n",
       "handicap_weight_amin            0\n",
       "handicap_weight_amax            0\n",
       "race_count_r                    0\n",
       "victory_count_r                 0\n",
       "placed_2_count_r                0\n",
       "placed_3_count_r                0\n",
       "victory_earnings_r              0\n",
       "placed_earnings_r               0\n",
       "prev_year_earnings_r            0\n",
       "handicap_distance_r             0\n",
       "handicap_weight_r               0\n",
       "odds_0                          0\n",
       "odds_1                          0\n",
       "odds_2                          0\n",
       "odds_3                          0\n",
       "odds_4                          0\n",
       "odds_5                          0\n",
       "odds_6                          0\n",
       "odds_7                          0\n",
       "odds_8                          0\n",
       "odds_9                          0\n",
       "odds_10                         0\n",
       "odds_11                         0\n",
       "odds_12                         0\n",
       "odds_13                         0\n",
       "odds_14                         0\n",
       "odds_15                         0\n",
       "odds_16                         0\n",
       "odds_17                         0\n",
       "odds_18                         0\n",
       "odds_19                         0\n",
       "target                          0\n",
       "pred_knn_10_1                   0\n",
       "pred_knn_100_1                  0\n",
       "pred_mlp_10_1                   0\n",
       "pred_mlp_100_1                  0\n",
       "pred_gbr_10_1                   0\n",
       "pred_gbr_100_1                  0\n",
       "pred_rf_10_1                    0\n",
       "pred_rf_100_1                   0\n",
       "dtype: int64"
      ]
     },
     "execution_count": 6,
     "metadata": {},
     "output_type": "execute_result"
    }
   ],
   "source": [
    "from cataclop.ml import exploration\n",
    "\n",
    "program.df.isnull().sum()"
   ]
  },
  {
   "cell_type": "code",
   "execution_count": 7,
   "metadata": {},
   "outputs": [
    {
     "name": "stdout",
     "output_type": "stream",
     "text": [
      "gbr_10\n",
      "odds_9                                          0.214322\n",
      "hist_1_pos                                      0.137935\n",
      "odds_8                                          0.134139\n",
      "victory_earnings_r                              0.103188\n",
      "odds_4                                          0.054357\n",
      "placed_3_count                                  0.046775\n",
      "declared_player_count                           0.033230\n",
      "odds_7                                          0.032284\n",
      "hist_2_pos                                      0.030501\n",
      "odds_0                                          0.029935\n",
      "handicap_distance_std                           0.021903\n",
      "placed_3_count_mean                             0.019947\n",
      "handicap_weight_r                               0.019269\n",
      "victory_count_r                                 0.017351\n",
      "odds_2                                          0.013623\n",
      "placed_3_count_amin                             0.012335\n",
      "odds_1                                          0.011545\n",
      "prize                                           0.011143\n",
      "placed_earnings_r                               0.010271\n",
      "hist_3_pos                                      0.009733\n",
      "placed_2_count_r                                0.007975\n",
      "odds_6                                          0.007724\n",
      "prev_year_earnings                              0.007085\n",
      "victory_earnings                                0.006834\n",
      "country_value_FRA                               0.006595\n",
      "victory_earnings_std                            0.000000\n",
      "sub_category_value_HANDICAP_DE_CATEGORIE        0.000000\n",
      "country_value_BEL                               0.000000\n",
      "country_value_DEU                               0.000000\n",
      "odds_3                                          0.000000\n",
      "sub_category_value_AMATEURS_AUTOSTART           0.000000\n",
      "odds_5                                          0.000000\n",
      "sub_category_value_NATIONALE_AUTOSTART          0.000000\n",
      "hist_5_pos                                      0.000000\n",
      "sub_category_value_HANDICAP_CATEGORIE_DIVISE    0.000000\n",
      "sub_category_value_INTERNATIONALE_AUTOSTART     0.000000\n",
      "placed_2_count                                  0.000000\n",
      "placed_2_count_amax                             0.000000\n",
      "placed_2_count_amin                             0.000000\n",
      "placed_2_count_mean                             0.000000\n",
      "hist_6_pos                                      0.000000\n",
      "hist_4_pos                                      0.000000\n",
      "placed_2_count_std                              0.000000\n",
      "handicap_weight                                 0.000000\n",
      "handicap_distance                               0.000000\n",
      "handicap_distance_amax                          0.000000\n",
      "handicap_distance_amin                          0.000000\n",
      "handicap_distance_mean                          0.000000\n",
      "handicap_distance_r                             0.000000\n",
      "country_value_ZAF                               0.000000\n",
      "handicap_weight_amax                            0.000000\n",
      "country_value_ESP                               0.000000\n",
      "handicap_weight_amin                            0.000000\n",
      "handicap_weight_mean                            0.000000\n",
      "country_value_NLD                               0.000000\n",
      "handicap_weight_std                             0.000000\n",
      "country_value_GBR                               0.000000\n",
      "country_value_CHL                               0.000000\n",
      "sub_category_value_A_RECLAMER                   0.000000\n",
      "sub_category_value_HANDICAP_DIVISE              0.000000\n",
      "category_value_PLAT                             0.000000\n",
      "victory_count_amax                              0.000000\n",
      "race_count_amax                                 0.000000\n",
      "race_count_amin                                 0.000000\n",
      "race_count_mean                                 0.000000\n",
      "race_count_r                                    0.000000\n",
      "race_count_std                                  0.000000\n",
      "victory_count                                   0.000000\n",
      "victory_count_amin                              0.000000\n",
      "category_value_MONTE                            0.000000\n",
      "victory_count_mean                              0.000000\n",
      "category_value_ATTELE                           0.000000\n",
      "victory_count_std                               0.000000\n",
      "victory_earnings_amax                           0.000000\n",
      "victory_earnings_amin                           0.000000\n",
      "victory_earnings_mean                           0.000000\n",
      "race_count                                      0.000000\n",
      "prev_year_earnings_std                          0.000000\n",
      "placed_3_count_amax                             0.000000\n",
      "placed_earnings_amin                            0.000000\n",
      "sub_category_value_HANDICAP                     0.000000\n",
      "sub_category_value_AUTOSTART                    0.000000\n",
      "placed_3_count_r                                0.000000\n",
      "placed_3_count_std                              0.000000\n",
      "placed_earnings                                 0.000000\n",
      "placed_earnings_amax                            0.000000\n",
      "placed_earnings_mean                            0.000000\n",
      "prev_year_earnings_r                            0.000000\n",
      "sub_category_value_COURSE_A_CONDITIONS          0.000000\n",
      "placed_earnings_std                             0.000000\n",
      "country_value_CHE                               0.000000\n",
      "prev_year_earnings_amax                         0.000000\n",
      "prev_year_earnings_amin                         0.000000\n",
      "prev_year_earnings_mean                         0.000000\n",
      "country_value_ARE                               0.000000\n",
      "dtype: float64\n",
      "---\n",
      "\n",
      "gbr_100\n",
      "odds_9                                          0.066196\n",
      "victory_earnings_r                              0.063838\n",
      "hist_1_pos                                      0.054496\n",
      "placed_earnings                                 0.042202\n",
      "hist_2_pos                                      0.038652\n",
      "odds_8                                          0.037923\n",
      "race_count_r                                    0.032758\n",
      "odds_0                                          0.031042\n",
      "placed_3_count                                  0.026994\n",
      "placed_earnings_r                               0.026825\n",
      "declared_player_count                           0.026788\n",
      "victory_earnings                                0.022601\n",
      "odds_5                                          0.022262\n",
      "handicap_weight_r                               0.021527\n",
      "victory_count_r                                 0.020716\n",
      "handicap_weight                                 0.020187\n",
      "hist_3_pos                                      0.020081\n",
      "placed_2_count_r                                0.017750\n",
      "prev_year_earnings_std                          0.017669\n",
      "prize                                           0.017362\n",
      "odds_4                                          0.015076\n",
      "prev_year_earnings_r                            0.013944\n",
      "race_count_std                                  0.013787\n",
      "odds_7                                          0.013600\n",
      "odds_3                                          0.013504\n",
      "placed_3_count_r                                0.013015\n",
      "handicap_distance                               0.012800\n",
      "handicap_weight_std                             0.011757\n",
      "placed_2_count_std                              0.011619\n",
      "placed_2_count_mean                             0.011491\n",
      "victory_earnings_amax                           0.011371\n",
      "prev_year_earnings_amax                         0.010967\n",
      "placed_earnings_amax                            0.010679\n",
      "victory_earnings_amin                           0.010412\n",
      "handicap_weight_amin                            0.010167\n",
      "placed_3_count_amin                             0.009693\n",
      "sub_category_value_HANDICAP                     0.009543\n",
      "victory_earnings_mean                           0.009079\n",
      "odds_6                                          0.009045\n",
      "prev_year_earnings_mean                         0.008788\n",
      "race_count_amin                                 0.008533\n",
      "handicap_distance_std                           0.008465\n",
      "placed_3_count_mean                             0.008281\n",
      "placed_earnings_amin                            0.008171\n",
      "handicap_weight_amax                            0.007772\n",
      "victory_earnings_std                            0.007202\n",
      "race_count                                      0.006967\n",
      "odds_1                                          0.006389\n",
      "victory_count_mean                              0.005967\n",
      "placed_3_count_amax                             0.005877\n",
      "prev_year_earnings                              0.005770\n",
      "country_value_FRA                               0.005656\n",
      "handicap_distance_r                             0.005618\n",
      "odds_2                                          0.004659\n",
      "hist_6_pos                                      0.004408\n",
      "race_count_mean                                 0.004331\n",
      "placed_earnings_std                             0.004059\n",
      "victory_count_amax                              0.003778\n",
      "hist_5_pos                                      0.003713\n",
      "placed_2_count                                  0.003677\n",
      "hist_4_pos                                      0.003591\n",
      "sub_category_value_NATIONALE_AUTOSTART          0.003360\n",
      "placed_earnings_mean                            0.002891\n",
      "country_value_ESP                               0.002469\n",
      "country_value_GBR                               0.002110\n",
      "handicap_distance_mean                          0.002078\n",
      "race_count_amax                                 0.001712\n",
      "handicap_weight_mean                            0.001383\n",
      "placed_3_count_std                              0.001352\n",
      "country_value_ZAF                               0.000811\n",
      "sub_category_value_HANDICAP_DE_CATEGORIE        0.000560\n",
      "sub_category_value_AUTOSTART                    0.000136\n",
      "victory_count_std                               0.000037\n",
      "prev_year_earnings_amin                         0.000004\n",
      "sub_category_value_HANDICAP_CATEGORIE_DIVISE    0.000004\n",
      "country_value_CHE                               0.000000\n",
      "country_value_NLD                               0.000000\n",
      "country_value_DEU                               0.000000\n",
      "country_value_CHL                               0.000000\n",
      "handicap_distance_amin                          0.000000\n",
      "handicap_distance_amax                          0.000000\n",
      "country_value_BEL                               0.000000\n",
      "placed_2_count_amin                             0.000000\n",
      "sub_category_value_AMATEURS_AUTOSTART           0.000000\n",
      "placed_2_count_amax                             0.000000\n",
      "victory_count                                   0.000000\n",
      "victory_count_amin                              0.000000\n",
      "sub_category_value_INTERNATIONALE_AUTOSTART     0.000000\n",
      "sub_category_value_A_RECLAMER                   0.000000\n",
      "sub_category_value_HANDICAP_DIVISE              0.000000\n",
      "sub_category_value_COURSE_A_CONDITIONS          0.000000\n",
      "category_value_MONTE                            0.000000\n",
      "category_value_ATTELE                           0.000000\n",
      "category_value_PLAT                             0.000000\n",
      "country_value_ARE                               0.000000\n",
      "dtype: float64\n",
      "---\n",
      "\n",
      "rf_10\n",
      "victory_earnings_r                              0.036354\n",
      "odds_3                                          0.028954\n",
      "odds_1                                          0.028902\n",
      "handicap_weight_r                               0.027575\n",
      "hist_1_pos                                      0.026719\n",
      "odds_9                                          0.025573\n",
      "odds_8                                          0.024779\n",
      "placed_2_count_r                                0.023074\n",
      "placed_earnings_r                               0.022898\n",
      "hist_3_pos                                      0.022831\n",
      "victory_count_r                                 0.022641\n",
      "prev_year_earnings_r                            0.022612\n",
      "odds_6                                          0.022576\n",
      "odds_4                                          0.022533\n",
      "race_count_r                                    0.022514\n",
      "hist_5_pos                                      0.022361\n",
      "odds_7                                          0.021425\n",
      "hist_2_pos                                      0.021119\n",
      "odds_5                                          0.021059\n",
      "odds_0                                          0.020763\n",
      "placed_3_count_r                                0.019916\n",
      "placed_earnings_std                             0.019298\n",
      "odds_2                                          0.018886\n",
      "hist_4_pos                                      0.018018\n",
      "handicap_weight_std                             0.017733\n",
      "victory_earnings                                0.017513\n",
      "victory_earnings_std                            0.017510\n",
      "prev_year_earnings_std                          0.017036\n",
      "victory_earnings_amax                           0.016310\n",
      "prize                                           0.014588\n",
      "race_count                                      0.014004\n",
      "prev_year_earnings_amax                         0.013471\n",
      "victory_earnings_mean                           0.013395\n",
      "prev_year_earnings                              0.013394\n",
      "placed_earnings                                 0.013109\n",
      "placed_3_count_mean                             0.013005\n",
      "placed_3_count_std                              0.012191\n",
      "placed_earnings_amax                            0.010741\n",
      "race_count_std                                  0.010176\n",
      "placed_2_count_std                              0.010140\n",
      "prev_year_earnings_mean                         0.010006\n",
      "race_count_mean                                 0.009942\n",
      "placed_3_count                                  0.009758\n",
      "victory_count_std                               0.009371\n",
      "handicap_weight_amax                            0.008966\n",
      "handicap_weight_mean                            0.008670\n",
      "placed_earnings_mean                            0.008478\n",
      "hist_6_pos                                      0.008434\n",
      "victory_earnings_amin                           0.007371\n",
      "victory_count_mean                              0.007022\n",
      "declared_player_count                           0.006717\n",
      "placed_3_count_amax                             0.006584\n",
      "race_count_amin                                 0.006381\n",
      "race_count_amax                                 0.006040\n",
      "placed_3_count_amin                             0.005971\n",
      "placed_2_count_mean                             0.005836\n",
      "placed_2_count_amax                             0.005490\n",
      "placed_2_count                                  0.005433\n",
      "handicap_distance_amax                          0.005432\n",
      "placed_earnings_amin                            0.005030\n",
      "victory_count                                   0.004822\n",
      "handicap_weight_amin                            0.004618\n",
      "handicap_weight                                 0.004601\n",
      "victory_count_amax                              0.004219\n",
      "prev_year_earnings_amin                         0.003866\n",
      "sub_category_value_NATIONALE_AUTOSTART          0.003405\n",
      "handicap_distance                               0.003111\n",
      "sub_category_value_HANDICAP_DE_CATEGORIE        0.002862\n",
      "sub_category_value_HANDICAP                     0.002830\n",
      "handicap_distance_std                           0.002672\n",
      "handicap_distance_amin                          0.002484\n",
      "handicap_distance_r                             0.002445\n",
      "country_value_FRA                               0.002369\n",
      "country_value_GBR                               0.001980\n",
      "country_value_ZAF                               0.001814\n",
      "victory_count_amin                              0.001696\n",
      "handicap_distance_mean                          0.001508\n",
      "country_value_BEL                               0.001493\n",
      "country_value_ARE                               0.001433\n",
      "sub_category_value_A_RECLAMER                   0.001377\n",
      "country_value_CHL                               0.001241\n",
      "sub_category_value_HANDICAP_DIVISE              0.001198\n",
      "country_value_DEU                               0.001129\n",
      "country_value_ESP                               0.001095\n",
      "sub_category_value_COURSE_A_CONDITIONS          0.001078\n",
      "sub_category_value_AMATEURS_AUTOSTART           0.000964\n",
      "sub_category_value_HANDICAP_CATEGORIE_DIVISE    0.000829\n",
      "placed_2_count_amin                             0.000592\n",
      "sub_category_value_AUTOSTART                    0.000402\n",
      "sub_category_value_INTERNATIONALE_AUTOSTART     0.000396\n",
      "country_value_CHE                               0.000377\n",
      "category_value_PLAT                             0.000339\n",
      "country_value_NLD                               0.000087\n",
      "category_value_ATTELE                           0.000041\n",
      "category_value_MONTE                            0.000000\n",
      "dtype: float64\n",
      "---\n",
      "\n",
      "rf_100\n",
      "victory_earnings_r                              0.038154\n",
      "odds_9                                          0.032834\n",
      "handicap_weight_r                               0.026805\n",
      "hist_1_pos                                      0.026642\n",
      "race_count_r                                    0.025580\n",
      "hist_2_pos                                      0.025388\n",
      "odds_1                                          0.025102\n",
      "odds_4                                          0.023882\n",
      "placed_2_count_r                                0.023686\n",
      "victory_count_r                                 0.023523\n",
      "odds_3                                          0.022961\n",
      "odds_8                                          0.022912\n",
      "placed_3_count_r                                0.022858\n",
      "placed_earnings_r                               0.022204\n",
      "prev_year_earnings_r                            0.022059\n",
      "victory_earnings                                0.020726\n",
      "odds_6                                          0.020574\n",
      "odds_0                                          0.020371\n",
      "odds_7                                          0.019692\n",
      "prize                                           0.019442\n",
      "victory_earnings_std                            0.019365\n",
      "hist_3_pos                                      0.019333\n",
      "odds_2                                          0.018979\n",
      "odds_5                                          0.018953\n",
      "prev_year_earnings_std                          0.018306\n",
      "victory_earnings_amax                           0.016966\n",
      "placed_earnings_std                             0.016319\n",
      "victory_earnings_mean                           0.015737\n",
      "hist_5_pos                                      0.015663\n",
      "prev_year_earnings                              0.015255\n",
      "hist_4_pos                                      0.015138\n",
      "handicap_weight_std                             0.014842\n",
      "prev_year_earnings_amax                         0.013603\n",
      "placed_earnings                                 0.013413\n",
      "race_count                                      0.012413\n",
      "placed_earnings_amax                            0.011817\n",
      "race_count_std                                  0.011005\n",
      "prev_year_earnings_mean                         0.010954\n",
      "hist_6_pos                                      0.010946\n",
      "placed_3_count_std                              0.010323\n",
      "victory_earnings_amin                           0.010101\n",
      "placed_2_count_std                              0.010050\n",
      "handicap_weight_mean                            0.009839\n",
      "race_count_amin                                 0.009616\n",
      "placed_3_count                                  0.009586\n",
      "placed_2_count_mean                             0.009341\n",
      "declared_player_count                           0.008921\n",
      "placed_earnings_mean                            0.008782\n",
      "placed_3_count_mean                             0.008413\n",
      "race_count_mean                                 0.008375\n",
      "victory_count_std                               0.008067\n",
      "handicap_weight_amax                            0.007657\n",
      "victory_count_mean                              0.007532\n",
      "handicap_weight                                 0.007142\n",
      "race_count_amax                                 0.006529\n",
      "placed_earnings_amin                            0.006021\n",
      "handicap_weight_amin                            0.005830\n",
      "placed_2_count                                  0.005272\n",
      "placed_3_count_amax                             0.005172\n",
      "victory_count                                   0.004708\n",
      "prev_year_earnings_amin                         0.004652\n",
      "placed_2_count_amax                             0.004115\n",
      "placed_3_count_amin                             0.003841\n",
      "victory_count_amax                              0.003347\n",
      "sub_category_value_NATIONALE_AUTOSTART          0.003345\n",
      "country_value_GBR                               0.002579\n",
      "sub_category_value_HANDICAP_DE_CATEGORIE        0.002502\n",
      "handicap_distance_amax                          0.002418\n",
      "sub_category_value_HANDICAP                     0.002282\n",
      "country_value_ZAF                               0.002197\n",
      "handicap_distance_amin                          0.002087\n",
      "handicap_distance                               0.001932\n",
      "country_value_FRA                               0.001662\n",
      "handicap_distance_std                           0.001661\n",
      "handicap_distance_r                             0.001648\n",
      "victory_count_amin                              0.001603\n",
      "handicap_distance_mean                          0.001534\n",
      "sub_category_value_A_RECLAMER                   0.001489\n",
      "placed_2_count_amin                             0.001488\n",
      "country_value_NLD                               0.001453\n",
      "country_value_BEL                               0.001372\n",
      "country_value_DEU                               0.001149\n",
      "sub_category_value_COURSE_A_CONDITIONS          0.001097\n",
      "sub_category_value_AMATEURS_AUTOSTART           0.001028\n",
      "sub_category_value_HANDICAP_CATEGORIE_DIVISE    0.000833\n",
      "country_value_CHL                               0.000799\n",
      "country_value_ESP                               0.000783\n",
      "sub_category_value_HANDICAP_DIVISE              0.000764\n",
      "sub_category_value_AUTOSTART                    0.000735\n",
      "country_value_ARE                               0.000608\n",
      "sub_category_value_INTERNATIONALE_AUTOSTART     0.000395\n",
      "country_value_CHE                               0.000392\n",
      "category_value_PLAT                             0.000298\n",
      "category_value_ATTELE                           0.000196\n",
      "category_value_MONTE                            0.000036\n",
      "dtype: float64\n",
      "---\n",
      "\n"
     ]
    }
   ],
   "source": [
    "import pandas as pd\n",
    "from cataclop.ml import preprocessing\n",
    "\n",
    "for model in program.model.models:\n",
    "    clf = model['estimators'][-1]['pipeline'].steps[-1][1]\n",
    "    if hasattr(clf, 'feature_importances_'):\n",
    "        fi = pd.Series(clf.feature_importances_, index=program.model.features+preprocessing.get_dummy_features(model['estimators'][-1]['dummies']))\n",
    "        print(model['name'])\n",
    "        print(fi.sort_values(ascending=False)[0:100])\n",
    "        print(\"---\\n\")\n"
   ]
  },
  {
   "cell_type": "code",
   "execution_count": 8,
   "metadata": {},
   "outputs": [
    {
     "data": {
      "text/plain": [
       "count    53901.000000\n",
       "mean        -0.206063\n",
       "std          3.360021\n",
       "min         -1.000000\n",
       "25%         -1.000000\n",
       "50%         -1.000000\n",
       "75%         -1.000000\n",
       "max         77.200000\n",
       "Name: profit, dtype: float64"
      ]
     },
     "execution_count": 8,
     "metadata": {},
     "output_type": "execute_result"
    }
   ],
   "source": [
    "program.bet(N=1, max_odds=20)\n",
    "bets = program.bets\n",
    "bets['profit'].describe()"
   ]
  },
  {
   "cell_type": "code",
   "execution_count": 9,
   "metadata": {},
   "outputs": [],
   "source": [
    "bets = bets.reset_index(drop=True)"
   ]
  },
  {
   "cell_type": "code",
   "execution_count": 18,
   "metadata": {
    "scrolled": false
   },
   "outputs": [
    {
     "name": "stdout",
     "output_type": "stream",
     "text": [
      "---\n",
      "COURSE_A_CONDITIONS\t-555.20\t+2308.00\t+2308.00\n",
      "---\n",
      "pred_gbr_10_1: \t -386.20 \t +1205 \t -0.32\n",
      "pred_gbr_100_1: \t -154.00 \t +1088 \t -0.14\n"
     ]
    },
    {
     "data": {
      "image/png": "[encoded data removed]",
      "text/plain": [
       "<Figure size 432x144 with 1 Axes>"
      ]
     },
     "metadata": {
      "needs_background": "light"
     },
     "output_type": "display_data"
    },
    {
     "name": "stdout",
     "output_type": "stream",
     "text": [
      "---\n",
      "HANDICAP\t-291.80\t+1421.00\t+1421.00\n",
      "---\n",
      "pred_gbr_10_1: \t -129.30 \t +721 \t -0.18\n",
      "pred_gbr_100_1: \t -161.50 \t +699 \t -0.23\n"
     ]
    },
    {
     "data": {
      "image/png": "[encoded data removed]",
      "text/plain": [
       "<Figure size 432x144 with 1 Axes>"
      ]
     },
     "metadata": {
      "needs_background": "light"
     },
     "output_type": "display_data"
    },
    {
     "name": "stdout",
     "output_type": "stream",
     "text": [
      "---\n",
      "AUTOSTART\t-351.70\t+1004.00\t+1004.00\n",
      "---\n",
      "pred_gbr_10_1: \t -191.20 \t +505 \t -0.38\n",
      "pred_gbr_100_1: \t -153.50 \t +492 \t -0.31\n"
     ]
    },
    {
     "data": {
      "image/png": "[encoded data removed]",
      "text/plain": [
       "<Figure size 432x144 with 1 Axes>"
      ]
     },
     "metadata": {
      "needs_background": "light"
     },
     "output_type": "display_data"
    },
    {
     "name": "stdout",
     "output_type": "stream",
     "text": [
      "---\n",
      "HANDICAP_DIVISE\t+339.80\t+654.00\t+654.00\n",
      "---\n",
      "pred_gbr_10_1: \t +217.60 \t +333 \t +0.65\n",
      "pred_gbr_100_1: \t +126.20 \t +317 \t +0.40\n"
     ]
    },
    {
     "data": {
      "image/png": "[encoded data removed]",
      "text/plain": [
       "<Figure size 432x144 with 1 Axes>"
      ]
     },
     "metadata": {
      "needs_background": "light"
     },
     "output_type": "display_data"
    },
    {
     "name": "stdout",
     "output_type": "stream",
     "text": [
      "---\n",
      "A_RECLAMER\t-97.50\t+485.00\t+485.00\n",
      "---\n",
      "pred_gbr_10_1: \t -17.90 \t +259 \t -0.07\n",
      "pred_gbr_100_1: \t -79.60 \t +226 \t -0.35\n"
     ]
    },
    {
     "data": {
      "image/png": "[encoded data removed]",
      "text/plain": [
       "<Figure size 432x144 with 1 Axes>"
      ]
     },
     "metadata": {
      "needs_background": "light"
     },
     "output_type": "display_data"
    },
    {
     "name": "stdout",
     "output_type": "stream",
     "text": [
      "---\n",
      "INTERNATIONALE_AUTOSTART\t-17.30\t+253.00\t+253.00\n",
      "---\n",
      "pred_gbr_10_1: \t -29.50 \t +130 \t -0.23\n",
      "pred_gbr_100_1: \t +12.20 \t +123 \t +0.10\n"
     ]
    },
    {
     "data": {
      "image/png": "[encoded data removed]",
      "text/plain": [
       "<Figure size 432x144 with 1 Axes>"
      ]
     },
     "metadata": {
      "needs_background": "light"
     },
     "output_type": "display_data"
    },
    {
     "name": "stdout",
     "output_type": "stream",
     "text": [
      "---\n",
      "HANDICAP_CATEGORIE_DIVISE\t-61.80\t+248.00\t+248.00\n",
      "---\n",
      "pred_gbr_100_1: \t -43.00 \t +123 \t -0.35\n",
      "pred_gbr_10_1: \t -32.30 \t +122 \t -0.26\n"
     ]
    },
    {
     "data": {
      "image/png": "[encoded data removed]",
      "text/plain": [
       "<Figure size 432x144 with 1 Axes>"
      ]
     },
     "metadata": {
      "needs_background": "light"
     },
     "output_type": "display_data"
    },
    {
     "name": "stdout",
     "output_type": "stream",
     "text": [
      "---\n",
      "HANDICAP_DE_CATEGORIE\t+19.10\t+121.00\t+121.00\n",
      "---\n",
      "pred_gbr_10_1: \t +5.40 \t +62 \t +0.09\n",
      "pred_gbr_100_1: \t +13.70 \t +59 \t +0.23\n"
     ]
    },
    {
     "data": {
      "image/png": "[encoded data removed]",
      "text/plain": [
       "<Figure size 432x144 with 1 Axes>"
      ]
     },
     "metadata": {
      "needs_background": "light"
     },
     "output_type": "display_data"
    },
    {
     "name": "stdout",
     "output_type": "stream",
     "text": [
      "---\n",
      "NATIONALE_AUTOSTART\t-6.50\t+115.00\t+115.00\n",
      "---\n",
      "pred_gbr_100_1: \t -21.00 \t +62 \t -0.34\n",
      "pred_gbr_10_1: \t +14.50 \t +53 \t +0.27\n"
     ]
    },
    {
     "data": {
      "image/png": "[encoded data removed]",
      "text/plain": [
       "<Figure size 432x144 with 1 Axes>"
      ]
     },
     "metadata": {
      "needs_background": "light"
     },
     "output_type": "display_data"
    },
    {
     "name": "stdout",
     "output_type": "stream",
     "text": [
      "---\n",
      "GROUPE_III\t-61.50\t+101.00\t+101.00\n",
      "---\n",
      "pred_gbr_100_1: \t -28.30 \t +51 \t -0.55\n",
      "pred_gbr_10_1: \t -33.20 \t +50 \t -0.66\n"
     ]
    },
    {
     "data": {
      "image/png": "[encoded data removed]",
      "text/plain": [
       "<Figure size 432x144 with 1 Axes>"
      ]
     },
     "metadata": {
      "needs_background": "light"
     },
     "output_type": "display_data"
    },
    {
     "name": "stdout",
     "output_type": "stream",
     "text": [
      "---\n",
      "GROUPE_II\t-13.70\t+100.00\t+100.00\n",
      "---\n",
      "pred_gbr_10_1: \t -13.50 \t +58 \t -0.23\n",
      "pred_gbr_100_1: \t -0.20 \t +42 \t -0.00\n"
     ]
    },
    {
     "data": {
      "image/png": "[encoded data removed]",
      "text/plain": [
       "<Figure size 432x144 with 1 Axes>"
      ]
     },
     "metadata": {
      "needs_background": "light"
     },
     "output_type": "display_data"
    },
    {
     "name": "stdout",
     "output_type": "stream",
     "text": [
      "---\n",
      "GROUPE_I\t-24.30\t+90.00\t+90.00\n",
      "---\n",
      "pred_gbr_10_1: \t -11.20 \t +45 \t -0.25\n",
      "pred_gbr_100_1: \t -12.10 \t +44 \t -0.27\n"
     ]
    },
    {
     "data": {
      "image/png": "[encoded data removed]",
      "text/plain": [
       "<Figure size 432x144 with 1 Axes>"
      ]
     },
     "metadata": {
      "needs_background": "light"
     },
     "output_type": "display_data"
    },
    {
     "name": "stdout",
     "output_type": "stream",
     "text": [
      "---\n",
      "COURSE_A_CONDITION_QUALIF_HP\t+125.40\t+70.00\t+70.00\n",
      "---\n",
      "pred_gbr_10_1: \t +78.40 \t +38 \t +2.06\n",
      "pred_gbr_100_1: \t +47.00 \t +32 \t +1.47\n"
     ]
    },
    {
     "data": {
      "image/png": "[encoded data removed]",
      "text/plain": [
       "<Figure size 432x144 with 1 Axes>"
      ]
     },
     "metadata": {
      "needs_background": "light"
     },
     "output_type": "display_data"
    },
    {
     "name": "stdout",
     "output_type": "stream",
     "text": [
      "---\n",
      "EUROPEENNE_AUTOSTART\t+16.10\t+57.00\t+57.00\n",
      "---\n",
      "pred_gbr_10_1: \t -1.50 \t +28 \t -0.05\n",
      "pred_gbr_100_1: \t +3.10 \t +28 \t +0.11\n"
     ]
    },
    {
     "data": {
      "image/png": "[encoded data removed]",
      "text/plain": [
       "<Figure size 432x144 with 1 Axes>"
      ]
     },
     "metadata": {
      "needs_background": "light"
     },
     "output_type": "display_data"
    },
    {
     "name": "stdout",
     "output_type": "stream",
     "text": [
      "---\n",
      "AMATEURS_AUTOSTART\t-9.00\t+56.00\t+56.00\n",
      "---\n",
      "pred_gbr_100_1: \t +3.10 \t +31 \t +0.10\n",
      "pred_gbr_10_1: \t -12.10 \t +25 \t -0.48\n"
     ]
    },
    {
     "data": {
      "image/png": "[encoded data removed]",
      "text/plain": [
       "<Figure size 432x144 with 1 Axes>"
      ]
     },
     "metadata": {
      "needs_background": "light"
     },
     "output_type": "display_data"
    },
    {
     "name": "stdout",
     "output_type": "stream",
     "text": [
      "---\n",
      "INCONNU\t+54.50\t+47.00\t+47.00\n",
      "---\n",
      "pred_gbr_10_1: \t +34.00 \t +25 \t +1.36\n",
      "pred_gbr_100_1: \t +20.50 \t +22 \t +0.93\n"
     ]
    },
    {
     "data": {
      "image/png": "[encoded data removed]",
      "text/plain": [
       "<Figure size 432x144 with 1 Axes>"
      ]
     },
     "metadata": {
      "needs_background": "light"
     },
     "output_type": "display_data"
    },
    {
     "name": "stdout",
     "output_type": "stream",
     "text": [
      "---\n",
      "APPRENTIS_LADS_JOCKEYS_AUTOSTART\t+11.30\t+35.00\t+35.00\n",
      "---\n",
      "pred_gbr_100_1: \t +22.20 \t +19 \t +1.17\n",
      "pred_gbr_10_1: \t -10.90 \t +16 \t -0.68\n"
     ]
    },
    {
     "data": {
      "image/png": "[encoded data removed]",
      "text/plain": [
       "<Figure size 432x144 with 1 Axes>"
      ]
     },
     "metadata": {
      "needs_background": "light"
     },
     "output_type": "display_data"
    },
    {
     "name": "stdout",
     "output_type": "stream",
     "text": [
      "---\n",
      "AMATEURS_INTERNATIONALE_AUTOSTART\t-8.20\t+12.00\t+12.00\n",
      "---\n",
      "pred_gbr_100_1: \t -5.10 \t +7 \t -0.73\n",
      "pred_gbr_10_1: \t -3.10 \t +5 \t -0.62\n"
     ]
    },
    {
     "data": {
      "image/png": "[encoded data removed]",
      "text/plain": [
       "<Figure size 432x144 with 1 Axes>"
      ]
     },
     "metadata": {
      "needs_background": "light"
     },
     "output_type": "display_data"
    },
    {
     "name": "stdout",
     "output_type": "stream",
     "text": [
      "---\n",
      "A_RECLAMER_AUTOSTART\t+31.60\t+11.00\t+11.00\n",
      "---\n",
      "pred_gbr_100_1: \t +13.30 \t +8 \t +1.66\n",
      "pred_gbr_10_1: \t +19.30 \t +2 \t +9.65\n"
     ]
    },
    {
     "data": {
      "image/png": "[encoded data removed]",
      "text/plain": [
       "<Figure size 432x144 with 1 Axes>"
      ]
     },
     "metadata": {
      "needs_background": "light"
     },
     "output_type": "display_data"
    },
    {
     "name": "stdout",
     "output_type": "stream",
     "text": [
      "---\n",
      "APPRENTIS_LADS_JOCKEYS_A_RECLAMER_AUTOSTART\t-10.00\t+10.00\t+10.00\n",
      "---\n",
      "pred_gbr_100_1: \t -7.00 \t +7 \t -1.00\n",
      "pred_gbr_10_1: \t -3.00 \t +3 \t -1.00\n"
     ]
    },
    {
     "data": {
      "image/png": "[encoded data removed]",
      "text/plain": [
       "<Figure size 432x144 with 1 Axes>"
      ]
     },
     "metadata": {
      "needs_background": "light"
     },
     "output_type": "display_data"
    },
    {
     "name": "stdout",
     "output_type": "stream",
     "text": [
      "---\n",
      "HANDICAP_A_RECLAMER\t-5.00\t+5.00\t+5.00\n",
      "---\n",
      "pred_gbr_100_1: \t -3.00 \t +3 \t -1.00\n",
      "pred_gbr_10_1: \t -2.00 \t +2 \t -1.00\n"
     ]
    },
    {
     "data": {
      "image/png": "[encoded data removed]",
      "text/plain": [
       "<Figure size 432x144 with 1 Axes>"
      ]
     },
     "metadata": {
      "needs_background": "light"
     },
     "output_type": "display_data"
    },
    {
     "name": "stdout",
     "output_type": "stream",
     "text": [
      "---\n",
      "QUALIFICATION_ACCAF\t-3.00\t+3.00\t+3.00\n",
      "---\n",
      "pred_gbr_10_1: \t -2.00 \t +2 \t -1.00\n",
      "pred_gbr_100_1: \t -1.00 \t +1 \t -1.00\n"
     ]
    },
    {
     "data": {
      "image/png": "[encoded data removed]",
      "text/plain": [
       "<Figure size 432x144 with 1 Axes>"
      ]
     },
     "metadata": {
      "needs_background": "light"
     },
     "output_type": "display_data"
    },
    {
     "name": "stdout",
     "output_type": "stream",
     "text": [
      "---\n",
      "FINALE_REGIONALE_ACCAF\t-2.00\t+2.00\t+2.00\n",
      "---\n",
      "pred_gbr_100_1: \t -1.00 \t +1 \t -1.00\n",
      "pred_gbr_10_1: \t -1.00 \t +1 \t -1.00\n"
     ]
    },
    {
     "data": {
      "image/png": "[encoded data removed]",
      "text/plain": [
       "<Figure size 432x144 with 1 Axes>"
      ]
     },
     "metadata": {
      "needs_background": "light"
     },
     "output_type": "display_data"
    },
    {
     "name": "stdout",
     "output_type": "stream",
     "text": [
      "---\n",
      "COURSE_INTERNATIONALE\t-1.00\t+1.00\t+1.00\n",
      "---\n",
      "pred_gbr_10_1: \t -1.00 \t +1 \t -1.00\n"
     ]
    },
    {
     "data": {
      "image/png": "[encoded data removed]",
      "text/plain": [
       "<Figure size 432x144 with 1 Axes>"
      ]
     },
     "metadata": {
      "needs_background": "light"
     },
     "output_type": "display_data"
    }
   ],
   "source": [
    "%matplotlib inline\n",
    "import matplotlib\n",
    "import numpy as np\n",
    "import matplotlib.pyplot as plt\n",
    "\n",
    "bb = bets[(bets['target'].str.contains('^pred_gbr')) ].groupby('id').filter(lambda r: r['num'].nunique() == 1 ).copy()\n",
    "#bb = bets[(bets['target'].str.contains('^pred_mlp')) & (bets['pred_stacked_1']>1)].groupby('id').filter(lambda r: r['num'].nunique() == 1 ).copy()\n",
    "#bb = bets.groupby('id').filter(lambda r: (r['target'] == 'pred_mlp_1').sum() == 0 and (r['target'] == 'pred_knn_10_1').sum() == 1  )\n",
    "\n",
    "def f(r):\n",
    "    n1 = r[(r['target'] == 'pred_mlp_100_1')]['num']\n",
    "    n2 = r[(r['target'] == 'pred_rf_100_1')]['num']\n",
    "    \n",
    "    if not len(n1) and len(n2):\n",
    "        return True\n",
    "    if not len(n2) and len(n1):\n",
    "        return True\n",
    "    \n",
    "    if n1.max() != n2.max():\n",
    "        return True\n",
    "    \n",
    "    return False\n",
    "\n",
    "#bb = bets.groupby('id').filter(f)\n",
    "\n",
    "f = 'sub_category'\n",
    "\n",
    "for s in bb[f].value_counts().index:\n",
    "    x = bb[bb[f] == s].copy()\n",
    "    print(\"---\\n{}\\t{:+.2f}\\t{:+.2f}\\t{:+.2f}\\n---\".format(s, x['profit'].sum(), x['bet'].sum(), len(x)))\n",
    "    for t in x['target'].value_counts().index:\n",
    "        bbb = x[(x['target'] == t) & (x['odds_ref'] < 20)].copy()\n",
    "        print(\"{:10s}: \\t {:+.2f} \\t {:+.0f} \\t {:+.2f}\".format(t, bbb.profit.sum(), bbb.profit.count(), bbb.profit.mean()) )\n",
    "        \n",
    "    x['stash'] = x['profit'].cumsum()\n",
    "\n",
    "    fig, axs = plt.subplots(1,1)\n",
    "    x['stash'].plot(figsize=(6, 2))\n",
    "    plt.show()"
   ]
  },
  {
   "cell_type": "code",
   "execution_count": 11,
   "metadata": {},
   "outputs": [],
   "source": [
    "import numpy as np\n",
    "from sklearn.model_selection import KFold, GroupKFold\n",
    "from sklearn.ensemble import RandomForestClassifier, AdaBoostClassifier, RandomForestRegressor, GradientBoostingRegressor\n",
    "from sklearn.linear_model import Ridge\n",
    "\n",
    "groups = bets['id'].values\n",
    "group_kfold = GroupKFold(n_splits=2)\n",
    "splits = list(group_kfold.split(bets.values, bets.profit.values, groups))\n",
    "\n",
    "targets = ['pred_{}_1'.format(model['name']) for model in program.model.models]\n",
    "\n",
    "features = []\n",
    "\n",
    "for target in targets:\n",
    "    bets[target] = (bets['target'] == target).astype(np.float)\n",
    "    bets['pred_{}'.format(target)] = 0\n",
    "    features.append(target)\n",
    "    features.append('pred_{}'.format(target))\n",
    "    \n",
    "cats = program.df['sub_category'].value_counts()[0:5].index\n",
    "\n",
    "for cat in cats:\n",
    "    bets['cat_{}'.format(cat)] = (bets['sub_category'] == cat).astype(np.float)\n",
    "    features.append('cat_{}'.format(cat))\n",
    "\n",
    "bets['pred_stacked_1'] = 0.\n",
    "\n",
    "races = bets.groupby('id')\n",
    "\n",
    "for (id, race) in races:\n",
    "    for target in targets:\n",
    "        bets.loc[race.index, 'pred_{}'.format(target)] = race[ race['target'] == target ]['pred'].max()\n",
    "\n",
    "features += ['pred']\n",
    "\n",
    "bets.fillna(0, inplace=True)\n",
    "\n",
    "for train_index, test_index in splits:\n",
    "    \n",
    "    X_train = bets[features].iloc[train_index].copy()\n",
    "    y_train = bets['profit'].iloc[train_index]\n",
    "    \n",
    "    #print(X_train.describe())\n",
    "    \n",
    "    X_test = bets[features].iloc[test_index].copy()\n",
    "    y_test = bets['profit'].iloc[test_index]\n",
    "    \n",
    "    idx = bets.iloc[test_index].index\n",
    "    \n",
    "    estimator = RandomForestRegressor(n_estimators=100, random_state=1234)\n",
    "    estimator.fit(X_train.values, y_train.values)\n",
    "    \n",
    "    p = estimator.predict(X_test.values)\n",
    "    bets.loc[idx, 'pred_stacked_1'] = p\n",
    "\n",
    "\n"
   ]
  },
  {
   "cell_type": "code",
   "execution_count": 12,
   "metadata": {},
   "outputs": [
    {
     "name": "stdout",
     "output_type": "stream",
     "text": [
      "pred                       0.200677\n",
      "pred_pred_rf_10_1          0.095688\n",
      "pred_pred_rf_100_1         0.092953\n",
      "pred_pred_knn_10_1         0.085309\n",
      "pred_pred_gbr_100_1        0.078924\n",
      "pred_pred_knn_100_1        0.077723\n",
      "pred_pred_gbr_10_1         0.068223\n",
      "pred_pred_mlp_100_1        0.051806\n",
      "pred_pred_mlp_10_1         0.034834\n",
      "pred_knn_10_1              0.030589\n",
      "pred_gbr_100_1             0.026908\n",
      "pred_rf_10_1               0.024637\n",
      "pred_knn_100_1             0.024353\n",
      "pred_gbr_10_1              0.023389\n",
      "cat_HANDICAP_DIVISE        0.016565\n",
      "pred_rf_100_1              0.015602\n",
      "pred_mlp_100_1             0.010925\n",
      "pred_mlp_10_1              0.010490\n",
      "cat_COURSE_A_CONDITIONS    0.009892\n",
      "cat_A_RECLAMER             0.009493\n",
      "cat_AUTOSTART              0.005533\n",
      "cat_HANDICAP               0.005488\n",
      "dtype: float64\n",
      "---\n",
      "\n"
     ]
    }
   ],
   "source": [
    "import pandas as pd\n",
    "from cataclop.ml import preprocessing\n",
    "\n",
    "fi = pd.Series(estimator.feature_importances_, index=features)\n",
    "print(fi.sort_values(ascending=False)[0:100])\n",
    "print(\"---\\n\")\n"
   ]
  },
  {
   "cell_type": "code",
   "execution_count": 13,
   "metadata": {},
   "outputs": [
    {
     "data": {
      "text/plain": [
       "count    48799.000000\n",
       "mean        -0.224650\n",
       "std          3.234828\n",
       "min         -1.000000\n",
       "25%         -1.000000\n",
       "50%         -1.000000\n",
       "75%         -1.000000\n",
       "max         77.200000\n",
       "Name: profit, dtype: float64"
      ]
     },
     "execution_count": 13,
     "metadata": {},
     "output_type": "execute_result"
    }
   ],
   "source": [
    "bets[bets['pred_stacked_1'] < 1]['profit'].describe()"
   ]
  },
  {
   "cell_type": "code",
   "execution_count": 14,
   "metadata": {},
   "outputs": [
    {
     "data": {
      "text/plain": [
       "count    49000.000000\n",
       "mean        -0.019183\n",
       "std          0.957023\n",
       "min         -1.000000\n",
       "25%         -0.589000\n",
       "50%         -0.235000\n",
       "75%          0.276000\n",
       "max         43.221000\n",
       "Name: pred_stacked_1, dtype: float64"
      ]
     },
     "execution_count": 14,
     "metadata": {},
     "output_type": "execute_result"
    }
   ],
   "source": [
    "bets[bets['profit'] < 1]['pred_stacked_1'].describe()"
   ]
  },
  {
   "cell_type": "code",
   "execution_count": 15,
   "metadata": {},
   "outputs": [
    {
     "data": {
      "text/html": [
       "<div>\n",
       "<style scoped>\n",
       "    .dataframe tbody tr th:only-of-type {\n",
       "        vertical-align: middle;\n",
       "    }\n",
       "\n",
       "    .dataframe tbody tr th {\n",
       "        vertical-align: top;\n",
       "    }\n",
       "\n",
       "    .dataframe thead th {\n",
       "        text-align: right;\n",
       "    }\n",
       "</style>\n",
       "<table border=\"1\" class=\"dataframe\">\n",
       "  <thead>\n",
       "    <tr style=\"text-align: right;\">\n",
       "      <th></th>\n",
       "      <th>pred_knn_10_1</th>\n",
       "      <th>pred_pred_knn_10_1</th>\n",
       "      <th>pred_knn_100_1</th>\n",
       "      <th>pred_pred_knn_100_1</th>\n",
       "      <th>pred_mlp_10_1</th>\n",
       "      <th>pred_pred_mlp_10_1</th>\n",
       "      <th>pred_mlp_100_1</th>\n",
       "      <th>pred_pred_mlp_100_1</th>\n",
       "      <th>pred_gbr_10_1</th>\n",
       "      <th>pred_pred_gbr_10_1</th>\n",
       "      <th>pred_gbr_100_1</th>\n",
       "      <th>pred_pred_gbr_100_1</th>\n",
       "      <th>pred_rf_10_1</th>\n",
       "      <th>pred_pred_rf_10_1</th>\n",
       "      <th>pred_rf_100_1</th>\n",
       "      <th>pred_pred_rf_100_1</th>\n",
       "      <th>cat_COURSE_A_CONDITIONS</th>\n",
       "      <th>cat_AUTOSTART</th>\n",
       "      <th>cat_HANDICAP</th>\n",
       "      <th>cat_HANDICAP_DIVISE</th>\n",
       "      <th>cat_A_RECLAMER</th>\n",
       "      <th>pred</th>\n",
       "    </tr>\n",
       "  </thead>\n",
       "  <tbody>\n",
       "    <tr>\n",
       "      <th>0</th>\n",
       "      <td>0.0</td>\n",
       "      <td>1.98</td>\n",
       "      <td>0.0</td>\n",
       "      <td>1.800</td>\n",
       "      <td>0.0</td>\n",
       "      <td>2.805877</td>\n",
       "      <td>1.0</td>\n",
       "      <td>2.137442</td>\n",
       "      <td>0.0</td>\n",
       "      <td>3.213897</td>\n",
       "      <td>0.0</td>\n",
       "      <td>0.000000</td>\n",
       "      <td>0.0</td>\n",
       "      <td>2.90</td>\n",
       "      <td>0.0</td>\n",
       "      <td>2.280</td>\n",
       "      <td>0.0</td>\n",
       "      <td>0.0</td>\n",
       "      <td>0.0</td>\n",
       "      <td>0.0</td>\n",
       "      <td>1.0</td>\n",
       "      <td>2.137442</td>\n",
       "    </tr>\n",
       "    <tr>\n",
       "      <th>1</th>\n",
       "      <td>0.0</td>\n",
       "      <td>3.33</td>\n",
       "      <td>1.0</td>\n",
       "      <td>2.702</td>\n",
       "      <td>0.0</td>\n",
       "      <td>4.114505</td>\n",
       "      <td>0.0</td>\n",
       "      <td>3.023920</td>\n",
       "      <td>0.0</td>\n",
       "      <td>0.000000</td>\n",
       "      <td>0.0</td>\n",
       "      <td>0.000000</td>\n",
       "      <td>0.0</td>\n",
       "      <td>5.75</td>\n",
       "      <td>0.0</td>\n",
       "      <td>0.000</td>\n",
       "      <td>0.0</td>\n",
       "      <td>1.0</td>\n",
       "      <td>0.0</td>\n",
       "      <td>0.0</td>\n",
       "      <td>0.0</td>\n",
       "      <td>2.702000</td>\n",
       "    </tr>\n",
       "    <tr>\n",
       "      <th>2</th>\n",
       "      <td>1.0</td>\n",
       "      <td>3.33</td>\n",
       "      <td>0.0</td>\n",
       "      <td>2.702</td>\n",
       "      <td>0.0</td>\n",
       "      <td>4.114505</td>\n",
       "      <td>0.0</td>\n",
       "      <td>3.023920</td>\n",
       "      <td>0.0</td>\n",
       "      <td>0.000000</td>\n",
       "      <td>0.0</td>\n",
       "      <td>0.000000</td>\n",
       "      <td>0.0</td>\n",
       "      <td>5.75</td>\n",
       "      <td>0.0</td>\n",
       "      <td>0.000</td>\n",
       "      <td>0.0</td>\n",
       "      <td>1.0</td>\n",
       "      <td>0.0</td>\n",
       "      <td>0.0</td>\n",
       "      <td>0.0</td>\n",
       "      <td>3.330000</td>\n",
       "    </tr>\n",
       "    <tr>\n",
       "      <th>3</th>\n",
       "      <td>0.0</td>\n",
       "      <td>0.00</td>\n",
       "      <td>0.0</td>\n",
       "      <td>0.000</td>\n",
       "      <td>0.0</td>\n",
       "      <td>0.000000</td>\n",
       "      <td>0.0</td>\n",
       "      <td>0.000000</td>\n",
       "      <td>0.0</td>\n",
       "      <td>5.148131</td>\n",
       "      <td>1.0</td>\n",
       "      <td>6.562568</td>\n",
       "      <td>0.0</td>\n",
       "      <td>0.00</td>\n",
       "      <td>0.0</td>\n",
       "      <td>0.000</td>\n",
       "      <td>0.0</td>\n",
       "      <td>1.0</td>\n",
       "      <td>0.0</td>\n",
       "      <td>0.0</td>\n",
       "      <td>0.0</td>\n",
       "      <td>6.562568</td>\n",
       "    </tr>\n",
       "    <tr>\n",
       "      <th>4</th>\n",
       "      <td>0.0</td>\n",
       "      <td>0.00</td>\n",
       "      <td>0.0</td>\n",
       "      <td>0.000</td>\n",
       "      <td>0.0</td>\n",
       "      <td>0.000000</td>\n",
       "      <td>0.0</td>\n",
       "      <td>0.000000</td>\n",
       "      <td>1.0</td>\n",
       "      <td>5.148131</td>\n",
       "      <td>0.0</td>\n",
       "      <td>6.562568</td>\n",
       "      <td>0.0</td>\n",
       "      <td>0.00</td>\n",
       "      <td>0.0</td>\n",
       "      <td>0.000</td>\n",
       "      <td>0.0</td>\n",
       "      <td>1.0</td>\n",
       "      <td>0.0</td>\n",
       "      <td>0.0</td>\n",
       "      <td>0.0</td>\n",
       "      <td>5.148131</td>\n",
       "    </tr>\n",
       "    <tr>\n",
       "      <th>5</th>\n",
       "      <td>0.0</td>\n",
       "      <td>0.00</td>\n",
       "      <td>0.0</td>\n",
       "      <td>5.773</td>\n",
       "      <td>0.0</td>\n",
       "      <td>3.892718</td>\n",
       "      <td>0.0</td>\n",
       "      <td>4.051029</td>\n",
       "      <td>0.0</td>\n",
       "      <td>0.000000</td>\n",
       "      <td>0.0</td>\n",
       "      <td>0.000000</td>\n",
       "      <td>0.0</td>\n",
       "      <td>0.00</td>\n",
       "      <td>1.0</td>\n",
       "      <td>8.396</td>\n",
       "      <td>0.0</td>\n",
       "      <td>1.0</td>\n",
       "      <td>0.0</td>\n",
       "      <td>0.0</td>\n",
       "      <td>0.0</td>\n",
       "      <td>8.396000</td>\n",
       "    </tr>\n",
       "    <tr>\n",
       "      <th>6</th>\n",
       "      <td>0.0</td>\n",
       "      <td>0.00</td>\n",
       "      <td>0.0</td>\n",
       "      <td>5.773</td>\n",
       "      <td>0.0</td>\n",
       "      <td>3.892718</td>\n",
       "      <td>1.0</td>\n",
       "      <td>4.051029</td>\n",
       "      <td>0.0</td>\n",
       "      <td>0.000000</td>\n",
       "      <td>0.0</td>\n",
       "      <td>0.000000</td>\n",
       "      <td>0.0</td>\n",
       "      <td>0.00</td>\n",
       "      <td>0.0</td>\n",
       "      <td>8.396</td>\n",
       "      <td>0.0</td>\n",
       "      <td>1.0</td>\n",
       "      <td>0.0</td>\n",
       "      <td>0.0</td>\n",
       "      <td>0.0</td>\n",
       "      <td>4.051029</td>\n",
       "    </tr>\n",
       "    <tr>\n",
       "      <th>7</th>\n",
       "      <td>0.0</td>\n",
       "      <td>0.00</td>\n",
       "      <td>0.0</td>\n",
       "      <td>5.773</td>\n",
       "      <td>1.0</td>\n",
       "      <td>3.892718</td>\n",
       "      <td>0.0</td>\n",
       "      <td>4.051029</td>\n",
       "      <td>0.0</td>\n",
       "      <td>0.000000</td>\n",
       "      <td>0.0</td>\n",
       "      <td>0.000000</td>\n",
       "      <td>0.0</td>\n",
       "      <td>0.00</td>\n",
       "      <td>0.0</td>\n",
       "      <td>8.396</td>\n",
       "      <td>0.0</td>\n",
       "      <td>1.0</td>\n",
       "      <td>0.0</td>\n",
       "      <td>0.0</td>\n",
       "      <td>0.0</td>\n",
       "      <td>3.892718</td>\n",
       "    </tr>\n",
       "    <tr>\n",
       "      <th>8</th>\n",
       "      <td>0.0</td>\n",
       "      <td>0.00</td>\n",
       "      <td>1.0</td>\n",
       "      <td>5.773</td>\n",
       "      <td>0.0</td>\n",
       "      <td>3.892718</td>\n",
       "      <td>0.0</td>\n",
       "      <td>4.051029</td>\n",
       "      <td>0.0</td>\n",
       "      <td>0.000000</td>\n",
       "      <td>0.0</td>\n",
       "      <td>0.000000</td>\n",
       "      <td>0.0</td>\n",
       "      <td>0.00</td>\n",
       "      <td>0.0</td>\n",
       "      <td>8.396</td>\n",
       "      <td>0.0</td>\n",
       "      <td>1.0</td>\n",
       "      <td>0.0</td>\n",
       "      <td>0.0</td>\n",
       "      <td>0.0</td>\n",
       "      <td>5.773000</td>\n",
       "    </tr>\n",
       "    <tr>\n",
       "      <th>9</th>\n",
       "      <td>0.0</td>\n",
       "      <td>11.28</td>\n",
       "      <td>0.0</td>\n",
       "      <td>0.000</td>\n",
       "      <td>0.0</td>\n",
       "      <td>0.000000</td>\n",
       "      <td>0.0</td>\n",
       "      <td>0.000000</td>\n",
       "      <td>0.0</td>\n",
       "      <td>0.000000</td>\n",
       "      <td>0.0</td>\n",
       "      <td>0.000000</td>\n",
       "      <td>1.0</td>\n",
       "      <td>7.72</td>\n",
       "      <td>0.0</td>\n",
       "      <td>0.000</td>\n",
       "      <td>0.0</td>\n",
       "      <td>1.0</td>\n",
       "      <td>0.0</td>\n",
       "      <td>0.0</td>\n",
       "      <td>0.0</td>\n",
       "      <td>7.720000</td>\n",
       "    </tr>\n",
       "  </tbody>\n",
       "</table>\n",
       "</div>"
      ],
      "text/plain": [
       "   pred_knn_10_1  pred_pred_knn_10_1  pred_knn_100_1  pred_pred_knn_100_1  \\\n",
       "0            0.0                1.98             0.0                1.800   \n",
       "1            0.0                3.33             1.0                2.702   \n",
       "2            1.0                3.33             0.0                2.702   \n",
       "3            0.0                0.00             0.0                0.000   \n",
       "4            0.0                0.00             0.0                0.000   \n",
       "5            0.0                0.00             0.0                5.773   \n",
       "6            0.0                0.00             0.0                5.773   \n",
       "7            0.0                0.00             0.0                5.773   \n",
       "8            0.0                0.00             1.0                5.773   \n",
       "9            0.0               11.28             0.0                0.000   \n",
       "\n",
       "   pred_mlp_10_1  pred_pred_mlp_10_1  pred_mlp_100_1  pred_pred_mlp_100_1  \\\n",
       "0            0.0            2.805877             1.0             2.137442   \n",
       "1            0.0            4.114505             0.0             3.023920   \n",
       "2            0.0            4.114505             0.0             3.023920   \n",
       "3            0.0            0.000000             0.0             0.000000   \n",
       "4            0.0            0.000000             0.0             0.000000   \n",
       "5            0.0            3.892718             0.0             4.051029   \n",
       "6            0.0            3.892718             1.0             4.051029   \n",
       "7            1.0            3.892718             0.0             4.051029   \n",
       "8            0.0            3.892718             0.0             4.051029   \n",
       "9            0.0            0.000000             0.0             0.000000   \n",
       "\n",
       "   pred_gbr_10_1  pred_pred_gbr_10_1  pred_gbr_100_1  pred_pred_gbr_100_1  \\\n",
       "0            0.0            3.213897             0.0             0.000000   \n",
       "1            0.0            0.000000             0.0             0.000000   \n",
       "2            0.0            0.000000             0.0             0.000000   \n",
       "3            0.0            5.148131             1.0             6.562568   \n",
       "4            1.0            5.148131             0.0             6.562568   \n",
       "5            0.0            0.000000             0.0             0.000000   \n",
       "6            0.0            0.000000             0.0             0.000000   \n",
       "7            0.0            0.000000             0.0             0.000000   \n",
       "8            0.0            0.000000             0.0             0.000000   \n",
       "9            0.0            0.000000             0.0             0.000000   \n",
       "\n",
       "   pred_rf_10_1  pred_pred_rf_10_1  pred_rf_100_1  pred_pred_rf_100_1  \\\n",
       "0           0.0               2.90            0.0               2.280   \n",
       "1           0.0               5.75            0.0               0.000   \n",
       "2           0.0               5.75            0.0               0.000   \n",
       "3           0.0               0.00            0.0               0.000   \n",
       "4           0.0               0.00            0.0               0.000   \n",
       "5           0.0               0.00            1.0               8.396   \n",
       "6           0.0               0.00            0.0               8.396   \n",
       "7           0.0               0.00            0.0               8.396   \n",
       "8           0.0               0.00            0.0               8.396   \n",
       "9           1.0               7.72            0.0               0.000   \n",
       "\n",
       "   cat_COURSE_A_CONDITIONS  cat_AUTOSTART  cat_HANDICAP  cat_HANDICAP_DIVISE  \\\n",
       "0                      0.0            0.0           0.0                  0.0   \n",
       "1                      0.0            1.0           0.0                  0.0   \n",
       "2                      0.0            1.0           0.0                  0.0   \n",
       "3                      0.0            1.0           0.0                  0.0   \n",
       "4                      0.0            1.0           0.0                  0.0   \n",
       "5                      0.0            1.0           0.0                  0.0   \n",
       "6                      0.0            1.0           0.0                  0.0   \n",
       "7                      0.0            1.0           0.0                  0.0   \n",
       "8                      0.0            1.0           0.0                  0.0   \n",
       "9                      0.0            1.0           0.0                  0.0   \n",
       "\n",
       "   cat_A_RECLAMER      pred  \n",
       "0             1.0  2.137442  \n",
       "1             0.0  2.702000  \n",
       "2             0.0  3.330000  \n",
       "3             0.0  6.562568  \n",
       "4             0.0  5.148131  \n",
       "5             0.0  8.396000  \n",
       "6             0.0  4.051029  \n",
       "7             0.0  3.892718  \n",
       "8             0.0  5.773000  \n",
       "9             0.0  7.720000  "
      ]
     },
     "execution_count": 15,
     "metadata": {},
     "output_type": "execute_result"
    }
   ],
   "source": [
    "bets[features][0:10]"
   ]
  }
 ],
 "metadata": {
  "kernelspec": {
   "display_name": "Django Shell-Plus",
   "language": "python",
   "name": "django_extensions"
  },
  "language_info": {
   "codemirror_mode": {
    "name": "ipython",
    "version": 3
   },
   "file_extension": ".py",
   "mimetype": "text/x-python",
   "name": "python",
   "nbconvert_exporter": "python",
   "pygments_lexer": "ipython3",
   "version": "3.6.4"
  }
 },
 "nbformat": 4,
 "nbformat_minor": 2
}
