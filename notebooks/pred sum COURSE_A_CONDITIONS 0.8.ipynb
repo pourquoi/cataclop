{
 "cells": [
  {
   "cell_type": "code",
   "execution_count": null,
   "metadata": {},
   "outputs": [],
   "source": [
    "import pandas as pd\n",
    "import numpy as np\n",
    "\n",
    "%matplotlib inline\n",
    "import matplotlib\n",
    "import matplotlib.pyplot as plt\n",
    "\n",
    "from cataclop.ml import preprocessing\n",
    "from cataclop.ml import exploration\n",
    "\n",
    "pd.set_option('display.max_columns', 200)\n",
    "pd.set_option('display.max_rows', 500)\n",
    "\n",
    "from cataclop.ml.pipeline import factories"
   ]
  },
  {
   "cell_type": "code",
   "execution_count": 2,
   "metadata": {},
   "outputs": [],
   "source": [
    "program = factories.Program.factory('default', version='1.1')"
   ]
  },
  {
   "cell_type": "code",
   "execution_count": null,
   "metadata": {},
   "outputs": [],
   "source": [
    "program.train(dataset_params = {\n",
    "    #'from': '2013-05-10'\n",
    "    'from': '2016-01-01',\n",
    "    'to': '2018-12-31',\n",
    "    'categories': ['PLAT']\n",
    "})"
   ]
  },
  {
   "cell_type": "code",
   "execution_count": null,
   "metadata": {},
   "outputs": [],
   "source": [
    "program.dataset.save()\n",
    "print(program.dataset.hash)\n",
    "program.model.save()\n",
    "print(program.model.hash)"
   ]
  },
  {
   "cell_type": "code",
   "execution_count": null,
   "metadata": {},
   "outputs": [],
   "source": [
    "print('{} races from {} to {}'.format(program.df.race_id.nunique(), program.df.start_at.min(), program.df.start_at.max()))"
   ]
  },
  {
   "cell_type": "code",
   "execution_count": null,
   "metadata": {},
   "outputs": [],
   "source": [
    "\n",
    "for model in program.model.models:\n",
    "    clf = model['estimators'][-1]['pipeline'].steps[-1][1]\n",
    "    if hasattr(clf, 'feature_importances_'):\n",
    "        fi = pd.Series(clf.feature_importances_, index=program.model.features+preprocessing.get_dummy_features(model['estimators'][-1]['dummies']))\n",
    "        print(model['name'])\n",
    "        print(fi.sort_values(ascending=False)[0:100])\n",
    "        print(\"---\\n\")\n",
    "    if hasattr(clf, 'coef_'):\n",
    "        fi = pd.Series(clf.coef_, index=program.model.features+preprocessing.get_dummy_features(model['estimators'][-1]['dummies']))\n",
    "        print(model['name'])\n",
    "        print(fi.sort_values(ascending=False)[0:100])\n",
    "        print(\"---\\n\")\n"
   ]
  },
  {
   "cell_type": "code",
   "execution_count": null,
   "metadata": {},
   "outputs": [],
   "source": [
    "df = program.df\n",
    "\n",
    "for model in program.model.models:\n",
    "    print(model['name'], df['pred_{}_1'.format(model['name'])].mean())"
   ]
  },
  {
   "cell_type": "code",
   "execution_count": null,
   "metadata": {},
   "outputs": [],
   "source": [
    "races = df.groupby('race_id')\n",
    "for (id, race) in races:\n",
    "    for model in program.model.models:\n",
    "        df.loc[race.index, 'pred_{}_std'.format(model['name'])] = race['pred_{}_1'.format(model['name'])].std()\n",
    "        df.loc[race.index, 'pred_{}_min'.format(model['name'])] = race['pred_{}_1'.format(model['name'])].min()\n",
    "        df.loc[race.index, 'pred_{}_max'.format(model['name'])] = race['pred_{}_1'.format(model['name'])].max()"
   ]
  },
  {
   "cell_type": "code",
   "execution_count": null,
   "metadata": {},
   "outputs": [],
   "source": [
    "stacked_features = ['declared_player_count'] + ['odds_{:d}'.format(i) for i in range(10)]\n",
    "#stacked_features = program.model.features\n",
    "stacked_features = stacked_features + ['pred_{}_1'.format(model['name']) for model in program.model.models]\n",
    "stacked_features = stacked_features + ['pred_{}_std'.format(model['name']) for model in program.model.models]\n",
    "stacked_features = stacked_features + ['pred_{}_min'.format(model['name']) for model in program.model.models]\n",
    "stacked_features = stacked_features + ['pred_{}_max'.format(model['name']) for model in program.model.models]"
   ]
  },
  {
   "cell_type": "code",
   "execution_count": null,
   "metadata": {},
   "outputs": [],
   "source": [
    "stacked_features.remove('final_odds_ref')"
   ]
  },
  {
   "cell_type": "code",
   "execution_count": null,
   "metadata": {},
   "outputs": [],
   "source": [
    "stacked_features"
   ]
  },
  {
   "cell_type": "code",
   "execution_count": null,
   "metadata": {},
   "outputs": [],
   "source": [
    "from sklearn.neural_network import MLPClassifier, MLPRegressor\n",
    "from sklearn.neighbors import KNeighborsClassifier, KNeighborsRegressor\n",
    "from sklearn.ensemble import RandomForestClassifier, AdaBoostClassifier, RandomForestRegressor, GradientBoostingRegressor\n",
    "from sklearn import linear_model\n",
    "from sklearn.preprocessing import MinMaxScaler, Normalizer, StandardScaler, MinMaxScaler, RobustScaler\n",
    "from cataclop.ml import preprocessing\n",
    "from xgboost import XGBRegressor\n",
    "\n",
    "from keras.models import Sequential\n",
    "from keras.layers import Dense, Dropout\n",
    "\n",
    "\n",
    "for pos in range(1,8):\n",
    "\n",
    "\n",
    "    df['pred_stacked_{}'.format(pos+1)] = 0\n",
    "\n",
    "    from sklearn.model_selection import KFold, GroupKFold\n",
    "\n",
    "    groups = df['race_id'].values\n",
    "\n",
    "    group_kfold = GroupKFold(n_splits=program.model.params['kfolds'])\n",
    "\n",
    "    splits = list(group_kfold.split(df.values, df['position'].values, groups))\n",
    "\n",
    "    for train_index, test_index in splits:\n",
    "\n",
    "        X_train = df[stacked_features].iloc[train_index].copy()\n",
    "\n",
    "        #idx = (df.iloc[train_index]['final_odds_ref'] < 20) & ()\n",
    "        idx = (df.iloc[train_index]['target_returns'] != program.model.params['nan_flag']) & (df.iloc[train_index]['final_odds_ref'] < 300) & ((df.iloc[train_index]['position'] == 1) | (df.iloc[train_index]['position'] <= pos) )\n",
    "        y_train = df['target_returns'].iloc[train_index]\n",
    "\n",
    "        dummies = preprocessing.get_dummies(df.iloc[train_index], program.model.categorical_features)\n",
    "        X_train = pd.concat([X_train, preprocessing.get_dummy_values(df.iloc[train_index], dummies)], axis=1)\n",
    "\n",
    "        X_train = X_train[idx]\n",
    "        y_train = y_train[idx]\n",
    "\n",
    "        X_test = df[stacked_features].iloc[test_index].copy()\n",
    "        y_test = df['target_returns'].iloc[test_index]\n",
    "\n",
    "        X_test = pd.concat([X_test, preprocessing.get_dummy_values(df.iloc[test_index], dummies)], axis=1)\n",
    "\n",
    "        X_train = X_train.values\n",
    "        X_test = X_test.values\n",
    "\n",
    "        scaler = RobustScaler()\n",
    "        X_train = scaler.fit_transform(X_train)\n",
    "        X_test = scaler.transform(X_test)\n",
    "\n",
    "        y_train = y_train / y_train.max()\n",
    "        y_test = y_test / y_train.max()\n",
    "\n",
    "        #estimator = MLPRegressor(activation='logistic', hidden_layer_sizes=(100,), random_state=program.model.params['seed'])\n",
    "        #estimator = RandomForestRegressor(n_estimators=100)\n",
    "        estimator = linear_model.Ridge()\n",
    "\n",
    "        estimator = XGBRegressor()\n",
    "\n",
    "        estimator.fit(X_train, y_train.values)\n",
    "\n",
    "        p = estimator.predict(X_test)\n",
    "\n",
    "        '''\n",
    "        model = Sequential()\n",
    "        model.add(Dense(10, input_dim=X_train.shape[1], activation='sigmoid'))\n",
    "        model.add(Dropout(0.5))\n",
    "\n",
    "        model.add(Dense(1, activation='sigmoid'))\n",
    "\n",
    "        model.compile(loss='mse', optimizer='adam')\n",
    "\n",
    "        model.fit(X_train, y_train,\n",
    "                  epochs=5,\n",
    "                  batch_size=20)\n",
    "\n",
    "        p = model.predict(X_test)\n",
    "        '''\n",
    "\n",
    "\n",
    "        idx = df.iloc[test_index].index\n",
    "        df.loc[idx, 'pred_stacked_{}'.format(pos+1)] = p\n",
    "\n"
   ]
  },
  {
   "cell_type": "code",
   "execution_count": null,
   "metadata": {},
   "outputs": [],
   "source": [
    "\n",
    "\n",
    "if hasattr(estimator, 'feature_importances_'):\n",
    "    fi = pd.Series(estimator.feature_importances_, index=stacked_features+preprocessing.get_dummy_features(dummies))\n",
    "    print(fi.sort_values(ascending=False)[0:100])\n",
    "    \n",
    "if hasattr(estimator, 'coef_'):\n",
    "    fi = pd.Series(estimator.coef_, index=stacked_features+preprocessing.get_dummy_features(dummies))\n",
    "    print(fi.sort_values(ascending=False)[0:100])"
   ]
  },
  {
   "cell_type": "code",
   "execution_count": null,
   "metadata": {},
   "outputs": [],
   "source": [
    "df['pred_stacked'] = df[['pred_stacked_{}'.format(pos+1) for pos in range(1,8)]].sum(axis=1)"
   ]
  },
  {
   "cell_type": "code",
   "execution_count": null,
   "metadata": {},
   "outputs": [],
   "source": [
    "exploration.random_race(df, cols=['position', 'declared_player_count', 'sub_category', 'num', 'final_odds', 'final_odds_ref', 'pred_stacked'] + ['pred_stacked_{}'.format(pos+1) for pos in range(1,8)] + ['pred_xgb_100_1', 'pred_rf_100_1', 'pred_knn_5_1', 'pred_mlp_100_1', 'pred_ridge_1_1']).sort_values(by='pred_stacked_8', ascending=False)\n",
    "\n"
   ]
  },
  {
   "cell_type": "code",
   "execution_count": null,
   "metadata": {},
   "outputs": [],
   "source": [
    "df['pred_sum'] = df[['pred_{}_1'.format(model['name']) for model in program.model.models ]].sum(axis=1)"
   ]
  },
  {
   "cell_type": "code",
   "execution_count": null,
   "metadata": {},
   "outputs": [],
   "source": [
    "df['pred_rnd'] = np.random.rand(df.shape[0])"
   ]
  },
  {
   "cell_type": "code",
   "execution_count": null,
   "metadata": {},
   "outputs": [],
   "source": [
    "def bet(df, features, categorical_features, targets, N=1, max_odds=20, break_on_bet=True, break_on_odds=False):\n",
    "\n",
    "    races = df.sort_values('start_at').groupby('race_id')\n",
    "\n",
    "    bets = []\n",
    "\n",
    "    for (id, race) in races:\n",
    "\n",
    "        candidate_bets = []\n",
    "\n",
    "        nums = []\n",
    "\n",
    "        for target in targets:\n",
    "\n",
    "            r = race.sort_values(by=target, ascending=False)\n",
    "\n",
    "            if len(r) <= N:\n",
    "                break\n",
    "\n",
    "            for n in range(N):\n",
    "\n",
    "                player = r.iloc[n]\n",
    "\n",
    "                odds = player['final_odds_ref']\n",
    "\n",
    "                if max_odds is not None and odds > max_odds:\n",
    "                    if break_on_odds:\n",
    "                        break\n",
    "                    else:\n",
    "                        continue\n",
    "\n",
    "                #nth = (r['final_odds_ref']<odds).sum()+1\n",
    "                \n",
    "                if player[target] < 0:\n",
    "                    break\n",
    "\n",
    "                bet = np.clip(player[target]/100.0, 0, 10)\n",
    "                \n",
    "                bet = np.round(1+bet) * 1.5\n",
    "                \n",
    "                if bet <= 0:\n",
    "                    break\n",
    "\n",
    "                profit = player['winner_dividend']/100.0 * bet - bet\n",
    "\n",
    "                row = [id, player['date'], player['num'], odds, player['final_odds'], target, player[target], r[target].std(), bet, profit]\n",
    "\n",
    "                for nn in range(1,4):\n",
    "                    if n+nn < len(r):\n",
    "                        row.append(r.iloc[n+nn][target])\n",
    "                    else:\n",
    "                        row.append(np.nan)\n",
    "\n",
    "                for f in features:\n",
    "                    row.append(player[f])\n",
    "                for f in categorical_features:\n",
    "                    row.append(player[f])\n",
    "\n",
    "                candidate_bets.append( row )\n",
    "\n",
    "                nums.append(player['num'])\n",
    "\n",
    "                if break_on_bet:\n",
    "                    break\n",
    "\n",
    "        #if len(candidate_bets) == 1:\n",
    "        #    bets += candidate_bets\n",
    "        bets += candidate_bets\n",
    "\n",
    "    cols = ['id', 'date', 'num', 'odds_ref', 'odds_final', 'target', 'pred', 'pred_std', 'bet', 'profit']\n",
    "\n",
    "    for nn in range(1,4):\n",
    "        cols.append('next_pred_{}'.format(nn))\n",
    "\n",
    "    cols = cols + features + categorical_features\n",
    "\n",
    "    bets = pd.DataFrame(bets, columns=cols)\n",
    "\n",
    "    bets.index = bets['date']\n",
    "\n",
    "    bets = bets.sort_index()\n",
    "\n",
    "    bets['bets'] = bets['bet'].cumsum()\n",
    "    bets['stash'] = bets['profit'].cumsum()\n",
    "\n",
    "    return bets\n",
    "\n"
   ]
  },
  {
   "cell_type": "code",
   "execution_count": null,
   "metadata": {},
   "outputs": [],
   "source": [
    "bets = bet(df, program.model.features, program.model.categorical_features, \n",
    "           N=1, max_odds=30, break_on_bet=True, break_on_odds=True, \n",
    "           targets=['pred_rnd', 'final_odds_ref', 'pred_stacked_8', 'pred_sum'] + ['pred_{}_1'.format(model['name']) for model in program.model.models]\n",
    "          )"
   ]
  },
  {
   "cell_type": "code",
   "execution_count": null,
   "metadata": {},
   "outputs": [],
   "source": [
    "#program.bet(N=1, max_odds=30, break_on_bet=True, break_on_odds=True, targets=['pred_rnd', 'final_odds_ref', 'pred_stacked_8', 'pred_sum'] + ['pred_{}_1'.format(model['name']) for model in program.model.models])\n",
    "#bets = program.bets\n",
    "#bets['profit'].mean()"
   ]
  },
  {
   "cell_type": "code",
   "execution_count": null,
   "metadata": {},
   "outputs": [],
   "source": [
    "df[['pred_{}_1'.format(model['name']) for model in program.model.models]].describe()"
   ]
  },
  {
   "cell_type": "code",
   "execution_count": null,
   "metadata": {},
   "outputs": [],
   "source": [
    "bets = bets.reset_index(drop=True)"
   ]
  },
  {
   "cell_type": "code",
   "execution_count": null,
   "metadata": {
    "scrolled": true
   },
   "outputs": [],
   "source": [
    "\n",
    "#bb = bets.groupby('id').filter(lambda r: r['num'].nunique() <= 4  ).copy()\n",
    "#bb = bets.copy()\n",
    "bb = bets[(bets['target'].str.contains('^pred_sum')) ].copy()\n",
    "\n",
    "f = 'sub_category'\n",
    "\n",
    "bb['prize_round'] = np.round(np.log(bb['prize']))\n",
    "bb['pred_round'] = np.round(bb['pred'].clip(-1, 1), 1)\n",
    "\n",
    "bb['odds_round'] = np.round(bb['odds_final'].clip(1, 30)/5.)\n",
    "\n",
    "results = []\n",
    "\n",
    "for s in bb[f].value_counts().index:\n",
    "    results = []\n",
    "    x = bb[ (bb[f] == s) & (bb['pred_std'] > 0) & (bb['odds_ref']<20) & (bb['declared_player_count'] > 1)].copy()\n",
    "    if len(x) == 0:\n",
    "        continue\n",
    "    #print(\"---\\n{}\\t{:+.2f}\\t{:+.2f}\\t{:+.2f}\\n---\".format(s, x['profit'].sum(), x['bet'].sum(), len(x)))\n",
    "    \n",
    "    fig, axs = plt.subplots(1,1)\n",
    "    \n",
    "    for t in x['target'].value_counts().index:\n",
    "        bbb = x[(x['target'] == t)].copy()\n",
    "        bbb = bbb[ (bbb['pred']>bbb['pred'].quantile(0.85)) ].copy()\n",
    "        \n",
    "        \n",
    "        results.append({\n",
    "            'idx_1': s,\n",
    "            'idx_2': t,\n",
    "            'profit': bbb.profit.sum(),\n",
    "            'bet': bbb.bet.sum(),\n",
    "            'bets': bbb.bet.count(),\n",
    "            'avg': bbb.profit.sum() / bbb.bet.sum()\n",
    "        })\n",
    "        \n",
    "        '''\n",
    "        bbb['stash'] = bbb['profit'].cumsum()\n",
    "        bbb['cbet'] = bbb['bet'].cumsum()\n",
    "\n",
    "        fig, axs = plt.subplots(1,1)\n",
    "        bbb['stash'].plot(figsize=(6, 2))\n",
    "        bbb['cbet'].plot(figsize=(6, 2))\n",
    "        plt.show()\n",
    "        '''\n",
    "        \n",
    "        #print(\"{:10s}: \\t {:+.2f} \\t {:+.0f} \\t {:+.2f}\".format(t, bbb.profit.sum(), bbb.profit.count(), bbb.profit.mean()) )\n",
    "        \n",
    "        bbb['stash'] = bbb['profit'].cumsum()\n",
    "        bbb['cbet'] = bbb['bet'].cumsum()\n",
    "\n",
    "        bbb['stash'].plot(figsize=(10, 2))\n",
    "        bbb['cbet'].plot(figsize=(10, 2))\n",
    "    \n",
    "    results = pd.DataFrame(results)\n",
    "    results = results.set_index(['idx_1', 'idx_2'])\n",
    "    print(results.sort_values(by='avg', ascending=False))\n",
    "    \n",
    "        \n",
    "    plt.show()    \n",
    "    \n",
    "    \n",
    "    "
   ]
  },
  {
   "cell_type": "code",
   "execution_count": null,
   "metadata": {},
   "outputs": [],
   "source": [
    "len(bb[ (bb['target']=='pred_sum') & (bb['sub_category']=='COURSE_A_CONDITIONS') & (bb['odds_ref']<20) & (bb['pred'] > 300)])"
   ]
  },
  {
   "cell_type": "code",
   "execution_count": null,
   "metadata": {},
   "outputs": [],
   "source": [
    "bb[ (bb['target']=='pred_sum') & (bb['sub_category']=='COURSE_A_CONDITIONS') & (bb['odds_ref']<20)]['pred'].quantile(0.85)"
   ]
  },
  {
   "cell_type": "code",
   "execution_count": null,
   "metadata": {},
   "outputs": [],
   "source": [
    "bets = bet(df, program.model.features, program.model.categorical_features, N=1, max_odds=30, break_on_bet=True, break_on_odds=True, targets=['pred_rnd', 'final_odds_ref', 'pred_stacked_8', 'pred_sum'] + ['pred_{}_1'.format(model['name']) for model in program.model.models])"
   ]
  },
  {
   "cell_type": "code",
   "execution_count": null,
   "metadata": {},
   "outputs": [],
   "source": [
    "d = bb.copy()"
   ]
  },
  {
   "cell_type": "code",
   "execution_count": null,
   "metadata": {},
   "outputs": [],
   "source": [
    "import seaborn as sns\n",
    "#fig, axs = plt.subplots(1,1)\n",
    "#sns.heatmap(d[['pred', 'profit']].values, annot=True)\n",
    "#sns.jointplot('profit', 'pred', data=d)\n",
    "sns.kdeplot(d['prize'], d['profit'])\n",
    "plt.show()    \n"
   ]
  }
 ],
 "metadata": {
  "kernelspec": {
   "display_name": "Django Shell-Plus",
   "language": "python",
   "name": "django_extensions"
  },
  "language_info": {
   "codemirror_mode": {
    "name": "ipython",
    "version": 3
   },
   "file_extension": ".py",
   "mimetype": "text/x-python",
   "name": "python",
   "nbconvert_exporter": "python",
   "pygments_lexer": "ipython3",
   "version": "3.6.4"
  }
 },
 "nbformat": 4,
 "nbformat_minor": 2
}
