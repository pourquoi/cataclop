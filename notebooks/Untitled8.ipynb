{
 "cells": [
  {
   "cell_type": "code",
   "execution_count": 1,
   "metadata": {},
   "outputs": [],
   "source": [
    "import pandas as pd\n",
    "import numpy as np\n",
    "\n",
    "%matplotlib inline\n",
    "import matplotlib\n",
    "import matplotlib.pyplot as plt\n",
    "\n",
    "from cataclop.ml import preprocessing\n",
    "from cataclop.ml import exploration\n",
    "\n",
    "pd.set_option('display.max_columns', 200)\n",
    "pd.set_option('display.max_rows', 500)\n",
    "\n",
    "from cataclop.ml.pipeline import factories"
   ]
  },
  {
   "cell_type": "code",
   "execution_count": 2,
   "metadata": {},
   "outputs": [],
   "source": [
    "program = factories.Program.factory('default', version='1.1')"
   ]
  },
  {
   "cell_type": "code",
   "execution_count": 3,
   "metadata": {},
   "outputs": [
    {
     "name": "stderr",
     "output_type": "stream",
     "text": [
      "loading data d4cfaa65c83905228334b37b46290dca from cache\n",
      "preparing model data\n",
      "preparing stacked model data\n"
     ]
    }
   ],
   "source": [
    "program.predict(dataset_params = {\n",
    "    'from': '2016-01-01',\n",
    "    'to': '2016-12-31',\n",
    "    'categories': ['PLAT']\n",
    "}, model_params = {\n",
    "    'kfolds': 3,\n",
    "    'nan_flag': 100000\n",
    "})"
   ]
  },
  {
   "cell_type": "code",
   "execution_count": null,
   "metadata": {},
   "outputs": [],
   "source": []
  },
  {
   "cell_type": "code",
   "execution_count": null,
   "metadata": {},
   "outputs": [],
   "source": []
  },
  {
   "cell_type": "code",
   "execution_count": 4,
   "metadata": {},
   "outputs": [],
   "source": [
    "def bet(df, features, categorical_features, targets, N=1, max_odds=20, break_on_bet=True, break_on_odds=False):\n",
    "\n",
    "    races = df.sort_values('start_at').groupby('race_id')\n",
    "\n",
    "    bets = []\n",
    "\n",
    "    for (id, race) in races:\n",
    "\n",
    "        candidate_bets = []\n",
    "\n",
    "        nums = []\n",
    "\n",
    "        for target in targets:\n",
    "\n",
    "            r = race.sort_values(by=target, ascending=False)\n",
    "\n",
    "            if len(r) <= N:\n",
    "                break\n",
    "                \n",
    "            NN = N\n",
    "\n",
    "            for n in range(NN):\n",
    "\n",
    "                player = r.iloc[n]\n",
    "\n",
    "                odds = player['final_odds_ref']\n",
    "\n",
    "                if max_odds is not None and odds > max_odds:\n",
    "                    if break_on_odds:\n",
    "                        break\n",
    "                    else:\n",
    "                        continue\n",
    "\n",
    "                #nth = (r['final_odds_ref']<odds).sum()+1\n",
    "                \n",
    "                if player[target] < 0:\n",
    "                    break\n",
    "\n",
    "                bet = np.clip(player[target]/100.0, 0, 10)\n",
    "                \n",
    "                bet = np.round(1+bet) * 1.5\n",
    "                \n",
    "                if bet <= 0:\n",
    "                    break\n",
    "                \n",
    "                if n+1 < len(r) and r.iloc[n+1][target] == player[target]:\n",
    "                    NN = NN+1\n",
    "                    \n",
    "                bet = 1\n",
    "\n",
    "                profit = player['winner_dividend']/100.0 * bet - bet\n",
    "\n",
    "                row = [id, player['start_at'], player['num'], player['position'], n, odds, player['final_odds'], target, player[target], r[target].std(), bet, profit]\n",
    "\n",
    "                for nn in range(1,4):\n",
    "                    if n+nn < len(r):\n",
    "                        row.append(r.iloc[n+nn][target])\n",
    "                    else:\n",
    "                        row.append(np.nan)\n",
    "\n",
    "                for f in features:\n",
    "                    row.append(player[f])\n",
    "                for f in categorical_features:\n",
    "                    row.append(player[f])\n",
    "\n",
    "                candidate_bets.append( row )\n",
    "\n",
    "                nums.append(player['num'])\n",
    "\n",
    "                if break_on_bet:\n",
    "                    break\n",
    "\n",
    "        #if len(candidate_bets) == 1:\n",
    "        #    bets += candidate_bets\n",
    "        bets += candidate_bets\n",
    "\n",
    "    cols = ['id', 'date', 'num', 'pos', 'nb', 'odds_ref', 'odds_final', 'target', 'pred', 'pred_std', 'bet', 'profit']\n",
    "\n",
    "    for nn in range(1,4):\n",
    "        cols.append('next_pred_{}'.format(nn))\n",
    "\n",
    "    cols = cols + features + categorical_features\n",
    "\n",
    "    bets = pd.DataFrame(bets, columns=cols)\n",
    "    bets['date'] = pd.to_datetime(bets['date'])\n",
    "\n",
    "    bets = bets.set_index(bets['date'])\n",
    "\n",
    "    bets = bets.sort_index()\n",
    "\n",
    "    bets['bets'] = bets['bet'].cumsum()\n",
    "    bets['stash'] = bets['profit'].cumsum()\n",
    "\n",
    "    return bets\n",
    "\n"
   ]
  },
  {
   "cell_type": "code",
   "execution_count": 5,
   "metadata": {},
   "outputs": [],
   "source": [
    "df = program.df\n",
    "df['pred_rnd'] = np.random.rand(df.shape[0])\n",
    "df['pred_sum'] = df[['pred_{}_1'.format(model['name']) for model in program.model.models ]].sum(axis=1)\n",
    "\n",
    "\n",
    "for model in program.model.models:\n",
    "    df['pred_minus_ref_{}'.format(model['name'])] = df['pred_{}_1'.format(model['name'])] - df['final_odds_ref']\n",
    "    \n",
    "for model in program.model.stacked_models:\n",
    "    df['pred_minus_ref_stacked_{}'.format(model['name'])] = df['pred_stacked_{}_1'.format(model['name'])] - df['final_odds_ref']\n",
    "\n",
    "bets = bet(df, program.model.features, program.model.categorical_features, \n",
    "    N=3, max_odds=30, break_on_bet=False, break_on_odds=False, \n",
    "    targets=['pred_rnd', 'final_odds_ref', 'pred_sum'] + ['pred_{}_1'.format(model['name']) for model in program.model.models] + ['pred_stacked_{}_1'.format(model['name']) for model in program.model.stacked_models] + ['pred_minus_ref_stacked_{}'.format(model['name']) for model in program.model.stacked_models] + ['pred_minus_ref_{}'.format(model['name']) for model in program.model.models]\n",
    "   )\n",
    "    "
   ]
  },
  {
   "cell_type": "code",
   "execution_count": 6,
   "metadata": {},
   "outputs": [
    {
     "data": {
      "text/plain": [
       "5841"
      ]
     },
     "execution_count": 6,
     "metadata": {},
     "output_type": "execute_result"
    }
   ],
   "source": [
    "program.df.race_id.nunique()"
   ]
  },
  {
   "cell_type": "code",
   "execution_count": 7,
   "metadata": {},
   "outputs": [],
   "source": [
    "def graph_bb(bb, f):\n",
    "    results = []\n",
    "\n",
    "    for s in bb[f].value_counts().index:\n",
    "        results = []\n",
    "        x = bb[ (bb[f] == s) & (bb['pred_std'] != 0) & (bb['pred'] > 0) ].copy()\n",
    "        if len(x) == 0:\n",
    "            continue\n",
    "        #print(\"---\\n{}\\t{:+.2f}\\t{:+.2f}\\t{:+.2f}\\n---\".format(s, x['profit'].sum(), x['bet'].sum(), len(x)))\n",
    "\n",
    "        fig, axs = plt.subplots(1,1)\n",
    "\n",
    "        for t in x['target'].value_counts().index:\n",
    "            bbb = x[(x['target'] == t)].copy()\n",
    "            #bbb = bbb[ (bbb['pred']>bbb['pred'].quantile(0.85)) ].copy()\n",
    "\n",
    "\n",
    "            results.append({\n",
    "                'idx_1': s,\n",
    "                'idx_2': t,\n",
    "                'profit': bbb.profit.sum(),\n",
    "                'bet': bbb.bet.sum(),\n",
    "                'bets': bbb.bet.count(),\n",
    "                'avg': bbb.profit.sum() / bbb.bet.sum()\n",
    "            })\n",
    "\n",
    "            '''\n",
    "            bbb['stash'] = bbb['profit'].cumsum()\n",
    "            bbb['cbet'] = bbb['bet'].cumsum()\n",
    "\n",
    "            fig, axs = plt.subplots(1,1)\n",
    "            bbb['stash'].plot(figsize=(6, 2))\n",
    "            bbb['cbet'].plot(figsize=(6, 2))\n",
    "            plt.show()\n",
    "            '''\n",
    "\n",
    "            #print(\"{:10s}: \\t {:+.2f} \\t {:+.0f} \\t {:+.2f}\".format(t, bbb.profit.sum(), bbb.profit.count(), bbb.profit.mean()) )\n",
    "\n",
    "            bbb['stash'] = bbb['profit'].cumsum()\n",
    "            bbb['cbet'] = bbb['bet'].cumsum()\n",
    "\n",
    "            bbb['stash'].plot(figsize=(10, 2))\n",
    "            bbb['cbet'].plot(figsize=(10, 2))\n",
    "\n",
    "        results = pd.DataFrame(results)\n",
    "        results = results.set_index(['idx_1', 'idx_2'])\n",
    "        print(results.sort_values(by='avg', ascending=False))\n",
    "\n",
    "\n",
    "        plt.show()    \n",
    "\n",
    "    \n",
    "    "
   ]
  },
  {
   "cell_type": "code",
   "execution_count": 8,
   "metadata": {},
   "outputs": [],
   "source": [
    "#countries = list(bets['country'].value_counts()[0:10].index)\n",
    "#sub_categories = list(bets['sub_category'].value_counts()[0:10].index)\n",
    "\n",
    "#%store countries\n",
    "#%store sub_categories"
   ]
  },
  {
   "cell_type": "code",
   "execution_count": 9,
   "metadata": {},
   "outputs": [],
   "source": [
    "%store -r params\n",
    "%store -r countries\n",
    "%store -r sub_categories"
   ]
  },
  {
   "cell_type": "code",
   "execution_count": 10,
   "metadata": {},
   "outputs": [],
   "source": [
    "from skopt.space import Real, Integer\n",
    "from skopt.utils import use_named_args\n",
    "\n",
    "target = 'final_odds_ref'\n",
    "\n",
    "c_min = bets[(bets['target'] == target)]['pred'].min()\n",
    "c_mean = bets[(bets['target'] == target)]['pred'].mean()\n",
    "c_max = bets[(bets['target'] == target)]['pred'].max()\n",
    "\n",
    "space = [\n",
    "          Real(1, 10, name='min_odds'),\n",
    "          Real(10, 30, name='max_odds'),\n",
    "          Real(c_min, c_mean, name='min_pred'),\n",
    "          Real(c_mean, c_max, name='max_pred'),\n",
    "          Integer(5, 25, name='max_players')] + [\n",
    "          Integer(0,1, name='country_{}'.format(country)) for country in countries] + [\n",
    "          Integer(0,1, name='sub_category_{}'.format(sub_category)) for sub_category in sub_categories] + [\n",
    "          Integer(0,1, name='nb_{}'.format(n)) for n in range(0,3)]\n",
    "         \n",
    "def x_to_params(x):\n",
    "    params = {}\n",
    "    \n",
    "    params['min_odds'] = x[0]\n",
    "    params['max_odds'] = x[1]\n",
    "    params['max_pred'] = x[3]\n",
    "    params['min_pred'] = x[2]\n",
    "    params['max_players'] = x[4]\n",
    "    \n",
    "    for i, country in enumerate(countries):\n",
    "        params['country_{}'.format(country)] = x[5+i]\n",
    "        \n",
    "    for i, sc in enumerate(sub_categories):\n",
    "        params['sub_category_{}'.format(sc)] = x[5+len(countries)+i]\n",
    "        \n",
    "    for n in range(0,3):\n",
    "        params['nb_{}'.format(n)] = x[5+len(countries)+len(sub_categories)+n]\n",
    "\n",
    "    return params\n",
    "\n",
    "@use_named_args(space)\n",
    "def f(**params):\n",
    "    return ff(params)\n",
    "    \n",
    "def ff(params, train=True):\n",
    "    \n",
    "    print(params)\n",
    "    \n",
    "    b = bets[ (bets['target']==target) & (bets['pred_std'] >= 0)]\n",
    "    \n",
    "    b = b[ (b['odds_ref'] > params['min_odds']) & (b['odds_ref'] < params['max_odds']) & (b['declared_player_count'] > 1) & (b['declared_player_count'] <= params['max_players']) ]\n",
    "    \n",
    "    b = b[(b['pred'] > params['min_pred']) & (b['pred'] < params['max_pred'])]\n",
    "    \n",
    "    for country in countries:\n",
    "        if params['country_{}'.format(country)] == 0:\n",
    "            b = b[ b['country'] != country ]\n",
    "            \n",
    "    for sub_category in sub_categories:\n",
    "        if params['sub_category_{}'.format(sub_category)] == 0:\n",
    "            b = b[ b['sub_category'] != sub_category ]\n",
    "            \n",
    "    for n in range(0,3):\n",
    "        if params['nb_{}'.format(n)] == 0:\n",
    "            b = b[ b['nb'] != n]\n",
    "    \n",
    "    p = b.profit.sum()\n",
    "    bet = b.bet.sum()\n",
    "    \n",
    "    print(\"{:+.2f} {:+.2f}\\n\".format(p, bet))\n",
    "        \n",
    "    if bet == 0:\n",
    "        return 0\n",
    "    \n",
    "    if not train:\n",
    "        return b\n",
    "    \n",
    "    return - (p)\n",
    "    \n",
    "    "
   ]
  },
  {
   "cell_type": "code",
   "execution_count": 11,
   "metadata": {},
   "outputs": [],
   "source": [
    "#from skopt import dummy_minimize, gp_minimize, gbrt_minimize\n",
    "\n",
    "#res = gbrt_minimize(f, space, n_calls=100)"
   ]
  },
  {
   "cell_type": "code",
   "execution_count": 12,
   "metadata": {},
   "outputs": [],
   "source": [
    "#print(res.x, res.fun)"
   ]
  },
  {
   "cell_type": "code",
   "execution_count": 13,
   "metadata": {},
   "outputs": [],
   "source": [
    "#params = x_to_params(res.x)\n",
    "#%store params"
   ]
  },
  {
   "cell_type": "code",
   "execution_count": 14,
   "metadata": {},
   "outputs": [
    {
     "data": {
      "text/plain": [
       "'d0942da38b381c194c08679272e3c9b4'"
      ]
     },
     "execution_count": 14,
     "metadata": {},
     "output_type": "execute_result"
    }
   ],
   "source": [
    "len(program.model.models[0]['estimators'])\n",
    "program.model.hash"
   ]
  },
  {
   "cell_type": "code",
   "execution_count": 15,
   "metadata": {},
   "outputs": [
    {
     "name": "stdout",
     "output_type": "stream",
     "text": [
      "{'min_odds': 6.646425335562837, 'max_odds': 17.704198469330386, 'max_pred': 0.23596574052830957, 'min_pred': 0.15756661921312204, 'max_players': 15, 'country_FRA': 0, 'country_DEU': 1, 'country_CHL': 0, 'country_GBR': 0, 'country_BEL': 1, 'country_CHN': 0, 'country_URY': 1, 'country_ZAF': 1, 'country_SGP': 1, 'country_ARE': 1, 'sub_category_COURSE_A_CONDITIONS': 0, 'sub_category_HANDICAP': 1, 'sub_category_HANDICAP_DIVISE': 1, 'sub_category_A_RECLAMER': 0, 'sub_category_HANDICAP_CATEGORIE_DIVISE': 1, 'sub_category_HANDICAP_DE_CATEGORIE': 0, 'sub_category_GROUPE_I': 0, 'sub_category_GROUPE_III': 0, 'sub_category_COURSE_A_CONDITION_QUALIF_HP': 1, 'sub_category_GROUPE_II': 1, 'nb_0': 0, 'nb_1': 1, 'nb_2': 0}\n",
      "+0.00 +0.00\n",
      "\n"
     ]
    }
   ],
   "source": [
    "bb = ff(params, False)"
   ]
  },
  {
   "cell_type": "code",
   "execution_count": 37,
   "metadata": {},
   "outputs": [
    {
     "name": "stdout",
     "output_type": "stream",
     "text": [
      "                          avg  bet  bets  profit\n",
      "idx_1 idx_2                                     \n",
      "PLAT  pred_knn_10_1  0.518214  571   571   295.9\n"
     ]
    },
    {
     "data": {
      "image/png": "[encoded data removed]",
      "text/plain": [
       "<Figure size 720x144 with 1 Axes>"
      ]
     },
     "metadata": {
      "needs_background": "light"
     },
     "output_type": "display_data"
    }
   ],
   "source": [
    "#bb = bets[ (bets['sub_category']!='COURSE_A_CONDITIONS') & (bets['nb']==0) & (bets['target']=='pred_knn_10_1') & (bets['odds_ref']>10) & (bets['odds_ref']<20) & (bets['pred']>20)].copy()\n",
    "bb = bets[ (bets['country']!='FdRA') & (bets['sub_category']!='COURSE_A_CONDITIONS') & (bets['nb']==0) & (bets['target']=='pred_knn_10_1') & (bets['odds_ref']>10) & (bets['odds_ref']<20) & (bets['pred']>20)].copy()\n",
    "#bb = bets[ (bets['country']=='FRA') & (bets['nb']==0) & (bets['odds_ref']>10) & (bets['odds_ref']<20) & (bets['pred']>0)].copy()\n",
    "#bb = bb.groupby('id').filter(lambda r: r['num'].nunique() == 1)\n",
    "#graph_bb( bets[(bets['target']=='pred_lasso_0.1_1') & (bets['nb']==0) & (bets['odds_ref']>5) & (bets['odds_ref']<20) & (bets['pred']>0.)], 'sub_category')\n",
    "graph_bb(bb, 'category')\n",
    "\n",
    "\n"
   ]
  },
  {
   "cell_type": "code",
   "execution_count": 17,
   "metadata": {},
   "outputs": [
    {
     "data": {
      "text/plain": [
       "5760"
      ]
     },
     "execution_count": 17,
     "metadata": {},
     "output_type": "execute_result"
    }
   ],
   "source": [
    "len(df[ (df['position']==1)  ])"
   ]
  },
  {
   "cell_type": "code",
   "execution_count": 18,
   "metadata": {},
   "outputs": [
    {
     "data": {
      "text/plain": [
       "count    65502.000000\n",
       "mean         2.066838\n",
       "std          2.821016\n",
       "min          0.000000\n",
       "25%          0.000000\n",
       "50%          1.000000\n",
       "75%          3.000000\n",
       "max         40.000000\n",
       "Name: placed_3_count, dtype: float64"
      ]
     },
     "execution_count": 18,
     "metadata": {},
     "output_type": "execute_result"
    }
   ],
   "source": [
    "df['placed_3_count'].describe()"
   ]
  },
  {
   "cell_type": "code",
   "execution_count": null,
   "metadata": {},
   "outputs": [],
   "source": []
  }
 ],
 "metadata": {
  "kernelspec": {
   "display_name": "Django Shell-Plus",
   "language": "python",
   "name": "django_extensions"
  },
  "language_info": {
   "codemirror_mode": {
    "name": "ipython",
    "version": 3
   },
   "file_extension": ".py",
   "mimetype": "text/x-python",
   "name": "python",
   "nbconvert_exporter": "python",
   "pygments_lexer": "ipython3",
   "version": "3.6.4"
  }
 },
 "nbformat": 4,
 "nbformat_minor": 2
}
