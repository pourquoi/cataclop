{
 "cells": [
  {
   "cell_type": "code",
   "execution_count": 1,
   "metadata": {},
   "outputs": [],
   "source": [
    "import pandas as pd\n",
    "\n",
    "from django.db.models import F\n",
    "from django.db.models import Avg, Max, Min, Count\n",
    "from cataclop.core import models\n",
    "from cataclop.ml.preprocessing import model_to_dict"
   ]
  },
  {
   "cell_type": "code",
   "execution_count": 11,
   "metadata": {},
   "outputs": [
    {
     "data": {
      "text/plain": [
       "{'min': datetime.datetime(2015, 1, 2, 13, 51),\n",
       " 'max': datetime.datetime(2018, 11, 25, 17, 55),\n",
       " 'count': 4926}"
      ]
     },
     "execution_count": 11,
     "metadata": {},
     "output_type": "execute_result"
    }
   ],
   "source": [
    "models.Race.objects.filter(sub_category='HANDICAP').aggregate(min=Min('start_at'), max=Max('start_at'), count=Count('id', distinct=True))\n"
   ]
  },
  {
   "cell_type": "code",
   "execution_count": 24,
   "metadata": {},
   "outputs": [
    {
     "ename": "FieldError",
     "evalue": "Cannot compute Count('player__count'): 'player__count' is an aggregate",
     "output_type": "error",
     "traceback": [
      "\u001b[0;31m---------------------------------------------------------------------------\u001b[0m",
      "\u001b[0;31mFieldError\u001b[0m                                Traceback (most recent call last)",
      "\u001b[0;32m<ipython-input-24-26ed83baf4b1>\u001b[0m in \u001b[0;36m<module>\u001b[0;34m\u001b[0m\n\u001b[1;32m      3\u001b[0m \u001b[0;31m#models.Race.objects.annotate(Count('player')).filter(player__count=F('declared_player_count')).aggregate(Count(\"id\"))\u001b[0m\u001b[0;34m\u001b[0m\u001b[0;34m\u001b[0m\u001b[0m\n\u001b[1;32m      4\u001b[0m \u001b[0;34m\u001b[0m\u001b[0m\n\u001b[0;32m----> 5\u001b[0;31m \u001b[0mmodels\u001b[0m\u001b[0;34m.\u001b[0m\u001b[0mRace\u001b[0m\u001b[0;34m.\u001b[0m\u001b[0mobjects\u001b[0m\u001b[0;34m.\u001b[0m\u001b[0mannotate\u001b[0m\u001b[0;34m(\u001b[0m\u001b[0mCount\u001b[0m\u001b[0;34m(\u001b[0m\u001b[0;34m'player'\u001b[0m\u001b[0;34m)\u001b[0m\u001b[0;34m)\u001b[0m\u001b[0;34m.\u001b[0m\u001b[0mvalues\u001b[0m\u001b[0;34m(\u001b[0m\u001b[0;34m'player__count'\u001b[0m\u001b[0;34m)\u001b[0m\u001b[0;34m.\u001b[0m\u001b[0mannotate\u001b[0m\u001b[0;34m(\u001b[0m\u001b[0mCount\u001b[0m\u001b[0;34m(\u001b[0m\u001b[0;34m'player__count'\u001b[0m\u001b[0;34m)\u001b[0m\u001b[0;34m)\u001b[0m\u001b[0;34m\u001b[0m\u001b[0m\n\u001b[0m",
      "\u001b[0;32m~/.local/share/virtualenvs/cataclop-django-M9amAh3O/lib/python3.6/site-packages/django/db/models/query.py\u001b[0m in \u001b[0;36mannotate\u001b[0;34m(self, *args, **kwargs)\u001b[0m\n\u001b[1;32m   1006\u001b[0m                 \u001b[0mclone\u001b[0m\u001b[0;34m.\u001b[0m\u001b[0mquery\u001b[0m\u001b[0;34m.\u001b[0m\u001b[0madd_filtered_relation\u001b[0m\u001b[0;34m(\u001b[0m\u001b[0mannotation\u001b[0m\u001b[0;34m,\u001b[0m \u001b[0malias\u001b[0m\u001b[0;34m)\u001b[0m\u001b[0;34m\u001b[0m\u001b[0m\n\u001b[1;32m   1007\u001b[0m             \u001b[0;32melse\u001b[0m\u001b[0;34m:\u001b[0m\u001b[0;34m\u001b[0m\u001b[0m\n\u001b[0;32m-> 1008\u001b[0;31m                 \u001b[0mclone\u001b[0m\u001b[0;34m.\u001b[0m\u001b[0mquery\u001b[0m\u001b[0;34m.\u001b[0m\u001b[0madd_annotation\u001b[0m\u001b[0;34m(\u001b[0m\u001b[0mannotation\u001b[0m\u001b[0;34m,\u001b[0m \u001b[0malias\u001b[0m\u001b[0;34m,\u001b[0m \u001b[0mis_summary\u001b[0m\u001b[0;34m=\u001b[0m\u001b[0;32mFalse\u001b[0m\u001b[0;34m)\u001b[0m\u001b[0;34m\u001b[0m\u001b[0m\n\u001b[0m\u001b[1;32m   1009\u001b[0m \u001b[0;34m\u001b[0m\u001b[0m\n\u001b[1;32m   1010\u001b[0m         \u001b[0;32mfor\u001b[0m \u001b[0malias\u001b[0m\u001b[0;34m,\u001b[0m \u001b[0mannotation\u001b[0m \u001b[0;32min\u001b[0m \u001b[0mclone\u001b[0m\u001b[0;34m.\u001b[0m\u001b[0mquery\u001b[0m\u001b[0;34m.\u001b[0m\u001b[0mannotations\u001b[0m\u001b[0;34m.\u001b[0m\u001b[0mitems\u001b[0m\u001b[0;34m(\u001b[0m\u001b[0;34m)\u001b[0m\u001b[0;34m:\u001b[0m\u001b[0;34m\u001b[0m\u001b[0m\n",
      "\u001b[0;32m~/.local/share/virtualenvs/cataclop-django-M9amAh3O/lib/python3.6/site-packages/django/db/models/sql/query.py\u001b[0m in \u001b[0;36madd_annotation\u001b[0;34m(self, annotation, alias, is_summary)\u001b[0m\n\u001b[1;32m    986\u001b[0m         \u001b[0;34m\"\"\"Add a single annotation expression to the Query.\"\"\"\u001b[0m\u001b[0;34m\u001b[0m\u001b[0m\n\u001b[1;32m    987\u001b[0m         annotation = annotation.resolve_expression(self, allow_joins=True, reuse=None,\n\u001b[0;32m--> 988\u001b[0;31m                                                    summarize=is_summary)\n\u001b[0m\u001b[1;32m    989\u001b[0m         \u001b[0mself\u001b[0m\u001b[0;34m.\u001b[0m\u001b[0mappend_annotation_mask\u001b[0m\u001b[0;34m(\u001b[0m\u001b[0;34m[\u001b[0m\u001b[0malias\u001b[0m\u001b[0;34m]\u001b[0m\u001b[0;34m)\u001b[0m\u001b[0;34m\u001b[0m\u001b[0m\n\u001b[1;32m    990\u001b[0m         \u001b[0mself\u001b[0m\u001b[0;34m.\u001b[0m\u001b[0mannotations\u001b[0m\u001b[0;34m[\u001b[0m\u001b[0malias\u001b[0m\u001b[0;34m]\u001b[0m \u001b[0;34m=\u001b[0m \u001b[0mannotation\u001b[0m\u001b[0;34m\u001b[0m\u001b[0m\n",
      "\u001b[0;32m~/.local/share/virtualenvs/cataclop-django-M9amAh3O/lib/python3.6/site-packages/django/db/models/aggregates.py\u001b[0m in \u001b[0;36mresolve_expression\u001b[0;34m(self, query, allow_joins, reuse, summarize, for_save)\u001b[0m\n\u001b[1;32m     47\u001b[0m                     \u001b[0mbefore_resolved\u001b[0m \u001b[0;34m=\u001b[0m \u001b[0mself\u001b[0m\u001b[0;34m.\u001b[0m\u001b[0mget_source_expressions\u001b[0m\u001b[0;34m(\u001b[0m\u001b[0;34m)\u001b[0m\u001b[0;34m[\u001b[0m\u001b[0mindex\u001b[0m\u001b[0;34m]\u001b[0m\u001b[0;34m\u001b[0m\u001b[0m\n\u001b[1;32m     48\u001b[0m                     \u001b[0mname\u001b[0m \u001b[0;34m=\u001b[0m \u001b[0mbefore_resolved\u001b[0m\u001b[0;34m.\u001b[0m\u001b[0mname\u001b[0m \u001b[0;32mif\u001b[0m \u001b[0mhasattr\u001b[0m\u001b[0;34m(\u001b[0m\u001b[0mbefore_resolved\u001b[0m\u001b[0;34m,\u001b[0m \u001b[0;34m'name'\u001b[0m\u001b[0;34m)\u001b[0m \u001b[0;32melse\u001b[0m \u001b[0mrepr\u001b[0m\u001b[0;34m(\u001b[0m\u001b[0mbefore_resolved\u001b[0m\u001b[0;34m)\u001b[0m\u001b[0;34m\u001b[0m\u001b[0m\n\u001b[0;32m---> 49\u001b[0;31m                     \u001b[0;32mraise\u001b[0m \u001b[0mFieldError\u001b[0m\u001b[0;34m(\u001b[0m\u001b[0;34m\"Cannot compute %s('%s'): '%s' is an aggregate\"\u001b[0m \u001b[0;34m%\u001b[0m \u001b[0;34m(\u001b[0m\u001b[0mc\u001b[0m\u001b[0;34m.\u001b[0m\u001b[0mname\u001b[0m\u001b[0;34m,\u001b[0m \u001b[0mname\u001b[0m\u001b[0;34m,\u001b[0m \u001b[0mname\u001b[0m\u001b[0;34m)\u001b[0m\u001b[0;34m)\u001b[0m\u001b[0;34m\u001b[0m\u001b[0m\n\u001b[0m\u001b[1;32m     50\u001b[0m         \u001b[0;32mreturn\u001b[0m \u001b[0mc\u001b[0m\u001b[0;34m\u001b[0m\u001b[0m\n\u001b[1;32m     51\u001b[0m \u001b[0;34m\u001b[0m\u001b[0m\n",
      "\u001b[0;31mFieldError\u001b[0m: Cannot compute Count('player__count'): 'player__count' is an aggregate"
     ]
    }
   ],
   "source": [
    "#models.Race.objects.annotate(Count('player')).aggregate(Avg('player__count'), Avg('declared_player_count')).filter(player__count__eq=F('declared_player_count'))\n",
    "models.Race.objects.annotate(Count('player')).aggregate(Count(\"id\"))\n",
    "#models.Race.objects.annotate(Count('player')).filter(player__count=F('declared_player_count')).aggregate(Count(\"id\"))\n",
    "\n",
    "models.Race.objects.annotate(Count('player')).values('player__count').annotate(Count('player__count'))"
   ]
  },
  {
   "cell_type": "code",
   "execution_count": 15,
   "metadata": {},
   "outputs": [
    {
     "data": {
      "text/plain": [
       "{'player__count__avg': 6.7803, 'declared_player_count__avg': 12.2511}"
      ]
     },
     "execution_count": 15,
     "metadata": {},
     "output_type": "execute_result"
    }
   ],
   "source": [
    "models.Race.objects.annotate(Count('player')).aggregate(Avg('player__count'), Avg('declared_player_count'))"
   ]
  },
  {
   "cell_type": "code",
   "execution_count": null,
   "metadata": {},
   "outputs": [],
   "source": [
    "q = models.Race.objects.values('sub_category').annotate(Count('sub_category'))"
   ]
  },
  {
   "cell_type": "code",
   "execution_count": 11,
   "metadata": {},
   "outputs": [
    {
     "data": {
      "text/html": [
       "<div>\n",
       "<style scoped>\n",
       "    .dataframe tbody tr th:only-of-type {\n",
       "        vertical-align: middle;\n",
       "    }\n",
       "\n",
       "    .dataframe tbody tr th {\n",
       "        vertical-align: top;\n",
       "    }\n",
       "\n",
       "    .dataframe thead th {\n",
       "        text-align: right;\n",
       "    }\n",
       "</style>\n",
       "<table border=\"1\" class=\"dataframe\">\n",
       "  <thead>\n",
       "    <tr style=\"text-align: right;\">\n",
       "      <th></th>\n",
       "      <th>sub_category__count</th>\n",
       "    </tr>\n",
       "    <tr>\n",
       "      <th>sub_category</th>\n",
       "      <th></th>\n",
       "    </tr>\n",
       "  </thead>\n",
       "  <tbody>\n",
       "    <tr>\n",
       "      <th>COURSE_A_CONDITIONS</th>\n",
       "      <td>8472</td>\n",
       "    </tr>\n",
       "    <tr>\n",
       "      <th>INCONNU</th>\n",
       "      <td>5780</td>\n",
       "    </tr>\n",
       "    <tr>\n",
       "      <th>AUTOSTART</th>\n",
       "      <td>4177</td>\n",
       "    </tr>\n",
       "    <tr>\n",
       "      <th>HANDICAP</th>\n",
       "      <td>3792</td>\n",
       "    </tr>\n",
       "    <tr>\n",
       "      <th>A_RECLAMER</th>\n",
       "      <td>2206</td>\n",
       "    </tr>\n",
       "    <tr>\n",
       "      <th>HANDICAP_DIVISE</th>\n",
       "      <td>2090</td>\n",
       "    </tr>\n",
       "    <tr>\n",
       "      <th>NATIONALE</th>\n",
       "      <td>1405</td>\n",
       "    </tr>\n",
       "    <tr>\n",
       "      <th></th>\n",
       "      <td>1253</td>\n",
       "    </tr>\n",
       "    <tr>\n",
       "      <th>INTERNATIONALE_AUTOSTART</th>\n",
       "      <td>1125</td>\n",
       "    </tr>\n",
       "    <tr>\n",
       "      <th>EUROPEENNE</th>\n",
       "      <td>942</td>\n",
       "    </tr>\n",
       "    <tr>\n",
       "      <th>APPRENTIS_LADS_JOCKEYS</th>\n",
       "      <td>919</td>\n",
       "    </tr>\n",
       "    <tr>\n",
       "      <th>HANDICAP_CATEGORIE_DIVISE</th>\n",
       "      <td>782</td>\n",
       "    </tr>\n",
       "    <tr>\n",
       "      <th>HANDICAP_DE_CATEGORIE</th>\n",
       "      <td>590</td>\n",
       "    </tr>\n",
       "    <tr>\n",
       "      <th>GROUPE_III</th>\n",
       "      <td>526</td>\n",
       "    </tr>\n",
       "    <tr>\n",
       "      <th>GROUPE_I</th>\n",
       "      <td>522</td>\n",
       "    </tr>\n",
       "    <tr>\n",
       "      <th>AMATEURS</th>\n",
       "      <td>514</td>\n",
       "    </tr>\n",
       "    <tr>\n",
       "      <th>GROUPE_II</th>\n",
       "      <td>462</td>\n",
       "    </tr>\n",
       "    <tr>\n",
       "      <th>NATIONALE_AUTOSTART</th>\n",
       "      <td>430</td>\n",
       "    </tr>\n",
       "    <tr>\n",
       "      <th>EUROPEENNE_AUTOSTART</th>\n",
       "      <td>291</td>\n",
       "    </tr>\n",
       "    <tr>\n",
       "      <th>AMATEURS_AUTOSTART</th>\n",
       "      <td>278</td>\n",
       "    </tr>\n",
       "    <tr>\n",
       "      <th>COURSE_A_CONDITION_QUALIF_HP</th>\n",
       "      <td>213</td>\n",
       "    </tr>\n",
       "    <tr>\n",
       "      <th>APPRENTIS_LADS_JOCKEYS_AUTOSTART</th>\n",
       "      <td>193</td>\n",
       "    </tr>\n",
       "    <tr>\n",
       "      <th>INTERNATIONALE</th>\n",
       "      <td>190</td>\n",
       "    </tr>\n",
       "    <tr>\n",
       "      <th>A_RECLAMER_AUTOSTART</th>\n",
       "      <td>63</td>\n",
       "    </tr>\n",
       "    <tr>\n",
       "      <th>APPRENTIS_LADS_JOCKEYS_EUROPEENNE</th>\n",
       "      <td>60</td>\n",
       "    </tr>\n",
       "    <tr>\n",
       "      <th>APPRENTIS_LADS_JOCKEYS_A_RECLAMER_AUTOSTART</th>\n",
       "      <td>39</td>\n",
       "    </tr>\n",
       "    <tr>\n",
       "      <th>AMATEURS_NATIONALE</th>\n",
       "      <td>34</td>\n",
       "    </tr>\n",
       "    <tr>\n",
       "      <th>A_RECLAMER_APPRENTIS_LADS_JOCKEYS</th>\n",
       "      <td>32</td>\n",
       "    </tr>\n",
       "    <tr>\n",
       "      <th>QUALIFICATION_ACCAF</th>\n",
       "      <td>26</td>\n",
       "    </tr>\n",
       "    <tr>\n",
       "      <th>AMATEURS_INTERNATIONALE_AUTOSTART</th>\n",
       "      <td>25</td>\n",
       "    </tr>\n",
       "    <tr>\n",
       "      <th>HANDICAP_A_RECLAMER</th>\n",
       "      <td>15</td>\n",
       "    </tr>\n",
       "    <tr>\n",
       "      <th>COURSE_AP</th>\n",
       "      <td>11</td>\n",
       "    </tr>\n",
       "    <tr>\n",
       "      <th>AMATEURS_EUROPEENNE_AUTOSTART</th>\n",
       "      <td>8</td>\n",
       "    </tr>\n",
       "    <tr>\n",
       "      <th>FINALE_REGIONALE_ACCAF</th>\n",
       "      <td>7</td>\n",
       "    </tr>\n",
       "    <tr>\n",
       "      <th>AMATEURS_INTERNATIONALE</th>\n",
       "      <td>4</td>\n",
       "    </tr>\n",
       "    <tr>\n",
       "      <th>COURSE_INTERNATIONALE</th>\n",
       "      <td>4</td>\n",
       "    </tr>\n",
       "    <tr>\n",
       "      <th>MIXTE</th>\n",
       "      <td>3</td>\n",
       "    </tr>\n",
       "    <tr>\n",
       "      <th>AMATEURS_PRIORITE_AUX_PROPRIETAIRES</th>\n",
       "      <td>3</td>\n",
       "    </tr>\n",
       "    <tr>\n",
       "      <th>A_RECLAMER_AMATEURS</th>\n",
       "      <td>2</td>\n",
       "    </tr>\n",
       "    <tr>\n",
       "      <th>AMATEURS_EUROPEENNE</th>\n",
       "      <td>2</td>\n",
       "    </tr>\n",
       "    <tr>\n",
       "      <th>A_RECLAMER_AMATEURS_AUTOSTART</th>\n",
       "      <td>1</td>\n",
       "    </tr>\n",
       "    <tr>\n",
       "      <th>COURSE_AP_EUROPEENNE</th>\n",
       "      <td>1</td>\n",
       "    </tr>\n",
       "    <tr>\n",
       "      <th>HANDICAP_LIMITE</th>\n",
       "      <td>1</td>\n",
       "    </tr>\n",
       "  </tbody>\n",
       "</table>\n",
       "</div>"
      ],
      "text/plain": [
       "                                             sub_category__count\n",
       "sub_category                                                    \n",
       "COURSE_A_CONDITIONS                                         8472\n",
       "INCONNU                                                     5780\n",
       "AUTOSTART                                                   4177\n",
       "HANDICAP                                                    3792\n",
       "A_RECLAMER                                                  2206\n",
       "HANDICAP_DIVISE                                             2090\n",
       "NATIONALE                                                   1405\n",
       "                                                            1253\n",
       "INTERNATIONALE_AUTOSTART                                    1125\n",
       "EUROPEENNE                                                   942\n",
       "APPRENTIS_LADS_JOCKEYS                                       919\n",
       "HANDICAP_CATEGORIE_DIVISE                                    782\n",
       "HANDICAP_DE_CATEGORIE                                        590\n",
       "GROUPE_III                                                   526\n",
       "GROUPE_I                                                     522\n",
       "AMATEURS                                                     514\n",
       "GROUPE_II                                                    462\n",
       "NATIONALE_AUTOSTART                                          430\n",
       "EUROPEENNE_AUTOSTART                                         291\n",
       "AMATEURS_AUTOSTART                                           278\n",
       "COURSE_A_CONDITION_QUALIF_HP                                 213\n",
       "APPRENTIS_LADS_JOCKEYS_AUTOSTART                             193\n",
       "INTERNATIONALE                                               190\n",
       "A_RECLAMER_AUTOSTART                                          63\n",
       "APPRENTIS_LADS_JOCKEYS_EUROPEENNE                             60\n",
       "APPRENTIS_LADS_JOCKEYS_A_RECLAMER_AUTOSTART                   39\n",
       "AMATEURS_NATIONALE                                            34\n",
       "A_RECLAMER_APPRENTIS_LADS_JOCKEYS                             32\n",
       "QUALIFICATION_ACCAF                                           26\n",
       "AMATEURS_INTERNATIONALE_AUTOSTART                             25\n",
       "HANDICAP_A_RECLAMER                                           15\n",
       "COURSE_AP                                                     11\n",
       "AMATEURS_EUROPEENNE_AUTOSTART                                  8\n",
       "FINALE_REGIONALE_ACCAF                                         7\n",
       "AMATEURS_INTERNATIONALE                                        4\n",
       "COURSE_INTERNATIONALE                                          4\n",
       "MIXTE                                                          3\n",
       "AMATEURS_PRIORITE_AUX_PROPRIETAIRES                            3\n",
       "A_RECLAMER_AMATEURS                                            2\n",
       "AMATEURS_EUROPEENNE                                            2\n",
       "A_RECLAMER_AMATEURS_AUTOSTART                                  1\n",
       "COURSE_AP_EUROPEENNE                                           1\n",
       "HANDICAP_LIMITE                                                1"
      ]
     },
     "execution_count": 11,
     "metadata": {},
     "output_type": "execute_result"
    }
   ],
   "source": [
    "q = models.Race.objects.values('sub_category').annotate(Count('sub_category'))\n",
    "\n",
    "df = pd.DataFrame.from_records(q, index='sub_category')\n",
    "\n",
    "df.sort_values(by='sub_category__count', ascending=False)"
   ]
  },
  {
   "cell_type": "code",
   "execution_count": 6,
   "metadata": {},
   "outputs": [
    {
     "data": {
      "text/plain": [
       "<Race: 2016-04-26 R3C7 19:19>"
      ]
     },
     "execution_count": 6,
     "metadata": {},
     "output_type": "execute_result"
    }
   ],
   "source": [
    "models.Race.objects.filter(id=27748)[0]"
   ]
  },
  {
   "cell_type": "code",
   "execution_count": 7,
   "metadata": {},
   "outputs": [
    {
     "data": {
      "text/plain": [
       "<QuerySet [<Player: #1 - DJODANN>, <Player: #2 - DANDY JO>, <Player: #3 - DEXTER BLUE>, <Player: #4 - DICSOU MONTAVAL>, <Player: #5 - DIEGO CAMPEON>, <Player: #6 - DOC MAJYC>, <Player: #7 - DROP DES DURIEZ>, <Player: #8 - DUKE OF CARLESS>, <Player: #9 - DIAMANT DE SALVI>, <Player: #10 - DELIO DU REYNARD>, <Player: #11 - DYNAMIQUE STYLE>, <Player: #12 - DJANGO CHAVIERE>, <Player: #13 - DJ IMPERIAL>]>"
      ]
     },
     "execution_count": 7,
     "metadata": {},
     "output_type": "execute_result"
    }
   ],
   "source": [
    "models.Player.objects.filter(race__id=27748)"
   ]
  },
  {
   "cell_type": "code",
   "execution_count": 25,
   "metadata": {},
   "outputs": [
    {
     "data": {
      "text/plain": [
       "'sfsd0.1'"
      ]
     },
     "execution_count": 25,
     "metadata": {},
     "output_type": "execute_result"
    }
   ],
   "source": [
    "a=0.1\n",
    "'sfsd{}'.format(a)"
   ]
  },
  {
   "cell_type": "code",
   "execution_count": 8,
   "metadata": {},
   "outputs": [
    {
     "name": "stdout",
     "output_type": "stream",
     "text": [
      "1\n",
      "2\n",
      "3\n"
     ]
    }
   ],
   "source": [
    "import numpy as np\n",
    "\n",
    "for i in range(1,4):\n",
    "    print(i)"
   ]
  }
 ],
 "metadata": {
  "kernelspec": {
   "display_name": "Django Shell-Plus",
   "language": "python",
   "name": "django_extensions"
  },
  "language_info": {
   "codemirror_mode": {
    "name": "ipython",
    "version": 3
   },
   "file_extension": ".py",
   "mimetype": "text/x-python",
   "name": "python",
   "nbconvert_exporter": "python",
   "pygments_lexer": "ipython3",
   "version": "3.6.4"
  }
 },
 "nbformat": 4,
 "nbformat_minor": 2
}
