{
 "cells": [
  {
   "cell_type": "code",
   "execution_count": 1,
   "metadata": {},
   "outputs": [],
   "source": [
    "import pandas as pd\n",
    "import numpy as np\n",
    "\n",
    "import os\n",
    "os.environ[\"DJANGO_ALLOW_ASYNC_UNSAFE\"] = \"true\"\n",
    "\n",
    "%matplotlib inline\n",
    "import matplotlib\n",
    "import matplotlib.pyplot as plt\n",
    "\n",
    "from cataclop.ml import preprocessing\n",
    "from cataclop.ml import exploration\n",
    "\n",
    "pd.set_option('display.max_columns', 200)\n",
    "pd.set_option('display.max_rows', 500)\n",
    "\n",
    "from cataclop.ml.pipeline import factories"
   ]
  },
  {
   "cell_type": "markdown",
   "metadata": {},
   "source": [
    "load one of the saved programs in *ml/pipeline/programs*"
   ]
  },
  {
   "cell_type": "code",
   "execution_count": 2,
   "metadata": {},
   "outputs": [],
   "source": [
    "program = factories.Program.factory('keras-test', version='1.0')"
   ]
  },
  {
   "cell_type": "markdown",
   "metadata": {},
   "source": [
    "predict on validation dataset"
   ]
  },
  {
   "cell_type": "code",
   "execution_count": 3,
   "metadata": {},
   "outputs": [
    {
     "name": "stdout",
     "output_type": "stream",
     "text": [
      "924 races\n"
     ]
    },
    {
     "name": "stderr",
     "output_type": "stream",
     "text": [
      "preparing model data\n"
     ]
    },
    {
     "data": {
      "application/vnd.jupyter.widget-view+json": {
       "model_id": "d1aa9148fb9a441d9b7574b4f0882237",
       "version_major": 2,
       "version_minor": 0
      },
      "text/plain": [
       "HBox(children=(FloatProgress(value=0.0, max=535.0), HTML(value='')))"
      ]
     },
     "metadata": {},
     "output_type": "display_data"
    },
    {
     "name": "stdout",
     "output_type": "stream",
     "text": [
      "\n"
     ]
    },
    {
     "data": {
      "application/vnd.jupyter.widget-view+json": {
       "model_id": "4112ad3201154aeeb2f3e5c65800a20a",
       "version_major": 2,
       "version_minor": 0
      },
      "text/plain": [
       "HBox(children=(FloatProgress(value=0.0, max=76330.0), HTML(value='')))"
      ]
     },
     "metadata": {},
     "output_type": "display_data"
    },
    {
     "name": "stdout",
     "output_type": "stream",
     "text": [
      "\n"
     ]
    }
   ],
   "source": [
    "program.predict(dataset_params = {\n",
    "    'from': '2020-01-01',\n",
    "    'to': '2020-07-10',\n",
    "    'sub_categories': ['HANDICAP']\n",
    "}, locked=True)"
   ]
  },
  {
   "cell_type": "code",
   "execution_count": 4,
   "metadata": {},
   "outputs": [],
   "source": [
    "#from dill import dump, load\n",
    "#weights = load(open('/tmp/weights.pkl', 'rb'))\n",
    "#import keras\n",
    "#program.model.model = keras.models.load_model('/tmp/model')\n",
    "#program.model.model.load_weights('/tmp/weights.best.hdf5')"
   ]
  },
  {
   "cell_type": "code",
   "execution_count": 5,
   "metadata": {},
   "outputs": [
    {
     "data": {
      "text/html": [
       "<div>\n",
       "<style scoped>\n",
       "    .dataframe tbody tr th:only-of-type {\n",
       "        vertical-align: middle;\n",
       "    }\n",
       "\n",
       "    .dataframe tbody tr th {\n",
       "        vertical-align: top;\n",
       "    }\n",
       "\n",
       "    .dataframe thead th {\n",
       "        text-align: right;\n",
       "    }\n",
       "</style>\n",
       "<table border=\"1\" class=\"dataframe\">\n",
       "  <thead>\n",
       "    <tr style=\"text-align: right;\">\n",
       "      <th></th>\n",
       "      <th>race_id</th>\n",
       "      <th>start_at</th>\n",
       "      <th>category</th>\n",
       "      <th>sub_category</th>\n",
       "      <th>country</th>\n",
       "      <th>profit</th>\n",
       "      <th>num</th>\n",
       "      <th>position</th>\n",
       "      <th>final_odds_ref</th>\n",
       "      <th>final_odds</th>\n",
       "      <th>score</th>\n",
       "      <th>date</th>\n",
       "    </tr>\n",
       "  </thead>\n",
       "  <tbody>\n",
       "    <tr>\n",
       "      <th>1</th>\n",
       "      <td>79972</td>\n",
       "      <td>2020-01-02 16:05:00</td>\n",
       "      <td>PLAT</td>\n",
       "      <td>HANDICAP</td>\n",
       "      <td>ARE</td>\n",
       "      <td>-6.0</td>\n",
       "      <td>2</td>\n",
       "      <td>4.0</td>\n",
       "      <td>0.153257</td>\n",
       "      <td>11.0</td>\n",
       "      <td>10.889018</td>\n",
       "      <td>2020-01-02 16:05:00</td>\n",
       "    </tr>\n",
       "    <tr>\n",
       "      <th>2</th>\n",
       "      <td>79972</td>\n",
       "      <td>2020-01-02 16:05:00</td>\n",
       "      <td>PLAT</td>\n",
       "      <td>HANDICAP</td>\n",
       "      <td>ARE</td>\n",
       "      <td>0.9</td>\n",
       "      <td>3</td>\n",
       "      <td>2.0</td>\n",
       "      <td>-0.398467</td>\n",
       "      <td>5.7</td>\n",
       "      <td>7.974101</td>\n",
       "      <td>2020-01-02 16:05:00</td>\n",
       "    </tr>\n",
       "    <tr>\n",
       "      <th>3</th>\n",
       "      <td>79972</td>\n",
       "      <td>2020-01-02 16:05:00</td>\n",
       "      <td>PLAT</td>\n",
       "      <td>HANDICAP</td>\n",
       "      <td>ARE</td>\n",
       "      <td>-6.0</td>\n",
       "      <td>4</td>\n",
       "      <td>10.0</td>\n",
       "      <td>0.038314</td>\n",
       "      <td>33.0</td>\n",
       "      <td>79000.483693</td>\n",
       "      <td>2020-01-02 16:05:00</td>\n",
       "    </tr>\n",
       "    <tr>\n",
       "      <th>4</th>\n",
       "      <td>79972</td>\n",
       "      <td>2020-01-02 16:05:00</td>\n",
       "      <td>PLAT</td>\n",
       "      <td>HANDICAP</td>\n",
       "      <td>ARE</td>\n",
       "      <td>-4.0</td>\n",
       "      <td>5</td>\n",
       "      <td>7.0</td>\n",
       "      <td>-0.363985</td>\n",
       "      <td>4.5</td>\n",
       "      <td>10.842047</td>\n",
       "      <td>2020-01-02 16:05:00</td>\n",
       "    </tr>\n",
       "    <tr>\n",
       "      <th>5</th>\n",
       "      <td>79972</td>\n",
       "      <td>2020-01-02 16:05:00</td>\n",
       "      <td>PLAT</td>\n",
       "      <td>HANDICAP</td>\n",
       "      <td>ARE</td>\n",
       "      <td>1.8</td>\n",
       "      <td>6</td>\n",
       "      <td>3.0</td>\n",
       "      <td>-0.191571</td>\n",
       "      <td>8.1</td>\n",
       "      <td>16.028419</td>\n",
       "      <td>2020-01-02 16:05:00</td>\n",
       "    </tr>\n",
       "    <tr>\n",
       "      <th>...</th>\n",
       "      <td>...</td>\n",
       "      <td>...</td>\n",
       "      <td>...</td>\n",
       "      <td>...</td>\n",
       "      <td>...</td>\n",
       "      <td>...</td>\n",
       "      <td>...</td>\n",
       "      <td>...</td>\n",
       "      <td>...</td>\n",
       "      <td>...</td>\n",
       "      <td>...</td>\n",
       "      <td>...</td>\n",
       "    </tr>\n",
       "    <tr>\n",
       "      <th>6422</th>\n",
       "      <td>86782</td>\n",
       "      <td>2020-06-29 16:10:00</td>\n",
       "      <td>HAIE</td>\n",
       "      <td>HANDICAP</td>\n",
       "      <td>FRA</td>\n",
       "      <td>-6.0</td>\n",
       "      <td>11</td>\n",
       "      <td>11.0</td>\n",
       "      <td>0.689655</td>\n",
       "      <td>57.0</td>\n",
       "      <td>19999.742775</td>\n",
       "      <td>2020-06-29 16:10:00</td>\n",
       "    </tr>\n",
       "    <tr>\n",
       "      <th>6423</th>\n",
       "      <td>86782</td>\n",
       "      <td>2020-06-29 16:10:00</td>\n",
       "      <td>HAIE</td>\n",
       "      <td>HANDICAP</td>\n",
       "      <td>FRA</td>\n",
       "      <td>-6.0</td>\n",
       "      <td>12</td>\n",
       "      <td>7.0</td>\n",
       "      <td>0.651341</td>\n",
       "      <td>71.0</td>\n",
       "      <td>19913.059719</td>\n",
       "      <td>2020-06-29 16:10:00</td>\n",
       "    </tr>\n",
       "    <tr>\n",
       "      <th>6424</th>\n",
       "      <td>86782</td>\n",
       "      <td>2020-06-29 16:10:00</td>\n",
       "      <td>HAIE</td>\n",
       "      <td>HANDICAP</td>\n",
       "      <td>FRA</td>\n",
       "      <td>-6.0</td>\n",
       "      <td>13</td>\n",
       "      <td>20.0</td>\n",
       "      <td>1.264368</td>\n",
       "      <td>53.0</td>\n",
       "      <td>19805.679923</td>\n",
       "      <td>2020-06-29 16:10:00</td>\n",
       "    </tr>\n",
       "    <tr>\n",
       "      <th>6425</th>\n",
       "      <td>86782</td>\n",
       "      <td>2020-06-29 16:10:00</td>\n",
       "      <td>HAIE</td>\n",
       "      <td>HANDICAP</td>\n",
       "      <td>FRA</td>\n",
       "      <td>-6.0</td>\n",
       "      <td>14</td>\n",
       "      <td>20.0</td>\n",
       "      <td>0.766284</td>\n",
       "      <td>36.0</td>\n",
       "      <td>20239.850177</td>\n",
       "      <td>2020-06-29 16:10:00</td>\n",
       "    </tr>\n",
       "    <tr>\n",
       "      <th>6426</th>\n",
       "      <td>86782</td>\n",
       "      <td>2020-06-29 16:10:00</td>\n",
       "      <td>HAIE</td>\n",
       "      <td>HANDICAP</td>\n",
       "      <td>FRA</td>\n",
       "      <td>-6.0</td>\n",
       "      <td>15</td>\n",
       "      <td>20.0</td>\n",
       "      <td>1.647510</td>\n",
       "      <td>112.0</td>\n",
       "      <td>19602.265774</td>\n",
       "      <td>2020-06-29 16:10:00</td>\n",
       "    </tr>\n",
       "  </tbody>\n",
       "</table>\n",
       "<p>1665 rows × 12 columns</p>\n",
       "</div>"
      ],
      "text/plain": [
       "      race_id            start_at category sub_category country  profit  num  \\\n",
       "1       79972 2020-01-02 16:05:00     PLAT     HANDICAP     ARE    -6.0    2   \n",
       "2       79972 2020-01-02 16:05:00     PLAT     HANDICAP     ARE     0.9    3   \n",
       "3       79972 2020-01-02 16:05:00     PLAT     HANDICAP     ARE    -6.0    4   \n",
       "4       79972 2020-01-02 16:05:00     PLAT     HANDICAP     ARE    -4.0    5   \n",
       "5       79972 2020-01-02 16:05:00     PLAT     HANDICAP     ARE     1.8    6   \n",
       "...       ...                 ...      ...          ...     ...     ...  ...   \n",
       "6422    86782 2020-06-29 16:10:00     HAIE     HANDICAP     FRA    -6.0   11   \n",
       "6423    86782 2020-06-29 16:10:00     HAIE     HANDICAP     FRA    -6.0   12   \n",
       "6424    86782 2020-06-29 16:10:00     HAIE     HANDICAP     FRA    -6.0   13   \n",
       "6425    86782 2020-06-29 16:10:00     HAIE     HANDICAP     FRA    -6.0   14   \n",
       "6426    86782 2020-06-29 16:10:00     HAIE     HANDICAP     FRA    -6.0   15   \n",
       "\n",
       "      position  final_odds_ref  final_odds         score                date  \n",
       "1          4.0        0.153257        11.0     10.889018 2020-01-02 16:05:00  \n",
       "2          2.0       -0.398467         5.7      7.974101 2020-01-02 16:05:00  \n",
       "3         10.0        0.038314        33.0  79000.483693 2020-01-02 16:05:00  \n",
       "4          7.0       -0.363985         4.5     10.842047 2020-01-02 16:05:00  \n",
       "5          3.0       -0.191571         8.1     16.028419 2020-01-02 16:05:00  \n",
       "...        ...             ...         ...           ...                 ...  \n",
       "6422      11.0        0.689655        57.0  19999.742775 2020-06-29 16:10:00  \n",
       "6423       7.0        0.651341        71.0  19913.059719 2020-06-29 16:10:00  \n",
       "6424      20.0        1.264368        53.0  19805.679923 2020-06-29 16:10:00  \n",
       "6425      20.0        0.766284        36.0  20239.850177 2020-06-29 16:10:00  \n",
       "6426      20.0        1.647510       112.0  19602.265774 2020-06-29 16:10:00  \n",
       "\n",
       "[1665 rows x 12 columns]"
      ]
     },
     "execution_count": 5,
     "metadata": {},
     "output_type": "execute_result"
    }
   ],
   "source": [
    "program.bet()"
   ]
  },
  {
   "cell_type": "code",
   "execution_count": 6,
   "metadata": {},
   "outputs": [
    {
     "data": {
      "text/plain": [
       "count    1665.000000\n",
       "mean       -0.556096\n",
       "std        18.536386\n",
       "min        -6.000000\n",
       "25%        -6.000000\n",
       "50%        -6.000000\n",
       "75%        -2.000000\n",
       "max       312.000000\n",
       "Name: profit, dtype: float64"
      ]
     },
     "execution_count": 6,
     "metadata": {},
     "output_type": "execute_result"
    }
   ],
   "source": [
    "program.bets.profit.describe()"
   ]
  },
  {
   "cell_type": "code",
   "execution_count": 7,
   "metadata": {},
   "outputs": [
    {
     "data": {
      "text/plain": [
       "count    1053.000000\n",
       "mean       -0.524881\n",
       "std        22.455967\n",
       "min        -6.000000\n",
       "25%        -6.000000\n",
       "50%        -6.000000\n",
       "75%        -6.000000\n",
       "max       312.000000\n",
       "Name: profit, dtype: float64"
      ]
     },
     "execution_count": 7,
     "metadata": {},
     "output_type": "execute_result"
    }
   ],
   "source": [
    "b = program.bets\n",
    "b[b['final_odds']>10]['profit'].describe()"
   ]
  },
  {
   "cell_type": "code",
   "execution_count": 8,
   "metadata": {},
   "outputs": [],
   "source": [
    "\n",
    "def fast_bet(r):\n",
    "    p = 'score'\n",
    "\n",
    "    s = r.sort_values(by=p, ascending=False)\n",
    "    o = s.index.sort_values(ascending=True, return_indexer=True)\n",
    "\n",
    "    s2 = r.sort_values(by='final_odds_ref')\n",
    "    o2 = s2.index.sort_values(ascending=True, return_indexer=True)\n",
    "\n",
    "    s3 = r.sort_values(by='final_odds')\n",
    "    o3 = s3.index.sort_values(ascending=True, return_indexer=True)\n",
    "\n",
    "    r['pn'] = o[1]\n",
    "    r['oddsrn'] = o2[1]\n",
    "    r['oddsn'] = o3[1]\n",
    "    r['pstd'] = r[p].std()\n",
    "\n",
    "    return r\n"
   ]
  },
  {
   "cell_type": "code",
   "execution_count": 9,
   "metadata": {},
   "outputs": [
    {
     "data": {
      "text/plain": [
       "535"
      ]
     },
     "execution_count": 9,
     "metadata": {},
     "output_type": "execute_result"
    }
   ],
   "source": [
    "df = program.df\n",
    "race_ids = df['race_id'].unique()\n",
    "len(race_ids)"
   ]
  },
  {
   "cell_type": "code",
   "execution_count": 21,
   "metadata": {},
   "outputs": [
    {
     "data": {
      "text/html": [
       "<div>\n",
       "<style scoped>\n",
       "    .dataframe tbody tr th:only-of-type {\n",
       "        vertical-align: middle;\n",
       "    }\n",
       "\n",
       "    .dataframe tbody tr th {\n",
       "        vertical-align: top;\n",
       "    }\n",
       "\n",
       "    .dataframe thead th {\n",
       "        text-align: right;\n",
       "    }\n",
       "</style>\n",
       "<table border=\"1\" class=\"dataframe\">\n",
       "  <thead>\n",
       "    <tr style=\"text-align: right;\">\n",
       "      <th></th>\n",
       "      <th>position</th>\n",
       "      <th>prize</th>\n",
       "      <th>sub_category</th>\n",
       "      <th>oddsn</th>\n",
       "      <th>num</th>\n",
       "      <th>final_odds</th>\n",
       "      <th>final_odds_ref</th>\n",
       "      <th>score</th>\n",
       "      <th>bet</th>\n",
       "      <th>profit</th>\n",
       "      <th>pn</th>\n",
       "    </tr>\n",
       "  </thead>\n",
       "  <tbody>\n",
       "    <tr>\n",
       "      <th>5795</th>\n",
       "      <td>1.0</td>\n",
       "      <td>-3.411498</td>\n",
       "      <td>HANDICAP</td>\n",
       "      <td>2</td>\n",
       "      <td>1</td>\n",
       "      <td>5.0</td>\n",
       "      <td>-0.283525</td>\n",
       "      <td>0.000000</td>\n",
       "      <td>3</td>\n",
       "      <td>13.5</td>\n",
       "      <td>3</td>\n",
       "    </tr>\n",
       "    <tr>\n",
       "      <th>5796</th>\n",
       "      <td>4.0</td>\n",
       "      <td>-3.411498</td>\n",
       "      <td>HANDICAP</td>\n",
       "      <td>7</td>\n",
       "      <td>2</td>\n",
       "      <td>27.0</td>\n",
       "      <td>0.191571</td>\n",
       "      <td>0.000000</td>\n",
       "      <td>3</td>\n",
       "      <td>-6.0</td>\n",
       "      <td>4</td>\n",
       "    </tr>\n",
       "    <tr>\n",
       "      <th>5798</th>\n",
       "      <td>6.0</td>\n",
       "      <td>-3.411498</td>\n",
       "      <td>HANDICAP</td>\n",
       "      <td>3</td>\n",
       "      <td>4</td>\n",
       "      <td>8.2</td>\n",
       "      <td>-0.229885</td>\n",
       "      <td>0.000000</td>\n",
       "      <td>3</td>\n",
       "      <td>-6.0</td>\n",
       "      <td>5</td>\n",
       "    </tr>\n",
       "    <tr>\n",
       "      <th>5799</th>\n",
       "      <td>2.0</td>\n",
       "      <td>-3.411498</td>\n",
       "      <td>HANDICAP</td>\n",
       "      <td>0</td>\n",
       "      <td>5</td>\n",
       "      <td>2.5</td>\n",
       "      <td>-0.505747</td>\n",
       "      <td>0.000000</td>\n",
       "      <td>1</td>\n",
       "      <td>-0.7</td>\n",
       "      <td>6</td>\n",
       "    </tr>\n",
       "    <tr>\n",
       "      <th>5801</th>\n",
       "      <td>9.0</td>\n",
       "      <td>-3.411498</td>\n",
       "      <td>HANDICAP</td>\n",
       "      <td>5</td>\n",
       "      <td>7</td>\n",
       "      <td>17.0</td>\n",
       "      <td>0.229885</td>\n",
       "      <td>0.000000</td>\n",
       "      <td>3</td>\n",
       "      <td>-6.0</td>\n",
       "      <td>7</td>\n",
       "    </tr>\n",
       "    <tr>\n",
       "      <th>5803</th>\n",
       "      <td>8.0</td>\n",
       "      <td>-3.411498</td>\n",
       "      <td>HANDICAP</td>\n",
       "      <td>6</td>\n",
       "      <td>9</td>\n",
       "      <td>18.0</td>\n",
       "      <td>0.153257</td>\n",
       "      <td>0.000000</td>\n",
       "      <td>3</td>\n",
       "      <td>-6.0</td>\n",
       "      <td>8</td>\n",
       "    </tr>\n",
       "    <tr>\n",
       "      <th>5802</th>\n",
       "      <td>7.0</td>\n",
       "      <td>-3.411498</td>\n",
       "      <td>HANDICAP</td>\n",
       "      <td>8</td>\n",
       "      <td>8</td>\n",
       "      <td>39.0</td>\n",
       "      <td>-0.038314</td>\n",
       "      <td>40916.193211</td>\n",
       "      <td>3</td>\n",
       "      <td>-6.0</td>\n",
       "      <td>2</td>\n",
       "    </tr>\n",
       "    <tr>\n",
       "      <th>5800</th>\n",
       "      <td>3.0</td>\n",
       "      <td>-3.411498</td>\n",
       "      <td>HANDICAP</td>\n",
       "      <td>1</td>\n",
       "      <td>6</td>\n",
       "      <td>4.6</td>\n",
       "      <td>-0.505747</td>\n",
       "      <td>41504.604750</td>\n",
       "      <td>2</td>\n",
       "      <td>-1.2</td>\n",
       "      <td>1</td>\n",
       "    </tr>\n",
       "    <tr>\n",
       "      <th>5797</th>\n",
       "      <td>5.0</td>\n",
       "      <td>-3.411498</td>\n",
       "      <td>HANDICAP</td>\n",
       "      <td>4</td>\n",
       "      <td>3</td>\n",
       "      <td>17.0</td>\n",
       "      <td>0.268199</td>\n",
       "      <td>42097.038879</td>\n",
       "      <td>3</td>\n",
       "      <td>-6.0</td>\n",
       "      <td>0</td>\n",
       "    </tr>\n",
       "  </tbody>\n",
       "</table>\n",
       "</div>"
      ],
      "text/plain": [
       "      position     prize sub_category  oddsn  num  final_odds  final_odds_ref  \\\n",
       "5795       1.0 -3.411498     HANDICAP      2    1         5.0       -0.283525   \n",
       "5796       4.0 -3.411498     HANDICAP      7    2        27.0        0.191571   \n",
       "5798       6.0 -3.411498     HANDICAP      3    4         8.2       -0.229885   \n",
       "5799       2.0 -3.411498     HANDICAP      0    5         2.5       -0.505747   \n",
       "5801       9.0 -3.411498     HANDICAP      5    7        17.0        0.229885   \n",
       "5803       8.0 -3.411498     HANDICAP      6    9        18.0        0.153257   \n",
       "5802       7.0 -3.411498     HANDICAP      8    8        39.0       -0.038314   \n",
       "5800       3.0 -3.411498     HANDICAP      1    6         4.6       -0.505747   \n",
       "5797       5.0 -3.411498     HANDICAP      4    3        17.0        0.268199   \n",
       "\n",
       "             score  bet  profit  pn  \n",
       "5795      0.000000    3    13.5   3  \n",
       "5796      0.000000    3    -6.0   4  \n",
       "5798      0.000000    3    -6.0   5  \n",
       "5799      0.000000    1    -0.7   6  \n",
       "5801      0.000000    3    -6.0   7  \n",
       "5803      0.000000    3    -6.0   8  \n",
       "5802  40916.193211    3    -6.0   2  \n",
       "5800  41504.604750    2    -1.2   1  \n",
       "5797  42097.038879    3    -6.0   0  "
      ]
     },
     "execution_count": 21,
     "metadata": {},
     "output_type": "execute_result"
    }
   ],
   "source": [
    "from cataclop.ml.exploration import random_race\n",
    "\n",
    "#random_race(df, ['position', 'prize', 'sub_category', 'oddsn', 'num', 'final_odds', 'final_odds_ref', 'score', 'bet', 'profit', 'pn']).sort_values(by='score')\n",
    "\n",
    "df[df['race_id']==86086][['position', 'prize', 'sub_category', 'oddsn', 'num', 'final_odds', 'final_odds_ref', 'score', 'bet', 'profit', 'pn']].sort_values(by='score')\n"
   ]
  },
  {
   "cell_type": "code",
   "execution_count": null,
   "metadata": {},
   "outputs": [],
   "source": []
  },
  {
   "cell_type": "code",
   "execution_count": 12,
   "metadata": {},
   "outputs": [],
   "source": [
    "df = df.groupby('race_id').apply(fast_bet)"
   ]
  },
  {
   "cell_type": "code",
   "execution_count": 27,
   "metadata": {},
   "outputs": [
    {
     "data": {
      "text/plain": [
       "count    238.000000\n",
       "mean      -0.930252\n",
       "std       24.087590\n",
       "min       -6.000000\n",
       "25%       -6.000000\n",
       "50%       -6.000000\n",
       "75%       -6.000000\n",
       "max      278.400000\n",
       "Name: profit, dtype: float64"
      ]
     },
     "execution_count": 27,
     "metadata": {},
     "output_type": "execute_result"
    }
   ],
   "source": [
    "df['bet'] = np.clip(df['oddsn'] + 1, 1, 3)\n",
    "df['profit'] = df['bet'] * (df['winner_dividend'].fillna(0.)/100.-1.0) +  df['bet'] * (df['placed_dividend'].fillna(0.)/100.-1.0)# + (df_test['winner_dividend'].fillna(0.)/100.-1.0)\n",
    "\n",
    "#df[ (df['pn']==0) & (df['prize'] > -0.3) & (df['score']>0.)]['profit'].describe()\n",
    "df[(df['pn']==3) & (df['score'] > 0) & (df['final_odds'] > 10) ]['profit'].describe()"
   ]
  },
  {
   "cell_type": "code",
   "execution_count": 15,
   "metadata": {},
   "outputs": [
    {
     "name": "stdout",
     "output_type": "stream",
     "text": [
      "PLAT\n",
      "137\n",
      "                start_at        horse_name  race_id     prize sub_category  \\\n",
      "3    2020-01-02 16:05:00          AMBIANCE    79972  2.344389     HANDICAP   \n",
      "20   2020-01-02 16:40:00  FESTIVAL OF AGES    79973  2.682640     HANDICAP   \n",
      "32   2020-01-02 17:15:00           SUEDOIS    79974  2.682640     HANDICAP   \n",
      "392  2020-01-09 19:35:00      BAY OF POETS    80240  2.344389     HANDICAP   \n",
      "616  2020-01-16 15:30:00         BLUEBERRY    80493  2.344389     HANDICAP   \n",
      "643  2020-01-16 16:40:00       DESERT FIRE    80495  2.682640     HANDICAP   \n",
      "662  2020-01-16 17:50:00            LAIETH    80497  2.344389     HANDICAP   \n",
      "865  2020-01-23 15:30:00    MASSIF CENTRAL    80761  2.344389     HANDICAP   \n",
      "895  2020-01-23 18:25:00  FESTIVAL OF AGES    80766  2.344389     HANDICAP   \n",
      "1019 2020-01-30 19:00:00  PIECE OF HISTORY    81022  2.344389     HANDICAP   \n",
      "\n",
      "      final_odds  placed_dividend  position  bet  profit  stash  \n",
      "3           33.0              0.0      10.0    3    -6.0   -6.0  \n",
      "20          30.0              0.0       9.0    3    -6.0  -12.0  \n",
      "32           4.9            170.0       3.0    3    -0.9  -12.9  \n",
      "392         32.0              0.0      11.0    3    -6.0  -18.9  \n",
      "616          5.6              0.0      12.0    3    -6.0  -24.9  \n",
      "643         10.0            410.0       3.0    3     6.3  -18.6  \n",
      "662         26.0              0.0      14.0    3    -6.0  -24.6  \n",
      "865         28.0            630.0       2.0    3    12.9  -11.7  \n",
      "895         73.0              0.0      12.0    3    -6.0  -17.7  \n",
      "1019        56.0              0.0      13.0    3    -6.0  -23.7  \n"
     ]
    },
    {
     "data": {
      "image/png": "[encoded data removed]",
      "text/plain": [
       "<Figure size 432x288 with 1 Axes>"
      ]
     },
     "metadata": {
      "needs_background": "light"
     },
     "output_type": "display_data"
    },
    {
     "name": "stdout",
     "output_type": "stream",
     "text": [
      "HAIE\n",
      "10\n",
      "                start_at      horse_name  race_id     prize sub_category  \\\n",
      "207  2020-01-05 14:57:00        BANONITO    80076  0.903426     HANDICAP   \n",
      "314  2020-01-06 13:25:00         KAPSTAR    80108  0.595322     HANDICAP   \n",
      "580  2020-01-14 17:20:00  FANTASTIC ROCK    80400  1.312243     HANDICAP   \n",
      "1170 2020-02-02 17:57:00  FEU D'ARTIFICE    81136  0.595322     HANDICAP   \n",
      "1458 2020-02-10 15:57:00  ELIGLOTE VILLE    81437  0.595322     HANDICAP   \n",
      "2095 2020-03-01 16:29:00      CASTANELLA    82597  1.541498     HANDICAP   \n",
      "2302 2020-03-07 15:17:00    PURPLE LIGHT    82813  2.097714     HANDICAP   \n",
      "6249 2020-06-21 14:17:00     SAINT ANJOU    86533  0.832956     HANDICAP   \n",
      "6328 2020-06-23 13:50:00  FUN DES MOTTES    82506  1.261123     HANDICAP   \n",
      "6425 2020-06-29 16:10:00      IN EXTENSO    86782  0.638059     HANDICAP   \n",
      "\n",
      "      final_odds  placed_dividend  position  bet  profit  stash  \n",
      "207          4.0              0.0       4.0    1    -2.0   -2.0  \n",
      "314         67.0              0.0      10.0    3    -6.0   -8.0  \n",
      "580          6.9              0.0       6.0    3    -6.0  -14.0  \n",
      "1170        17.0              0.0       9.0    3    -6.0  -20.0  \n",
      "1458         4.3              0.0       5.0    1    -2.0  -22.0  \n",
      "2095         NaN              0.0      20.0    3    -6.0  -28.0  \n",
      "2302        12.0            310.0       3.0    3     3.3  -24.7  \n",
      "6249         3.9            170.0       2.0    2    -0.6  -25.3  \n",
      "6328        30.0              0.0       4.0    3    -6.0  -31.3  \n",
      "6425        36.0              0.0      20.0    3    -6.0  -37.3  \n"
     ]
    },
    {
     "data": {
      "image/png": "[encoded data removed]",
      "text/plain": [
       "<Figure size 432x288 with 1 Axes>"
      ]
     },
     "metadata": {
      "needs_background": "light"
     },
     "output_type": "display_data"
    },
    {
     "name": "stdout",
     "output_type": "stream",
     "text": [
      "STEEPLECHASE\n",
      "5\n",
      "                start_at          horse_name  race_id     prize sub_category  \\\n",
      "322  2020-01-06 15:56:00         DESAGUADERO    80112  0.903426     HANDICAP   \n",
      "2449 2020-03-11 12:30:00      GALLOPING STAR    82987  1.408835     HANDICAP   \n",
      "5591 2020-05-17 15:23:00           CAFERTITI    85518  2.735795     HANDICAP   \n",
      "6248 2020-06-21 13:44:00  ROYAL NAVY WARSHIP    86532  1.207916     HANDICAP   \n",
      "6310 2020-06-23 13:12:00            TAKE TWO    82505  1.806869     HANDICAP   \n",
      "\n",
      "      final_odds  placed_dividend  position  bet  profit  stash  \n",
      "322          6.7              0.0      20.0    3    -6.0   -6.0  \n",
      "2449        10.0              0.0      20.0    3    -6.0  -12.0  \n",
      "5591        23.0            510.0       2.0    3     9.3   -2.7  \n",
      "6248        23.0              0.0       5.0    3    -6.0   -8.7  \n",
      "6310        40.0              0.0       4.0    3    -6.0  -14.7  \n"
     ]
    },
    {
     "data": {
      "image/png": "[encoded data removed]",
      "text/plain": [
       "<Figure size 432x288 with 1 Axes>"
      ]
     },
     "metadata": {
      "needs_background": "light"
     },
     "output_type": "display_data"
    }
   ],
   "source": [
    "from matplotlib import pyplot as plt\n",
    "for cat in df['category'].value_counts().index:\n",
    "    print(cat)\n",
    "    g = df[ (df['pn']==0) & (df['prize'] > 0.3) & (df['category']==cat) & (df['score']>0.)].copy()\n",
    "    g['stash'] = g['profit'].cumsum()\n",
    "    print(len(g))\n",
    "    pd.set_option('display.max_rows', 1000)\n",
    "    print(g[['start_at', 'horse_name', 'race_id', 'prize', 'sub_category', 'final_odds', 'placed_dividend', 'position', 'bet', 'profit', 'stash']].head(10))\n",
    "    g['stash'].plot()\n",
    "    plt.show()"
   ]
  },
  {
   "cell_type": "code",
   "execution_count": null,
   "metadata": {},
   "outputs": [],
   "source": []
  }
 ],
 "metadata": {
  "kernelspec": {
   "display_name": "Django Shell-Plus",
   "language": "python",
   "name": "django_extensions"
  },
  "language_info": {
   "codemirror_mode": {
    "name": "ipython",
    "version": 3
   },
   "file_extension": ".py",
   "mimetype": "text/x-python",
   "name": "python",
   "nbconvert_exporter": "python",
   "pygments_lexer": "ipython3",
   "version": "3.6.4"
  }
 },
 "nbformat": 4,
 "nbformat_minor": 2
}
